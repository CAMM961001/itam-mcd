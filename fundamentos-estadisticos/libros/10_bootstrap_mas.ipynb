{
 "cells": [
  {
   "cell_type": "markdown",
   "id": "9e2bd092-52a9-4a98-bbe3-ed3262e6154e",
   "metadata": {},
   "source": [
    "# Tarea 9: Bootstrap y más pruebas de hipótesis"
   ]
  },
  {
   "cell_type": "code",
   "execution_count": 1,
   "id": "ffaad0ad-9665-4c91-b1c3-9e42f93b93a8",
   "metadata": {},
   "outputs": [],
   "source": [
    "import numpy as np\n",
    "import pandas as pd\n",
    "import matplotlib.pyplot as plt"
   ]
  },
  {
   "cell_type": "markdown",
   "id": "16923358-25c0-4f86-bde9-5b66a7d84432",
   "metadata": {},
   "source": [
    "# Comparando dos tratamientos\n",
    "\n",
    "Supongamos que a $n_1$ personas se les asigna el tratamiento $1$ y a $n_2$ se les asigna el tratamiento $2$.\n",
    "\n",
    "Sean:\n",
    "* $X_1$ el número de personas que responden de manera favorable al tratamiento $1$ y,\n",
    "* $X_2$ el número de personas que responden de manera favorable el tratamiento $2$.\n",
    "\n",
    "Suponemos $X_1 \\backsim Binomial(n_1, p_1)$ y $X_2 \\backsim Binomial(n_2, p_2)$. \n",
    "\n",
    "Sea $\\psi = p_1 - p_2$ la cantidad de interés, entonces:\n",
    "* Encuentra el estimador de máxima verosimilitud para $\\psi$\n",
    "* Sunpongamos $n_1=n_2=200$, $X_1=160$ y $X_2=148$, construye un intervalo del $90\\%$ de confianza para $\\psi$ usando bootstrap paramétrico y (opcional) el método delta."
   ]
  },
  {
   "cell_type": "markdown",
   "id": "300471db-f3e6-45e3-ab45-e0cad0642080",
   "metadata": {
    "tags": []
   },
   "source": [
    "## Estimador de máxima verosimilitud\n",
    "\n",
    "Recordando que la función de densidad de una distribución binomial queda dada por: \n",
    "$$f(x) = {n \\choose x}p^x(1-p)^{n-x}$$\n",
    "\n",
    "La distribución de probabilidad conjunta para una **VAIID** $X=[x_1,...,x_k]$:\n",
    "$$f(x,p) = {n \\choose x_1}p^{x_1}(1-p)^{n-x_1}\\cdot...\\cdot{n \\choose x_k}p^{x_k}(1-p)^{n-x_k}$$\n",
    "\n",
    "$$f(x,p) = \\prod_{i=1}^k{n \\choose x_i}p^{x_i}(1-p)^{n-x_i}$$\n",
    "\n",
    "Calculando el logaritmo:\n",
    "$$ln[f(x,p)] = \\sum_{i=1}^k ln\\left[{n \\choose x_i}p^{x_i}(1-p)^{n-x_i} \\right]$$\n",
    "\n",
    "$$= \\sum_{i=1}^k \\left[ln{n \\choose x_i}+lnp^{x_i}+ln(1-p)^{n-x_i} \\right]$$\n",
    "\n",
    "$$= \\sum_{i=1}^k \\left[ln{n \\choose x_i}+x_i lnp + (n-x_i)ln(1-p) \\right]$$\n",
    "\n",
    "Derivando e igualando a cero:\n",
    "$$\\frac{d}{dp}ln[f(x,p)] = 0 + \\sum_{i=1}^k \\left[\\frac{x_i}{p} - \\frac{(n-x_i)}{(1-p)}\\right]= 0$$\n",
    "\n",
    "Entonces:\n",
    "$$\\sum_{i=1}^k \\frac{x_i}{p} = \\sum_{i=1}^k \\frac{n-x_i}{1-p}$$\n",
    "\n",
    "Que es equivalente a:\n",
    "$$\\frac{1}{p}\\sum_{i=1}^k x_i = \\frac{1}{1-p}\\sum_{i=1}^k (n-x_i)$$\n",
    "\n",
    "Simplificando, se tiene:\n",
    "$$\\frac{1-p}{p} = \\frac{\\sum n}{\\sum x_i} - \\frac{\\sum x_i}{\\sum x_i}$$\n",
    "\n",
    "$$\\therefore p-1 = \\frac{\\sum x_i}{kn} - 1$$\n",
    "\n",
    "Entonces, el `estimador de máxima verosimilitud` para una distribución binomial es:\n",
    "$$p = \\frac{\\bar x}{n}$$\n",
    "\n",
    "Con lo cual podemos calcular $\\psi$ con la expresión:\n",
    "$$\\psi=p_1-p_2=\\frac{\\bar X_1}{n_1}-\\frac{\\bar X_2}{n_2}$$"
   ]
  },
  {
   "cell_type": "markdown",
   "id": "5f0a2bd8-e32e-4de6-b26f-cd63a192fc94",
   "metadata": {},
   "source": [
    "**Probabilidades** obtenidas con $p=\\frac{x}{n}$"
   ]
  },
  {
   "cell_type": "code",
   "execution_count": 2,
   "id": "5e8d6cdd-cde3-49a4-a11c-7c9a80235dc7",
   "metadata": {},
   "outputs": [
    {
     "data": {
      "text/plain": [
       "array([0.8 , 0.74])"
      ]
     },
     "execution_count": 2,
     "metadata": {},
     "output_type": "execute_result"
    }
   ],
   "source": [
    "n = np.array([200, 200])\n",
    "X = np.array([160, 148])\n",
    "\n",
    "p = X / n\n",
    "p"
   ]
  },
  {
   "cell_type": "markdown",
   "id": "b3792206-6ced-4d19-9efa-60b757a7ccf6",
   "metadata": {},
   "source": [
    "**Determinando** el $\\psi$ con el `estimador de máxima verosimilitud`"
   ]
  },
  {
   "cell_type": "code",
   "execution_count": 3,
   "id": "8f0da3b3-6b48-49ac-878d-d7a78a540f84",
   "metadata": {},
   "outputs": [
    {
     "name": "stdout",
     "output_type": "stream",
     "text": [
      "mle_param: 0.060000\n"
     ]
    }
   ],
   "source": [
    "mle_param = p[0] - p[1]\n",
    "print(f\"mle_param: {mle_param:.6f}\")"
   ]
  },
  {
   "cell_type": "markdown",
   "id": "57c37004-943a-4acc-ba67-f825e6c66663",
   "metadata": {},
   "source": [
    "Con lo cual, se pueden crear **muestras** del tipo:"
   ]
  },
  {
   "cell_type": "code",
   "execution_count": 4,
   "id": "ef02aa34-47f3-4a68-87ee-11e39151976d",
   "metadata": {},
   "outputs": [],
   "source": [
    "from scipy.stats import binom"
   ]
  },
  {
   "cell_type": "code",
   "execution_count": 5,
   "id": "7d29e3cb-c829-4ec3-93c8-a3dc6e25d1af",
   "metadata": {},
   "outputs": [
    {
     "data": {
      "text/plain": [
       "((200, 2),\n",
       " array([[163., 149.],\n",
       "        [162., 154.],\n",
       "        [151., 142.],\n",
       "        [157., 143.],\n",
       "        [155., 145.]]))"
      ]
     },
     "execution_count": 5,
     "metadata": {},
     "output_type": "execute_result"
    }
   ],
   "source": [
    "muestra = np.zeros(shape=(n[0], 2))\n",
    "\n",
    "muestra[:,0] = binom.rvs(n[0], p[0], size=n[0])\n",
    "muestra[:,1] = binom.rvs(n[1], p[1], size=n[1])\n",
    "\n",
    "muestra.shape, muestra[:5,:]"
   ]
  },
  {
   "cell_type": "markdown",
   "id": "488f0c70-1b82-49e7-9bd3-c4f78970e7b0",
   "metadata": {},
   "source": [
    "* En la 1° columna se almacena la muestra de $X_1$\n",
    "* En la 2° columna se almacena la muestra de $X_2$"
   ]
  },
  {
   "cell_type": "markdown",
   "id": "fb9f2eaa-baa1-4051-8bae-14bd7c684640",
   "metadata": {},
   "source": [
    "## Boostrap paramétrico\n",
    "\n",
    "**Paso 1**: Se genera un vector vacío de longitud $k$ simulaciones."
   ]
  },
  {
   "cell_type": "code",
   "execution_count": 6,
   "id": "f3f05529-1324-4ae5-8602-950129945a48",
   "metadata": {},
   "outputs": [
    {
     "data": {
      "text/plain": [
       "((10000, 2),\n",
       " array([[0., 0.],\n",
       "        [0., 0.],\n",
       "        [0., 0.],\n",
       "        ...,\n",
       "        [0., 0.],\n",
       "        [0., 0.],\n",
       "        [0., 0.]]))"
      ]
     },
     "execution_count": 6,
     "metadata": {},
     "output_type": "execute_result"
    }
   ],
   "source": [
    "k = 10_000\n",
    "boots_dist = np.zeros(shape=(k, 2))\n",
    "\n",
    "boots_dist.shape, boots_dist"
   ]
  },
  {
   "cell_type": "markdown",
   "id": "dd775563-27fd-4aea-ac39-c4ed80ed7138",
   "metadata": {},
   "source": [
    "**Paso 2**: Se calcula la $p$ para valores $X=[x_1,...,x_n]$ generados de una distribución binomial $B(n_i, p_i)$, para los $k$ registros de cada columna $i$"
   ]
  },
  {
   "cell_type": "code",
   "execution_count": 7,
   "id": "184a1fcf-38b6-4ece-a287-d9dc3f347958",
   "metadata": {},
   "outputs": [
    {
     "data": {
      "text/plain": [
       "((10000, 2),\n",
       " array([[0.801875, 0.74255 ],\n",
       "        [0.80295 , 0.7401  ],\n",
       "        [0.800375, 0.7379  ],\n",
       "        ...,\n",
       "        [0.7997  , 0.739   ],\n",
       "        [0.80305 , 0.739275],\n",
       "        [0.80225 , 0.743675]]))"
      ]
     },
     "execution_count": 7,
     "metadata": {},
     "output_type": "execute_result"
    }
   ],
   "source": [
    "#Para la columna de la variable X1\n",
    "boots_dist[:,0] = np.vectorize( lambda x: binom.rvs(n[0], p[0], size=n[0]).mean()/n[0] )(boots_dist[:,0])\n",
    "\n",
    "#Para la columna de la variable X2\n",
    "boots_dist[:,1] = np.vectorize( lambda x: binom.rvs(n[1], p[1], size=n[1]).mean()/n[1] )(boots_dist[:,1])\n",
    "\n",
    "boots_dist.shape, boots_dist"
   ]
  },
  {
   "cell_type": "markdown",
   "id": "4745b0f0-c0b1-4911-9ded-8cc9ebeae552",
   "metadata": {},
   "source": [
    "**Paso 3**: Se obtiene la distribución bootstrap del estimador $\\psi$"
   ]
  },
  {
   "cell_type": "code",
   "execution_count": 8,
   "id": "d77f9c2d-70d3-41e9-a1eb-7425ed85540d",
   "metadata": {},
   "outputs": [
    {
     "data": {
      "text/plain": [
       "((10000,),\n",
       " array([0.059325, 0.06285 , 0.062475, ..., 0.0607  , 0.063775, 0.058575]))"
      ]
     },
     "execution_count": 8,
     "metadata": {},
     "output_type": "execute_result"
    }
   ],
   "source": [
    "boots_dist = boots_dist[:,0] - boots_dist[:,1]\n",
    "boots_dist.shape, boots_dist"
   ]
  },
  {
   "cell_type": "markdown",
   "id": "d8d6036f-f1a3-46ec-a14a-d460785483d7",
   "metadata": {},
   "source": [
    "## Reportando resultados"
   ]
  },
  {
   "cell_type": "code",
   "execution_count": 9,
   "id": "2c602552-17bb-437d-9542-e4984169553f",
   "metadata": {},
   "outputs": [
    {
     "data": {
      "text/html": [
       "<div>\n",
       "<style scoped>\n",
       "    .dataframe tbody tr th:only-of-type {\n",
       "        vertical-align: middle;\n",
       "    }\n",
       "\n",
       "    .dataframe tbody tr th {\n",
       "        vertical-align: top;\n",
       "    }\n",
       "\n",
       "    .dataframe thead th {\n",
       "        text-align: right;\n",
       "    }\n",
       "</style>\n",
       "<table border=\"1\" class=\"dataframe\">\n",
       "  <thead>\n",
       "    <tr style=\"text-align: right;\">\n",
       "      <th></th>\n",
       "      <th>mle_param</th>\n",
       "      <th>boots_mean</th>\n",
       "      <th>std_err</th>\n",
       "      <th>left_lim</th>\n",
       "      <th>right_lim</th>\n",
       "    </tr>\n",
       "  </thead>\n",
       "  <tbody>\n",
       "    <tr>\n",
       "      <th>0</th>\n",
       "      <td>0.06</td>\n",
       "      <td>0.059971</td>\n",
       "      <td>0.002938</td>\n",
       "      <td>0.054094</td>\n",
       "      <td>0.065847</td>\n",
       "    </tr>\n",
       "  </tbody>\n",
       "</table>\n",
       "</div>"
      ],
      "text/plain": [
       "   mle_param  boots_mean   std_err  left_lim  right_lim\n",
       "0       0.06    0.059971  0.002938  0.054094   0.065847"
      ]
     },
     "execution_count": 9,
     "metadata": {},
     "output_type": "execute_result"
    }
   ],
   "source": [
    "results = {'mle_param': [mle_param],\n",
    "           'boots_mean': [boots_dist.mean()],\n",
    "           'std_err': [boots_dist.std()],\n",
    "           'left_lim': [boots_dist.mean() - 2*boots_dist.std()],\n",
    "           'right_lim': [boots_dist.mean() + 2*boots_dist.std()]}\n",
    "\n",
    "pd.DataFrame(results)"
   ]
  },
  {
   "cell_type": "code",
   "execution_count": 11,
   "id": "f87619d9-8a0d-4d11-bf73-2bf1ab4e5627",
   "metadata": {},
   "outputs": [
    {
     "data": {
      "image/png": "[encoded data removed]",
      "text/plain": [
       "<Figure size 360x360 with 1 Axes>"
      ]
     },
     "metadata": {
      "needs_background": "light"
     },
     "output_type": "display_data"
    }
   ],
   "source": [
    "fig, ax = plt.subplots(figsize=(5,5))\n",
    "\n",
    "#Contenido de figura\n",
    "ax.hist(x=boots_dist, bins=20, color='grey', alpha=0.6)\n",
    "ax.axvline(x=results['boots_mean'], ymin=0, ymax=1, color='tab:red', linestyle='--', label='boots')\n",
    "ax.axvline(x=results['mle_param'], ymin=0, ymax=1, color='tab:blue', linestyle='--', label='MLE')\n",
    "ax.axvline(x=results['left_lim'], ymin=0, ymax=1, color='green', label='left_int')\n",
    "ax.axvline(x=results['right_lim'], ymin=0, ymax=1, color='orange', label='right_int')\n",
    "\n",
    "\n",
    "#Anotaciones y estilo\n",
    "ax.set_title(\"Distribución bootstrap\", fontsize=14, loc='left')\n",
    "ax.grid(alpha=0.1)\n",
    "ax.legend()\n",
    "\n",
    "plt.show()"
   ]
  },
  {
   "cell_type": "markdown",
   "id": "25372947-e791-42e6-937b-a3944118bd4b",
   "metadata": {},
   "source": [
    "# Boostrap no paramétrico"
   ]
  },
  {
   "cell_type": "markdown",
   "id": "61b9d800-8bc9-43af-900a-c66f1fe03407",
   "metadata": {},
   "source": [
    "## Simulaciones bootstrap\n",
    "\n",
    "**Tomamos** la muestra original de datos y remuestreamos los datos $k$ veces."
   ]
  },
  {
   "cell_type": "code",
   "execution_count": 11,
   "id": "4f79fdc5-95bd-42f0-beff-d851eb23fcd4",
   "metadata": {},
   "outputs": [
    {
     "data": {
      "text/plain": [
       "array([[0.000e+00, 0.000e+00],\n",
       "       [1.000e+00, 0.000e+00],\n",
       "       [2.000e+00, 0.000e+00],\n",
       "       ...,\n",
       "       [9.997e+03, 0.000e+00],\n",
       "       [9.998e+03, 0.000e+00],\n",
       "       [9.999e+03, 0.000e+00]])"
      ]
     },
     "execution_count": 11,
     "metadata": {},
     "output_type": "execute_result"
    }
   ],
   "source": [
    "bootsNP_dist = np.arange(0, k)\n",
    "bootsNP_dist = np.vstack((bootsNP_dist, np.zeros(shape=(k,)) )).T\n",
    "\n",
    "bootsNP_dist"
   ]
  },
  {
   "cell_type": "markdown",
   "id": "4f0daab0-77b1-47d1-ba8f-2314b5655243",
   "metadata": {},
   "source": [
    "**Después** se genera una función para hacer remuestreos bootstrap"
   ]
  },
  {
   "cell_type": "code",
   "execution_count": 12,
   "id": "c0f01c68-6614-4511-974a-c702964ba571",
   "metadata": {},
   "outputs": [],
   "source": [
    "def boots_NoParam(x): return np.random.choice(a=X, size=n, replace=True).mean()"
   ]
  },
  {
   "cell_type": "markdown",
   "id": "437b736e-1af8-4a66-bdd1-ab3027c5ef6d",
   "metadata": {},
   "source": [
    "**Finalmente** se aplica la función a columna de ceros en `bootsNP_dist`"
   ]
  },
  {
   "cell_type": "code",
   "execution_count": 13,
   "id": "c1393cb0-d65f-4aa6-ae41-214ae702af07",
   "metadata": {},
   "outputs": [
    {
     "data": {
      "text/plain": [
       "array([[0.        , 4.84701067],\n",
       "       [1.        , 4.95759731],\n",
       "       [2.        , 4.95029966],\n",
       "       [3.        , 4.97617843],\n",
       "       [4.        , 4.88501076]])"
      ]
     },
     "execution_count": 13,
     "metadata": {},
     "output_type": "execute_result"
    }
   ],
   "source": [
    "bootsNP_dist[:,1] = np.vectorize(boots_NoParam)(bootsNP_dist[:,1])\n",
    "bootsNP_dist[:5]"
   ]
  },
  {
   "cell_type": "markdown",
   "id": "21789d64-eb56-4a14-976b-47c87c7defd3",
   "metadata": {},
   "source": [
    "## Reportando resultados"
   ]
  },
  {
   "cell_type": "code",
   "execution_count": 14,
   "id": "3db7d925-b14a-42a0-b083-1a5021152f8f",
   "metadata": {},
   "outputs": [
    {
     "data": {
      "text/html": [
       "<div>\n",
       "<style scoped>\n",
       "    .dataframe tbody tr th:only-of-type {\n",
       "        vertical-align: middle;\n",
       "    }\n",
       "\n",
       "    .dataframe tbody tr th {\n",
       "        vertical-align: top;\n",
       "    }\n",
       "\n",
       "    .dataframe thead th {\n",
       "        text-align: right;\n",
       "    }\n",
       "</style>\n",
       "<table border=\"1\" class=\"dataframe\">\n",
       "  <thead>\n",
       "    <tr style=\"text-align: right;\">\n",
       "      <th></th>\n",
       "      <th>mle_param</th>\n",
       "      <th>boots_param</th>\n",
       "      <th>std_err</th>\n",
       "      <th>left_lim</th>\n",
       "      <th>right_lim</th>\n",
       "    </tr>\n",
       "  </thead>\n",
       "  <tbody>\n",
       "    <tr>\n",
       "      <th>0</th>\n",
       "      <td>4.863642</td>\n",
       "      <td>4.863422</td>\n",
       "      <td>0.103229</td>\n",
       "      <td>4.656964</td>\n",
       "      <td>5.06988</td>\n",
       "    </tr>\n",
       "  </tbody>\n",
       "</table>\n",
       "</div>"
      ],
      "text/plain": [
       "   mle_param  boots_param   std_err  left_lim  right_lim\n",
       "0   4.863642     4.863422  0.103229  4.656964    5.06988"
      ]
     },
     "execution_count": 14,
     "metadata": {},
     "output_type": "execute_result"
    }
   ],
   "source": [
    "results_NP = {'mle_param': [theta_bar],\n",
    "           'boots_param': [bootsNP_dist[:,1].mean()],\n",
    "           'std_err': [bootsNP_dist[:,1].std()],\n",
    "           'left_lim': [bootsNP_dist[:,1].mean() - 2*bootsNP_dist[:,1].std()],\n",
    "           'right_lim': [bootsNP_dist[:,1].mean() + 2*bootsNP_dist[:,1].std()]}\n",
    "\n",
    "pd.DataFrame(results_NP)"
   ]
  },
  {
   "cell_type": "code",
   "execution_count": 15,
   "id": "2c9aa546-3dd9-4f8a-aa78-8c0ab4875cb6",
   "metadata": {},
   "outputs": [
    {
     "data": {
      "image/png": "[encoded data removed]",
      "text/plain": [
       "<Figure size 360x360 with 1 Axes>"
      ]
     },
     "metadata": {
      "needs_background": "light"
     },
     "output_type": "display_data"
    }
   ],
   "source": [
    "fig, ax = plt.subplots(figsize=(5,5))\n",
    "\n",
    "#Contenido de figura\n",
    "ax.hist(x=bootsNP_dist[:,1], bins=20, color='grey', alpha=0.6)\n",
    "ax.axvline(x=results_NP['boots_param'], ymin=0, ymax=1, color='tab:red', linestyle='--', label='boots')\n",
    "ax.axvline(x=results_NP['mle_param'], ymin=0, ymax=1, color='tab:blue', linestyle='--', label='MLE')\n",
    "ax.axvline(x=results_NP['left_lim'], ymin=0, ymax=1, color='green', label='left_int')\n",
    "ax.axvline(x=results_NP['right_lim'], ymin=0, ymax=1, color='orange', label='right_int')\n",
    "\n",
    "\n",
    "#Anotaciones y estilo\n",
    "ax.set_title(\"Simulaciones bootstrap no paramétrico\", fontsize=14, loc='left')\n",
    "ax.grid(alpha=0.1)\n",
    "ax.legend()\n",
    "\n",
    "plt.show()"
   ]
  },
  {
   "cell_type": "markdown",
   "id": "36e9c524-f8ea-4226-bcac-bd1f05a4114d",
   "metadata": {},
   "source": [
    "# Observaciones\n",
    "\n",
    "* En ambos casos, el estimador Bootstrap fue muy cercano al estimador MLE y plug-in respectivamente.\n",
    "* En el caso de Boostrap No Paramétrico, el límite izquierdo es más alto mientras que el derecho es más bajo, comparado con Bootstrap Paramétrico. Esto hace que el rango del intervalo de confianza sea más pequeño\n",
    "* En contraste, el sesgo del estimador en Bootstrap Paramétrico es menor que en No Paramétrico.\n",
    "* Sin embargo, a pesar del punto anterior, el error estándar de No Paramétrico es menor.\n",
    "---"
   ]
  }
 ],
 "metadata": {
  "kernelspec": {
   "display_name": "Python 3 (ipykernel)",
   "language": "python",
   "name": "python3"
  },
  "language_info": {
   "codemirror_mode": {
    "name": "ipython",
    "version": 3
   },
   "file_extension": ".py",
   "mimetype": "text/x-python",
   "name": "python",
   "nbconvert_exporter": "python",
   "pygments_lexer": "ipython3",
   "version": "3.9.6"
  }
 },
 "nbformat": 4,
 "nbformat_minor": 5
}
