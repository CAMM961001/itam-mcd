{
 "cells": [
  {
   "cell_type": "markdown",
   "id": "9e2bd092-52a9-4a98-bbe3-ed3262e6154e",
   "metadata": {},
   "source": [
    "# Tarea 10: Bootstrap y más pruebas de hipótesis"
   ]
  },
  {
   "cell_type": "code",
   "execution_count": 1,
   "id": "119e63f4-3518-4e3e-bccd-33ba7953d332",
   "metadata": {},
   "outputs": [],
   "source": [
    "import numpy as np\n",
    "import pandas as pd\n",
    "import matplotlib.pyplot as plt\n",
    "\n",
    "from scipy.stats import binom, norm"
   ]
  },
  {
   "cell_type": "markdown",
   "id": "16923358-25c0-4f86-bde9-5b66a7d84432",
   "metadata": {},
   "source": [
    "# Comparando dos tratamientos\n",
    "\n",
    "Supongamos que a $n_1$ personas se les asigna el tratamiento $1$ y a $n_2$ se les asigna el tratamiento $2$.\n",
    "\n",
    "Sean:\n",
    "* $X_1$ el número de personas que responden de manera favorable al tratamiento $1$ y,\n",
    "* $X_2$ el número de personas que responden de manera favorable el tratamiento $2$.\n",
    "\n",
    "Suponemos $X_1 \\backsim Binomial(n_1, p_1)$ y $X_2 \\backsim Binomial(n_2, p_2)$. \n",
    "\n",
    "Sea $\\psi = p_1 - p_2$ la cantidad de interés, entonces:\n",
    "* Encuentra el estimador de máxima verosimilitud para $\\psi$\n",
    "* Sunpongamos $n_1=n_2=200$, $X_1=160$ y $X_2=148$, construye un intervalo del $90\\%$ de confianza para $\\psi$ usando bootstrap paramétrico y (opcional) el método delta."
   ]
  },
  {
   "cell_type": "markdown",
   "id": "300471db-f3e6-45e3-ab45-e0cad0642080",
   "metadata": {
    "tags": []
   },
   "source": [
    "## Estimador de máxima verosimilitud\n",
    "\n",
    "Recordando que la función de densidad de una distribución binomial queda dada por: \n",
    "$$f(x) = {n \\choose x}p^x(1-p)^{n-x}$$\n",
    "\n",
    "La distribución de probabilidad conjunta para una **VAIID** $X=[x_1,...,x_k]$:\n",
    "$$f(x,p) = {n \\choose x_1}p^{x_1}(1-p)^{n-x_1}\\cdot...\\cdot{n \\choose x_k}p^{x_k}(1-p)^{n-x_k}$$\n",
    "\n",
    "$$f(x,p) = \\prod_{i=1}^k{n \\choose x_i}p^{x_i}(1-p)^{n-x_i}$$\n",
    "\n",
    "Calculando el logaritmo:\n",
    "$$ln[f(x,p)] = \\sum_{i=1}^k ln\\left[{n \\choose x_i}p^{x_i}(1-p)^{n-x_i} \\right]$$\n",
    "\n",
    "$$= \\sum_{i=1}^k \\left[ln{n \\choose x_i}+lnp^{x_i}+ln(1-p)^{n-x_i} \\right]$$\n",
    "\n",
    "$$= \\sum_{i=1}^k \\left[ln{n \\choose x_i}+x_i lnp + (n-x_i)ln(1-p) \\right]$$\n",
    "\n",
    "Derivando e igualando a cero:\n",
    "$$\\frac{d}{dp}ln[f(x,p)] = 0 + \\sum_{i=1}^k \\left[\\frac{x_i}{p} - \\frac{(n-x_i)}{(1-p)}\\right]= 0$$\n",
    "\n",
    "Entonces:\n",
    "$$\\sum_{i=1}^k \\frac{x_i}{p} = \\sum_{i=1}^k \\frac{n-x_i}{1-p}$$\n",
    "\n",
    "Que es equivalente a:\n",
    "$$\\frac{1}{p}\\sum_{i=1}^k x_i = \\frac{1}{1-p}\\sum_{i=1}^k (n-x_i)$$\n",
    "\n",
    "Simplificando, se tiene:\n",
    "$$\\frac{1-p}{p} = \\frac{\\sum n}{\\sum x_i} - \\frac{\\sum x_i}{\\sum x_i}$$\n",
    "\n",
    "$$\\therefore p-1 = \\frac{\\sum x_i}{kn} - 1$$\n",
    "\n",
    "Entonces, el `estimador de máxima verosimilitud` para una distribución binomial es:\n",
    "$$p = \\frac{\\bar x}{n}$$\n",
    "\n",
    "Con lo cual podemos calcular $\\psi$ con la expresión:\n",
    "$$\\psi=p_1-p_2=\\frac{\\bar X_1}{n_1}-\\frac{\\bar X_2}{n_2}$$"
   ]
  },
  {
   "cell_type": "markdown",
   "id": "5f0a2bd8-e32e-4de6-b26f-cd63a192fc94",
   "metadata": {},
   "source": [
    "**Probabilidades** obtenidas con $p=\\frac{x}{n}$"
   ]
  },
  {
   "cell_type": "code",
   "execution_count": 2,
   "id": "5e8d6cdd-cde3-49a4-a11c-7c9a80235dc7",
   "metadata": {},
   "outputs": [
    {
     "data": {
      "text/plain": [
       "array([0.8 , 0.74])"
      ]
     },
     "execution_count": 2,
     "metadata": {},
     "output_type": "execute_result"
    }
   ],
   "source": [
    "n = np.array([200, 200])\n",
    "X = np.array([160, 148])\n",
    "\n",
    "p = X / n\n",
    "p"
   ]
  },
  {
   "cell_type": "markdown",
   "id": "b3792206-6ced-4d19-9efa-60b757a7ccf6",
   "metadata": {},
   "source": [
    "**Determinando** el $\\psi$ con el `estimador de máxima verosimilitud`"
   ]
  },
  {
   "cell_type": "code",
   "execution_count": 3,
   "id": "8f0da3b3-6b48-49ac-878d-d7a78a540f84",
   "metadata": {},
   "outputs": [
    {
     "name": "stdout",
     "output_type": "stream",
     "text": [
      "mle_param: 0.060000\n"
     ]
    }
   ],
   "source": [
    "mle_param = p[0] - p[1]\n",
    "print(f\"mle_param: {mle_param:.6f}\")"
   ]
  },
  {
   "cell_type": "markdown",
   "id": "57c37004-943a-4acc-ba67-f825e6c66663",
   "metadata": {},
   "source": [
    "Con lo cual, se pueden crear **muestras** del tipo:"
   ]
  },
  {
   "cell_type": "code",
   "execution_count": 5,
   "id": "7d29e3cb-c829-4ec3-93c8-a3dc6e25d1af",
   "metadata": {},
   "outputs": [
    {
     "data": {
      "text/plain": [
       "((200, 2),\n",
       " array([[156., 147.],\n",
       "        [153., 151.],\n",
       "        [154., 142.],\n",
       "        [164., 150.],\n",
       "        [144., 149.]]))"
      ]
     },
     "execution_count": 5,
     "metadata": {},
     "output_type": "execute_result"
    }
   ],
   "source": [
    "muestra = np.zeros(shape=(n[0], 2))\n",
    "\n",
    "muestra[:,0] = binom.rvs(n[0], p[0], size=n[0])\n",
    "muestra[:,1] = binom.rvs(n[1], p[1], size=n[1])\n",
    "\n",
    "muestra.shape, muestra[:5,:]"
   ]
  },
  {
   "cell_type": "markdown",
   "id": "488f0c70-1b82-49e7-9bd3-c4f78970e7b0",
   "metadata": {},
   "source": [
    "* En la 1° columna se almacena la muestra de $X_1$\n",
    "* En la 2° columna se almacena la muestra de $X_2$"
   ]
  },
  {
   "cell_type": "markdown",
   "id": "fb9f2eaa-baa1-4051-8bae-14bd7c684640",
   "metadata": {},
   "source": [
    "## Boostrap paramétrico\n",
    "\n",
    "**Paso 1**: Se genera un vector vacío de longitud $k$ simulaciones."
   ]
  },
  {
   "cell_type": "code",
   "execution_count": 6,
   "id": "f3f05529-1324-4ae5-8602-950129945a48",
   "metadata": {},
   "outputs": [
    {
     "data": {
      "text/plain": [
       "((10000, 2),\n",
       " array([[0., 0.],\n",
       "        [0., 0.],\n",
       "        [0., 0.],\n",
       "        ...,\n",
       "        [0., 0.],\n",
       "        [0., 0.],\n",
       "        [0., 0.]]))"
      ]
     },
     "execution_count": 6,
     "metadata": {},
     "output_type": "execute_result"
    }
   ],
   "source": [
    "k = 10_000\n",
    "boots_dist = np.zeros(shape=(k, 2))\n",
    "\n",
    "boots_dist.shape, boots_dist"
   ]
  },
  {
   "cell_type": "markdown",
   "id": "dd775563-27fd-4aea-ac39-c4ed80ed7138",
   "metadata": {},
   "source": [
    "**Paso 2**: Se calcula la $p$ para valores $X=[x_1,...,x_n]$ generados de una distribución binomial $B(n_i, p_i)$, para los $k$ registros de cada columna $i$"
   ]
  },
  {
   "cell_type": "code",
   "execution_count": 7,
   "id": "184a1fcf-38b6-4ece-a287-d9dc3f347958",
   "metadata": {},
   "outputs": [
    {
     "name": "stdout",
     "output_type": "stream",
     "text": [
      "Wall time: 1.33 s\n"
     ]
    },
    {
     "data": {
      "text/plain": [
       "((10000, 2),\n",
       " array([[0.7973  , 0.7388  ],\n",
       "        [0.79985 , 0.740825],\n",
       "        [0.799225, 0.738825],\n",
       "        ...,\n",
       "        [0.79985 , 0.739725],\n",
       "        [0.803325, 0.74215 ],\n",
       "        [0.797225, 0.74225 ]]))"
      ]
     },
     "execution_count": 7,
     "metadata": {},
     "output_type": "execute_result"
    }
   ],
   "source": [
    "%%time\n",
    "\n",
    "#Para la columna de la variable X1\n",
    "boots_dist[:,0] = np.vectorize( lambda x: binom.rvs(n[0], p[0], size=n[0]).mean()/n[0] )(boots_dist[:,0])\n",
    "\n",
    "#Para la columna de la variable X2\n",
    "boots_dist[:,1] = np.vectorize( lambda x: binom.rvs(n[1], p[1], size=n[1]).mean()/n[1] )(boots_dist[:,1])\n",
    "\n",
    "boots_dist.shape, boots_dist"
   ]
  },
  {
   "cell_type": "markdown",
   "id": "4745b0f0-c0b1-4911-9ded-8cc9ebeae552",
   "metadata": {},
   "source": [
    "**Paso 3**: Se obtiene la distribución bootstrap del estimador $\\psi$"
   ]
  },
  {
   "cell_type": "code",
   "execution_count": 8,
   "id": "d77f9c2d-70d3-41e9-a1eb-7425ed85540d",
   "metadata": {},
   "outputs": [
    {
     "data": {
      "text/plain": [
       "((10000,),\n",
       " array([0.0585  , 0.059025, 0.0604  , ..., 0.060125, 0.061175, 0.054975]))"
      ]
     },
     "execution_count": 8,
     "metadata": {},
     "output_type": "execute_result"
    }
   ],
   "source": [
    "boots_dist = boots_dist[:,0] - boots_dist[:,1]\n",
    "boots_dist.shape, boots_dist"
   ]
  },
  {
   "cell_type": "markdown",
   "id": "d8d6036f-f1a3-46ec-a14a-d460785483d7",
   "metadata": {},
   "source": [
    "## Reportando resultados\n",
    "\n",
    "Ver el siguiente [video](https://www.youtube.com/watch?v=6_V-bJlvR6Y) para referencia del intervalo de confianza"
   ]
  },
  {
   "cell_type": "code",
   "execution_count": 9,
   "id": "96272bc5-1741-43a7-9aa6-bb764a152f36",
   "metadata": {},
   "outputs": [
    {
     "data": {
      "text/html": [
       "<div>\n",
       "<style scoped>\n",
       "    .dataframe tbody tr th:only-of-type {\n",
       "        vertical-align: middle;\n",
       "    }\n",
       "\n",
       "    .dataframe tbody tr th {\n",
       "        vertical-align: top;\n",
       "    }\n",
       "\n",
       "    .dataframe thead th {\n",
       "        text-align: right;\n",
       "    }\n",
       "</style>\n",
       "<table border=\"1\" class=\"dataframe\">\n",
       "  <thead>\n",
       "    <tr style=\"text-align: right;\">\n",
       "      <th></th>\n",
       "      <th>mle_param</th>\n",
       "      <th>boots_mean</th>\n",
       "      <th>std_err</th>\n",
       "      <th>left_lim</th>\n",
       "      <th>right_lim</th>\n",
       "    </tr>\n",
       "  </thead>\n",
       "  <tbody>\n",
       "    <tr>\n",
       "      <th>0</th>\n",
       "      <td>0.06</td>\n",
       "      <td>0.060028</td>\n",
       "      <td>0.002954</td>\n",
       "      <td>0.055169</td>\n",
       "      <td>0.064888</td>\n",
       "    </tr>\n",
       "  </tbody>\n",
       "</table>\n",
       "</div>"
      ],
      "text/plain": [
       "   mle_param  boots_mean   std_err  left_lim  right_lim\n",
       "0       0.06    0.060028  0.002954  0.055169   0.064888"
      ]
     },
     "execution_count": 9,
     "metadata": {},
     "output_type": "execute_result"
    }
   ],
   "source": [
    "#Para intevalo de confianza al 90%\n",
    "alpha = 1 - 0.9\n",
    "z = norm.ppf(1 - alpha/2)\n",
    "\n",
    "results = {'mle_param': [mle_param],\n",
    "           'boots_mean': [boots_dist.mean()],\n",
    "           'std_err': [boots_dist.std()],\n",
    "           'left_lim': [boots_dist.mean() - z*boots_dist.std()],\n",
    "           'right_lim': [boots_dist.mean() + z*boots_dist.std()]}\n",
    "\n",
    "pd.DataFrame(results)"
   ]
  },
  {
   "cell_type": "code",
   "execution_count": 10,
   "id": "f87619d9-8a0d-4d11-bf73-2bf1ab4e5627",
   "metadata": {},
   "outputs": [
    {
     "data": {
      "image/png": "[encoded data removed]",
      "text/plain": [
       "<Figure size 360x360 with 1 Axes>"
      ]
     },
     "metadata": {
      "needs_background": "light"
     },
     "output_type": "display_data"
    }
   ],
   "source": [
    "fig, ax = plt.subplots(figsize=(5,5))\n",
    "\n",
    "#Contenido de figura\n",
    "ax.hist(x=boots_dist, bins=20, color='grey', alpha=0.6)\n",
    "ax.axvline(x=results['boots_mean'], ymin=0, ymax=1, color='tab:red', linestyle='--', label='boots')\n",
    "ax.axvline(x=results['mle_param'], ymin=0, ymax=1, color='tab:blue', linestyle='--', label='MLE')\n",
    "ax.axvline(x=results['left_lim'], ymin=0, ymax=1, color='green', label='left_int')\n",
    "ax.axvline(x=results['right_lim'], ymin=0, ymax=1, color='orange', label='right_int')\n",
    "\n",
    "\n",
    "#Anotaciones y estilo\n",
    "ax.set_title(\"Distribución bootstrap\", fontsize=14, loc='left')\n",
    "ax.grid(alpha=0.1)\n",
    "ax.legend()\n",
    "\n",
    "plt.show()"
   ]
  },
  {
   "cell_type": "markdown",
   "id": "f128f8c0-a709-45da-b9dd-c9339bd50c6d",
   "metadata": {},
   "source": [
    "# Niveles de calcio\n",
    "\n",
    "Los niveles de calcio en adultos saludables se distribuyen de acuerdo a una Normal con media $9.5$ `[mg/dl]` y desviación estándar desconocida. Un médico sospecha que la media de los niveles de calcio para mujeres en su comunidad es distinta. Colecta mediciones de 20 mujeres saludables y encuentra que la media es de $9.2$ y la desviación estándar muestral de $1.1$. Escribe la hipótesis nula, realiza una prueba de hipótesis e interpreta los resultado.\n",
    ">* $H_0$: La media de calcio en la comunidad es de 9.2\n",
    ">* $H_1$: La media de calcio no es la que indica el médico.\n",
    "\n",
    "Dado que estamos usando como estimador una media de una muestra **IID**, se puede estimar el error estándar de la media con:\n",
    "$$\\hat{ee} = \\frac{\\sigma}{\\sqrt{n}}$$"
   ]
  },
  {
   "cell_type": "code",
   "execution_count": 13,
   "id": "d114d59e-d36c-45ae-97e5-e02164d67646",
   "metadata": {},
   "outputs": [
    {
     "name": "stdout",
     "output_type": "stream",
     "text": [
      "std_err: 0.2460\n"
     ]
    }
   ],
   "source": [
    "n = 20\n",
    "mu = 9.2\n",
    "sigma = 1.1\n",
    "\n",
    "std_err = sigma / np.sqrt(n)\n",
    "print(f\"std_err: {std_err:.4f}\")"
   ]
  },
  {
   "cell_type": "markdown",
   "id": "130c3e2a-444f-45b7-9aeb-084df82f7bdb",
   "metadata": {},
   "source": [
    "Ahora se compara con la media en adultos saludables"
   ]
  },
  {
   "cell_type": "code",
   "execution_count": 17,
   "id": "b6b14877-79aa-47a0-b230-3a53e87abc90",
   "metadata": {},
   "outputs": [
    {
     "name": "stdout",
     "output_type": "stream",
     "text": [
      "p-value prueba de wald: 0.2226\n"
     ]
    }
   ],
   "source": [
    "dif = mu - 9.5\n",
    "w = dif / std_err\n",
    "p = 2 * (1 - norm.cdf(np.abs(w)))\n",
    "print(f\"p-value prueba de wald: {p:.4f}\")"
   ]
  },
  {
   "cell_type": "markdown",
   "id": "a6394004-c001-48ac-a6ae-0f2583ea7ad9",
   "metadata": {},
   "source": [
    "Los datos obtenidos por el médico son consistentes con la media del resto de los adultos. No hay evidencia en contra de que la media de calcio en su comunida es muy similar a la del resto de los adultos"
   ]
  }
 ],
 "metadata": {
  "kernelspec": {
   "display_name": "Python 3 (ipykernel)",
   "language": "python",
   "name": "python3"
  },
  "language_info": {
   "codemirror_mode": {
    "name": "ipython",
    "version": 3
   },
   "file_extension": ".py",
   "mimetype": "text/x-python",
   "name": "python",
   "nbconvert_exporter": "python",
   "pygments_lexer": "ipython3",
   "version": "3.9.6"
  }
 },
 "nbformat": 4,
 "nbformat_minor": 5
}
