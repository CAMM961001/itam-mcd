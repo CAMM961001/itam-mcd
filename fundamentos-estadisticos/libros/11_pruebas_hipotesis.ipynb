{
 "cells": [
  {
   "cell_type": "markdown",
   "id": "9e2bd092-52a9-4a98-bbe3-ed3262e6154e",
   "metadata": {},
   "source": [
    "# Tarea 11: Más pruebas de hipótesis"
   ]
  },
  {
   "cell_type": "code",
   "execution_count": 1,
   "id": "119e63f4-3518-4e3e-bccd-33ba7953d332",
   "metadata": {},
   "outputs": [],
   "source": [
    "import numpy as np\n",
    "import pandas as pd\n",
    "import matplotlib.pyplot as plt\n",
    "\n",
    "from scipy.stats import multinomial, norm, uniform"
   ]
  },
  {
   "cell_type": "markdown",
   "id": "16923358-25c0-4f86-bde9-5b66a7d84432",
   "metadata": {},
   "source": [
    "# Distribución multinomial\n",
    "\n",
    "Mendel criaba chícharos de semillas lisas amarillas y de semillas corrugadas verdes. Éstas daban lugar a 4 tipos de descendientes: amarillas lisas, amarillas corrugadas, verdes lisas, y verdes corrugadas. El número de cada una es multinomial con parámetro $p=(p_1,p_2,p_3,p_4)$. De acuerdo a su teoría de herencia este vector de probabilidades es:\n",
    "$$p=\\left(\\frac{9}{16},\\frac{3}{16},\\frac{3}{16},\\frac{1}{16}\\right)$$\n",
    "\n",
    "A lo largo de $n=556$ esperimentos observó $x=(315,101,108,32)$. Utiliza la prueba de cociente de verosimilitudes para probar $H_0:p=p_0$ contra $H_A:p\\neq p_0$"
   ]
  },
  {
   "cell_type": "markdown",
   "id": "f96e4200-e8bd-4622-b515-9c28d2257382",
   "metadata": {
    "tags": []
   },
   "source": [
    "## Función de verosimilitud\n",
    "\n",
    "Recordando que la función de densidad de una distribución multinomial queda dada por: \n",
    "$$f(x_1,...,x_k;n;p_1,...,p_k)=\\frac{n!}{x_1!\\cdot ...\\cdot x_k!}\\cdot p_1^{x_1}\\cdot ...\\cdot p_k^{x_k}$$\n",
    "\n",
    "Una función con 4 parámetros, entonces queda dada por:\n",
    "$$f=\\frac{n!}{x_1!x_2!x_3!x_4!}p_1^{x_1}p_2^{x_2}p_3^{x_3}p_4^{x_4}$$\n",
    "\n",
    "No se determina función de probabilidad conjunta dado que se trata de 1 sólo experimento. Calculando el logaritmo:\n",
    "$$ln[L(f)] = ln\\left[\\frac{n!}{x_{1i}!x_{2i}!x_{3i}!x_{4i}!}\\right] + ln[p_1^{x_{1i}}p_2^{x_{2i}}p_3^{x_{3i}}p_4^{x_{4i}}]$$\n",
    "\n",
    "Se observa que la primera parte de la ecuación es una constante $C$, por lo que:\n",
    "$$ln[L(f)] = C + ln[p_1^{x_{1i}}p_2^{x_{2i}}p_3^{x_{3i}}p_4^{x_{4i}}]$$\n",
    "\n",
    "Entonces, el cociente de verosimilitud dado por: $ $\n",
    "$$\\lambda = 2\\left[C + \\sum_{i=1}^4 x_i ln(p_{i\\hat\\theta}) - C - \\sum_{i=1}^4 x_i ln(p_{i\\theta})\\right]$$\n",
    "$$\\lambda = 2\\left[\\sum_{i=1}^4 x_i ln(p_{i\\hat\\theta}) - \\sum_{i=1}^4 x_i ln(p_{i\\theta})\\right]$$"
   ]
  },
  {
   "cell_type": "markdown",
   "id": "18d4bb22-c14a-4bb0-9b42-30704d751b66",
   "metadata": {},
   "source": [
    "## Memoria de cálculo\n",
    "\n",
    "**Paso 1**: Calculamos las probabilidades de máxima verosimilitud $p$, que son $p=\\left(\\frac{315}{556},\\frac{101}{556},\\frac{108}{556},\\frac{32}{556}\\right)$"
   ]
  },
  {
   "cell_type": "code",
   "execution_count": 2,
   "id": "0e68f3d7-1ffe-4216-9c38-8f20a79eb1bf",
   "metadata": {},
   "outputs": [
    {
     "data": {
      "text/plain": [
       "array([0.56654676, 0.18165468, 0.1942446 , 0.05755396])"
      ]
     },
     "execution_count": 2,
     "metadata": {},
     "output_type": "execute_result"
    }
   ],
   "source": [
    "experimentos = 556\n",
    "observaciones = np.array([315,101,108,32])\n",
    "p_observada = observaciones / experimentos\n",
    "p_observada"
   ]
  },
  {
   "cell_type": "markdown",
   "id": "d10e2046-e25f-4f6a-b594-4d14c0fb350a",
   "metadata": {},
   "source": [
    "**Paso 2**: Evaluamos la verosimilitud"
   ]
  },
  {
   "cell_type": "code",
   "execution_count": 3,
   "id": "e700eeac-24aa-4c8c-8c6f-9b0108d33c92",
   "metadata": {},
   "outputs": [
    {
     "data": {
      "text/plain": [
       "-619.5858967532752"
      ]
     },
     "execution_count": 3,
     "metadata": {},
     "output_type": "execute_result"
    }
   ],
   "source": [
    "verosimilitud =  np.sum(observaciones * np.log(p_observada))\n",
    "verosimilitud"
   ]
  },
  {
   "cell_type": "markdown",
   "id": "65fe66cc-7f8e-4333-b18b-9f4d3e899a93",
   "metadata": {},
   "source": [
    "**Paso 3**: Evaluamos verosimilitud según $H_0$ dada $p=\\left(\\frac{9}{16},\\frac{3}{16},\\frac{3}{16},\\frac{1}{16}\\right)$"
   ]
  },
  {
   "cell_type": "code",
   "execution_count": 4,
   "id": "a3770dcf-bb85-41d7-8893-5f53d0b00496",
   "metadata": {},
   "outputs": [
    {
     "data": {
      "text/plain": [
       "-619.8236193727744"
      ]
     },
     "execution_count": 4,
     "metadata": {},
     "output_type": "execute_result"
    }
   ],
   "source": [
    "p_h0 = np.array([9,3,3,1]) / 16\n",
    "verosim_h0 = np.sum(observaciones * np.log(p_h0))\n",
    "verosim_h0"
   ]
  },
  {
   "cell_type": "markdown",
   "id": "f249e6ed-a650-450e-a0a8-c90a9f73d445",
   "metadata": {},
   "source": [
    "**Paso 3.b**: Se obtiene el cociente de verosimilitudes de referencia"
   ]
  },
  {
   "cell_type": "code",
   "execution_count": 5,
   "id": "28c3e4b9-9055-455a-a387-d16c0b5abbec",
   "metadata": {},
   "outputs": [
    {
     "data": {
      "text/plain": [
       "0.47544523899841806"
      ]
     },
     "execution_count": 5,
     "metadata": {},
     "output_type": "execute_result"
    }
   ],
   "source": [
    "lambda_ref = 2 * (verosimilitud - verosim_h0)\n",
    "lambda_ref"
   ]
  },
  {
   "cell_type": "markdown",
   "id": "7e7c5154-d9b2-438b-a7bb-6d770ae51762",
   "metadata": {},
   "source": [
    "**Paso 4**: Obtenemos la distribución de referencia"
   ]
  },
  {
   "cell_type": "code",
   "execution_count": 6,
   "id": "57447c92-8e76-4dc1-8a11-4a0d206cebfd",
   "metadata": {},
   "outputs": [
    {
     "data": {
      "text/plain": [
       "array([[305, 102, 109,  40],\n",
       "       [319, 111,  98,  28],\n",
       "       [306, 115, 103,  32],\n",
       "       [311,  99, 114,  32],\n",
       "       [304, 106, 109,  37]])"
      ]
     },
     "execution_count": 6,
     "metadata": {},
     "output_type": "execute_result"
    }
   ],
   "source": [
    "#Se generan valores de x distirbuidos multinomialmente con probabilidad p\n",
    "boots_dist = multinomial.rvs(n=experimentos, p=p_h0, size=10_000)\n",
    "boots_dist[:5]"
   ]
  },
  {
   "cell_type": "code",
   "execution_count": 7,
   "id": "6f659169-d097-4d76-98a4-a76ee9d96741",
   "metadata": {},
   "outputs": [
    {
     "data": {
      "text/plain": [
       "array([[-639.59864057, -638.99275546],\n",
       "       [-611.03472106, -609.86481827],\n",
       "       [-629.71112997, -628.98230097],\n",
       "       [-624.21806853, -623.52453875],\n",
       "       [-637.40141599, -637.08532447]])"
      ]
     },
     "execution_count": 7,
     "metadata": {},
     "output_type": "execute_result"
    }
   ],
   "source": [
    "#Se evalúa en la función de verosimilitud [verosimilitud_h0, verosimilitud_observada]\n",
    "boots_dist = np.apply_along_axis(func1d=lambda x: np.array([ np.sum(x * np.log(p_h0)), np.sum(x * np.log(x/x.sum())) ]),\n",
    "                                 axis=1,\n",
    "                                 arr=boots_dist)\n",
    "boots_dist[:5]"
   ]
  },
  {
   "cell_type": "markdown",
   "id": "02fbcc98-288e-4faa-a73f-929e8c99a23e",
   "metadata": {},
   "source": [
    "**Paso 5**: Se calcula el cociente de verosimilitudes"
   ]
  },
  {
   "cell_type": "code",
   "execution_count": 8,
   "id": "8009c9d6-d80c-4860-89a4-a6c057a157f2",
   "metadata": {},
   "outputs": [
    {
     "data": {
      "text/plain": [
       "array([1.21177023, 2.33980558, 1.45765801, 1.38705956, 0.63218304])"
      ]
     },
     "execution_count": 8,
     "metadata": {},
     "output_type": "execute_result"
    }
   ],
   "source": [
    "cosciente_vers = 2 * (boots_dist[:,1] - boots_dist[:,0])\n",
    "cosciente_vers[:5]"
   ]
  },
  {
   "cell_type": "code",
   "execution_count": 9,
   "id": "e3b652e6-ab17-4821-a15c-1e7a7f544dba",
   "metadata": {},
   "outputs": [
    {
     "data": {
      "image/png": "[encoded data removed]",
      "text/plain": [
       "<Figure size 360x360 with 1 Axes>"
      ]
     },
     "metadata": {
      "needs_background": "light"
     },
     "output_type": "display_data"
    }
   ],
   "source": [
    "fig, ax = plt.subplots(figsize=(5,5))\n",
    "\n",
    "#Contenido de figura\n",
    "ax.hist(x=cosciente_vers, bins=20, color='grey', alpha=0.6)\n",
    "ax.axvline(x=lambda_ref, ymin=0, ymax=1, color='tab:red', linestyle='--', label='lambda')\n",
    "\n",
    "#Anotaciones y estilo\n",
    "ax.set_title(\"Distribución bootstrap\", fontsize=14, loc='left')\n",
    "ax.grid(alpha=0.1)\n",
    "#ax.legend()\n",
    "\n",
    "plt.show()"
   ]
  },
  {
   "cell_type": "markdown",
   "id": "5e0a0ba9-acb5-4eb8-be62-cab0b2ab8b42",
   "metadata": {},
   "source": [
    "**Observamos** que $\\lambda$ de referencia se encuentra en la zona central de la distribución de referencia. Esto nos da evidancia a favor de la hipótesis nula $H_0$.\n",
    "\n",
    "Obtenemos el valor p para una prueba de dos colas."
   ]
  },
  {
   "cell_type": "code",
   "execution_count": 10,
   "id": "dba0e5c3-3d32-4aea-aeaf-7f884bad5284",
   "metadata": {},
   "outputs": [
    {
     "data": {
      "text/plain": [
       "0.9252"
      ]
     },
     "execution_count": 10,
     "metadata": {},
     "output_type": "execute_result"
    }
   ],
   "source": [
    "valor_p = np.mean(cosciente_vers > lambda_ref)\n",
    "valor_p"
   ]
  },
  {
   "cell_type": "markdown",
   "id": "23a2b48d-bf04-496a-af5d-a7ec58c57ea3",
   "metadata": {},
   "source": [
    "# Distribución uniforme\n",
    "\n",
    "Sea $X=(X_1,...,X_n)\\backsim Uniforme(0,\\theta)$ y $T=max(X)$ (el máximo de X), queremos probar: $H_0:\\theta=\\frac{1}{2}$ contra $H_1:\\theta >\\frac{1}{2}$.\n",
    "\n",
    "En esta caso la prueba de Wald no es apropiada pues $T$ no converge a la Normal. Supongamos que decidimos probar la hipótesis rechazando $H_0$ si $T>c$.\n",
    "* Encuentra la función de poder.\n",
    "* ¿Qué valor de $c$ correponde a un tamaño de prueba $\\alpha =0.05$?\n",
    "* En una muestra de tamaño $n=20$ con $T=0.48$ ¿cuál es el valor $p$?¿Qué concluyes acerca de $H_0$?\n",
    "* En una muestra de tamaño $n=20$ con $T=0.52$ ¿cuál es el valor $p$?¿Qué concluyes acerca de $H_0$?"
   ]
  },
  {
   "cell_type": "markdown",
   "id": "631c1f80-475f-4744-a34e-e9694729f841",
   "metadata": {},
   "source": [
    "La función de **potencia** queda definida como: $\\beta (\\theta) = P_{\\theta}(\\theta > c) = 1 - P_{\\theta}(\\theta \\leq c)$\n",
    "\n",
    "Recordando que la función de densidad masa de una distribución uniforme (Revisar la [nota](https://tereom.github.io/fundamentos-2022/estimaci%C3%B3n-por-m%C3%A1xima-verosimilitud.html#m%C3%A1xima-verosimilitud-para-observaciones-continuas)) queda dada por:\n",
    "$$f(\\theta)=\\frac{1}{\\theta}$$\n",
    "\n",
    "Entonces:\n",
    "$$P(\\theta \\leq c) = \\int_0^c \\frac{1}{\\theta}dx = \\frac{c}{\\theta}$$\n",
    "\n",
    "Por lo tanto:\n",
    "$$\\beta(\\theta) = 1 - P_{\\theta}(\\theta \\leq c) = 1 - P_{\\theta}(x_1 \\leq c,...,x_n \\leq c)$$\n",
    "$$= 1 - \\frac{c}{\\theta}\\cdot \\frac{c}{\\theta}\\cdot ...\\cdot \\frac{c}{\\theta} = 1 - \\left(\\frac{c}{\\theta}\\right)^n$$\n",
    "\n",
    "Con lo que la **función de potencia**:\n",
    "$$\\beta(\\theta) = 1 - \\left(\\frac{c}{\\theta}\\right)^n$$\n",
    "\n",
    "Dado un tamaño de prueba o nivel de significancia $\\alpha = \\beta(\\theta)$, entonces:\n",
    "$$C = \\theta(1 - \\alpha)^{1/n}$$\n",
    "\n",
    "**Caso 1**: $n=20$ con $T=0.48$ para valores $\\theta=1/2$, $\\alpha=0.05$:"
   ]
  },
  {
   "cell_type": "code",
   "execution_count": 21,
   "id": "32197914-01c4-429d-90e4-3607ac1ef7d2",
   "metadata": {},
   "outputs": [
    {
     "data": {
      "text/plain": [
       "0.4999871768408393"
      ]
     },
     "execution_count": 21,
     "metadata": {},
     "output_type": "execute_result"
    }
   ],
   "source": [
    "n = 2000\n",
    "alpha = 0.05\n",
    "theta = 1/2\n",
    "T_max = 0.48\n",
    "\n",
    "#Calculando el valor c\n",
    "c = theta*(1 - alpha)**(1/n)\n",
    "c"
   ]
  },
  {
   "cell_type": "code",
   "execution_count": 20,
   "id": "5e78c48a-2937-478d-9b89-5d00ee8a60d0",
   "metadata": {},
   "outputs": [
    {
     "data": {
      "text/plain": [
       "0.0"
      ]
     },
     "execution_count": 20,
     "metadata": {},
     "output_type": "execute_result"
    }
   ],
   "source": [
    "(uniform.rvs(loc=0, scale=theta, size=20) > T_max).mean()"
   ]
  },
  {
   "cell_type": "code",
   "execution_count": 19,
   "id": "25ce31ca-b594-4e54-8719-de5f181e9a4f",
   "metadata": {},
   "outputs": [
    {
     "data": {
      "text/plain": [
       "0.0024950000000000003"
      ]
     },
     "execution_count": 19,
     "metadata": {},
     "output_type": "execute_result"
    }
   ],
   "source": [
    "simulaciones = np.zeros(shape=(10_000,1))\n",
    "simulaciones = np.apply_along_axis(func1d=lambda x: (uniform.rvs(loc=0, scale=theta, size=20) > T_max).mean(), axis=1, arr=simulaciones)\n",
    "simulaciones.mean()"
   ]
  },
  {
   "cell_type": "markdown",
   "id": "7af0747b-dfa4-45e2-a261-f6b8b55fc05e",
   "metadata": {},
   "source": [
    "**Caso 2**: $n=20$ con $T=0.52$ para valores $\\theta=1/2$, $\\alpha=0.05$:"
   ]
  },
  {
   "cell_type": "code",
   "execution_count": 14,
   "id": "439da288-bb5f-45cf-96fc-2a2c066cd9ec",
   "metadata": {},
   "outputs": [
    {
     "data": {
      "text/plain": [
       "0.49871931061173486"
      ]
     },
     "execution_count": 14,
     "metadata": {},
     "output_type": "execute_result"
    }
   ],
   "source": [
    "n = 20\n",
    "alpha = 0.05\n",
    "theta = 1/2\n",
    "T_max = 0.52\n",
    "\n",
    "#Calculando el valor c\n",
    "c = theta*(1 - alpha)**(1/n)\n",
    "c"
   ]
  },
  {
   "cell_type": "code",
   "execution_count": 15,
   "id": "c1d44c75-837c-4b1d-b382-8dbf569c5a35",
   "metadata": {},
   "outputs": [
    {
     "data": {
      "text/plain": [
       "0.0"
      ]
     },
     "execution_count": 15,
     "metadata": {},
     "output_type": "execute_result"
    }
   ],
   "source": [
    "(uniform.rvs(loc=0, scale=theta, size=20) > T_max).mean()"
   ]
  },
  {
   "cell_type": "code",
   "execution_count": 16,
   "id": "2c54b48f-8788-4ec7-a761-19e2426cfe69",
   "metadata": {},
   "outputs": [
    {
     "data": {
      "text/plain": [
       "0.0"
      ]
     },
     "execution_count": 16,
     "metadata": {},
     "output_type": "execute_result"
    }
   ],
   "source": [
    "simulaciones = np.zeros(shape=(10_000,1))\n",
    "simulaciones = np.apply_along_axis(func1d=lambda x: (uniform.rvs(loc=0, scale=theta, size=20) > T_max).mean(), axis=1, arr=simulaciones)\n",
    "simulaciones.mean()"
   ]
  },
  {
   "cell_type": "markdown",
   "id": "33c0fc23-3da4-4d59-ab8d-94b3b1ef2ea3",
   "metadata": {},
   "source": [
    "# Distribución poisson\n",
    "\n",
    "Sean $X_1,...,X_n\\backsim Poisson(\\lambda)$,\n",
    "* Sea $\\lambda_0 > 0$ ¿Cuál es la prueba de Wald para $H_0:\\lambda = \\lambda_0$ y $H_1:\\lambda\\neq\\lambda_0$ \n",
    "* Si $\\lambda_0=1$, $n=20$, $\\alpha=0.05$, simula $X_1,...,X_n\\backsim Poisson(\\lambda_0)$ y realiza una prueba Wald. Repite 1,000 veces y registra el porcentaje de veces que rechazas $H_0$, ¿qué tan cerca te queda el error tipo 1 de $\\alpha=0.05$?"
   ]
  },
  {
   "cell_type": "code",
   "execution_count": null,
   "id": "fdd01ac1-b268-4e1d-8a72-35290214a95b",
   "metadata": {},
   "outputs": [],
   "source": []
  },
  {
   "cell_type": "code",
   "execution_count": null,
   "id": "0621458c-fae0-438d-aa65-d1b373d49e25",
   "metadata": {},
   "outputs": [],
   "source": []
  }
 ],
 "metadata": {
  "kernelspec": {
   "display_name": "Python 3 (ipykernel)",
   "language": "python",
   "name": "python3"
  },
  "language_info": {
   "codemirror_mode": {
    "name": "ipython",
    "version": 3
   },
   "file_extension": ".py",
   "mimetype": "text/x-python",
   "name": "python",
   "nbconvert_exporter": "python",
   "pygments_lexer": "ipython3",
   "version": "3.9.6"
  }
 },
 "nbformat": 4,
 "nbformat_minor": 5
}
