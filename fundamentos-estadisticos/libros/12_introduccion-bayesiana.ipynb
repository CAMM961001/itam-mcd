{
 "cells": [
  {
   "cell_type": "markdown",
   "id": "9e2bd092-52a9-4a98-bbe3-ed3262e6154e",
   "metadata": {},
   "source": [
    "# Tarea 12: Introducción a inferencia bayesiana"
   ]
  },
  {
   "cell_type": "code",
   "execution_count": 1,
   "id": "a6fc9e14-9f60-4336-81fe-8e1dd9d45539",
   "metadata": {},
   "outputs": [],
   "source": [
    "import numpy as np\n",
    "import pandas as pd\n",
    "import matplotlib.pyplot as plt\n",
    "\n",
    "from scipy.stats import binom"
   ]
  },
  {
   "cell_type": "markdown",
   "id": "16923358-25c0-4f86-bde9-5b66a7d84432",
   "metadata": {},
   "source": [
    "# Parte 1\n",
    "\n",
    "Revisa el ejercicio introductorio a inferencia bayesiana, experimenta con los valores y contesta:"
   ]
  },
  {
   "cell_type": "code",
   "execution_count": 2,
   "id": "49d752ad-3d17-4c11-9ef0-e04dc192ad23",
   "metadata": {},
   "outputs": [
    {
     "data": {
      "text/html": [
       "<div>\n",
       "<style scoped>\n",
       "    .dataframe tbody tr th:only-of-type {\n",
       "        vertical-align: middle;\n",
       "    }\n",
       "\n",
       "    .dataframe tbody tr th {\n",
       "        vertical-align: top;\n",
       "    }\n",
       "\n",
       "    .dataframe thead th {\n",
       "        text-align: right;\n",
       "    }\n",
       "</style>\n",
       "<table border=\"1\" class=\"dataframe\">\n",
       "  <thead>\n",
       "    <tr style=\"text-align: right;\">\n",
       "      <th></th>\n",
       "      <th>moneda</th>\n",
       "      <th>theta</th>\n",
       "      <th>proba_inicial</th>\n",
       "    </tr>\n",
       "  </thead>\n",
       "  <tbody>\n",
       "    <tr>\n",
       "      <th>0</th>\n",
       "      <td>1</td>\n",
       "      <td>0.4</td>\n",
       "      <td>0.5</td>\n",
       "    </tr>\n",
       "    <tr>\n",
       "      <th>1</th>\n",
       "      <td>2</td>\n",
       "      <td>0.6</td>\n",
       "      <td>0.5</td>\n",
       "    </tr>\n",
       "  </tbody>\n",
       "</table>\n",
       "</div>"
      ],
      "text/plain": [
       "   moneda  theta  proba_inicial\n",
       "0       1    0.4            0.5\n",
       "1       2    0.6            0.5"
      ]
     },
     "execution_count": 2,
     "metadata": {},
     "output_type": "execute_result"
    }
   ],
   "source": [
    "volados = 2\n",
    "theta = np.array([0.4,0.6])\n",
    "\n",
    "probs_inicial = pd.DataFrame(data=[1,2], columns=['moneda'])\n",
    "probs_inicial['theta'] = theta\n",
    "probs_inicial['proba_inicial'] = [0.5,0.5]\n",
    "probs_inicial"
   ]
  },
  {
   "cell_type": "markdown",
   "id": "fbffc658-0c97-4c2f-b65c-a8e6df013c15",
   "metadata": {},
   "source": [
    "Definimos una función para evaluar la probabilidad de observar $k$ soles en $n$ volados dada una probabilidad de éxito $p$"
   ]
  },
  {
   "cell_type": "code",
   "execution_count": 3,
   "id": "707e249b-8ca6-44c6-8dc7-3a1a2643dd10",
   "metadata": {},
   "outputs": [],
   "source": [
    "soles = 2\n",
    "get_verosim = lambda df: binom.pmf(k=soles, n=volados, p=df['theta'])"
   ]
  },
  {
   "cell_type": "markdown",
   "id": "c543172e-5f31-46cf-a065-91c3012e397a",
   "metadata": {},
   "source": [
    "Incorporamos información al DataFrame"
   ]
  },
  {
   "cell_type": "code",
   "execution_count": 4,
   "id": "9dc53dd5-bf87-423e-ab22-420d6cedcf3e",
   "metadata": {},
   "outputs": [
    {
     "data": {
      "text/html": [
       "<div>\n",
       "<style scoped>\n",
       "    .dataframe tbody tr th:only-of-type {\n",
       "        vertical-align: middle;\n",
       "    }\n",
       "\n",
       "    .dataframe tbody tr th {\n",
       "        vertical-align: top;\n",
       "    }\n",
       "\n",
       "    .dataframe thead th {\n",
       "        text-align: right;\n",
       "    }\n",
       "</style>\n",
       "<table border=\"1\" class=\"dataframe\">\n",
       "  <thead>\n",
       "    <tr style=\"text-align: right;\">\n",
       "      <th></th>\n",
       "      <th>moneda</th>\n",
       "      <th>theta</th>\n",
       "      <th>proba_inicial</th>\n",
       "      <th>verosim</th>\n",
       "      <th>verosim_inicial</th>\n",
       "      <th>prob_posterior</th>\n",
       "    </tr>\n",
       "  </thead>\n",
       "  <tbody>\n",
       "    <tr>\n",
       "      <th>0</th>\n",
       "      <td>1</td>\n",
       "      <td>0.4</td>\n",
       "      <td>0.5</td>\n",
       "      <td>0.16</td>\n",
       "      <td>0.08</td>\n",
       "      <td>0.307692</td>\n",
       "    </tr>\n",
       "    <tr>\n",
       "      <th>1</th>\n",
       "      <td>2</td>\n",
       "      <td>0.6</td>\n",
       "      <td>0.5</td>\n",
       "      <td>0.36</td>\n",
       "      <td>0.18</td>\n",
       "      <td>0.692308</td>\n",
       "    </tr>\n",
       "  </tbody>\n",
       "</table>\n",
       "</div>"
      ],
      "text/plain": [
       "   moneda  theta  proba_inicial  verosim  verosim_inicial  prob_posterior\n",
       "0       1    0.4            0.5     0.16             0.08        0.307692\n",
       "1       2    0.6            0.5     0.36             0.18        0.692308"
      ]
     },
     "execution_count": 4,
     "metadata": {},
     "output_type": "execute_result"
    }
   ],
   "source": [
    "probs_inicial['verosim'] = probs_inicial.apply(get_verosim, axis=1)\n",
    "probs_inicial['verosim_inicial'] = probs_inicial['proba_inicial'] * probs_inicial['verosim']\n",
    "probs_inicial['prob_posterior'] = probs_inicial['verosim_inicial'] / probs_inicial['verosim_inicial'].sum()\n",
    "\n",
    "probs_inicial"
   ]
  },
  {
   "cell_type": "markdown",
   "id": "87f0ef20-01e4-4ed5-aca8-3b2d5ab59650",
   "metadata": {},
   "source": [
    "## Pregunta 1\n",
    "¿Qué pasa cuando el número de soles es 0? ¿Cómo cambian las probabilidades posteriores de cada moneda?"
   ]
  },
  {
   "cell_type": "code",
   "execution_count": 5,
   "id": "0bcb1c50-6765-4f44-aca3-e753e41e29b3",
   "metadata": {},
   "outputs": [
    {
     "data": {
      "text/html": [
       "<div>\n",
       "<style scoped>\n",
       "    .dataframe tbody tr th:only-of-type {\n",
       "        vertical-align: middle;\n",
       "    }\n",
       "\n",
       "    .dataframe tbody tr th {\n",
       "        vertical-align: top;\n",
       "    }\n",
       "\n",
       "    .dataframe thead th {\n",
       "        text-align: right;\n",
       "    }\n",
       "</style>\n",
       "<table border=\"1\" class=\"dataframe\">\n",
       "  <thead>\n",
       "    <tr style=\"text-align: right;\">\n",
       "      <th></th>\n",
       "      <th>moneda</th>\n",
       "      <th>theta</th>\n",
       "      <th>proba_inicial</th>\n",
       "      <th>verosim</th>\n",
       "      <th>verosim_inicial</th>\n",
       "      <th>prob_posterior</th>\n",
       "    </tr>\n",
       "  </thead>\n",
       "  <tbody>\n",
       "    <tr>\n",
       "      <th>0</th>\n",
       "      <td>1</td>\n",
       "      <td>0.4</td>\n",
       "      <td>0.5</td>\n",
       "      <td>0.36</td>\n",
       "      <td>0.18</td>\n",
       "      <td>0.692308</td>\n",
       "    </tr>\n",
       "    <tr>\n",
       "      <th>1</th>\n",
       "      <td>2</td>\n",
       "      <td>0.6</td>\n",
       "      <td>0.5</td>\n",
       "      <td>0.16</td>\n",
       "      <td>0.08</td>\n",
       "      <td>0.307692</td>\n",
       "    </tr>\n",
       "  </tbody>\n",
       "</table>\n",
       "</div>"
      ],
      "text/plain": [
       "   moneda  theta  proba_inicial  verosim  verosim_inicial  prob_posterior\n",
       "0       1    0.4            0.5     0.36             0.18        0.692308\n",
       "1       2    0.6            0.5     0.16             0.08        0.307692"
      ]
     },
     "execution_count": 5,
     "metadata": {},
     "output_type": "execute_result"
    }
   ],
   "source": [
    "volados = 2\n",
    "theta = np.array([0.4,0.6])\n",
    "\n",
    "probs_inicial = pd.DataFrame(data=[1,2], columns=['moneda'])\n",
    "probs_inicial['theta'] = theta\n",
    "probs_inicial['proba_inicial'] = [0.5,0.5]\n",
    "\n",
    "\n",
    "soles = 0\n",
    "get_verosim = lambda df: binom.pmf(k=soles, n=volados, p=df['theta'])\n",
    "\n",
    "probs_inicial['verosim'] = probs_inicial.apply(get_verosim, axis=1)\n",
    "probs_inicial['verosim_inicial'] = probs_inicial['proba_inicial'] * probs_inicial['verosim']\n",
    "probs_inicial['prob_posterior'] = probs_inicial['verosim_inicial'] / probs_inicial['verosim_inicial'].sum()\n",
    "\n",
    "probs_inicial"
   ]
  },
  {
   "cell_type": "markdown",
   "id": "a080cbd6-886f-4db8-a987-fe9058f8948b",
   "metadata": {},
   "source": [
    ">La verosimilitud se invierte, por tanto se invierten la verosimilitud inicial y la probabilidad posterior"
   ]
  },
  {
   "cell_type": "markdown",
   "id": "fe3cd349-94d5-4afb-8bd4-1ac853fb2741",
   "metadata": {},
   "source": [
    "## Pregunta 2\n",
    "Incrementa el número de volados, por ejemplo a 10. ¿Qué pasa si observaste 8 soles, por ejemplo? ¿Y si observaste 0?"
   ]
  },
  {
   "cell_type": "code",
   "execution_count": 6,
   "id": "43e0c335-ed18-4130-97dd-db596be0d67e",
   "metadata": {},
   "outputs": [
    {
     "data": {
      "text/html": [
       "<div>\n",
       "<style scoped>\n",
       "    .dataframe tbody tr th:only-of-type {\n",
       "        vertical-align: middle;\n",
       "    }\n",
       "\n",
       "    .dataframe tbody tr th {\n",
       "        vertical-align: top;\n",
       "    }\n",
       "\n",
       "    .dataframe thead th {\n",
       "        text-align: right;\n",
       "    }\n",
       "</style>\n",
       "<table border=\"1\" class=\"dataframe\">\n",
       "  <thead>\n",
       "    <tr style=\"text-align: right;\">\n",
       "      <th></th>\n",
       "      <th>moneda</th>\n",
       "      <th>theta</th>\n",
       "      <th>proba_inicial</th>\n",
       "      <th>verosim</th>\n",
       "      <th>verosim_inicial</th>\n",
       "      <th>prob_posterior</th>\n",
       "    </tr>\n",
       "  </thead>\n",
       "  <tbody>\n",
       "    <tr>\n",
       "      <th>0</th>\n",
       "      <td>1</td>\n",
       "      <td>0.4</td>\n",
       "      <td>0.5</td>\n",
       "      <td>0.010617</td>\n",
       "      <td>0.005308</td>\n",
       "      <td>0.080706</td>\n",
       "    </tr>\n",
       "    <tr>\n",
       "      <th>1</th>\n",
       "      <td>2</td>\n",
       "      <td>0.6</td>\n",
       "      <td>0.5</td>\n",
       "      <td>0.120932</td>\n",
       "      <td>0.060466</td>\n",
       "      <td>0.919294</td>\n",
       "    </tr>\n",
       "  </tbody>\n",
       "</table>\n",
       "</div>"
      ],
      "text/plain": [
       "   moneda  theta  proba_inicial   verosim  verosim_inicial  prob_posterior\n",
       "0       1    0.4            0.5  0.010617         0.005308        0.080706\n",
       "1       2    0.6            0.5  0.120932         0.060466        0.919294"
      ]
     },
     "execution_count": 6,
     "metadata": {},
     "output_type": "execute_result"
    }
   ],
   "source": [
    "volados = 10\n",
    "theta = np.array([0.4,0.6])\n",
    "\n",
    "probs_inicial = pd.DataFrame(data=[1,2], columns=['moneda'])\n",
    "probs_inicial['theta'] = theta\n",
    "probs_inicial['proba_inicial'] = [0.5,0.5]\n",
    "\n",
    "\n",
    "soles = 8\n",
    "get_verosim = lambda df: binom.pmf(k=soles, n=volados, p=df['theta'])\n",
    "\n",
    "probs_inicial['verosim'] = probs_inicial.apply(get_verosim, axis=1)\n",
    "probs_inicial['verosim_inicial'] = probs_inicial['proba_inicial'] * probs_inicial['verosim']\n",
    "probs_inicial['prob_posterior'] = probs_inicial['verosim_inicial'] / probs_inicial['verosim_inicial'].sum()\n",
    "\n",
    "probs_inicial"
   ]
  },
  {
   "cell_type": "markdown",
   "id": "df2c139e-496b-4b4d-b72a-0679847f34f6",
   "metadata": {},
   "source": [
    "Con 10 volados y 8 observaciones de soles:\n",
    "* La verosimilitud $P(X=8|\\theta)$ para la moneda 2 es significativamente más alta que para la moneda 1.\n",
    "* La verosimilitud inicial $P(X=8|\\theta)P(\\theta)$ de igual manera es más alta para la moneda 2 con respecto a la 1.\n",
    "* Dado el experimento, la moneda 2 tiene una probabilidad $p=0.91$ de ser la moneda que se utilizó en los volados."
   ]
  },
  {
   "cell_type": "code",
   "execution_count": 7,
   "id": "e75f9c22-3e7d-4f37-8398-deaf1e7e65cb",
   "metadata": {},
   "outputs": [
    {
     "data": {
      "text/html": [
       "<div>\n",
       "<style scoped>\n",
       "    .dataframe tbody tr th:only-of-type {\n",
       "        vertical-align: middle;\n",
       "    }\n",
       "\n",
       "    .dataframe tbody tr th {\n",
       "        vertical-align: top;\n",
       "    }\n",
       "\n",
       "    .dataframe thead th {\n",
       "        text-align: right;\n",
       "    }\n",
       "</style>\n",
       "<table border=\"1\" class=\"dataframe\">\n",
       "  <thead>\n",
       "    <tr style=\"text-align: right;\">\n",
       "      <th></th>\n",
       "      <th>moneda</th>\n",
       "      <th>theta</th>\n",
       "      <th>proba_inicial</th>\n",
       "      <th>verosim</th>\n",
       "      <th>verosim_inicial</th>\n",
       "      <th>prob_posterior</th>\n",
       "    </tr>\n",
       "  </thead>\n",
       "  <tbody>\n",
       "    <tr>\n",
       "      <th>0</th>\n",
       "      <td>1</td>\n",
       "      <td>0.4</td>\n",
       "      <td>0.5</td>\n",
       "      <td>0.006047</td>\n",
       "      <td>0.003023</td>\n",
       "      <td>0.982954</td>\n",
       "    </tr>\n",
       "    <tr>\n",
       "      <th>1</th>\n",
       "      <td>2</td>\n",
       "      <td>0.6</td>\n",
       "      <td>0.5</td>\n",
       "      <td>0.000105</td>\n",
       "      <td>0.000052</td>\n",
       "      <td>0.017046</td>\n",
       "    </tr>\n",
       "  </tbody>\n",
       "</table>\n",
       "</div>"
      ],
      "text/plain": [
       "   moneda  theta  proba_inicial   verosim  verosim_inicial  prob_posterior\n",
       "0       1    0.4            0.5  0.006047         0.003023        0.982954\n",
       "1       2    0.6            0.5  0.000105         0.000052        0.017046"
      ]
     },
     "execution_count": 7,
     "metadata": {},
     "output_type": "execute_result"
    }
   ],
   "source": [
    "soles = 0\n",
    "get_verosim = lambda df: binom.pmf(k=soles, n=volados, p=df['theta'])\n",
    "\n",
    "probs_inicial['verosim'] = probs_inicial.apply(get_verosim, axis=1)\n",
    "probs_inicial['verosim_inicial'] = probs_inicial['proba_inicial'] * probs_inicial['verosim']\n",
    "probs_inicial['prob_posterior'] = probs_inicial['verosim_inicial'] / probs_inicial['verosim_inicial'].sum()\n",
    "\n",
    "probs_inicial"
   ]
  },
  {
   "cell_type": "markdown",
   "id": "3f341506-2123-4fd1-bb4a-9d5da68e1f83",
   "metadata": {},
   "source": [
    "Con 10 volados y 0 observaciones de soles:\n",
    "* La verosimilitud $P(X=0|\\theta)$ para la moneda 1 es significativamente más alta que para la moneda 2.\n",
    "* La verosimilitud inicial $P(X=0|\\theta)P(\\theta)$ de igual manera es más alta para la moneda 1 con respecto a la 2.\n",
    "* Dado el experimento, la moneda 1 tiene una probabilidad $p=0.98$ de ser la moneda que se utilizó en los volados."
   ]
  },
  {
   "cell_type": "markdown",
   "id": "1f3f8ceb-4bbb-4226-903e-71688300b350",
   "metadata": {},
   "source": [
    "## Pregunta 3\n",
    "¿Qué pasa si cambias las probabilidades iniciales (por ejemplo incrementas la probabilidad inical de la moneda 1 a 0.9?)"
   ]
  },
  {
   "cell_type": "code",
   "execution_count": 8,
   "id": "435f87bd-aced-44ae-bb5b-3008a9c9eae9",
   "metadata": {},
   "outputs": [
    {
     "data": {
      "text/html": [
       "<div>\n",
       "<style scoped>\n",
       "    .dataframe tbody tr th:only-of-type {\n",
       "        vertical-align: middle;\n",
       "    }\n",
       "\n",
       "    .dataframe tbody tr th {\n",
       "        vertical-align: top;\n",
       "    }\n",
       "\n",
       "    .dataframe thead th {\n",
       "        text-align: right;\n",
       "    }\n",
       "</style>\n",
       "<table border=\"1\" class=\"dataframe\">\n",
       "  <thead>\n",
       "    <tr style=\"text-align: right;\">\n",
       "      <th></th>\n",
       "      <th>moneda</th>\n",
       "      <th>theta</th>\n",
       "      <th>proba_inicial</th>\n",
       "      <th>verosim</th>\n",
       "      <th>verosim_inicial</th>\n",
       "      <th>prob_posterior</th>\n",
       "    </tr>\n",
       "  </thead>\n",
       "  <tbody>\n",
       "    <tr>\n",
       "      <th>0</th>\n",
       "      <td>1</td>\n",
       "      <td>0.4</td>\n",
       "      <td>0.9</td>\n",
       "      <td>0.16</td>\n",
       "      <td>0.144</td>\n",
       "      <td>0.8</td>\n",
       "    </tr>\n",
       "    <tr>\n",
       "      <th>1</th>\n",
       "      <td>2</td>\n",
       "      <td>0.6</td>\n",
       "      <td>0.1</td>\n",
       "      <td>0.36</td>\n",
       "      <td>0.036</td>\n",
       "      <td>0.2</td>\n",
       "    </tr>\n",
       "  </tbody>\n",
       "</table>\n",
       "</div>"
      ],
      "text/plain": [
       "   moneda  theta  proba_inicial  verosim  verosim_inicial  prob_posterior\n",
       "0       1    0.4            0.9     0.16            0.144             0.8\n",
       "1       2    0.6            0.1     0.36            0.036             0.2"
      ]
     },
     "execution_count": 8,
     "metadata": {},
     "output_type": "execute_result"
    }
   ],
   "source": [
    "volados = 2\n",
    "theta = np.array([0.4,0.6])\n",
    "\n",
    "probs_inicial = pd.DataFrame(data=[1,2], columns=['moneda'])\n",
    "probs_inicial['theta'] = theta\n",
    "probs_inicial['proba_inicial'] = [0.9,0.1]\n",
    "\n",
    "\n",
    "soles = 2\n",
    "get_verosim = lambda df: binom.pmf(k=soles, n=volados, p=df['theta'])\n",
    "\n",
    "probs_inicial['verosim'] = probs_inicial.apply(get_verosim, axis=1)\n",
    "probs_inicial['verosim_inicial'] = probs_inicial['proba_inicial'] * probs_inicial['verosim']\n",
    "probs_inicial['prob_posterior'] = probs_inicial['verosim_inicial'] / probs_inicial['verosim_inicial'].sum()\n",
    "\n",
    "probs_inicial"
   ]
  },
  {
   "cell_type": "markdown",
   "id": "b9abbefd-3a41-4c1b-9bcc-b161d932671a",
   "metadata": {},
   "source": [
    "Con respecto al ejercicio inicial, aumentar la probabilidad de la moneda 1 a 0.9 no genera ninguna diferencia en la verosimilitud $P(X|\\theta)$. Sin embargo, en la verosimilitud inicial $P(X|\\theta)P(\\theta)$ la moneda 1 es significativamente más verosimil que la moneda 2, lo cual provoque que la moneda con mayor porbabilidad de haber generado el experimento es la moneda 1."
   ]
  },
  {
   "cell_type": "markdown",
   "id": "3c062fd6-c496-43f3-8052-b2d4a11973c2",
   "metadata": {},
   "source": [
    "## Parte 2\n",
    "Justifica las siguientes aseveraciones para este ejemplo.\n",
    "* Las probabilidades posteriores o finales son una especie de punto intermedio entre verosimilitud y probabilidades iniciales.\n",
    "<br>Esto se debe a que como se define a la probabilidad posterior  como:\n",
    "$$\\frac{P(X|\\theta)P(\\theta)}{\\sum P(X|\\theta_i)P(\\theta_i)}$$\n",
    "Entonces se ve que se pondera la verosimilitud con la probabilidad inicial, y después se normaliza con la suma de todas las verosimilitudes iniciales. Con lo que, para el ejemplo en el que se tienen únicamente 2 monedas, el denominador de la prob. posterior suma el efecto de 2 monedas, lo cual resulta en una especie de valor medio.\n",
    "\n",
    "* Si tenemos pocas observaciones, las probabilidades posteriores son similares a las iniciales.\n",
    "<br>Si se tienen pocas observaciones en una distribución binomial, el cociente:\n",
    "$$\\frac{P(X|\\theta)}{P(X)}\\approx 1$$\n",
    "Porque si $n$ es pequeña, entonces $P(X)\\rightarrow P(X|\\theta)$\n",
    "\n",
    "* Cuando tenemos muchos datos, las probabilidades posteriores están más concentradas, y no es tan importante la inicial.\n",
    "<br>Cuando tenemos muchos datos, entonces la probabilidad total de $P(X)$ tiende al valor de las probabilidades inciales. Con lo que las probabilidades poteriores tienden al valor de la verosimilitud.\n",
    "\n",
    "* Si la inicial está muy concentrada en algún valor, la posterior requiere de muchas observaciones para que se pueda concentrar en otros valores diferentes a los de la inicial.\n",
    "<br>Esto es debido a que si $P(\\theta)$ es grande o chica, entonces va a dominar sobre la verosimilitud hacia el valor hacia el que está concentrada. Con lo que, si se desea probar que el experimento se desarrolló con la moneda contraria, entonces sería necesario hacer que la verosimilitud sea mucho más importante para lo cual son necesarias más observaciones."
   ]
  }
 ],
 "metadata": {
  "kernelspec": {
   "display_name": "Python 3 (ipykernel)",
   "language": "python",
   "name": "python3"
  },
  "language_info": {
   "codemirror_mode": {
    "name": "ipython",
    "version": 3
   },
   "file_extension": ".py",
   "mimetype": "text/x-python",
   "name": "python",
   "nbconvert_exporter": "python",
   "pygments_lexer": "ipython3",
   "version": "3.9.6"
  }
 },
 "nbformat": 4,
 "nbformat_minor": 5
}
