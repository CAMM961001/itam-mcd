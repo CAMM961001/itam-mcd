{
 "cells": [
  {
   "cell_type": "markdown",
   "id": "9c766b52-8964-499d-8b55-6beee1b928d3",
   "metadata": {
    "tags": []
   },
   "source": [
    "# Tarea 5: Distribución muestral\n",
    "\n",
    "Solución de los ejercicios de la sección `Estimación y distribución de muestreo` del libro del curso [Fundamentos Estadísticos](https://tereom.github.io/fundamentos-2022/estimaci%C3%B3n-y-distribuci%C3%B3n-de-muestreo-1.html)"
   ]
  },
  {
   "cell_type": "markdown",
   "id": "89e6deb7-4f13-422f-b81e-58ff53591f74",
   "metadata": {},
   "source": [
    "**Proporciones**\n",
    "<br>Usaremos datos de reincidencia en conducta criminal del estado de Iowa, este estado sigue a los delincuentes por un periodo de 3 años y registra el número de días hasta reincidencia para aquellos que son readmitidos en prisión. El departamento de correcciones utiliza los datos de reincidencia para evaluar sus programas de prevención de recaída en conducta criminal.\n",
    "\n",
    "Los datos Recidivism contienen información de todos los delincuentes condenados por dos tipos de delito durante 2010 (Recid indica si recayeron en conducta criminal).\n",
    "* De éstos **31.6%** reincidieron y volvieron a prisión. Utiliza simulación para aproximar la distribución muestral de $\\hat{p}$, la proporción de delincuentes que reincidieron para muestras de tamaño 25.\n",
    "* Calcula el error estándar de $\\hat{p}$, y compáralo con el teórico $\\sqrt{p(1-p)/n}$.\n",
    "* Repite para muestras de tamaño 250 y compara"
   ]
  },
  {
   "cell_type": "code",
   "execution_count": 1,
   "id": "73aba88a-48cb-4c1f-916b-f752e09ee9f9",
   "metadata": {},
   "outputs": [],
   "source": [
    "import os\n",
    "import numpy as np\n",
    "import pandas as pd\n",
    "import matplotlib.pyplot as plt\n",
    "import seaborn as sns\n",
    "\n",
    "#from utils import ordenar_tendencia_central, tabla_prueba_permutacion"
   ]
  },
  {
   "cell_type": "code",
   "execution_count": 2,
   "id": "ef78ee99-fc32-48cb-86c5-9ab6050798df",
   "metadata": {},
   "outputs": [
    {
     "data": {
      "text/plain": [
       "['.git',\n",
       " '.gitignore',\n",
       " 'aprendizaje-automatico',\n",
       " 'estadistica-computacional',\n",
       " 'fundamentos-estadisticos',\n",
       " 'mineria-analisis-datos',\n",
       " 'optimizacion',\n",
       " 'README.md']"
      ]
     },
     "execution_count": 2,
     "metadata": {},
     "output_type": "execute_result"
    }
   ],
   "source": [
    "path_universal = \"C:\\\\Users\\\\Miguel\\\\Documents\\\\Github\\\\itam-mcd\"\n",
    "os.listdir(path_universal)"
   ]
  },
  {
   "cell_type": "code",
   "execution_count": 3,
   "id": "5b79521a-9469-45a0-a666-311efc8f0727",
   "metadata": {},
   "outputs": [
    {
     "data": {
      "text/plain": [
       "['datos', 'libros', 'README.md']"
      ]
     },
     "execution_count": 3,
     "metadata": {},
     "output_type": "execute_result"
    }
   ],
   "source": [
    "path_asignatura = \"fundamentos-estadisticos\"\n",
    "path_asignatura = os.path.join(path_universal, path_asignatura)\n",
    "os.listdir(path_asignatura)"
   ]
  },
  {
   "cell_type": "code",
   "execution_count": 4,
   "id": "bb1b9b76-a8a7-4c7b-bf4a-009510e1cbb4",
   "metadata": {},
   "outputs": [
    {
     "data": {
      "text/html": [
       "<div>\n",
       "<style scoped>\n",
       "    .dataframe tbody tr th:only-of-type {\n",
       "        vertical-align: middle;\n",
       "    }\n",
       "\n",
       "    .dataframe tbody tr th {\n",
       "        vertical-align: top;\n",
       "    }\n",
       "\n",
       "    .dataframe thead th {\n",
       "        text-align: right;\n",
       "    }\n",
       "</style>\n",
       "<table border=\"1\" class=\"dataframe\">\n",
       "  <thead>\n",
       "    <tr style=\"text-align: right;\">\n",
       "      <th></th>\n",
       "      <th>Gender</th>\n",
       "      <th>Age</th>\n",
       "      <th>Age25</th>\n",
       "      <th>Race</th>\n",
       "      <th>Offense</th>\n",
       "      <th>Recid</th>\n",
       "      <th>Type</th>\n",
       "      <th>Days</th>\n",
       "    </tr>\n",
       "  </thead>\n",
       "  <tbody>\n",
       "    <tr>\n",
       "      <th>0</th>\n",
       "      <td>M</td>\n",
       "      <td>Under 25</td>\n",
       "      <td>Under 25</td>\n",
       "      <td>White-NonHispanic</td>\n",
       "      <td>Felony</td>\n",
       "      <td>Yes</td>\n",
       "      <td>Tech</td>\n",
       "      <td>16.0</td>\n",
       "    </tr>\n",
       "    <tr>\n",
       "      <th>1</th>\n",
       "      <td>M</td>\n",
       "      <td>55 and Older</td>\n",
       "      <td>Over 25</td>\n",
       "      <td>White-NonHispanic</td>\n",
       "      <td>Felony</td>\n",
       "      <td>Yes</td>\n",
       "      <td>Tech</td>\n",
       "      <td>19.0</td>\n",
       "    </tr>\n",
       "    <tr>\n",
       "      <th>2</th>\n",
       "      <td>M</td>\n",
       "      <td>25-34</td>\n",
       "      <td>Over 25</td>\n",
       "      <td>White-NonHispanic</td>\n",
       "      <td>Felony</td>\n",
       "      <td>Yes</td>\n",
       "      <td>Tech</td>\n",
       "      <td>22.0</td>\n",
       "    </tr>\n",
       "    <tr>\n",
       "      <th>3</th>\n",
       "      <td>M</td>\n",
       "      <td>55 and Older</td>\n",
       "      <td>Over 25</td>\n",
       "      <td>White-NonHispanic</td>\n",
       "      <td>Felony</td>\n",
       "      <td>Yes</td>\n",
       "      <td>Tech</td>\n",
       "      <td>25.0</td>\n",
       "    </tr>\n",
       "    <tr>\n",
       "      <th>4</th>\n",
       "      <td>M</td>\n",
       "      <td>25-34</td>\n",
       "      <td>Over 25</td>\n",
       "      <td>Black-NonHispanic</td>\n",
       "      <td>Felony</td>\n",
       "      <td>Yes</td>\n",
       "      <td>Tech</td>\n",
       "      <td>26.0</td>\n",
       "    </tr>\n",
       "  </tbody>\n",
       "</table>\n",
       "</div>"
      ],
      "text/plain": [
       "  Gender           Age     Age25               Race Offense Recid  Type  Days\n",
       "0      M      Under 25  Under 25  White-NonHispanic  Felony   Yes  Tech  16.0\n",
       "1      M  55 and Older   Over 25  White-NonHispanic  Felony   Yes  Tech  19.0\n",
       "2      M         25-34   Over 25  White-NonHispanic  Felony   Yes  Tech  22.0\n",
       "3      M  55 and Older   Over 25  White-NonHispanic  Felony   Yes  Tech  25.0\n",
       "4      M         25-34   Over 25  Black-NonHispanic  Felony   Yes  Tech  26.0"
      ]
     },
     "execution_count": 4,
     "metadata": {},
     "output_type": "execute_result"
    }
   ],
   "source": [
    "#Se obtiene dataset original\n",
    "file_path = \"datos\\\\Recidivism.csv\"\n",
    "recidivism = pd.read_csv(os.path.join(path_asignatura, file_path))\n",
    "recidivism.head()"
   ]
  },
  {
   "cell_type": "code",
   "execution_count": 5,
   "id": "e2771867-53e7-43d6-b677-e5f9cc15580d",
   "metadata": {},
   "outputs": [
    {
     "name": "stdout",
     "output_type": "stream",
     "text": [
      "<class 'pandas.core.frame.DataFrame'>\n",
      "RangeIndex: 17022 entries, 0 to 17021\n",
      "Data columns (total 8 columns):\n",
      " #   Column   Non-Null Count  Dtype  \n",
      "---  ------   --------------  -----  \n",
      " 0   Gender   17019 non-null  object \n",
      " 1   Age      17019 non-null  object \n",
      " 2   Age25    17019 non-null  object \n",
      " 3   Race     16988 non-null  object \n",
      " 4   Offense  17022 non-null  object \n",
      " 5   Recid    17022 non-null  object \n",
      " 6   Type     17022 non-null  object \n",
      " 7   Days     5386 non-null   float64\n",
      "dtypes: float64(1), object(7)\n",
      "memory usage: 1.0+ MB\n"
     ]
    }
   ],
   "source": [
    "recidivism.info()"
   ]
  },
  {
   "cell_type": "code",
   "execution_count": 6,
   "id": "2bfba914-8a1c-4526-8db2-c71564bd35e5",
   "metadata": {},
   "outputs": [
    {
     "name": "stdout",
     "output_type": "stream",
     "text": [
      "Porcentaje de non-null en 'Days': 31.6%\n",
      "________________________________________\n"
     ]
    }
   ],
   "source": [
    "pct_non_null = (recidivism.shape[0] - recidivism['Days'].isna().sum()) / recidivism.shape[0]\n",
    "print(f\"Porcentaje de non-null en 'Days': {pct_non_null*100:.1f}%\\n{'_'*40}\")"
   ]
  },
  {
   "cell_type": "markdown",
   "id": "ddc53fbe-ad68-428f-8d69-6b895163aee6",
   "metadata": {},
   "source": [
    "**Paso 1**:\n",
    "<br>Se generan las distribuciones muestrales de $\\hat{p}$ para muestras de tamaño `25`, `250` y 1,000 iteraciones."
   ]
  },
  {
   "cell_type": "code",
   "execution_count": 7,
   "id": "47041402-b9dd-4f51-b310-16835b90fa2c",
   "metadata": {},
   "outputs": [
    {
     "data": {
      "text/html": [
       "<div>\n",
       "<style scoped>\n",
       "    .dataframe tbody tr th:only-of-type {\n",
       "        vertical-align: middle;\n",
       "    }\n",
       "\n",
       "    .dataframe tbody tr th {\n",
       "        vertical-align: top;\n",
       "    }\n",
       "\n",
       "    .dataframe thead th {\n",
       "        text-align: right;\n",
       "    }\n",
       "</style>\n",
       "<table border=\"1\" class=\"dataframe\">\n",
       "  <thead>\n",
       "    <tr style=\"text-align: right;\">\n",
       "      <th></th>\n",
       "      <th>days</th>\n",
       "      <th>type</th>\n",
       "    </tr>\n",
       "  </thead>\n",
       "  <tbody>\n",
       "    <tr>\n",
       "      <th>0</th>\n",
       "      <td>0.320</td>\n",
       "      <td>sample 25</td>\n",
       "    </tr>\n",
       "    <tr>\n",
       "      <th>1</th>\n",
       "      <td>0.360</td>\n",
       "      <td>sample 25</td>\n",
       "    </tr>\n",
       "    <tr>\n",
       "      <th>2</th>\n",
       "      <td>0.240</td>\n",
       "      <td>sample 25</td>\n",
       "    </tr>\n",
       "    <tr>\n",
       "      <th>3</th>\n",
       "      <td>0.200</td>\n",
       "      <td>sample 25</td>\n",
       "    </tr>\n",
       "    <tr>\n",
       "      <th>4</th>\n",
       "      <td>0.240</td>\n",
       "      <td>sample 25</td>\n",
       "    </tr>\n",
       "    <tr>\n",
       "      <th>...</th>\n",
       "      <td>...</td>\n",
       "      <td>...</td>\n",
       "    </tr>\n",
       "    <tr>\n",
       "      <th>1995</th>\n",
       "      <td>0.340</td>\n",
       "      <td>sample 250</td>\n",
       "    </tr>\n",
       "    <tr>\n",
       "      <th>1996</th>\n",
       "      <td>0.272</td>\n",
       "      <td>sample 250</td>\n",
       "    </tr>\n",
       "    <tr>\n",
       "      <th>1997</th>\n",
       "      <td>0.316</td>\n",
       "      <td>sample 250</td>\n",
       "    </tr>\n",
       "    <tr>\n",
       "      <th>1998</th>\n",
       "      <td>0.324</td>\n",
       "      <td>sample 250</td>\n",
       "    </tr>\n",
       "    <tr>\n",
       "      <th>1999</th>\n",
       "      <td>0.348</td>\n",
       "      <td>sample 250</td>\n",
       "    </tr>\n",
       "  </tbody>\n",
       "</table>\n",
       "<p>2000 rows × 2 columns</p>\n",
       "</div>"
      ],
      "text/plain": [
       "       days        type\n",
       "0     0.320   sample 25\n",
       "1     0.360   sample 25\n",
       "2     0.240   sample 25\n",
       "3     0.200   sample 25\n",
       "4     0.240   sample 25\n",
       "...     ...         ...\n",
       "1995  0.340  sample 250\n",
       "1996  0.272  sample 250\n",
       "1997  0.316  sample 250\n",
       "1998  0.324  sample 250\n",
       "1999  0.348  sample 250\n",
       "\n",
       "[2000 rows x 2 columns]"
      ]
     },
     "execution_count": 7,
     "metadata": {},
     "output_type": "execute_result"
    }
   ],
   "source": [
    "#Serie con variable Days diferente de nulo\n",
    "sample_df = recidivism['Days']\n",
    "\n",
    "#1,000 iteraciones para muestras tamaño 25\n",
    "sample_25 = pd.DataFrame({\n",
    "    'days': [sum(~recidivism['Days'].sample(25).isna())/25 for _ in range(1_000)],\n",
    "    'type': 'sample 25'\n",
    "})\n",
    "\n",
    "# #1,000 iteraciones para muestras tamaño 250\n",
    "sample_250 = pd.DataFrame({\n",
    "    'days': [sum(~recidivism['Days'].sample(250).isna())/250 for _ in range(1_000)],\n",
    "    'type': 'sample 250'\n",
    "})\n",
    "\n",
    "#Se concatenan distribuciones en DataFrame único\n",
    "results = pd.concat([sample_25, sample_250], axis=0, ignore_index=True)\n",
    "results"
   ]
  },
  {
   "cell_type": "markdown",
   "id": "24372bfb-4ad5-4964-a782-90f3e9c8ea07",
   "metadata": {},
   "source": [
    "**Paso 2**:\n",
    "<br>Se grafican las distribuciones muestrales"
   ]
  },
  {
   "cell_type": "code",
   "execution_count": 8,
   "id": "f0226523-6b8e-4eac-afa3-84b6faf158a4",
   "metadata": {},
   "outputs": [
    {
     "data": {
      "image/png": "[encoded data removed]",
      "text/plain": [
       "<Figure size 576x360 with 2 Axes>"
      ]
     },
     "metadata": {
      "needs_background": "light"
     },
     "output_type": "display_data"
    }
   ],
   "source": [
    "fig = plt.figure(figsize=(8,5))\n",
    "spec = plt.GridSpec(ncols=2, nrows=1, wspace=0.3)\n",
    "bins = np.arange(0, 0.8, 0.04)\n",
    "\n",
    "#Para muestra tamaño 25\n",
    "ax0 = fig.add_subplot(spec[0])\n",
    "ax0.hist(results['days'].loc[results['type'] == 'sample 25'], bins=bins, color='black', alpha=0.3)\n",
    "ax0.axvline(x=pct_non_null, ymin=0, ymax=ax0.get_ylim()[1], c='red')\n",
    "ax0.set_title('sample 25', fontsize=14)\n",
    "ax0.grid(alpha=0.2)\n",
    "\n",
    "#Para muestra tamaño 250\n",
    "ax1 = fig.add_subplot(spec[1])\n",
    "ax1.hist(results['days'].loc[results['type'] == 'sample 250'], bins=bins, color='black', alpha=0.3)\n",
    "ax1.axvline(x=pct_non_null, ymin=0, ymax=ax1.get_ylim()[1], c='red')\n",
    "ax1.set_title('sample 250', fontsize=14)\n",
    "ax1.grid(alpha=0.2)\n",
    "\n",
    "#Anotaciones y estilo global\n",
    "fig.supxlabel('Days', fontsize=16)\n",
    "fig.supylabel('Count', fontsize=16)\n",
    "\n",
    "plt.show()"
   ]
  },
  {
   "cell_type": "code",
   "execution_count": 9,
   "id": "a92b1b9f-dd96-4c74-bcc4-34adc612a881",
   "metadata": {},
   "outputs": [
    {
     "name": "stdout",
     "output_type": "stream",
     "text": [
      "Standard error sample 25: 0.0957\n",
      "Standard error real: 0.0036\n"
     ]
    }
   ],
   "source": [
    "std_err = results['days'].loc[results['type'] == 'sample 25']\n",
    "print(f\"Standard error sample 25: {std_err.std():.4f}\")\n",
    "print(f\"Standard error real: {np.sqrt(pct_non_null*(1-pct_non_null)/recidivism.shape[0]):.4f}\")"
   ]
  },
  {
   "cell_type": "code",
   "execution_count": 10,
   "id": "739feb7e-3872-4644-be30-68da89e56a00",
   "metadata": {},
   "outputs": [
    {
     "name": "stdout",
     "output_type": "stream",
     "text": [
      "Standard error sample 250: 0.0283\n",
      "Standard error real: 0.0036\n"
     ]
    }
   ],
   "source": [
    "std_err = results['days'].loc[results['type'] == 'sample 250']\n",
    "print(f\"Standard error sample 250: {std_err.std():.4f}\")\n",
    "print(f\"Standard error real: {np.sqrt(pct_non_null*(1-pct_non_null)/recidivism.shape[0]):.4f}\")"
   ]
  },
  {
   "cell_type": "markdown",
   "id": "01d89e16-ccaa-446c-b19d-537c888b6c05",
   "metadata": {},
   "source": [
    "**Error estándar de una media**\n",
    "<br>Supongamos que $x$ es una variable aleatoria que toma valores en los reales con distribución de probabilidad $F$. Denotamos por $\\mu$ y $\\sigma^2$ la media y la varianza de $F$,\n",
    "$$\\mu=E(x)$$\n",
    "$$\\sigma^2={var}(x)=E[(x-\\mu)^2]$$\n",
    "\n",
    "Ahora, sea $(X_1,...,X_n)$ una muestra aleatoria de $F$ de tamaño $n$, la media de la muestra $\\bar{X}=\\sum_{i=1}^n\\frac{X_i}{n}$ tiene:\n",
    "* Esperanza $\\mu$\n",
    "* varianza $\\sigma^2/n$\n",
    "\n",
    "En palabras, las esperanza de $\\bar{X}$ es la misma que la esperanza de $x$, pero la varianza de $\\bar{X}$ es $1/n$ veces la varianza de $x$, así que entre mayor es la $n$ tenemos una mejor estimación de $\\mu$.\n",
    "<br>En el caso del estimador de la media $\\bar{X}$, el error estándar quedaría dado por:\n",
    "$${ee}(\\bar{X})=\\sqrt{{var}(\\bar{X})}=\\frac{\\sigma}{\\sqrt{n}}$$\n",
    "\n",
    "Entonces, considerando los datos de ENLACE edo. de México (ENLACE era una prueba estandarizada que se aplicaba a todos los alumnos de primaria en México), y la columna de calificaciones de español 3 de primaria (`esp_3`):\n",
    "* Genera un histograma de las calificaciones de 3 de primaria. Calcula la media y ladesviación estándar.\n",
    "* Aproximar la distribución muestral para tamaños de muestra $n\\in[10,100,1000]$\n",
    "    1) Simula 5,000 muestras aleatorias\n",
    "    2) Calcula la media en cada muestra\n",
    "    3) Realiza un histograma de la distribución muestral de las medias (las medias del pasoanterior)\n",
    "    4) Aproxima el error estándar calculando la desviación estándar de las medias del paso 2).\n",
    "* Calcula el error estándar de la media para cada tamaño de muestra usando la fórmula derivada arriba y compara con tus simulaciones.\n",
    "* ¿Cómo se comparan los errores estándar correspondientes a los distintostamaños de muestra?"
   ]
  },
  {
   "cell_type": "code",
   "execution_count": null,
   "id": "64798527-6f47-418d-adcc-3a9a98fda43f",
   "metadata": {},
   "outputs": [],
   "source": []
  }
 ],
 "metadata": {
  "kernelspec": {
   "display_name": "Python 3 (ipykernel)",
   "language": "python",
   "name": "python3"
  },
  "language_info": {
   "codemirror_mode": {
    "name": "ipython",
    "version": 3
   },
   "file_extension": ".py",
   "mimetype": "text/x-python",
   "name": "python",
   "nbconvert_exporter": "python",
   "pygments_lexer": "ipython3",
   "version": "3.9.6"
  }
 },
 "nbformat": 4,
 "nbformat_minor": 5
}
