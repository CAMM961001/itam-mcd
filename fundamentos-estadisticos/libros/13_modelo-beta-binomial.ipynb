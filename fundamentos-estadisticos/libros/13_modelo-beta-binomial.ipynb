{
 "cells": [
  {
   "cell_type": "markdown",
   "id": "9e2bd092-52a9-4a98-bbe3-ed3262e6154e",
   "metadata": {},
   "source": [
    "# Tarea 13: Modelo Beta-Binomial"
   ]
  },
  {
   "cell_type": "code",
   "execution_count": 1,
   "id": "a6fc9e14-9f60-4336-81fe-8e1dd9d45539",
   "metadata": {},
   "outputs": [],
   "source": [
    "import numpy as np\n",
    "import pandas as pd\n",
    "import matplotlib.pyplot as plt\n",
    "\n",
    "from scipy.stats import binom, beta"
   ]
  },
  {
   "cell_type": "markdown",
   "id": "16923358-25c0-4f86-bde9-5b66a7d84432",
   "metadata": {},
   "source": [
    "# Parte 1\n",
    "\n",
    "Una compañía farmacéutica afirma que su nueva medicina incrementa la probabilidad de concebir un niño (sexo masculino), pero aún no publican estudios. Supón que conduces un experimento en el cual $50$ parejas se seleccionan de manera aleatoria de la población, toman la medicina y conciben. Nacen $30$ niños y $20$ niñas.\n",
    "1) Quieres estimar la probabilidad de concebir un niño para parejas que toman la medicina. ¿Cuál es una inicial apropiada?, experimenta con la distribución Beta para elegir. No tiene que estar centrada en `0.5` pues esta corresponde a personas que no toman la medicina, y la inicial debe reflejar tu incertidumbre sobre el efecto de la droga."
   ]
  },
  {
   "cell_type": "markdown",
   "id": "d13eb32a-cc08-4364-a3ea-98d6932bc334",
   "metadata": {},
   "source": [
    "Utilizando datos de nacimientos del [INEGI](https://www.inegi.org.mx/sistemas/olap/consulta/general_ver4/MDXQueryDatos.asp?proy=nat_nac), nos podemos dar una idea de la proporción de nacimientos de niños y niñas en México."
   ]
  },
  {
   "cell_type": "code",
   "execution_count": 2,
   "id": "803001ba-fa80-4055-94ae-befa744b63eb",
   "metadata": {},
   "outputs": [
    {
     "data": {
      "text/html": [
       "<div>\n",
       "<style scoped>\n",
       "    .dataframe tbody tr th:only-of-type {\n",
       "        vertical-align: middle;\n",
       "    }\n",
       "\n",
       "    .dataframe tbody tr th {\n",
       "        vertical-align: top;\n",
       "    }\n",
       "\n",
       "    .dataframe thead th {\n",
       "        text-align: right;\n",
       "    }\n",
       "</style>\n",
       "<table border=\"1\" class=\"dataframe\">\n",
       "  <thead>\n",
       "    <tr style=\"text-align: right;\">\n",
       "      <th></th>\n",
       "      <th>1985</th>\n",
       "      <th>2021</th>\n",
       "      <th>total</th>\n",
       "    </tr>\n",
       "    <tr>\n",
       "      <th></th>\n",
       "      <th></th>\n",
       "      <th></th>\n",
       "      <th></th>\n",
       "    </tr>\n",
       "  </thead>\n",
       "  <tbody>\n",
       "    <tr>\n",
       "      <th>Total</th>\n",
       "      <td>2655571</td>\n",
       "      <td>1912178</td>\n",
       "      <td>94735990</td>\n",
       "    </tr>\n",
       "    <tr>\n",
       "      <th>Hombre</th>\n",
       "      <td>1332681</td>\n",
       "      <td>969457</td>\n",
       "      <td>47685316</td>\n",
       "    </tr>\n",
       "    <tr>\n",
       "      <th>Mujer</th>\n",
       "      <td>1301690</td>\n",
       "      <td>942718</td>\n",
       "      <td>47004750</td>\n",
       "    </tr>\n",
       "    <tr>\n",
       "      <th>No especificado</th>\n",
       "      <td>21200</td>\n",
       "      <td>3</td>\n",
       "      <td>45924</td>\n",
       "    </tr>\n",
       "  </tbody>\n",
       "</table>\n",
       "</div>"
      ],
      "text/plain": [
       "                    1985     2021     total\n",
       "                                           \n",
       "Total            2655571  1912178  94735990\n",
       "Hombre           1332681   969457  47685316\n",
       "Mujer            1301690   942718  47004750\n",
       "No especificado    21200        3     45924"
      ]
     },
     "execution_count": 2,
     "metadata": {},
     "output_type": "execute_result"
    }
   ],
   "source": [
    "nacimientos = pd.read_csv(\"../datos/INEGI_exporta_11_11_2022_11_57_13.txt\", sep='\\t', index_col=0, engine='python', skiprows=7, skipfooter=4, encoding='latin-1')\n",
    "nacimientos.columns = nacimientos.columns.str.strip().astype(int)\n",
    "nacimientos.index = nacimientos.index.str.strip()\n",
    "\n",
    "for column in nacimientos.columns:\n",
    "    nacimientos[column] = nacimientos[column].str.replace(\",\", \"\").astype(int)\n",
    "\n",
    "nacimientos['total'] = nacimientos.apply(sum, axis=1)\n",
    "nacimientos[[1985,2021,'total']]"
   ]
  },
  {
   "cell_type": "code",
   "execution_count": 3,
   "id": "0c7c8ac1-b1f9-4688-ae1c-de316b4195ef",
   "metadata": {},
   "outputs": [
    {
     "name": "stdout",
     "output_type": "stream",
     "text": [
      "Proporción de varones: 0.5036\n"
     ]
    }
   ],
   "source": [
    "hombres = nacimientos['total'].Hombre\n",
    "mujeres = nacimientos['total'].Mujer\n",
    "\n",
    "p = hombres / (hombres + mujeres)\n",
    "print(f\"Proporción de varones: {p:.4f}\")"
   ]
  },
  {
   "cell_type": "markdown",
   "id": "f505cd34-bb4b-4617-bc68-86f1b904031b",
   "metadata": {},
   "source": [
    "De acuerdo con los datos del INEGI, la proporción de varones está centrada en `0.5036`, con lo que se puede decir que en la población en general hay más nacimientos de niños que de niñas.\n",
    "\n",
    "Para $50$ nacimientos, y dado que no puede hacer fracciones de nacimiento, podemos considerar que el número de nacimientos de niños es de $a=26$"
   ]
  },
  {
   "cell_type": "code",
   "execution_count": 4,
   "id": "e7d8c580-f4d4-4b0f-9143-26182c561937",
   "metadata": {},
   "outputs": [
    {
     "name": "stdout",
     "output_type": "stream",
     "text": [
      "Con valores a: 26 y b: 24, se tiene una distribución beta centrada en 0.52\n"
     ]
    }
   ],
   "source": [
    "n = 50\n",
    "a = 26\n",
    "b = n - a\n",
    "\n",
    "print(f\"Con valores a: {a} y b: {b}, se tiene una distribución beta centrada en {beta.stats(a, b)[0]}\")"
   ]
  },
  {
   "cell_type": "markdown",
   "id": "af522307-8121-4f09-8516-8569730d9471",
   "metadata": {},
   "source": [
    "Examinamos la forma que tomaría la distribución inicial:"
   ]
  },
  {
   "cell_type": "code",
   "execution_count": 5,
   "id": "7f42f8e4-96fb-47b2-bf18-ee19858c93a3",
   "metadata": {},
   "outputs": [
    {
     "data": {
      "image/png": "[encoded data removed]",
      "text/plain": [
       "<Figure size 360x360 with 1 Axes>"
      ]
     },
     "metadata": {
      "needs_background": "light"
     },
     "output_type": "display_data"
    }
   ],
   "source": [
    "#Simulación inicial de datos\n",
    "sim_inicial = beta.rvs(a, b, size=10_000)\n",
    "\n",
    "fig, ax = plt.subplots(figsize=(5,5))\n",
    "\n",
    "#Contenido de figura\n",
    "ax.hist(x=sim_inicial, bins=20, color='grey', alpha=0.6)\n",
    "\n",
    "#Anotaciones y estilo\n",
    "ax.set_xlabel('theta')\n",
    "ax.set_ylabel('density')\n",
    "ax.grid(alpha=0.1)\n",
    "\n",
    "plt.show()"
   ]
  },
  {
   "cell_type": "markdown",
   "id": "ea991def-be9c-4186-9253-9d201c38fafb",
   "metadata": {},
   "source": [
    "Con probabilidad 0.95 se puede creer que la proporción de niños $\\theta$ está entre valores:"
   ]
  },
  {
   "cell_type": "code",
   "execution_count": 6,
   "id": "e6715852-a302-41ef-905c-60f9c020981e",
   "metadata": {},
   "outputs": [
    {
     "data": {
      "text/html": [
       "<div>\n",
       "<style scoped>\n",
       "    .dataframe tbody tr th:only-of-type {\n",
       "        vertical-align: middle;\n",
       "    }\n",
       "\n",
       "    .dataframe tbody tr th {\n",
       "        vertical-align: top;\n",
       "    }\n",
       "\n",
       "    .dataframe thead th {\n",
       "        text-align: right;\n",
       "    }\n",
       "</style>\n",
       "<table border=\"1\" class=\"dataframe\">\n",
       "  <thead>\n",
       "    <tr style=\"text-align: right;\">\n",
       "      <th></th>\n",
       "      <th>0.025</th>\n",
       "      <th>0.975</th>\n",
       "    </tr>\n",
       "  </thead>\n",
       "  <tbody>\n",
       "    <tr>\n",
       "      <th>theta</th>\n",
       "      <td>0.382228</td>\n",
       "      <td>0.657817</td>\n",
       "    </tr>\n",
       "  </tbody>\n",
       "</table>\n",
       "</div>"
      ],
      "text/plain": [
       "          0.025     0.975\n",
       "theta  0.382228  0.657817"
      ]
     },
     "execution_count": 6,
     "metadata": {},
     "output_type": "execute_result"
    }
   ],
   "source": [
    "pd.DataFrame(sim_inicial).quantile([0.025, 0.975]).rename(columns={0:'theta'}).T"
   ]
  },
  {
   "cell_type": "code",
   "execution_count": null,
   "id": "cf94c14e-98da-4090-af90-214f9afa59e2",
   "metadata": {},
   "outputs": [],
   "source": []
  }
 ],
 "metadata": {
  "kernelspec": {
   "display_name": "Python 3 (ipykernel)",
   "language": "python",
   "name": "python3"
  },
  "language_info": {
   "codemirror_mode": {
    "name": "ipython",
    "version": 3
   },
   "file_extension": ".py",
   "mimetype": "text/x-python",
   "name": "python",
   "nbconvert_exporter": "python",
   "pygments_lexer": "ipython3",
   "version": "3.9.6"
  }
 },
 "nbformat": 4,
 "nbformat_minor": 5
}
