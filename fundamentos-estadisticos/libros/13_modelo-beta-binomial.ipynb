{
 "cells": [
  {
   "cell_type": "markdown",
   "id": "9e2bd092-52a9-4a98-bbe3-ed3262e6154e",
   "metadata": {},
   "source": [
    "# Tarea 13: Modelos conjugados"
   ]
  },
  {
   "cell_type": "code",
   "execution_count": 1,
   "id": "a6fc9e14-9f60-4336-81fe-8e1dd9d45539",
   "metadata": {},
   "outputs": [],
   "source": [
    "import numpy as np\n",
    "import pandas as pd\n",
    "import matplotlib.pyplot as plt\n",
    "\n",
    "from scipy.stats import binom, beta"
   ]
  },
  {
   "cell_type": "markdown",
   "id": "16923358-25c0-4f86-bde9-5b66a7d84432",
   "metadata": {},
   "source": [
    "## Beta-Binomial\n",
    "\n",
    "Una compañía farmacéutica afirma que su nueva medicina incrementa la probabilidad de concebir un niño (sexo masculino), pero aún no publican estudios. Supón que conduces un experimento en el cual $50$ parejas se seleccionan de manera aleatoria de la población, toman la medicina y conciben. Nacen $30$ niños y $20$ niñas.\n",
    "1) Quieres estimar la probabilidad de concebir un niño para parejas que toman la medicina. ¿Cuál es una inicial apropiada?, experimenta con la distribución Beta para elegir. No tiene que estar centrada en `0.5` pues esta corresponde a personas que no toman la medicina, y la inicial debe reflejar tu incertidumbre sobre el efecto de la droga."
   ]
  },
  {
   "cell_type": "markdown",
   "id": "d13eb32a-cc08-4364-a3ea-98d6932bc334",
   "metadata": {},
   "source": [
    ">Una distribución de probabilidad inicial apropiada sería utiliza $B(3,2)$. Esto debido a que con estos valores se conserva la proporción, pero no se le da tanto peso a la inicial sobre la verosimilitud."
   ]
  },
  {
   "cell_type": "code",
   "execution_count": 2,
   "id": "e7d8c580-f4d4-4b0f-9143-26182c561937",
   "metadata": {},
   "outputs": [
    {
     "name": "stdout",
     "output_type": "stream",
     "text": [
      "Con valores a: 3 y b: 2, se tiene una distribución beta centrada en 0.6\n"
     ]
    }
   ],
   "source": [
    "a = 3\n",
    "b = 2\n",
    "\n",
    "print(f\"Con valores a: {a} y b: {b}, se tiene una distribución beta centrada en {beta.stats(a, b)[0]}\")"
   ]
  },
  {
   "cell_type": "markdown",
   "id": "af522307-8121-4f09-8516-8569730d9471",
   "metadata": {},
   "source": [
    ">Examinamos la forma que tomaría la distribución inicial:"
   ]
  },
  {
   "cell_type": "code",
   "execution_count": 3,
   "id": "7f42f8e4-96fb-47b2-bf18-ee19858c93a3",
   "metadata": {},
   "outputs": [
    {
     "data": {
      "image/png": "[encoded data removed]",
      "text/plain": [
       "<Figure size 360x360 with 1 Axes>"
      ]
     },
     "metadata": {
      "needs_background": "light"
     },
     "output_type": "display_data"
    }
   ],
   "source": [
    "#Simulación inicial de datos\n",
    "dist_inicial = beta.rvs(a, b, size=10_000)\n",
    "\n",
    "fig, ax = plt.subplots(figsize=(5,5))\n",
    "\n",
    "#Contenido de figura\n",
    "ax.hist(x=dist_inicial, bins=20, color='red', alpha=0.25)\n",
    "\n",
    "#Anotaciones y estilo\n",
    "ax.set_xlabel(r'$\\theta$')\n",
    "ax.set_ylabel('density')\n",
    "ax.grid(alpha=0.1)\n",
    "\n",
    "plt.show()"
   ]
  },
  {
   "cell_type": "markdown",
   "id": "ea991def-be9c-4186-9253-9d201c38fafb",
   "metadata": {},
   "source": [
    ">Con probabilidad 0.95 se puede creer que la proporción de niños $\\theta$ está entre valores:"
   ]
  },
  {
   "cell_type": "code",
   "execution_count": 4,
   "id": "e6715852-a302-41ef-905c-60f9c020981e",
   "metadata": {},
   "outputs": [
    {
     "data": {
      "text/html": [
       "<div>\n",
       "<style scoped>\n",
       "    .dataframe tbody tr th:only-of-type {\n",
       "        vertical-align: middle;\n",
       "    }\n",
       "\n",
       "    .dataframe tbody tr th {\n",
       "        vertical-align: top;\n",
       "    }\n",
       "\n",
       "    .dataframe thead th {\n",
       "        text-align: right;\n",
       "    }\n",
       "</style>\n",
       "<table border=\"1\" class=\"dataframe\">\n",
       "  <thead>\n",
       "    <tr style=\"text-align: right;\">\n",
       "      <th></th>\n",
       "      <th>0.025</th>\n",
       "      <th>0.975</th>\n",
       "    </tr>\n",
       "  </thead>\n",
       "  <tbody>\n",
       "    <tr>\n",
       "      <th>theta</th>\n",
       "      <td>0.193468</td>\n",
       "      <td>0.93445</td>\n",
       "    </tr>\n",
       "  </tbody>\n",
       "</table>\n",
       "</div>"
      ],
      "text/plain": [
       "          0.025    0.975\n",
       "theta  0.193468  0.93445"
      ]
     },
     "execution_count": 4,
     "metadata": {},
     "output_type": "execute_result"
    }
   ],
   "source": [
    "pd.DataFrame(dist_inicial).quantile([0.025, 0.975]).rename(columns={0:'theta'}).T"
   ]
  },
  {
   "cell_type": "markdown",
   "id": "60e4c81f-4ed4-4f83-853a-9ffa55dd04ee",
   "metadata": {},
   "source": [
    "2) Usando tu inicial de $a)$ grafica la posterior y decide si es creíble que las parejas que toman la medicina tienen una probabilidad de `0.5` de concebir un niño.\n",
    "\n",
    ">Hasta ahora sabemos que:\n",
    ">* Verosimilitud: $P(X|\\theta)\\propto \\theta^k(1-\\theta)^{n-k}$\n",
    ">* Dist. inicial: $P(\\theta)\\propto \\theta^{a-1}(1-\\theta)^{b-1}$\n",
    ">\n",
    ">Entonces, la posterior resulta en:\n",
    ">$P(\\theta|X)\\propto \\theta^{k+a-1}(1-\\theta)^{n-k+b-1} = Beta(k+a,\\,\\,\\, n-k+b)$\n",
    ">\n",
    ">Donde:\n",
    ">* $n$: Total de concepciones\n",
    ">* $k$: Niños concebidos\n",
    ">* $a,b$: Parámetros de la inicial"
   ]
  },
  {
   "cell_type": "code",
   "execution_count": 5,
   "id": "de82f9c5-4fd5-4907-82e4-d98454142c2d",
   "metadata": {},
   "outputs": [],
   "source": [
    "n, k = 50, 30\n",
    "dist_posterior = beta.rvs(k+a, n-k+b, size=10_000)"
   ]
  },
  {
   "cell_type": "markdown",
   "id": "ddafa0b6-69e5-4350-a11f-37e4f35cf2d8",
   "metadata": {},
   "source": [
    ">Examinamos la forma que tomaría la distribución inicial:"
   ]
  },
  {
   "cell_type": "code",
   "execution_count": 6,
   "id": "4852261a-8598-4268-8956-3f8110849e2e",
   "metadata": {},
   "outputs": [
    {
     "data": {
      "image/png": "[encoded data removed]",
      "text/plain": [
       "<Figure size 360x360 with 1 Axes>"
      ]
     },
     "metadata": {
      "needs_background": "light"
     },
     "output_type": "display_data"
    }
   ],
   "source": [
    "fig, ax = plt.subplots(figsize=(5,5))\n",
    "\n",
    "#Contenido de figura\n",
    "ax.hist(x=dist_inicial, bins=20, color='red', alpha=0.25, label='prior')\n",
    "ax.hist(x=dist_posterior, bins=20, color='blue', alpha=0.25, label='posterior')\n",
    "\n",
    "#Anotaciones y estilo\n",
    "ax.set_xlabel(r'$\\theta$')\n",
    "ax.set_ylabel('density')\n",
    "ax.grid(alpha=0.1)\n",
    "ax.legend()\n",
    "\n",
    "plt.show()"
   ]
  },
  {
   "cell_type": "markdown",
   "id": "8f0c2193-e039-4a3e-aac1-59aa2fbb1117",
   "metadata": {},
   "source": [
    ">Bajo la distribución posterior, observamos el valor del parámetro $\\theta$ en el cuantil `0.05`"
   ]
  },
  {
   "cell_type": "code",
   "execution_count": 7,
   "id": "e57e5075-2481-4954-9fd9-ba464339fd47",
   "metadata": {},
   "outputs": [
    {
     "data": {
      "text/html": [
       "<div>\n",
       "<style scoped>\n",
       "    .dataframe tbody tr th:only-of-type {\n",
       "        vertical-align: middle;\n",
       "    }\n",
       "\n",
       "    .dataframe tbody tr th {\n",
       "        vertical-align: top;\n",
       "    }\n",
       "\n",
       "    .dataframe thead th {\n",
       "        text-align: right;\n",
       "    }\n",
       "</style>\n",
       "<table border=\"1\" class=\"dataframe\">\n",
       "  <thead>\n",
       "    <tr style=\"text-align: right;\">\n",
       "      <th></th>\n",
       "      <th>0.05</th>\n",
       "    </tr>\n",
       "  </thead>\n",
       "  <tbody>\n",
       "    <tr>\n",
       "      <th>theta</th>\n",
       "      <td>0.491855</td>\n",
       "    </tr>\n",
       "  </tbody>\n",
       "</table>\n",
       "</div>"
      ],
      "text/plain": [
       "           0.05\n",
       "theta  0.491855"
      ]
     },
     "execution_count": 7,
     "metadata": {},
     "output_type": "execute_result"
    }
   ],
   "source": [
    "pd.DataFrame(dist_posterior).quantile([0.05]).rename(columns={0:'theta'}).T"
   ]
  },
  {
   "cell_type": "markdown",
   "id": "e0092827-7808-4c9d-b082-fa7b04454bad",
   "metadata": {},
   "source": [
    ">Observamos que en el cuantil `0.05` el parámetro $\\theta\\approx0.49$, lo que quiere decir que se requiere de un valor tan extermo como `0.49` o más pequeño, para tener una probabilidad menor a `0.05` de observar este parámetro. Dicho lo anterior, dado que un parámetro de `0.5` es mayor que `0.49`, entonces se puede creer que las personas que toman la medicina tienen esta probabilidad de concebir un niño.\n",
    "\n",
    "3) Supón que la farmacéutica asevera que la probabilidad de concebir un niño cuando se toma la medicina es cercana al $60\\%$. Representa esta postura con una distribución inicial $Beta(60,40)$. Compárala con la inicial de un escéptico que afirma que la medicina no hace diferencia, representa esta creencia con una inicial $Beta(50,50)$. ¿Cómo se compara la probabilidad posterior de concebir un niño usando las distintas iniciales?"
   ]
  },
  {
   "cell_type": "code",
   "execution_count": 8,
   "id": "d9893055-64a6-4376-8681-dfc6439a29a8",
   "metadata": {},
   "outputs": [],
   "source": [
    "def simular_beta_binomial(a, b, n, k):\n",
    "    #Simulación inicial de datos\n",
    "    dist_inicial = beta.rvs(a, b, size=10_000)\n",
    "    dist_posterior = beta.rvs(k+a, n-k+b, size=10_000)\n",
    "    \n",
    "    return dist_inicial, dist_posterior"
   ]
  },
  {
   "cell_type": "code",
   "execution_count": 9,
   "id": "1a01f994-ab24-41f4-91ad-bd743e12a445",
   "metadata": {},
   "outputs": [],
   "source": [
    "n, k = 50, 30\n",
    "\n",
    "inicial_farma, posterior_farma = simular_beta_binomial(a=60, b=40, n=n, k=k)\n",
    "inicial_escept, posterior_escept = simular_beta_binomial(a=50, b=50, n=n, k=k)"
   ]
  },
  {
   "cell_type": "markdown",
   "id": "e9c0310c-256f-4bb2-ac7b-fd381db1c0f7",
   "metadata": {},
   "source": [
    ">Examinamos la forma que tomaría la distribución inicial:"
   ]
  },
  {
   "cell_type": "code",
   "execution_count": 10,
   "id": "55e7706c-6df7-4029-8101-c8e5e5e76adf",
   "metadata": {},
   "outputs": [
    {
     "data": {
      "image/png": "[encoded data removed]",
      "text/plain": [
       "<Figure size 720x360 with 2 Axes>"
      ]
     },
     "metadata": {
      "needs_background": "light"
     },
     "output_type": "display_data"
    }
   ],
   "source": [
    "fig = plt.figure(figsize=(10,5))\n",
    "spec = plt.GridSpec(nrows=1, ncols=2)\n",
    "\n",
    "#Farmacéutica\n",
    "ax0 = fig.add_subplot(spec[0])\n",
    "ax0.hist(x=inicial_farma, bins=20, color='red', alpha=0.25, label='prior')\n",
    "ax0.hist(x=posterior_farma, bins=20, color='blue', alpha=0.25, label='posterior')\n",
    "ax0.set_title('Farmacéutiva')\n",
    "ax0.grid(alpha=0.1)\n",
    "ax0.legend()\n",
    "\n",
    "#Escéptica\n",
    "ax1 = fig.add_subplot(spec[1])\n",
    "ax1.hist(x=inicial_escept, bins=20, color='red', alpha=0.25, label='prior')\n",
    "ax1.hist(x=posterior_escept, bins=20, color='blue', alpha=0.25, label='posterior')\n",
    "ax1.set_title('Escéptica')\n",
    "ax1.grid(alpha=0.1)\n",
    "ax1.legend()\n",
    "\n",
    "#Anotaciones y estilo global\n",
    "fig.supxlabel(r'$\\theta$', fontsize=12)\n",
    "fig.supylabel('Density', fontsize=12)\n",
    "\n",
    "plt.show()"
   ]
  },
  {
   "cell_type": "markdown",
   "id": "49e6907a-f5d5-4692-93ec-e2a4d39d7522",
   "metadata": {},
   "source": [
    "**Observaciones**:\n",
    "* En ambas posturas, la desviación estándar de los parámetros es muy similar, tanto en las distribuciones iniciales como las posteriores.\n",
    "* En la postura de la farmacéutica, la posterior y la inicial son práctiamente las mismas, y están centradas en `0.6` que es el valor indicado por la farmacéutica.\n",
    "* En la postura escéptica, vemos que la inicial está centrada en `0.5` y la posterior, si bien está centrada en un valor mayor a `0.5`, no alcanza el valor indicado por la farmacéutica en `0.6`.\n",
    "* En el caso de la postura escéptica, el desplazamiento de la distribución no es tan radical como en el inciso $2)$ (en donde eran $n=3+2=5$ casos), debido a que se simuló la inicial con $n=50+50=100$ casos. Esto le da mayor peso a la inicial sobre la verosimilitud, y por tanto la magnitud de su desplazamiento no es tan grande."
   ]
  },
  {
   "cell_type": "markdown",
   "id": "051e61cc-2599-4f04-8d02-08ce5623b954",
   "metadata": {},
   "source": [
    "## Normal-Normal\n",
    "\n",
    "Supongamos que nos interesa analizar el IQ de una muestra de estudiantes del ITAM y suponemos que el IQ de un estudiante tiene una distribución normal $x\\backsim N(\\theta,\\sigma^2)$ con $\\sigma^2$ conocida. Considera que observamos el IQ de un estudiante $x$. La verosimilitud del modelo es:\n",
    "$$p(x|\\theta)=\\frac{1}{\\sqrt{2\\pi\\sigma^2}}exp\\left[-\\frac{1}{2\\sigma^2}(x-\\theta)^2\\right]$$\n",
    "\n",
    "Realizaremos un análisis bayesiano por lo que hace falta establecer una distribución inicial, elegimos $p(\\theta)$ que se distribuye $N(\\mu,\\tau^2)$ donde elegimos los parámetros $\\mu,\\tau$ ($\\tau$ es la desviación estándar) que mejor describan nuestras creencias iniciales, por ejemplo si tengo mucha certeza de que el IQ promedio se ubica en 150, elegiría $\\mu=150$ y una desviación estándar chica, por ejemplo $\\tau=5$. Entonces, la distribución inicial es:\n",
    "$$p(\\theta)=\\frac{1}{\\sqrt{2\\pi\\tau^2}}exp\\left[-\\frac{1}{2\\tau^2}(\\theta-\\mu)^2\\right]$$\n",
    "\n",
    "Calcula la distribución posterior $p(\\theta|x)\\propto p(x|\\theta)p(\\theta)$, usando la inicial y verosimilitud que definimos arriba. Una vez que realices la multiplicación debes identificar el núcleo de la distribución Normal.\n",
    "\n",
    "¿Cuáles son su parámetros (media y varianza)?\n",
    "\n",
    ">Sabemos que $\\sigma^2$ de la verosimilitud es conocida. Adicionalmente, también conocemos $\\mu,\\tau$ ya que hay que seleccionar los que mejor representen el conocimiento inicial. Entonces:\n",
    ">$$\\frac{1}{\\sqrt{2\\pi\\sigma^2}}=C_1,\\,\\,\\, \\frac{1}{\\sqrt{2\\pi\\tau^2}}=C_2$$\n",
    ">\n",
    ">Son términos constantes y por ende se pueden ignorar, con lo cual el kernel de la posterior quedaría definido por:\n",
    ">$$p(\\theta |x)\\propto exp\\left[-\\frac{1}{2\\sigma^2}(x-\\theta)^2\\right]exp\\left[-\\frac{1}{2\\tau^2}(\\theta-\\mu)^2\\right]$$\n",
    ">\n",
    ">$$=exp\\left[-\\frac{1}{2\\sigma^2}(x^2-2x\\theta+\\theta^2)-\\frac{1}{2\\tau^2}(\\theta^2-2\\theta\\mu+\\mu^2)\\right]$$\n",
    ">Agrupando:\n",
    ">$$p(\\theta|x)=exp\\left[-\\frac{1}{2}\\left[\\theta^2\\left(\\frac{1}{\\sigma^2}+\\frac{1}{\\tau^2}\\right)-2\\theta\\left(\\frac{x}{\\sigma^2}+\\frac{\\mu}{\\tau^2}\\right)+\\frac{x^2}{\\sigma^2}+\\frac{\\mu^2}{\\tau^2}\\right]\\right]$$\n",
    ">\n",
    ">$$=exp\\left[-\\frac{1}{2}\\left[\\frac{1}{\\sigma^2}\\left(\\theta^2-2x\\theta+x^2\\right)+\\frac{1}{\\tau^2}\\left(\\theta^2-2\\mu\\theta+\\mu^2\\right)\\right]\\right]$$\n",
    ">\n",
    ">$$=exp\\left[-\\frac{1}{2}\\left[\\frac{1}{\\sigma^2}(\\theta-x)^2+\\frac{1}{\\tau^2}(\\theta-\\mu)^2\\right]\\right]...?$$"
   ]
  }
 ],
 "metadata": {
  "kernelspec": {
   "display_name": "Python 3 (ipykernel)",
   "language": "python",
   "name": "python3"
  },
  "language_info": {
   "codemirror_mode": {
    "name": "ipython",
    "version": 3
   },
   "file_extension": ".py",
   "mimetype": "text/x-python",
   "name": "python",
   "nbconvert_exporter": "python",
   "pygments_lexer": "ipython3",
   "version": "3.9.6"
  }
 },
 "nbformat": 4,
 "nbformat_minor": 5
}
