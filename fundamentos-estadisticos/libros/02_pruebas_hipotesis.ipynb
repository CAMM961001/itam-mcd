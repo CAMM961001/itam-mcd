{
 "cells": [
  {
   "cell_type": "markdown",
   "id": "f8524f1c-43ac-494e-b2f0-011d255151e1",
   "metadata": {
    "tags": []
   },
   "source": [
    "# Tarea 4: Pruebas de hipótesis\n",
    "\n",
    "Solución de los ejercicios de la sección `Pruebas de hipótesis` del libro del curso [Fundamentos Estadísticos](https://tereom.github.io/fundamentos-2022/pruebas-de-hip%C3%B3tesis.html)"
   ]
  },
  {
   "cell_type": "markdown",
   "id": "b0c8eeb4-c3b2-4de7-8b5b-6a7787e47eb2",
   "metadata": {},
   "source": [
    "# Pruebas visuales y permutación"
   ]
  },
  {
   "cell_type": "markdown",
   "id": "6f3bdb50-1748-4e6c-8106-3d99e915d6d4",
   "metadata": {},
   "source": [
    "## Pruebas de permutación\n",
    "\n",
    "El siguiente video es bastante claro sobre lo que hace una [prueba de permutación](https://www.youtube.com/watch?v=rJ3AZCQuiLw)\n",
    "\n",
    "La tabla de datos `Phillies2009.csv`  contiene información de la temporada de baseball 2009 para el equipo de Philadelphia Phillies, en este ejercicio queremos comparar los strikes (`StrikeOuts`) entre los juegos en casa y de visitante."
   ]
  },
  {
   "cell_type": "markdown",
   "id": "1162ef0d-a462-45f1-bb82-c6509a736cb7",
   "metadata": {},
   "source": [
    "### Carga de datos"
   ]
  },
  {
   "cell_type": "code",
   "execution_count": 1,
   "id": "0ed98302-bf2e-4679-a120-5be04895b951",
   "metadata": {},
   "outputs": [],
   "source": [
    "import os\n",
    "import numpy as np\n",
    "import pandas as pd\n",
    "import matplotlib.pyplot as plt\n",
    "\n",
    "from utils import ordenar_tendencia_central, tabla_prueba_permutacion"
   ]
  },
  {
   "cell_type": "code",
   "execution_count": 2,
   "id": "335708ab-2c34-4313-99e6-5d56835dcaf2",
   "metadata": {},
   "outputs": [
    {
     "data": {
      "text/plain": [
       "['.git',\n",
       " '.gitignore',\n",
       " 'aprendizaje-automatico',\n",
       " 'estadistica-computacional',\n",
       " 'fundamentos-estadisticos',\n",
       " 'mineria-analisis-datos',\n",
       " 'optimizacion',\n",
       " 'README.md']"
      ]
     },
     "execution_count": 2,
     "metadata": {},
     "output_type": "execute_result"
    }
   ],
   "source": [
    "path_universal = \"C:\\\\Users\\\\Miguel\\\\Documents\\\\Github\\\\itam-mcd\"\n",
    "os.listdir(path_universal)"
   ]
  },
  {
   "cell_type": "code",
   "execution_count": 3,
   "id": "a5038e84-fff0-4bc8-b54e-061f81397668",
   "metadata": {},
   "outputs": [
    {
     "data": {
      "text/plain": [
       "['datos', 'libros', 'README.md']"
      ]
     },
     "execution_count": 3,
     "metadata": {},
     "output_type": "execute_result"
    }
   ],
   "source": [
    "path_asignatura = \"fundamentos-estadisticos\"\n",
    "path_asignatura = os.path.join(path_universal, path_asignatura)\n",
    "os.listdir(path_asignatura)"
   ]
  },
  {
   "cell_type": "code",
   "execution_count": 4,
   "id": "cf2526f3-d59f-414b-8da3-2e62d4e86f0c",
   "metadata": {},
   "outputs": [
    {
     "data": {
      "text/html": [
       "<div>\n",
       "<style scoped>\n",
       "    .dataframe tbody tr th:only-of-type {\n",
       "        vertical-align: middle;\n",
       "    }\n",
       "\n",
       "    .dataframe tbody tr th {\n",
       "        vertical-align: top;\n",
       "    }\n",
       "\n",
       "    .dataframe thead th {\n",
       "        text-align: right;\n",
       "    }\n",
       "</style>\n",
       "<table border=\"1\" class=\"dataframe\">\n",
       "  <thead>\n",
       "    <tr style=\"text-align: right;\">\n",
       "      <th></th>\n",
       "      <th>Date</th>\n",
       "      <th>Location</th>\n",
       "      <th>Outcome</th>\n",
       "      <th>Hits</th>\n",
       "      <th>Doubles</th>\n",
       "      <th>HomeRuns</th>\n",
       "      <th>StrikeOuts</th>\n",
       "    </tr>\n",
       "  </thead>\n",
       "  <tbody>\n",
       "    <tr>\n",
       "      <th>0</th>\n",
       "      <td>5-Apr</td>\n",
       "      <td>Home</td>\n",
       "      <td>Lose</td>\n",
       "      <td>4</td>\n",
       "      <td>2</td>\n",
       "      <td>0</td>\n",
       "      <td>6</td>\n",
       "    </tr>\n",
       "    <tr>\n",
       "      <th>1</th>\n",
       "      <td>7-Apr</td>\n",
       "      <td>Home</td>\n",
       "      <td>Lose</td>\n",
       "      <td>6</td>\n",
       "      <td>1</td>\n",
       "      <td>0</td>\n",
       "      <td>3</td>\n",
       "    </tr>\n",
       "    <tr>\n",
       "      <th>2</th>\n",
       "      <td>8-Apr</td>\n",
       "      <td>Home</td>\n",
       "      <td>Win</td>\n",
       "      <td>11</td>\n",
       "      <td>3</td>\n",
       "      <td>1</td>\n",
       "      <td>6</td>\n",
       "    </tr>\n",
       "    <tr>\n",
       "      <th>3</th>\n",
       "      <td>10-Apr</td>\n",
       "      <td>Away</td>\n",
       "      <td>Lose</td>\n",
       "      <td>7</td>\n",
       "      <td>2</td>\n",
       "      <td>1</td>\n",
       "      <td>3</td>\n",
       "    </tr>\n",
       "    <tr>\n",
       "      <th>4</th>\n",
       "      <td>11-Apr</td>\n",
       "      <td>Away</td>\n",
       "      <td>Win</td>\n",
       "      <td>15</td>\n",
       "      <td>3</td>\n",
       "      <td>1</td>\n",
       "      <td>6</td>\n",
       "    </tr>\n",
       "  </tbody>\n",
       "</table>\n",
       "</div>"
      ],
      "text/plain": [
       "     Date Location Outcome  Hits  Doubles  HomeRuns  StrikeOuts\n",
       "0   5-Apr     Home    Lose     4        2         0           6\n",
       "1   7-Apr     Home    Lose     6        1         0           3\n",
       "2   8-Apr     Home     Win    11        3         1           6\n",
       "3  10-Apr     Away    Lose     7        2         1           3\n",
       "4  11-Apr     Away     Win    15        3         1           6"
      ]
     },
     "execution_count": 4,
     "metadata": {},
     "output_type": "execute_result"
    }
   ],
   "source": [
    "#Se obtiene dataset original\n",
    "file_path = \"datos\\\\Phillies2009.csv\"\n",
    "phillies = pd.read_csv(os.path.join(path_asignatura, file_path))\n",
    "phillies.head()"
   ]
  },
  {
   "cell_type": "code",
   "execution_count": 5,
   "id": "54404063-6470-483d-b5ad-edb51271b1a7",
   "metadata": {},
   "outputs": [
    {
     "name": "stdout",
     "output_type": "stream",
     "text": [
      "Dimensiones del conjunto de datos: (162, 7)\n"
     ]
    }
   ],
   "source": [
    "print(f\"Dimensiones del conjunto de datos: {phillies.shape}\")"
   ]
  },
  {
   "cell_type": "code",
   "execution_count": 6,
   "id": "e8b44131-45cf-4355-b0c2-7e0b47e97911",
   "metadata": {},
   "outputs": [
    {
     "data": {
      "image/png": "[encoded data removed]",
      "text/plain": [
       "<Figure size 432x144 with 1 Axes>"
      ]
     },
     "metadata": {
      "needs_background": "light"
     },
     "output_type": "display_data"
    }
   ],
   "source": [
    "#Se ordena el dataset con respecto a la mediana\n",
    "ordenar_tendencia_central(phillies, 'Location', 'StrikeOuts', mo='median')\n",
    "\n",
    "#Graficamos todo el conjunto de datos\n",
    "ax = phillies.boxplot(by='Location', column='StrikeOuts', figsize=(6,2), vert=False, color='black')\n",
    "ax.set_title('')\n",
    "ax.set_xlabel(\"Location\", fontsize=12)\n",
    "ax.set_ylabel(\"Strikeouts\", fontsize=12)\n",
    "ax.grid(alpha=0.25)\n",
    "\n",
    "plt.suptitle('')\n",
    "plt.show()"
   ]
  },
  {
   "cell_type": "markdown",
   "id": "2161b623-2dc4-4aa4-8a1b-fda0c8efc1d2",
   "metadata": {},
   "source": [
    "### Ejercicio 1\n",
    "Realiza un lineup donde cada panel muestre un diagrama de caja y brazos para la variable de interés separando los juegos jugados en casa (`home`) y los juegos jugados fuera (`away`). ¿Puedes localizar los datos verdaderos entre los nulos?"
   ]
  },
  {
   "cell_type": "code",
   "execution_count": 7,
   "id": "01e012e5-7d88-487f-9b48-c949ebc98196",
   "metadata": {},
   "outputs": [
    {
     "data": {
      "text/html": [
       "<div>\n",
       "<style scoped>\n",
       "    .dataframe tbody tr th:only-of-type {\n",
       "        vertical-align: middle;\n",
       "    }\n",
       "\n",
       "    .dataframe tbody tr th {\n",
       "        vertical-align: top;\n",
       "    }\n",
       "\n",
       "    .dataframe thead th {\n",
       "        text-align: right;\n",
       "    }\n",
       "</style>\n",
       "<table border=\"1\" class=\"dataframe\">\n",
       "  <thead>\n",
       "    <tr style=\"text-align: right;\">\n",
       "      <th></th>\n",
       "      <th>Location</th>\n",
       "      <th>4</th>\n",
       "      <th>2</th>\n",
       "      <th>9</th>\n",
       "      <th>15</th>\n",
       "      <th>13</th>\n",
       "      <th>10</th>\n",
       "      <th>16</th>\n",
       "      <th>7</th>\n",
       "      <th>17</th>\n",
       "      <th>...</th>\n",
       "      <th>8</th>\n",
       "      <th>3</th>\n",
       "      <th>6</th>\n",
       "      <th>18</th>\n",
       "      <th>0</th>\n",
       "      <th>12</th>\n",
       "      <th>StrikeOuts</th>\n",
       "      <th>14</th>\n",
       "      <th>1</th>\n",
       "      <th>11</th>\n",
       "    </tr>\n",
       "  </thead>\n",
       "  <tbody>\n",
       "    <tr>\n",
       "      <th>0</th>\n",
       "      <td>Home</td>\n",
       "      <td>9</td>\n",
       "      <td>10</td>\n",
       "      <td>9</td>\n",
       "      <td>5</td>\n",
       "      <td>9</td>\n",
       "      <td>6</td>\n",
       "      <td>4</td>\n",
       "      <td>7</td>\n",
       "      <td>8</td>\n",
       "      <td>...</td>\n",
       "      <td>8</td>\n",
       "      <td>3</td>\n",
       "      <td>6</td>\n",
       "      <td>7</td>\n",
       "      <td>5</td>\n",
       "      <td>7</td>\n",
       "      <td>6</td>\n",
       "      <td>16</td>\n",
       "      <td>4</td>\n",
       "      <td>6</td>\n",
       "    </tr>\n",
       "    <tr>\n",
       "      <th>1</th>\n",
       "      <td>Home</td>\n",
       "      <td>6</td>\n",
       "      <td>8</td>\n",
       "      <td>4</td>\n",
       "      <td>11</td>\n",
       "      <td>5</td>\n",
       "      <td>11</td>\n",
       "      <td>7</td>\n",
       "      <td>10</td>\n",
       "      <td>12</td>\n",
       "      <td>...</td>\n",
       "      <td>8</td>\n",
       "      <td>9</td>\n",
       "      <td>9</td>\n",
       "      <td>7</td>\n",
       "      <td>9</td>\n",
       "      <td>8</td>\n",
       "      <td>3</td>\n",
       "      <td>6</td>\n",
       "      <td>6</td>\n",
       "      <td>10</td>\n",
       "    </tr>\n",
       "    <tr>\n",
       "      <th>2</th>\n",
       "      <td>Home</td>\n",
       "      <td>20</td>\n",
       "      <td>7</td>\n",
       "      <td>9</td>\n",
       "      <td>5</td>\n",
       "      <td>8</td>\n",
       "      <td>5</td>\n",
       "      <td>8</td>\n",
       "      <td>9</td>\n",
       "      <td>9</td>\n",
       "      <td>...</td>\n",
       "      <td>4</td>\n",
       "      <td>8</td>\n",
       "      <td>9</td>\n",
       "      <td>7</td>\n",
       "      <td>5</td>\n",
       "      <td>5</td>\n",
       "      <td>6</td>\n",
       "      <td>5</td>\n",
       "      <td>7</td>\n",
       "      <td>10</td>\n",
       "    </tr>\n",
       "    <tr>\n",
       "      <th>3</th>\n",
       "      <td>Away</td>\n",
       "      <td>7</td>\n",
       "      <td>6</td>\n",
       "      <td>4</td>\n",
       "      <td>8</td>\n",
       "      <td>4</td>\n",
       "      <td>9</td>\n",
       "      <td>3</td>\n",
       "      <td>5</td>\n",
       "      <td>10</td>\n",
       "      <td>...</td>\n",
       "      <td>9</td>\n",
       "      <td>11</td>\n",
       "      <td>4</td>\n",
       "      <td>8</td>\n",
       "      <td>8</td>\n",
       "      <td>6</td>\n",
       "      <td>3</td>\n",
       "      <td>11</td>\n",
       "      <td>0</td>\n",
       "      <td>12</td>\n",
       "    </tr>\n",
       "    <tr>\n",
       "      <th>4</th>\n",
       "      <td>Away</td>\n",
       "      <td>5</td>\n",
       "      <td>9</td>\n",
       "      <td>9</td>\n",
       "      <td>7</td>\n",
       "      <td>9</td>\n",
       "      <td>7</td>\n",
       "      <td>7</td>\n",
       "      <td>5</td>\n",
       "      <td>3</td>\n",
       "      <td>...</td>\n",
       "      <td>7</td>\n",
       "      <td>7</td>\n",
       "      <td>9</td>\n",
       "      <td>6</td>\n",
       "      <td>6</td>\n",
       "      <td>9</td>\n",
       "      <td>6</td>\n",
       "      <td>10</td>\n",
       "      <td>9</td>\n",
       "      <td>9</td>\n",
       "    </tr>\n",
       "    <tr>\n",
       "      <th>...</th>\n",
       "      <td>...</td>\n",
       "      <td>...</td>\n",
       "      <td>...</td>\n",
       "      <td>...</td>\n",
       "      <td>...</td>\n",
       "      <td>...</td>\n",
       "      <td>...</td>\n",
       "      <td>...</td>\n",
       "      <td>...</td>\n",
       "      <td>...</td>\n",
       "      <td>...</td>\n",
       "      <td>...</td>\n",
       "      <td>...</td>\n",
       "      <td>...</td>\n",
       "      <td>...</td>\n",
       "      <td>...</td>\n",
       "      <td>...</td>\n",
       "      <td>...</td>\n",
       "      <td>...</td>\n",
       "      <td>...</td>\n",
       "      <td>...</td>\n",
       "    </tr>\n",
       "    <tr>\n",
       "      <th>157</th>\n",
       "      <td>Home</td>\n",
       "      <td>11</td>\n",
       "      <td>10</td>\n",
       "      <td>12</td>\n",
       "      <td>16</td>\n",
       "      <td>7</td>\n",
       "      <td>8</td>\n",
       "      <td>7</td>\n",
       "      <td>6</td>\n",
       "      <td>9</td>\n",
       "      <td>...</td>\n",
       "      <td>7</td>\n",
       "      <td>6</td>\n",
       "      <td>6</td>\n",
       "      <td>6</td>\n",
       "      <td>6</td>\n",
       "      <td>20</td>\n",
       "      <td>2</td>\n",
       "      <td>9</td>\n",
       "      <td>9</td>\n",
       "      <td>10</td>\n",
       "    </tr>\n",
       "    <tr>\n",
       "      <th>158</th>\n",
       "      <td>Home</td>\n",
       "      <td>9</td>\n",
       "      <td>6</td>\n",
       "      <td>7</td>\n",
       "      <td>9</td>\n",
       "      <td>6</td>\n",
       "      <td>10</td>\n",
       "      <td>12</td>\n",
       "      <td>6</td>\n",
       "      <td>7</td>\n",
       "      <td>...</td>\n",
       "      <td>6</td>\n",
       "      <td>6</td>\n",
       "      <td>4</td>\n",
       "      <td>6</td>\n",
       "      <td>10</td>\n",
       "      <td>5</td>\n",
       "      <td>8</td>\n",
       "      <td>9</td>\n",
       "      <td>4</td>\n",
       "      <td>4</td>\n",
       "    </tr>\n",
       "    <tr>\n",
       "      <th>159</th>\n",
       "      <td>Home</td>\n",
       "      <td>8</td>\n",
       "      <td>11</td>\n",
       "      <td>6</td>\n",
       "      <td>9</td>\n",
       "      <td>4</td>\n",
       "      <td>13</td>\n",
       "      <td>6</td>\n",
       "      <td>6</td>\n",
       "      <td>7</td>\n",
       "      <td>...</td>\n",
       "      <td>9</td>\n",
       "      <td>8</td>\n",
       "      <td>12</td>\n",
       "      <td>8</td>\n",
       "      <td>9</td>\n",
       "      <td>9</td>\n",
       "      <td>4</td>\n",
       "      <td>9</td>\n",
       "      <td>8</td>\n",
       "      <td>3</td>\n",
       "    </tr>\n",
       "    <tr>\n",
       "      <th>160</th>\n",
       "      <td>Home</td>\n",
       "      <td>4</td>\n",
       "      <td>6</td>\n",
       "      <td>6</td>\n",
       "      <td>8</td>\n",
       "      <td>7</td>\n",
       "      <td>7</td>\n",
       "      <td>5</td>\n",
       "      <td>6</td>\n",
       "      <td>5</td>\n",
       "      <td>...</td>\n",
       "      <td>6</td>\n",
       "      <td>3</td>\n",
       "      <td>9</td>\n",
       "      <td>5</td>\n",
       "      <td>4</td>\n",
       "      <td>7</td>\n",
       "      <td>4</td>\n",
       "      <td>4</td>\n",
       "      <td>6</td>\n",
       "      <td>8</td>\n",
       "    </tr>\n",
       "    <tr>\n",
       "      <th>161</th>\n",
       "      <td>Home</td>\n",
       "      <td>10</td>\n",
       "      <td>6</td>\n",
       "      <td>13</td>\n",
       "      <td>7</td>\n",
       "      <td>9</td>\n",
       "      <td>5</td>\n",
       "      <td>6</td>\n",
       "      <td>9</td>\n",
       "      <td>6</td>\n",
       "      <td>...</td>\n",
       "      <td>8</td>\n",
       "      <td>9</td>\n",
       "      <td>9</td>\n",
       "      <td>6</td>\n",
       "      <td>20</td>\n",
       "      <td>4</td>\n",
       "      <td>13</td>\n",
       "      <td>6</td>\n",
       "      <td>11</td>\n",
       "      <td>8</td>\n",
       "    </tr>\n",
       "  </tbody>\n",
       "</table>\n",
       "<p>162 rows × 21 columns</p>\n",
       "</div>"
      ],
      "text/plain": [
       "    Location   4   2   9  15  13  10  16   7  17  ...  8   3   6  18   0  12  \\\n",
       "0       Home   9  10   9   5   9   6   4   7   8  ...  8   3   6   7   5   7   \n",
       "1       Home   6   8   4  11   5  11   7  10  12  ...  8   9   9   7   9   8   \n",
       "2       Home  20   7   9   5   8   5   8   9   9  ...  4   8   9   7   5   5   \n",
       "3       Away   7   6   4   8   4   9   3   5  10  ...  9  11   4   8   8   6   \n",
       "4       Away   5   9   9   7   9   7   7   5   3  ...  7   7   9   6   6   9   \n",
       "..       ...  ..  ..  ..  ..  ..  ..  ..  ..  ..  ... ..  ..  ..  ..  ..  ..   \n",
       "157     Home  11  10  12  16   7   8   7   6   9  ...  7   6   6   6   6  20   \n",
       "158     Home   9   6   7   9   6  10  12   6   7  ...  6   6   4   6  10   5   \n",
       "159     Home   8  11   6   9   4  13   6   6   7  ...  9   8  12   8   9   9   \n",
       "160     Home   4   6   6   8   7   7   5   6   5  ...  6   3   9   5   4   7   \n",
       "161     Home  10   6  13   7   9   5   6   9   6  ...  8   9   9   6  20   4   \n",
       "\n",
       "     StrikeOuts  14   1  11  \n",
       "0             6  16   4   6  \n",
       "1             3   6   6  10  \n",
       "2             6   5   7  10  \n",
       "3             3  11   0  12  \n",
       "4             6  10   9   9  \n",
       "..          ...  ..  ..  ..  \n",
       "157           2   9   9  10  \n",
       "158           8   9   4   4  \n",
       "159           4   9   8   3  \n",
       "160           4   4   6   8  \n",
       "161          13   6  11   8  \n",
       "\n",
       "[162 rows x 21 columns]"
      ]
     },
     "execution_count": 7,
     "metadata": {},
     "output_type": "execute_result"
    }
   ],
   "source": [
    "agrupadora = 'Location'\n",
    "permutadora = 'StrikeOuts'\n",
    "\n",
    "perm_df = tabla_prueba_permutacion(phillies, agrupadora, permutadora)\n",
    "perm_df"
   ]
  },
  {
   "cell_type": "code",
   "execution_count": 8,
   "id": "c098e8e4-f357-490e-ab50-45b84395fc9e",
   "metadata": {},
   "outputs": [
    {
     "data": {
      "image/png": "[encoded data removed]",
      "text/plain": [
       "<Figure size 864x864 with 20 Axes>"
      ]
     },
     "metadata": {
      "needs_background": "light"
     },
     "output_type": "display_data"
    }
   ],
   "source": [
    "fig = plt.figure(figsize=(12,12))\n",
    "spec = plt.GridSpec(ncols=5, nrows=4, hspace=0.3)\n",
    "\n",
    "#Paneles\n",
    "for i in np.arange(1,21):\n",
    "    ax_n = f\"ax{i}\"\n",
    "    ax_n = fig.add_subplot(spec[i-1])\n",
    "    perm_df.boxplot(by=agrupadora, column=perm_df.columns[i], vert=False, color='black', ax=ax_n)\n",
    "    ax_n.set_title(i, fontsize=14)\n",
    "    ax_n.set_xlabel('')\n",
    "    ax_n.grid(False)\n",
    "    \n",
    "    if (i-1)%5 != 0:\n",
    "        ax_n.set_yticks([])\n",
    "\n",
    "plt.show()"
   ]
  },
  {
   "cell_type": "markdown",
   "id": "2a60e0b4-f838-48f1-ae84-bb1055cbfede",
   "metadata": {},
   "source": [
    "Yo no puedo identificar los datos verdaderos."
   ]
  },
  {
   "cell_type": "markdown",
   "id": "ee4c6df4-c941-43c1-a4fd-8521b91f5258",
   "metadata": {},
   "source": [
    "### Ejercicio 2\n",
    "Calcula el promedio de strikes por juego en cada grupo (donde grupo se define por Location)."
   ]
  },
  {
   "cell_type": "code",
   "execution_count": 9,
   "id": "4fdb610f-378a-4968-bbf5-3622a2ad7f2e",
   "metadata": {},
   "outputs": [
    {
     "data": {
      "text/html": [
       "<div>\n",
       "<style scoped>\n",
       "    .dataframe tbody tr th:only-of-type {\n",
       "        vertical-align: middle;\n",
       "    }\n",
       "\n",
       "    .dataframe tbody tr th {\n",
       "        vertical-align: top;\n",
       "    }\n",
       "\n",
       "    .dataframe thead th {\n",
       "        text-align: right;\n",
       "    }\n",
       "</style>\n",
       "<table border=\"1\" class=\"dataframe\">\n",
       "  <thead>\n",
       "    <tr style=\"text-align: right;\">\n",
       "      <th></th>\n",
       "      <th>Date</th>\n",
       "      <th>Location</th>\n",
       "      <th>Outcome</th>\n",
       "      <th>Hits</th>\n",
       "      <th>Doubles</th>\n",
       "      <th>HomeRuns</th>\n",
       "      <th>StrikeOuts</th>\n",
       "    </tr>\n",
       "  </thead>\n",
       "  <tbody>\n",
       "    <tr>\n",
       "      <th>0</th>\n",
       "      <td>5-Apr</td>\n",
       "      <td>Home</td>\n",
       "      <td>Lose</td>\n",
       "      <td>4</td>\n",
       "      <td>2</td>\n",
       "      <td>0</td>\n",
       "      <td>6</td>\n",
       "    </tr>\n",
       "    <tr>\n",
       "      <th>1</th>\n",
       "      <td>7-Apr</td>\n",
       "      <td>Home</td>\n",
       "      <td>Lose</td>\n",
       "      <td>6</td>\n",
       "      <td>1</td>\n",
       "      <td>0</td>\n",
       "      <td>3</td>\n",
       "    </tr>\n",
       "    <tr>\n",
       "      <th>2</th>\n",
       "      <td>8-Apr</td>\n",
       "      <td>Home</td>\n",
       "      <td>Win</td>\n",
       "      <td>11</td>\n",
       "      <td>3</td>\n",
       "      <td>1</td>\n",
       "      <td>6</td>\n",
       "    </tr>\n",
       "    <tr>\n",
       "      <th>3</th>\n",
       "      <td>10-Apr</td>\n",
       "      <td>Away</td>\n",
       "      <td>Lose</td>\n",
       "      <td>7</td>\n",
       "      <td>2</td>\n",
       "      <td>1</td>\n",
       "      <td>3</td>\n",
       "    </tr>\n",
       "    <tr>\n",
       "      <th>4</th>\n",
       "      <td>11-Apr</td>\n",
       "      <td>Away</td>\n",
       "      <td>Win</td>\n",
       "      <td>15</td>\n",
       "      <td>3</td>\n",
       "      <td>1</td>\n",
       "      <td>6</td>\n",
       "    </tr>\n",
       "  </tbody>\n",
       "</table>\n",
       "</div>"
      ],
      "text/plain": [
       "     Date Location Outcome  Hits  Doubles  HomeRuns  StrikeOuts\n",
       "0   5-Apr     Home    Lose     4        2         0           6\n",
       "1   7-Apr     Home    Lose     6        1         0           3\n",
       "2   8-Apr     Home     Win    11        3         1           6\n",
       "3  10-Apr     Away    Lose     7        2         1           3\n",
       "4  11-Apr     Away     Win    15        3         1           6"
      ]
     },
     "execution_count": 9,
     "metadata": {},
     "output_type": "execute_result"
    }
   ],
   "source": [
    "#Se obtiene dataset original\n",
    "file_path = \"datos\\\\Phillies2009.csv\"\n",
    "phillies = pd.read_csv(os.path.join(path_asignatura, file_path))\n",
    "phillies.head()"
   ]
  },
  {
   "cell_type": "code",
   "execution_count": 10,
   "id": "a731a574-68aa-4d0f-84e2-21fac14e3c3f",
   "metadata": {},
   "outputs": [
    {
     "data": {
      "text/html": [
       "<div>\n",
       "<style scoped>\n",
       "    .dataframe tbody tr th:only-of-type {\n",
       "        vertical-align: middle;\n",
       "    }\n",
       "\n",
       "    .dataframe tbody tr th {\n",
       "        vertical-align: top;\n",
       "    }\n",
       "\n",
       "    .dataframe thead th {\n",
       "        text-align: right;\n",
       "    }\n",
       "</style>\n",
       "<table border=\"1\" class=\"dataframe\">\n",
       "  <thead>\n",
       "    <tr style=\"text-align: right;\">\n",
       "      <th></th>\n",
       "      <th>StrikeOuts</th>\n",
       "    </tr>\n",
       "    <tr>\n",
       "      <th>Location</th>\n",
       "      <th></th>\n",
       "    </tr>\n",
       "  </thead>\n",
       "  <tbody>\n",
       "    <tr>\n",
       "      <th>Away</th>\n",
       "      <td>7.308642</td>\n",
       "    </tr>\n",
       "    <tr>\n",
       "      <th>Home</th>\n",
       "      <td>6.950617</td>\n",
       "    </tr>\n",
       "  </tbody>\n",
       "</table>\n",
       "</div>"
      ],
      "text/plain": [
       "          StrikeOuts\n",
       "Location            \n",
       "Away        7.308642\n",
       "Home        6.950617"
      ]
     },
     "execution_count": 10,
     "metadata": {},
     "output_type": "execute_result"
    }
   ],
   "source": [
    "phillies.groupby(by='Location').mean()[['StrikeOuts']]"
   ]
  },
  {
   "cell_type": "markdown",
   "id": "79731108-332e-499d-84e4-c0a184de7db1",
   "metadata": {},
   "source": [
    "### Ejercicio 3\n",
    "Realiza una prueba de permutación para la diferencia de las medias. Grafica la\n",
    "distribución de referencia y calcula el valor $p$ de dos colas.\n",
    "\n",
    "Método para cálculo de diferencia de medias obtenido de [Practical Statistics for Data Science, O'Reilly](https://github.com/gedeck/practical-statistics-for-data-scientists)"
   ]
  },
  {
   "cell_type": "code",
   "execution_count": 11,
   "id": "80c12747-c023-498f-8f7e-9db51c1d774e",
   "metadata": {},
   "outputs": [],
   "source": [
    "import random"
   ]
  },
  {
   "cell_type": "code",
   "execution_count": 12,
   "id": "689615cd-d6d0-4494-bb01-9b7e6af13466",
   "metadata": {},
   "outputs": [
    {
     "name": "stdout",
     "output_type": "stream",
     "text": [
      "0.3580246913580245\n"
     ]
    }
   ],
   "source": [
    "mean_a = phillies[phillies['Location'] == 'Home']['StrikeOuts'].mean()\n",
    "mean_b = phillies[phillies['Location'] == 'Away']['StrikeOuts'].mean()\n",
    "print(mean_b - mean_a)"
   ]
  },
  {
   "cell_type": "code",
   "execution_count": 13,
   "id": "aa7c4b81-1fd7-4274-a1df-fa99670596e4",
   "metadata": {},
   "outputs": [
    {
     "data": {
      "text/plain": [
       "0.18518518518518512"
      ]
     },
     "execution_count": 13,
     "metadata": {},
     "output_type": "execute_result"
    }
   ],
   "source": [
    "# Prueba de permutación para diferencia de medias\n",
    "def perm_fun(x, nA, nB):\n",
    "    n = nA + nB\n",
    "    idx_B = set(random.sample(range(n), nB))\n",
    "    idx_A = set(range(n)) - idx_B\n",
    "    return x.loc[idx_B].mean() - x.loc[idx_A].mean()#, idx_A, idx_B\n",
    "    \n",
    "nA = phillies[phillies['Location'] == 'Home'].shape[0]\n",
    "nB = phillies[phillies['Location'] == 'Away'].shape[0]\n",
    "\n",
    "perm_fun(phillies['StrikeOuts'], nA, nB)"
   ]
  },
  {
   "cell_type": "code",
   "execution_count": 14,
   "id": "e804a112-bf24-4815-a7e4-2587a1ed230a",
   "metadata": {},
   "outputs": [
    {
     "data": {
      "image/png": "[encoded data removed]",
      "text/plain": [
       "<Figure size 360x360 with 1 Axes>"
      ]
     },
     "metadata": {
      "needs_background": "light"
     },
     "output_type": "display_data"
    }
   ],
   "source": [
    "#Ejecutando 1,000 iteraciones\n",
    "n = 1_000\n",
    "random.seed(1)\n",
    "perm_diffs = [perm_fun(phillies['StrikeOuts'], nA, nB) for _ in range(n)]\n",
    "\n",
    "fig, ax = plt.subplots(figsize=(5, 5))\n",
    "ax.hist(perm_diffs, bins=11, rwidth=0.9, alpha=0.75)\n",
    "ax.axvline(x = mean_b - mean_a, color='red', lw=2)\n",
    "ax.text(0.5, 175, 'Observed\\ndifference', bbox={'facecolor':'white'})\n",
    "ax.set_xlabel('Strikeouts')\n",
    "ax.set_ylabel('Frequency')\n",
    "\n",
    "plt.tight_layout()\n",
    "plt.show()"
   ]
  },
  {
   "cell_type": "markdown",
   "id": "567040fd-c61c-4537-9d25-ac05407da178",
   "metadata": {},
   "source": [
    "$p_{val}=\\frac{card(TS_{P}>TS_{OBS})}{card(p)}$\n",
    "\n",
    "Siendo:\n",
    "* $TS_P$: Permutation Test Statistic\n",
    "* $TS_{OBS}$: Observed Test Statistic"
   ]
  },
  {
   "cell_type": "code",
   "execution_count": 15,
   "id": "10ddd543-2363-4e0b-896d-54df4a1f9cb8",
   "metadata": {},
   "outputs": [
    {
     "name": "stdout",
     "output_type": "stream",
     "text": [
      "p-val: 0.221\n"
     ]
    }
   ],
   "source": [
    "print(f\"p-val: {sum(perm_diffs > (mean_b - mean_a)) / n}\")"
   ]
  },
  {
   "cell_type": "markdown",
   "id": "c51731b9-9c43-4098-93f0-2662fe7636f7",
   "metadata": {},
   "source": [
    "# Pruebas pareadas\n",
    "\n",
    "El siguiente video es bastante claro sobre lo que hace una [prueba de permutación](https://www.youtube.com/watch?v=3e6ZM-oWwbM)\n",
    "\n",
    "En este ejemplo buscamos comparar la diferencia entre dos medicinas para dormir.\n",
    "* `ID` es el identificador de paciente, y `medicina_1` y `medicina_2` son las horas extras de sueño vs. no usar medicina.\n",
    "* Examina los datos."
   ]
  },
  {
   "cell_type": "code",
   "execution_count": 16,
   "id": "34ed0b17-49d3-48c9-bf09-0a1f04557817",
   "metadata": {},
   "outputs": [
    {
     "data": {
      "text/html": [
       "<div>\n",
       "<style scoped>\n",
       "    .dataframe tbody tr th:only-of-type {\n",
       "        vertical-align: middle;\n",
       "    }\n",
       "\n",
       "    .dataframe tbody tr th {\n",
       "        vertical-align: top;\n",
       "    }\n",
       "\n",
       "    .dataframe thead th {\n",
       "        text-align: right;\n",
       "    }\n",
       "</style>\n",
       "<table border=\"1\" class=\"dataframe\">\n",
       "  <thead>\n",
       "    <tr style=\"text-align: right;\">\n",
       "      <th></th>\n",
       "      <th>ID</th>\n",
       "      <th>medicina_1</th>\n",
       "      <th>medicina_2</th>\n",
       "    </tr>\n",
       "  </thead>\n",
       "  <tbody>\n",
       "    <tr>\n",
       "      <th>0</th>\n",
       "      <td>1</td>\n",
       "      <td>0.7</td>\n",
       "      <td>1.9</td>\n",
       "    </tr>\n",
       "    <tr>\n",
       "      <th>1</th>\n",
       "      <td>2</td>\n",
       "      <td>-1.6</td>\n",
       "      <td>0.8</td>\n",
       "    </tr>\n",
       "    <tr>\n",
       "      <th>2</th>\n",
       "      <td>3</td>\n",
       "      <td>-0.2</td>\n",
       "      <td>1.1</td>\n",
       "    </tr>\n",
       "    <tr>\n",
       "      <th>3</th>\n",
       "      <td>4</td>\n",
       "      <td>-1.2</td>\n",
       "      <td>0.1</td>\n",
       "    </tr>\n",
       "    <tr>\n",
       "      <th>4</th>\n",
       "      <td>5</td>\n",
       "      <td>-0.1</td>\n",
       "      <td>-0.1</td>\n",
       "    </tr>\n",
       "    <tr>\n",
       "      <th>5</th>\n",
       "      <td>6</td>\n",
       "      <td>3.4</td>\n",
       "      <td>4.4</td>\n",
       "    </tr>\n",
       "    <tr>\n",
       "      <th>6</th>\n",
       "      <td>7</td>\n",
       "      <td>3.7</td>\n",
       "      <td>5.5</td>\n",
       "    </tr>\n",
       "    <tr>\n",
       "      <th>7</th>\n",
       "      <td>8</td>\n",
       "      <td>0.8</td>\n",
       "      <td>1.6</td>\n",
       "    </tr>\n",
       "    <tr>\n",
       "      <th>8</th>\n",
       "      <td>9</td>\n",
       "      <td>0.0</td>\n",
       "      <td>4.6</td>\n",
       "    </tr>\n",
       "    <tr>\n",
       "      <th>9</th>\n",
       "      <td>10</td>\n",
       "      <td>2.0</td>\n",
       "      <td>3.4</td>\n",
       "    </tr>\n",
       "  </tbody>\n",
       "</table>\n",
       "</div>"
      ],
      "text/plain": [
       "   ID  medicina_1  medicina_2\n",
       "0   1         0.7         1.9\n",
       "1   2        -1.6         0.8\n",
       "2   3        -0.2         1.1\n",
       "3   4        -1.2         0.1\n",
       "4   5        -0.1        -0.1\n",
       "5   6         3.4         4.4\n",
       "6   7         3.7         5.5\n",
       "7   8         0.8         1.6\n",
       "8   9         0.0         4.6\n",
       "9  10         2.0         3.4"
      ]
     },
     "execution_count": 16,
     "metadata": {},
     "output_type": "execute_result"
    }
   ],
   "source": [
    "#Se obtiene dataset original\n",
    "file_path = \"datos\\\\dormir.csv\"\n",
    "dormir = pd.read_csv(os.path.join(path_asignatura, file_path), usecols=['ID','medicina_1','medicina_2'])\n",
    "dormir"
   ]
  },
  {
   "cell_type": "markdown",
   "id": "5759c4d6-5727-4fa1-b333-3ccbf7364242",
   "metadata": {},
   "source": [
    "La pregunta de interés es si una medicina es mejor que otra para prolongar el sueño. Nótese que en este caso no tenemos grupos, sino mediciones repetidas.\n",
    "* Escribe la hipótesis nula.\n",
    "<br> Ambas medicinas producen el mismo efecto en el sueño.\n",
    "\n",
    "* Nuestra estadística de interés es media de las diferencias entre las medicinas. Calcula la diferencia observada.\n",
    "* Hay variación entre los pacientes. ¿Tenemos evidencia para rechazar que son iguales? ¿Cómo hacemos nuestra distribución de referencia?\n",
    "* Haz una gráfica de la distribución de referencia y grafica encima el valor observado en los datos originales.\n",
    "* Calcula el valor p (justifica porque a una o dos colas)."
   ]
  },
  {
   "cell_type": "code",
   "execution_count": 17,
   "id": "e23174ab-f093-4e25-a99c-5072d8492cc0",
   "metadata": {},
   "outputs": [
    {
     "data": {
      "text/html": [
       "<div>\n",
       "<style scoped>\n",
       "    .dataframe tbody tr th:only-of-type {\n",
       "        vertical-align: middle;\n",
       "    }\n",
       "\n",
       "    .dataframe tbody tr th {\n",
       "        vertical-align: top;\n",
       "    }\n",
       "\n",
       "    .dataframe thead th {\n",
       "        text-align: right;\n",
       "    }\n",
       "</style>\n",
       "<table border=\"1\" class=\"dataframe\">\n",
       "  <thead>\n",
       "    <tr style=\"text-align: right;\">\n",
       "      <th></th>\n",
       "      <th>ID</th>\n",
       "      <th>medicina_1</th>\n",
       "      <th>medicina_2</th>\n",
       "      <th>diferencia</th>\n",
       "    </tr>\n",
       "  </thead>\n",
       "  <tbody>\n",
       "    <tr>\n",
       "      <th>0</th>\n",
       "      <td>1</td>\n",
       "      <td>0.7</td>\n",
       "      <td>1.9</td>\n",
       "      <td>-1.2</td>\n",
       "    </tr>\n",
       "    <tr>\n",
       "      <th>1</th>\n",
       "      <td>2</td>\n",
       "      <td>-1.6</td>\n",
       "      <td>0.8</td>\n",
       "      <td>-2.4</td>\n",
       "    </tr>\n",
       "    <tr>\n",
       "      <th>2</th>\n",
       "      <td>3</td>\n",
       "      <td>-0.2</td>\n",
       "      <td>1.1</td>\n",
       "      <td>-1.3</td>\n",
       "    </tr>\n",
       "    <tr>\n",
       "      <th>3</th>\n",
       "      <td>4</td>\n",
       "      <td>-1.2</td>\n",
       "      <td>0.1</td>\n",
       "      <td>-1.3</td>\n",
       "    </tr>\n",
       "    <tr>\n",
       "      <th>4</th>\n",
       "      <td>5</td>\n",
       "      <td>-0.1</td>\n",
       "      <td>-0.1</td>\n",
       "      <td>0.0</td>\n",
       "    </tr>\n",
       "    <tr>\n",
       "      <th>5</th>\n",
       "      <td>6</td>\n",
       "      <td>3.4</td>\n",
       "      <td>4.4</td>\n",
       "      <td>-1.0</td>\n",
       "    </tr>\n",
       "    <tr>\n",
       "      <th>6</th>\n",
       "      <td>7</td>\n",
       "      <td>3.7</td>\n",
       "      <td>5.5</td>\n",
       "      <td>-1.8</td>\n",
       "    </tr>\n",
       "    <tr>\n",
       "      <th>7</th>\n",
       "      <td>8</td>\n",
       "      <td>0.8</td>\n",
       "      <td>1.6</td>\n",
       "      <td>-0.8</td>\n",
       "    </tr>\n",
       "    <tr>\n",
       "      <th>8</th>\n",
       "      <td>9</td>\n",
       "      <td>0.0</td>\n",
       "      <td>4.6</td>\n",
       "      <td>-4.6</td>\n",
       "    </tr>\n",
       "    <tr>\n",
       "      <th>9</th>\n",
       "      <td>10</td>\n",
       "      <td>2.0</td>\n",
       "      <td>3.4</td>\n",
       "      <td>-1.4</td>\n",
       "    </tr>\n",
       "  </tbody>\n",
       "</table>\n",
       "</div>"
      ],
      "text/plain": [
       "   ID  medicina_1  medicina_2  diferencia\n",
       "0   1         0.7         1.9        -1.2\n",
       "1   2        -1.6         0.8        -2.4\n",
       "2   3        -0.2         1.1        -1.3\n",
       "3   4        -1.2         0.1        -1.3\n",
       "4   5        -0.1        -0.1         0.0\n",
       "5   6         3.4         4.4        -1.0\n",
       "6   7         3.7         5.5        -1.8\n",
       "7   8         0.8         1.6        -0.8\n",
       "8   9         0.0         4.6        -4.6\n",
       "9  10         2.0         3.4        -1.4"
      ]
     },
     "execution_count": 17,
     "metadata": {},
     "output_type": "execute_result"
    }
   ],
   "source": [
    "dormir['diferencia'] = dormir['medicina_1'] - dormir['medicina_2']\n",
    "dormir"
   ]
  },
  {
   "cell_type": "code",
   "execution_count": 18,
   "id": "e3ac5e25-eaa8-4168-9df4-28dc3a69400a",
   "metadata": {},
   "outputs": [
    {
     "name": "stdout",
     "output_type": "stream",
     "text": [
      "Diferencia observada: -1.58\n"
     ]
    }
   ],
   "source": [
    "print(f\"Diferencia observada: {dormir['diferencia'].mean()}\")"
   ]
  },
  {
   "cell_type": "code",
   "execution_count": 19,
   "id": "f404fb8e-7d7f-4dbb-a341-e1f5789c2b77",
   "metadata": {
    "tags": []
   },
   "outputs": [],
   "source": [
    "k = 1_000\n",
    "diferencia_medias = np.zeros(shape=(k))\n",
    "\n",
    "for i in range(k):\n",
    "    #Vector de cambio de signo para permutaciones\n",
    "    vect_signo = np.ones(shape=(dormir.shape[0]))\n",
    "    for n in range(dormir.shape[0]):\n",
    "        flag = np.random.random()\n",
    "        if flag <= 0.5: vect_signo[n] = -1\n",
    "\n",
    "        #Se permuta la columnas de diferencias y se calcula la media\n",
    "        diferencia_medias[i] = (dormir['diferencia'] * vect_signo).mean()"
   ]
  },
  {
   "cell_type": "code",
   "execution_count": 20,
   "id": "cf723b77-da7d-489a-9af8-f9407ac8e22b",
   "metadata": {},
   "outputs": [
    {
     "data": {
      "image/png": "[encoded data removed]",
      "text/plain": [
       "<Figure size 360x360 with 1 Axes>"
      ]
     },
     "metadata": {
      "needs_background": "light"
     },
     "output_type": "display_data"
    }
   ],
   "source": [
    "fig, ax = plt.subplots(figsize=(5, 5))\n",
    "ax.hist(diferencia_medias, bins=11, rwidth=0.9, alpha=0.75)\n",
    "ax.axvline(x = dormir['diferencia'].mean(), color='red', lw=2)\n",
    "ax.text(1, 140, 'Observed\\ndifference', bbox={'facecolor':'white'})\n",
    "ax.set_xlabel('Diferencia')\n",
    "ax.set_ylabel('Frequency')\n",
    "\n",
    "plt.tight_layout()\n",
    "plt.show()"
   ]
  },
  {
   "cell_type": "code",
   "execution_count": 21,
   "id": "9d3269dc-c026-4545-900b-47f414225096",
   "metadata": {},
   "outputs": [
    {
     "name": "stdout",
     "output_type": "stream",
     "text": [
      "p-val: 0.0020\n"
     ]
    }
   ],
   "source": [
    "#Se suma 1 en numerador y denominador para evitar p_val = 0\n",
    "TS_perm = sum(diferencia_medias < dormir['diferencia'].mean())\n",
    "print(f\"p-val: {( TS_perm+1 ) * 2 / ( k+1 ):.4f}\")"
   ]
  },
  {
   "cell_type": "markdown",
   "id": "7178d934-f829-4a00-9f21-9b67348dce34",
   "metadata": {},
   "source": [
    "Dada la distribución anterior, calculada con **1,000** permutaciones de los datos, se obtuvo un valor $p=0.002$, lo cual nos da evidencia suficiente para rechazar la hipótesis nula, es decir, las medicinas no producen el mismo efecto en el sueño\n",
    "\n",
    "---"
   ]
  }
 ],
 "metadata": {
  "kernelspec": {
   "display_name": "Python 3 (ipykernel)",
   "language": "python",
   "name": "python3"
  },
  "language_info": {
   "codemirror_mode": {
    "name": "ipython",
    "version": 3
   },
   "file_extension": ".py",
   "mimetype": "text/x-python",
   "name": "python",
   "nbconvert_exporter": "python",
   "pygments_lexer": "ipython3",
   "version": "3.9.6"
  }
 },
 "nbformat": 4,
 "nbformat_minor": 5
}
