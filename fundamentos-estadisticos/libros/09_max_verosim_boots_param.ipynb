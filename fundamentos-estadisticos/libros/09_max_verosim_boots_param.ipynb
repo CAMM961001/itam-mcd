{
 "cells": [
  {
   "cell_type": "markdown",
   "id": "9e2bd092-52a9-4a98-bbe3-ed3262e6154e",
   "metadata": {},
   "source": [
    "# Tarea 9: Máxima verosimilitud y bootstrap paramétrico\n",
    "\n",
    "Sean $X_1,...X_n \\backsim N(\\mu,1)$ y $\\theta = e^{\\mu}$. Simula una muestra de tamaño $n=100$ usando $\\mu=5$.\n",
    "* Usa bootstrap paramétrico para construir un intervalo del $95\\%$  de confianza.\n",
    "* Usa bootstrap no paramétrico y compara tus respuestas.\n",
    "* Realiza un histograma de replicaciones boostrap para cada método, estas son estimaciones de la distribución $\\hat{\\theta}$. Compáralos con la verdadera distribución de $\\hat{\\theta}$ (que puedes obtener vía simulación). ¿Cuál es la aproximación más cercana a la verdadera distribución?"
   ]
  },
  {
   "cell_type": "code",
   "execution_count": 1,
   "id": "ffaad0ad-9665-4c91-b1c3-9e42f93b93a8",
   "metadata": {},
   "outputs": [],
   "source": [
    "import numpy as np\n",
    "import pandas as pd\n",
    "import matplotlib.pyplot as plt\n",
    "\n"
   ]
  },
  {
   "cell_type": "markdown",
   "id": "16923358-25c0-4f86-bde9-5b66a7d84432",
   "metadata": {},
   "source": [
    "**Simulando** datos de una distribución normal $N(5,1)$"
   ]
  },
  {
   "cell_type": "code",
   "execution_count": 2,
   "id": "ef02aa34-47f3-4a68-87ee-11e39151976d",
   "metadata": {},
   "outputs": [],
   "source": [
    "from scipy.stats import norm, probplot"
   ]
  },
  {
   "cell_type": "code",
   "execution_count": 3,
   "id": "5feb34ad-fc67-4995-8a70-6857407b4d93",
   "metadata": {},
   "outputs": [],
   "source": [
    "#Simulaciones\n",
    "n = 100\n",
    "mu = 5\n",
    "sigma = 1\n",
    "X = norm.rvs(loc=mu, scale=sigma, size=n)"
   ]
  },
  {
   "cell_type": "markdown",
   "id": "137a09b5-cad8-4609-895b-0c73e875fe77",
   "metadata": {},
   "source": [
    "# Boostrap paramétrico"
   ]
  },
  {
   "cell_type": "markdown",
   "id": "48588aac-2b02-4896-aca0-344530aa1570",
   "metadata": {},
   "source": [
    "## Distribución de los datos\n",
    "\n",
    "En este caso, se sabe que los datos fueron generados de una distribución normal $N(5,1)$, sin embargo, se realizan todos los pasos para determinar el estimador por máxima verosimilitud.\n",
    "\n",
    "Empezamos por visualizar la distribución de los datos"
   ]
  },
  {
   "cell_type": "code",
   "execution_count": 4,
   "id": "d547d41e-e6e7-4ea2-ae5f-748a2b47d77d",
   "metadata": {},
   "outputs": [
    {
     "data": {
      "image/png": "[encoded data removed]",
      "text/plain": [
       "<Figure size 360x360 with 1 Axes>"
      ]
     },
     "metadata": {
      "needs_background": "light"
     },
     "output_type": "display_data"
    }
   ],
   "source": [
    "fig, ax = plt.subplots(figsize=(5,5))\n",
    "\n",
    "#Gráfica cuantil-cuantil normal\n",
    "probplot(x=X, plot=ax)\n",
    "ax.set_title('')\n",
    "ax.set_xlabel('Cuantiles teóricos', fontsize=14)\n",
    "ax.set_ylabel('Cuantiles observados', fontsize=14)\n",
    "ax.grid(alpha=0.2)\n",
    "\n",
    "plt.show()"
   ]
  },
  {
   "cell_type": "markdown",
   "id": "15535609-2541-4bda-a03d-975bb1b1f080",
   "metadata": {},
   "source": [
    "**Observamos** que los datos son aproximadamente normales"
   ]
  },
  {
   "cell_type": "markdown",
   "id": "589e8a8e-56d5-4259-9bbb-946831dd9b37",
   "metadata": {},
   "source": [
    "## Estimador puntual\n",
    "\n",
    "Recordando que la función de densidad de una distribución normal queda dada por: \n",
    "$$f(x) = \\frac{1}{\\sigma\\sqrt{2\\pi}}{exp}\\left(-\\frac{(x-\\mu)^2}{2\\sigma^2}\\right)$$\n",
    "\n",
    "Del problema conocemos que se tiene una $\\sigma=1$, con lo que:\n",
    "$$f(x) = \\frac{1}{\\sqrt{2\\pi}}{exp}\\left(-\\frac{(x-\\mu)^2}{2}\\right)$$\n",
    "\n",
    "Por lo tanto, suponiendo una V.A.I.I.D, entonces la función de distribución conjunta es:\n",
    "$$L(x, \\mu) = f(x_1, \\mu)\\cdot f(x_2, \\mu)\\cdot ...\\cdot f(x_n, \\mu)$$\n",
    "\n",
    "Con lo cual:\n",
    "$$L(x,\\mu) = \\frac{1}{\\sqrt{2\\pi}}{exp}\\left(-\\frac{(x_1-\\mu)^2}{2}\\right)\\cdot \\frac{1}{\\sqrt{2\\pi}}{exp}\\left(-\\frac{(x_2-\\mu)^2}{2}\\right)\\cdot ...\\cdot \\frac{1}{\\sqrt{2\\pi}}{exp}\\left(-\\frac{(x_n-\\mu)^2}{2}\\right)$$\n",
    "\n",
    "Es decir:\n",
    "$$L(x,\\mu) = \\frac{n}{\\sqrt{2\\pi}}{exp}\\left(\\sum_{i=1}^{n} -\\frac{(x_i-\\mu)^2}{2}\\right)$$\n",
    "\n",
    "Aplicando el logaritmo natural, tenemos:\n",
    "$$ln[L(x,\\mu)] = ln\\left(\\frac{n}{\\sqrt{2\\pi}}\\right) + ln\\left({exp}\\left(\\sum_{i=1}^{n} -\\frac{(x_i-\\mu)^2}{2}\\right) \\right)$$\n",
    "\n",
    "Que es igual a:\n",
    "$$ln[L(x,\\mu)] = ln\\left(\\frac{n}{\\sqrt{2\\pi}}\\right) - \\sum_{i=1}^{n} \\frac{(x_i-\\mu)^2}{2}$$\n",
    "\n",
    "Derivando e igualando a cero:\n",
    "$$\\frac{d}{d\\mu}ln[L(x,\\mu)] = \\sum_{i=1}^{n} (x_i-\\mu) = 0$$\n",
    "$$-n\\mu + \\sum_{i=1}^{n} x_i = 0$$\n",
    "\n",
    "Entonces, el `estimador log-verosimilitud` es:\n",
    "$$\\mu = \\frac{\\sum_{i=1}^{n} x_i}{n} = \\bar{x}$$\n",
    "\n",
    "Con lo cual podemos calcular:"
   ]
  },
  {
   "cell_type": "code",
   "execution_count": 5,
   "id": "cf0efd6b-d264-471c-b7c4-264680627746",
   "metadata": {},
   "outputs": [
    {
     "name": "stdout",
     "output_type": "stream",
     "text": [
      "El estimador puntual es: 4.8636\n"
     ]
    }
   ],
   "source": [
    "theta_bar = X.mean()\n",
    "print(f\"El estimador puntual es: {theta_bar:.4f}\")"
   ]
  },
  {
   "cell_type": "markdown",
   "id": "d0a5ff38-3408-4771-a782-19745e2a6b3b",
   "metadata": {},
   "source": [
    "## Simulaciones boostrap\n",
    "\n",
    "**Paso 1**: Se genera un vector vacío de longitu $k$ simulaciones."
   ]
  },
  {
   "cell_type": "code",
   "execution_count": 6,
   "id": "f3f05529-1324-4ae5-8602-950129945a48",
   "metadata": {},
   "outputs": [
    {
     "data": {
      "text/plain": [
       "array([[0.000e+00, 0.000e+00],\n",
       "       [1.000e+00, 0.000e+00],\n",
       "       [2.000e+00, 0.000e+00],\n",
       "       ...,\n",
       "       [9.997e+03, 0.000e+00],\n",
       "       [9.998e+03, 0.000e+00],\n",
       "       [9.999e+03, 0.000e+00]])"
      ]
     },
     "execution_count": 6,
     "metadata": {},
     "output_type": "execute_result"
    }
   ],
   "source": [
    "k = 10_000\n",
    "boots_dist = np.arange(0, k)\n",
    "boots_dist = np.vstack((boots_dist, np.zeros(shape=(k,)) )).T\n",
    "\n",
    "boots_dist"
   ]
  },
  {
   "cell_type": "markdown",
   "id": "dd775563-27fd-4aea-ac39-c4ed80ed7138",
   "metadata": {},
   "source": [
    "**Paso 2**: Se genera una función para replicaciones bootstrap."
   ]
  },
  {
   "cell_type": "code",
   "execution_count": 7,
   "id": "184a1fcf-38b6-4ece-a287-d9dc3f347958",
   "metadata": {},
   "outputs": [],
   "source": [
    "def boots_param(x): return norm.rvs(loc=theta_bar, scale=sigma, size=n).mean()"
   ]
  },
  {
   "cell_type": "markdown",
   "id": "4745b0f0-c0b1-4911-9ded-8cc9ebeae552",
   "metadata": {},
   "source": [
    "**Paso 3**: Se aplica la función a columna de ceros en `boots_dist`"
   ]
  },
  {
   "cell_type": "code",
   "execution_count": 8,
   "id": "d77f9c2d-70d3-41e9-a1eb-7425ed85540d",
   "metadata": {},
   "outputs": [
    {
     "data": {
      "text/plain": [
       "array([[0.        , 5.12072362],\n",
       "       [1.        , 4.82346366],\n",
       "       [2.        , 5.05973331],\n",
       "       [3.        , 4.95142642],\n",
       "       [4.        , 4.80611565]])"
      ]
     },
     "execution_count": 8,
     "metadata": {},
     "output_type": "execute_result"
    }
   ],
   "source": [
    "boots_dist[:,1] = np.vectorize(boots_param)(boots_dist[:,1])\n",
    "boots_dist[:5]"
   ]
  },
  {
   "cell_type": "markdown",
   "id": "d8d6036f-f1a3-46ec-a14a-d460785483d7",
   "metadata": {},
   "source": [
    "## Reportando resultados"
   ]
  },
  {
   "cell_type": "code",
   "execution_count": 9,
   "id": "2c602552-17bb-437d-9542-e4984169553f",
   "metadata": {},
   "outputs": [
    {
     "data": {
      "text/html": [
       "<div>\n",
       "<style scoped>\n",
       "    .dataframe tbody tr th:only-of-type {\n",
       "        vertical-align: middle;\n",
       "    }\n",
       "\n",
       "    .dataframe tbody tr th {\n",
       "        vertical-align: top;\n",
       "    }\n",
       "\n",
       "    .dataframe thead th {\n",
       "        text-align: right;\n",
       "    }\n",
       "</style>\n",
       "<table border=\"1\" class=\"dataframe\">\n",
       "  <thead>\n",
       "    <tr style=\"text-align: right;\">\n",
       "      <th></th>\n",
       "      <th>mle_param</th>\n",
       "      <th>boots_param</th>\n",
       "      <th>std_err</th>\n",
       "      <th>left_lim</th>\n",
       "      <th>right_lim</th>\n",
       "    </tr>\n",
       "  </thead>\n",
       "  <tbody>\n",
       "    <tr>\n",
       "      <th>0</th>\n",
       "      <td>4.863642</td>\n",
       "      <td>4.862288</td>\n",
       "      <td>0.100466</td>\n",
       "      <td>4.661356</td>\n",
       "      <td>5.063221</td>\n",
       "    </tr>\n",
       "  </tbody>\n",
       "</table>\n",
       "</div>"
      ],
      "text/plain": [
       "   mle_param  boots_param   std_err  left_lim  right_lim\n",
       "0   4.863642     4.862288  0.100466  4.661356   5.063221"
      ]
     },
     "execution_count": 9,
     "metadata": {},
     "output_type": "execute_result"
    }
   ],
   "source": [
    "results = {'mle_param': [theta_bar],\n",
    "           'boots_param': [boots_dist[:,1].mean()],\n",
    "           'std_err': [boots_dist[:,1].std()],\n",
    "           'left_lim': [boots_dist[:,1].mean() - 2*boots_dist[:,1].std()],\n",
    "           'right_lim': [boots_dist[:,1].mean() + 2*boots_dist[:,1].std()]}\n",
    "\n",
    "pd.DataFrame(results)"
   ]
  },
  {
   "cell_type": "code",
   "execution_count": 10,
   "id": "f87619d9-8a0d-4d11-bf73-2bf1ab4e5627",
   "metadata": {},
   "outputs": [
    {
     "data": {
      "image/png": "[encoded data removed]",
      "text/plain": [
       "<Figure size 360x360 with 1 Axes>"
      ]
     },
     "metadata": {
      "needs_background": "light"
     },
     "output_type": "display_data"
    }
   ],
   "source": [
    "fig, ax = plt.subplots(figsize=(5,5))\n",
    "\n",
    "#Contenido de figura\n",
    "ax.hist(x=boots_dist[:,1], bins=20, color='grey', alpha=0.6)\n",
    "ax.axvline(x=results['boots_param'], ymin=0, ymax=1, color='tab:red', linestyle='--', label='boots')\n",
    "ax.axvline(x=results['mle_param'], ymin=0, ymax=1, color='tab:blue', linestyle='--', label='MLE')\n",
    "ax.axvline(x=results['left_lim'], ymin=0, ymax=1, color='green', label='left_int')\n",
    "ax.axvline(x=results['right_lim'], ymin=0, ymax=1, color='orange', label='right_int')\n",
    "\n",
    "\n",
    "#Anotaciones y estilo\n",
    "ax.set_title(\"Simulaciones bootstrap\", fontsize=14, loc='left')\n",
    "ax.grid(alpha=0.1)\n",
    "ax.legend()\n",
    "\n",
    "plt.show()"
   ]
  },
  {
   "cell_type": "markdown",
   "id": "25372947-e791-42e6-937b-a3944118bd4b",
   "metadata": {},
   "source": [
    "# Boostrap no paramétrico"
   ]
  },
  {
   "cell_type": "markdown",
   "id": "61b9d800-8bc9-43af-900a-c66f1fe03407",
   "metadata": {},
   "source": [
    "## Simulaciones bootstrap\n",
    "\n",
    "**Tomamos** la muestra original de datos y remuestreamos los datos $k$ veces."
   ]
  },
  {
   "cell_type": "code",
   "execution_count": 11,
   "id": "4f79fdc5-95bd-42f0-beff-d851eb23fcd4",
   "metadata": {},
   "outputs": [
    {
     "data": {
      "text/plain": [
       "array([[0.000e+00, 0.000e+00],\n",
       "       [1.000e+00, 0.000e+00],\n",
       "       [2.000e+00, 0.000e+00],\n",
       "       ...,\n",
       "       [9.997e+03, 0.000e+00],\n",
       "       [9.998e+03, 0.000e+00],\n",
       "       [9.999e+03, 0.000e+00]])"
      ]
     },
     "execution_count": 11,
     "metadata": {},
     "output_type": "execute_result"
    }
   ],
   "source": [
    "bootsNP_dist = np.arange(0, k)\n",
    "bootsNP_dist = np.vstack((bootsNP_dist, np.zeros(shape=(k,)) )).T\n",
    "\n",
    "bootsNP_dist"
   ]
  },
  {
   "cell_type": "markdown",
   "id": "4f0daab0-77b1-47d1-ba8f-2314b5655243",
   "metadata": {},
   "source": [
    "**Después** se genera una función para hacer remuestreos bootstrap"
   ]
  },
  {
   "cell_type": "code",
   "execution_count": 12,
   "id": "c0f01c68-6614-4511-974a-c702964ba571",
   "metadata": {},
   "outputs": [],
   "source": [
    "def boots_NoParam(x): return np.random.choice(a=X, size=n, replace=True).mean()"
   ]
  },
  {
   "cell_type": "markdown",
   "id": "437b736e-1af8-4a66-bdd1-ab3027c5ef6d",
   "metadata": {},
   "source": [
    "**Finalmente** se aplica la función a columna de ceros en `bootsNP_dist`"
   ]
  },
  {
   "cell_type": "code",
   "execution_count": 13,
   "id": "c1393cb0-d65f-4aa6-ae41-214ae702af07",
   "metadata": {},
   "outputs": [
    {
     "data": {
      "text/plain": [
       "array([[0.        , 4.84701067],\n",
       "       [1.        , 4.95759731],\n",
       "       [2.        , 4.95029966],\n",
       "       [3.        , 4.97617843],\n",
       "       [4.        , 4.88501076]])"
      ]
     },
     "execution_count": 13,
     "metadata": {},
     "output_type": "execute_result"
    }
   ],
   "source": [
    "bootsNP_dist[:,1] = np.vectorize(boots_NoParam)(bootsNP_dist[:,1])\n",
    "bootsNP_dist[:5]"
   ]
  },
  {
   "cell_type": "markdown",
   "id": "21789d64-eb56-4a14-976b-47c87c7defd3",
   "metadata": {},
   "source": [
    "## Reportando resultados"
   ]
  },
  {
   "cell_type": "code",
   "execution_count": 14,
   "id": "3db7d925-b14a-42a0-b083-1a5021152f8f",
   "metadata": {},
   "outputs": [
    {
     "data": {
      "text/html": [
       "<div>\n",
       "<style scoped>\n",
       "    .dataframe tbody tr th:only-of-type {\n",
       "        vertical-align: middle;\n",
       "    }\n",
       "\n",
       "    .dataframe tbody tr th {\n",
       "        vertical-align: top;\n",
       "    }\n",
       "\n",
       "    .dataframe thead th {\n",
       "        text-align: right;\n",
       "    }\n",
       "</style>\n",
       "<table border=\"1\" class=\"dataframe\">\n",
       "  <thead>\n",
       "    <tr style=\"text-align: right;\">\n",
       "      <th></th>\n",
       "      <th>mle_param</th>\n",
       "      <th>boots_param</th>\n",
       "      <th>std_err</th>\n",
       "      <th>left_lim</th>\n",
       "      <th>right_lim</th>\n",
       "    </tr>\n",
       "  </thead>\n",
       "  <tbody>\n",
       "    <tr>\n",
       "      <th>0</th>\n",
       "      <td>4.863642</td>\n",
       "      <td>4.863422</td>\n",
       "      <td>0.103229</td>\n",
       "      <td>4.656964</td>\n",
       "      <td>5.06988</td>\n",
       "    </tr>\n",
       "  </tbody>\n",
       "</table>\n",
       "</div>"
      ],
      "text/plain": [
       "   mle_param  boots_param   std_err  left_lim  right_lim\n",
       "0   4.863642     4.863422  0.103229  4.656964    5.06988"
      ]
     },
     "execution_count": 14,
     "metadata": {},
     "output_type": "execute_result"
    }
   ],
   "source": [
    "results_NP = {'mle_param': [theta_bar],\n",
    "           'boots_param': [bootsNP_dist[:,1].mean()],\n",
    "           'std_err': [bootsNP_dist[:,1].std()],\n",
    "           'left_lim': [bootsNP_dist[:,1].mean() - 2*bootsNP_dist[:,1].std()],\n",
    "           'right_lim': [bootsNP_dist[:,1].mean() + 2*bootsNP_dist[:,1].std()]}\n",
    "\n",
    "pd.DataFrame(results_NP)"
   ]
  },
  {
   "cell_type": "code",
   "execution_count": 15,
   "id": "2c9aa546-3dd9-4f8a-aa78-8c0ab4875cb6",
   "metadata": {},
   "outputs": [
    {
     "data": {
      "image/png": "[encoded data removed]",
      "text/plain": [
       "<Figure size 360x360 with 1 Axes>"
      ]
     },
     "metadata": {
      "needs_background": "light"
     },
     "output_type": "display_data"
    }
   ],
   "source": [
    "fig, ax = plt.subplots(figsize=(5,5))\n",
    "\n",
    "#Contenido de figura\n",
    "ax.hist(x=bootsNP_dist[:,1], bins=20, color='grey', alpha=0.6)\n",
    "ax.axvline(x=results_NP['boots_param'], ymin=0, ymax=1, color='tab:red', linestyle='--', label='boots')\n",
    "ax.axvline(x=results_NP['mle_param'], ymin=0, ymax=1, color='tab:blue', linestyle='--', label='MLE')\n",
    "ax.axvline(x=results_NP['left_lim'], ymin=0, ymax=1, color='green', label='left_int')\n",
    "ax.axvline(x=results_NP['right_lim'], ymin=0, ymax=1, color='orange', label='right_int')\n",
    "\n",
    "\n",
    "#Anotaciones y estilo\n",
    "ax.set_title(\"Simulaciones bootstrap no paramétrico\", fontsize=14, loc='left')\n",
    "ax.grid(alpha=0.1)\n",
    "ax.legend()\n",
    "\n",
    "plt.show()"
   ]
  },
  {
   "cell_type": "markdown",
   "id": "36e9c524-f8ea-4226-bcac-bd1f05a4114d",
   "metadata": {},
   "source": [
    "# Observaciones\n",
    "\n",
    "* En ambos casos, el estimador Bootstrap fue muy cercano al estimador MLE y plug-in respectivamente.\n",
    "* En el caso de Boostrap No Paramétrico, el límite izquierdo es más alto mientras que el derecho es más bajo, comparado con Bootstrap Paramétrico. Esto hace que el rango del intervalo de confianza sea más pequeño\n",
    "* En contraste, el sesgo del estimador en Bootstrap Paramétrico es menor que en No Paramétrico.\n",
    "* Sin embargo, a pesar del punto anterior, el error estándar de No Paramétrico es menor.\n",
    "---"
   ]
  }
 ],
 "metadata": {
  "kernelspec": {
   "display_name": "Python 3 (ipykernel)",
   "language": "python",
   "name": "python3"
  },
  "language_info": {
   "codemirror_mode": {
    "name": "ipython",
    "version": 3
   },
   "file_extension": ".py",
   "mimetype": "text/x-python",
   "name": "python",
   "nbconvert_exporter": "python",
   "pygments_lexer": "ipython3",
   "version": "3.9.6"
  }
 },
 "nbformat": 4,
 "nbformat_minor": 5
}
