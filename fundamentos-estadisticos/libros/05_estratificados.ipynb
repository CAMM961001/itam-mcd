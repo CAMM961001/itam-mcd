{
 "cells": [
  {
   "cell_type": "markdown",
   "id": "9c766b52-8964-499d-8b55-6beee1b928d3",
   "metadata": {
    "tags": []
   },
   "source": [
    "# Tarea 7: Muestreo estratificado\n",
    "\n",
    "Solución de los ejercicios de la sección `Intervalos de confianza y remuestreo` del libro del curso [Fundamentos Estadísticos](https://tereom.github.io/fundamentos-2022/intervalos-de-confianza-y-remuestreo.html)"
   ]
  },
  {
   "cell_type": "code",
   "execution_count": 1,
   "id": "73aba88a-48cb-4c1f-916b-f752e09ee9f9",
   "metadata": {},
   "outputs": [],
   "source": [
    "import os\n",
    "import random\n",
    "import numpy as np\n",
    "import pandas as pd\n",
    "import matplotlib.pyplot as plt\n",
    "import pyreadr\n",
    "\n",
    "from scipy.stats import gamma, norm, binom, probplot"
   ]
  },
  {
   "cell_type": "code",
   "execution_count": 2,
   "id": "90e2efd7-d6f8-4350-b6af-d0c6ec5fa5cf",
   "metadata": {},
   "outputs": [
    {
     "data": {
      "text/plain": [
       "['.git',\n",
       " '.gitignore',\n",
       " 'aprendizaje-automatico',\n",
       " 'estadistica-computacional',\n",
       " 'fundamentos-estadisticos',\n",
       " 'mineria-analisis-datos',\n",
       " 'optimizacion',\n",
       " 'README.md']"
      ]
     },
     "execution_count": 2,
     "metadata": {},
     "output_type": "execute_result"
    }
   ],
   "source": [
    "path_universal = \"C:\\\\Users\\\\Miguel\\\\Documents\\\\Github\\\\itam-mcd\"\n",
    "os.listdir(path_universal)"
   ]
  },
  {
   "cell_type": "code",
   "execution_count": 3,
   "id": "3ae44cd3-fb86-4667-bfdb-b0dc6718881e",
   "metadata": {},
   "outputs": [
    {
     "data": {
      "text/plain": [
       "['datos', 'libros', 'README.md']"
      ]
     },
     "execution_count": 3,
     "metadata": {},
     "output_type": "execute_result"
    }
   ],
   "source": [
    "path_asignatura = \"fundamentos-estadisticos\"\n",
    "path_asignatura = os.path.join(path_universal, path_asignatura)\n",
    "os.listdir(path_asignatura)"
   ]
  },
  {
   "cell_type": "markdown",
   "id": "6e86c9c3-0b6f-4650-bab2-24fc785e6bb4",
   "metadata": {
    "tags": []
   },
   "source": [
    "## Conteo rápido\n",
    "\n",
    "En México, las elecciones tienen lugar un domingo, los resultados oficiales del proceso se presentan a la población una semana después. A fin de evitar proclamaciones de victoria injustificadas durante ese periodo, el INE organiza un conteo rápido. El conteo rápido es un procedimiento para estimar, a partir de una muestra aleatoria de casillas, el porcentaje de votos a favor de los candidatos en la elección. \n",
    "\n",
    "En este ejercicio deberás crear intervalos de confianza para la proporción de votos que recibió cada candidato en las elecciones de 2006. La inferencia se hará a partir de una muestra de las casillas similar a la que se utilizó para el conteo rápido de 2006.\n",
    "\n",
    "El diseño utilizado es **muestreo estratificado simple**, lo que quiere decir que:\n",
    "1) Se particionan las casillas de la población en estratos (cada casilla pertenece a exactamente un estrato), y \n",
    "2) Dentro de cada estrato se usa *muestreo aleatorio* para seleccionar las casillas que estarán en la muestra. \n",
    "\n",
    "En este ejercicio (similar al conteo rápido de 2006):\n",
    "* Se seleccionó una muestra de $7,200$ casillas\n",
    "* La muestra se repartió a lo largo de 300 estratos. \n",
    "* La tabla `strata_sample_2006` contiene en la columna $N$ el número total de casillas en el estrato, y en $n$ el número de casillas que se seleccionaron en la muestra, para cada estrato."
   ]
  },
  {
   "cell_type": "code",
   "execution_count": 9,
   "id": "f61252c2-519d-4b45-9342-cae4942d75c1",
   "metadata": {},
   "outputs": [
    {
     "data": {
      "text/html": [
       "<div>\n",
       "<style scoped>\n",
       "    .dataframe tbody tr th:only-of-type {\n",
       "        vertical-align: middle;\n",
       "    }\n",
       "\n",
       "    .dataframe tbody tr th {\n",
       "        vertical-align: top;\n",
       "    }\n",
       "\n",
       "    .dataframe thead th {\n",
       "        text-align: right;\n",
       "    }\n",
       "</style>\n",
       "<table border=\"1\" class=\"dataframe\">\n",
       "  <thead>\n",
       "    <tr style=\"text-align: right;\">\n",
       "      <th></th>\n",
       "      <th>stratum</th>\n",
       "      <th>n</th>\n",
       "      <th>N</th>\n",
       "    </tr>\n",
       "  </thead>\n",
       "  <tbody>\n",
       "    <tr>\n",
       "      <th>0</th>\n",
       "      <td>1.0</td>\n",
       "      <td>20</td>\n",
       "      <td>369</td>\n",
       "    </tr>\n",
       "    <tr>\n",
       "      <th>1</th>\n",
       "      <td>2.0</td>\n",
       "      <td>23</td>\n",
       "      <td>420</td>\n",
       "    </tr>\n",
       "    <tr>\n",
       "      <th>2</th>\n",
       "      <td>3.0</td>\n",
       "      <td>24</td>\n",
       "      <td>440</td>\n",
       "    </tr>\n",
       "    <tr>\n",
       "      <th>3</th>\n",
       "      <td>4.0</td>\n",
       "      <td>31</td>\n",
       "      <td>570</td>\n",
       "    </tr>\n",
       "    <tr>\n",
       "      <th>4</th>\n",
       "      <td>5.0</td>\n",
       "      <td>29</td>\n",
       "      <td>528</td>\n",
       "    </tr>\n",
       "  </tbody>\n",
       "</table>\n",
       "</div>"
      ],
      "text/plain": [
       "   stratum   n    N\n",
       "0      1.0  20  369\n",
       "1      2.0  23  420\n",
       "2      3.0  24  440\n",
       "3      4.0  31  570\n",
       "4      5.0  29  528"
      ]
     },
     "execution_count": 9,
     "metadata": {},
     "output_type": "execute_result"
    }
   ],
   "source": [
    "#Se obtiene dataset original\n",
    "file_path = \"datos\\\\strata_sample_2006.rda\"\n",
    "strata_sample_2006 = pyreadr.read_r(os.path.join(path_asignatura, file_path))\n",
    "strata_sample_2006 = strata_sample_2006['strata_sample_2006']\n",
    "strata_sample_2006.head()"
   ]
  },
  {
   "cell_type": "code",
   "execution_count": 10,
   "id": "05506b50-9ee0-49ce-8f4a-ec85a1799f73",
   "metadata": {},
   "outputs": [
    {
     "name": "stdout",
     "output_type": "stream",
     "text": [
      "<class 'pandas.core.frame.DataFrame'>\n",
      "RangeIndex: 300 entries, 0 to 299\n",
      "Data columns (total 3 columns):\n",
      " #   Column   Non-Null Count  Dtype  \n",
      "---  ------   --------------  -----  \n",
      " 0   stratum  300 non-null    float64\n",
      " 1   n        300 non-null    int32  \n",
      " 2   N        300 non-null    int32  \n",
      "dtypes: float64(1), int32(2)\n",
      "memory usage: 4.8 KB\n"
     ]
    }
   ],
   "source": [
    "strata_sample_2006.info()"
   ]
  },
  {
   "cell_type": "markdown",
   "id": "26f144a2-a824-4f17-b461-9c8642246e47",
   "metadata": {},
   "source": [
    "* La tabla `sample_2006` en el paquete `estcomp` contiene para cada casilla:\n",
    "    + el estrato al que pertenece: `stratum`\n",
    "    + el número de votos que recibió cada partido/coalición: `pan`, `pri_pvem`, \n",
    "    `panal`, `prd_pt_convergencia`, `psd` y la columna `otros` indica el \n",
    "    número de votos nulos o por candidatos no registrados.\n",
    "    + el total de votos registrado en la casilla: `total`."
   ]
  },
  {
   "cell_type": "code",
   "execution_count": 5,
   "id": "28f456b3-27d4-45eb-99c0-2f67fde53781",
   "metadata": {},
   "outputs": [
    {
     "data": {
      "text/html": [
       "<div>\n",
       "<style scoped>\n",
       "    .dataframe tbody tr th:only-of-type {\n",
       "        vertical-align: middle;\n",
       "    }\n",
       "\n",
       "    .dataframe tbody tr th {\n",
       "        vertical-align: top;\n",
       "    }\n",
       "\n",
       "    .dataframe thead th {\n",
       "        text-align: right;\n",
       "    }\n",
       "</style>\n",
       "<table border=\"1\" class=\"dataframe\">\n",
       "  <thead>\n",
       "    <tr style=\"text-align: right;\">\n",
       "      <th></th>\n",
       "      <th>polling_id</th>\n",
       "      <th>stratum</th>\n",
       "      <th>edo_id</th>\n",
       "      <th>rural</th>\n",
       "      <th>pri_pvem</th>\n",
       "      <th>pan</th>\n",
       "      <th>panal</th>\n",
       "      <th>prd_pt_conv</th>\n",
       "      <th>psd</th>\n",
       "      <th>otros</th>\n",
       "      <th>total</th>\n",
       "    </tr>\n",
       "  </thead>\n",
       "  <tbody>\n",
       "    <tr>\n",
       "      <th>0</th>\n",
       "      <td>74593</td>\n",
       "      <td>106.0</td>\n",
       "      <td>16</td>\n",
       "      <td>1.0</td>\n",
       "      <td>47</td>\n",
       "      <td>40</td>\n",
       "      <td>0</td>\n",
       "      <td>40</td>\n",
       "      <td>0</td>\n",
       "      <td>9</td>\n",
       "      <td>136</td>\n",
       "    </tr>\n",
       "    <tr>\n",
       "      <th>1</th>\n",
       "      <td>109927</td>\n",
       "      <td>194.0</td>\n",
       "      <td>27</td>\n",
       "      <td>0.0</td>\n",
       "      <td>131</td>\n",
       "      <td>10</td>\n",
       "      <td>0</td>\n",
       "      <td>147</td>\n",
       "      <td>1</td>\n",
       "      <td>8</td>\n",
       "      <td>297</td>\n",
       "    </tr>\n",
       "    <tr>\n",
       "      <th>2</th>\n",
       "      <td>112039</td>\n",
       "      <td>199.0</td>\n",
       "      <td>28</td>\n",
       "      <td>0.0</td>\n",
       "      <td>51</td>\n",
       "      <td>74</td>\n",
       "      <td>2</td>\n",
       "      <td>57</td>\n",
       "      <td>2</td>\n",
       "      <td>2</td>\n",
       "      <td>188</td>\n",
       "    </tr>\n",
       "    <tr>\n",
       "      <th>3</th>\n",
       "      <td>86392</td>\n",
       "      <td>141.0</td>\n",
       "      <td>20</td>\n",
       "      <td>1.0</td>\n",
       "      <td>145</td>\n",
       "      <td>64</td>\n",
       "      <td>2</td>\n",
       "      <td>139</td>\n",
       "      <td>1</td>\n",
       "      <td>14</td>\n",
       "      <td>365</td>\n",
       "    </tr>\n",
       "    <tr>\n",
       "      <th>4</th>\n",
       "      <td>101306</td>\n",
       "      <td>176.0</td>\n",
       "      <td>24</td>\n",
       "      <td>0.0</td>\n",
       "      <td>51</td>\n",
       "      <td>160</td>\n",
       "      <td>0</td>\n",
       "      <td>64</td>\n",
       "      <td>14</td>\n",
       "      <td>1</td>\n",
       "      <td>290</td>\n",
       "    </tr>\n",
       "  </tbody>\n",
       "</table>\n",
       "</div>"
      ],
      "text/plain": [
       "   polling_id  stratum  edo_id  rural  pri_pvem  pan  panal  prd_pt_conv  psd  \\\n",
       "0       74593    106.0      16    1.0        47   40      0           40    0   \n",
       "1      109927    194.0      27    0.0       131   10      0          147    1   \n",
       "2      112039    199.0      28    0.0        51   74      2           57    2   \n",
       "3       86392    141.0      20    1.0       145   64      2          139    1   \n",
       "4      101306    176.0      24    0.0        51  160      0           64   14   \n",
       "\n",
       "   otros  total  \n",
       "0      9    136  \n",
       "1      8    297  \n",
       "2      2    188  \n",
       "3     14    365  \n",
       "4      1    290  "
      ]
     },
     "execution_count": 5,
     "metadata": {},
     "output_type": "execute_result"
    }
   ],
   "source": [
    "#Se obtiene dataset original\n",
    "file_path = \"datos\\\\sample_2006.rda\"\n",
    "sample_2006 = pyreadr.read_r(os.path.join(path_asignatura, file_path))\n",
    "sample_2006 = sample_2006['sample_2006']\n",
    "sample_2006.head()"
   ]
  },
  {
   "cell_type": "code",
   "execution_count": 11,
   "id": "894999ad-11ec-4d61-815f-51b7168db4ae",
   "metadata": {},
   "outputs": [
    {
     "name": "stdout",
     "output_type": "stream",
     "text": [
      "<class 'pandas.core.frame.DataFrame'>\n",
      "RangeIndex: 7200 entries, 0 to 7199\n",
      "Data columns (total 11 columns):\n",
      " #   Column       Non-Null Count  Dtype  \n",
      "---  ------       --------------  -----  \n",
      " 0   polling_id   7200 non-null   int32  \n",
      " 1   stratum      7200 non-null   float64\n",
      " 2   edo_id       7200 non-null   int32  \n",
      " 3   rural        7200 non-null   float64\n",
      " 4   pri_pvem     7200 non-null   int32  \n",
      " 5   pan          7200 non-null   int32  \n",
      " 6   panal        7200 non-null   int32  \n",
      " 7   prd_pt_conv  7200 non-null   int32  \n",
      " 8   psd          7200 non-null   int32  \n",
      " 9   otros        7200 non-null   int32  \n",
      " 10  total        7200 non-null   int32  \n",
      "dtypes: float64(2), int32(9)\n",
      "memory usage: 365.8 KB\n"
     ]
    }
   ],
   "source": [
    "sample_2006.info()"
   ]
  },
  {
   "cell_type": "markdown",
   "id": "9c2114d7-77be-4144-bc45-6c724af731b7",
   "metadata": {},
   "source": [
    "Una de las metodolgías de estimación que se usa en el conteo rápido es **estimador de razón**, y se contruyen intervalos de 95% de confianza usando el método normal con error estándar bootstrap. En este ejercicio debes construir intervalos usando este procedimiento.\n",
    "<br>Para cada candidato:\n",
    "1) Calcula el estimador de razón combinado, para muestreo estratificado la fórmula es:\n",
    "$$\\hat{p}=\\frac{\\sum_h \\frac{N_h}{n_h} \\sum_i Y_{hi}}{\\sum_h \\frac{N_h}{n_h} \\sum_i X_{hi}}$$\n",
    "<br>Donde:\n",
    "* $\\hat{p}$ es la estimación de la proporción de votos que recibió el candidato en la elección.\n",
    "* $Y_{hi}$ es el número total de votos que recibió el candidato en la $i$-ésima casillas, que pertence al $h$-ésimo estrato.\n",
    "* $X_{hi}$ es el número total de votos en la $i$-ésima casilla, que pertence al $h$-ésimo estrato.\n",
    "* $N_h$ es el número total de casillas en el $h$-ésimo estrato.\n",
    "* $n_h$ es el número de casillas del $h$-ésimo estrato que se seleccionaron en la muestra.\n",
    "\n",
    "2) Utiliza **bootstrap** para calcular el error estándar, y reporta tu \n",
    "estimación del error.\n",
    "    + Genera 1000 muestras bootstrap.\n",
    "    + Recuerda que las muestras bootstrap tienen que tomar en cuenta la metodología que se utilizó en la selección de la muestra original, en este caso, lo que implica es que debes tomar una muestra aleatoria independiente dentro de cada estrato.\n",
    "3) Construye un intervalo del 95% de confianza utilizando el método normal. Revisa si el supuesto de normalidad es razonable.\n",
    "4) Reporta tus intervalos en una tabla. "
   ]
  },
  {
   "cell_type": "markdown",
   "id": "d8778388-d79c-4ad3-9c8f-c0f165a52193",
   "metadata": {},
   "source": [
    "**Paso 1**: Se estiman las proporciones para todos los partidos"
   ]
  },
  {
   "cell_type": "code",
   "execution_count": 7,
   "id": "8a9b0833-165e-4b50-9f9a-fa5b8185ab68",
   "metadata": {},
   "outputs": [
    {
     "data": {
      "text/html": [
       "<div>\n",
       "<style scoped>\n",
       "    .dataframe tbody tr th:only-of-type {\n",
       "        vertical-align: middle;\n",
       "    }\n",
       "\n",
       "    .dataframe tbody tr th {\n",
       "        vertical-align: top;\n",
       "    }\n",
       "\n",
       "    .dataframe thead th {\n",
       "        text-align: right;\n",
       "    }\n",
       "</style>\n",
       "<table border=\"1\" class=\"dataframe\">\n",
       "  <thead>\n",
       "    <tr style=\"text-align: right;\">\n",
       "      <th></th>\n",
       "      <th>partido</th>\n",
       "      <th>prop</th>\n",
       "    </tr>\n",
       "  </thead>\n",
       "  <tbody>\n",
       "    <tr>\n",
       "      <th>5</th>\n",
       "      <td>otros</td>\n",
       "      <td>2.899497</td>\n",
       "    </tr>\n",
       "    <tr>\n",
       "      <th>1</th>\n",
       "      <td>pan</td>\n",
       "      <td>35.917034</td>\n",
       "    </tr>\n",
       "    <tr>\n",
       "      <th>2</th>\n",
       "      <td>panal</td>\n",
       "      <td>0.952337</td>\n",
       "    </tr>\n",
       "    <tr>\n",
       "      <th>3</th>\n",
       "      <td>prd_pt_conv</td>\n",
       "      <td>35.197530</td>\n",
       "    </tr>\n",
       "    <tr>\n",
       "      <th>0</th>\n",
       "      <td>pri_pvem</td>\n",
       "      <td>22.326924</td>\n",
       "    </tr>\n",
       "    <tr>\n",
       "      <th>4</th>\n",
       "      <td>psd</td>\n",
       "      <td>2.706678</td>\n",
       "    </tr>\n",
       "  </tbody>\n",
       "</table>\n",
       "</div>"
      ],
      "text/plain": [
       "       partido       prop\n",
       "5        otros   2.899497\n",
       "1          pan  35.917034\n",
       "2        panal   0.952337\n",
       "3  prd_pt_conv  35.197530\n",
       "0     pri_pvem  22.326924\n",
       "4          psd   2.706678"
      ]
     },
     "execution_count": 7,
     "metadata": {},
     "output_type": "execute_result"
    }
   ],
   "source": [
    "#Seleccionando columnas relevantes\n",
    "partidos = ['pri_pvem', 'pan', 'panal', 'prd_pt_conv', 'psd', 'otros']\n",
    "prop = []\n",
    "\n",
    "#Estimación de proporciones\n",
    "for partido in partidos:\n",
    "    prop_partido = sample_2006[partido].sum() / sample_2006['total'].sum() * 100\n",
    "    prop.append(prop_partido)\n",
    "    \n",
    "props = pd.DataFrame({'partido':partidos, 'prop':prop})\n",
    "props.sort_values(by='partido')"
   ]
  },
  {
   "cell_type": "code",
   "execution_count": null,
   "id": "ee666507-4025-46d7-806f-b5ba1bda8d7c",
   "metadata": {},
   "outputs": [],
   "source": []
  }
 ],
 "metadata": {
  "kernelspec": {
   "display_name": "Python 3 (ipykernel)",
   "language": "python",
   "name": "python3"
  },
  "language_info": {
   "codemirror_mode": {
    "name": "ipython",
    "version": 3
   },
   "file_extension": ".py",
   "mimetype": "text/x-python",
   "name": "python",
   "nbconvert_exporter": "python",
   "pygments_lexer": "ipython3",
   "version": "3.9.6"
  }
 },
 "nbformat": 4,
 "nbformat_minor": 5
}
