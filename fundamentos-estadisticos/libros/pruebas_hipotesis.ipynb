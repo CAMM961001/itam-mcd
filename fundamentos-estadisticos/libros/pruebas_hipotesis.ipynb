{
 "cells": [
  {
   "cell_type": "markdown",
   "id": "f8524f1c-43ac-494e-b2f0-011d255151e1",
   "metadata": {},
   "source": [
    "# Tarea 4: Pruebas de hipótesis\n",
    "\n",
    "Solución de los ejercicios de la sección `Pruebas de hipótesis` del libro del curos [Fundamentos Estadísticos](https://tereom.github.io/fundamentos-2022/pruebas-de-hip%C3%B3tesis.html)\n",
    "\n",
    "El siguiente video es bastante claro sobre lo que hace una [prueba de permutación](https://www.youtube.com/watch?v=rJ3AZCQuiLw)"
   ]
  },
  {
   "cell_type": "markdown",
   "id": "b0c8eeb4-c3b2-4de7-8b5b-6a7787e47eb2",
   "metadata": {},
   "source": [
    "# Pruebas visuales y permutación"
   ]
  },
  {
   "cell_type": "markdown",
   "id": "6f3bdb50-1748-4e6c-8106-3d99e915d6d4",
   "metadata": {},
   "source": [
    "## Pruebas de permutación\n",
    "La tabla de datos `Phillies2009.csv`  contiene información de la temporada de baseball 2009 para el equipo de Philadelphia Phillies, en este ejercicio queremos comparar los strikes (`StrikeOuts`) entre los juegos en casa y de visitante."
   ]
  },
  {
   "cell_type": "markdown",
   "id": "1162ef0d-a462-45f1-bb82-c6509a736cb7",
   "metadata": {},
   "source": [
    "### Carga de datos"
   ]
  },
  {
   "cell_type": "code",
   "execution_count": 1,
   "id": "0ed98302-bf2e-4679-a120-5be04895b951",
   "metadata": {},
   "outputs": [],
   "source": [
    "import os\n",
    "import numpy as np\n",
    "import pandas as pd\n",
    "import numpy as plt\n",
    "import matplotlib.pyplot as plt\n",
    "\n",
    "from utils import ordenar_tendencia_central, tabla_prueba_permutacion"
   ]
  },
  {
   "cell_type": "code",
   "execution_count": 2,
   "id": "335708ab-2c34-4313-99e6-5d56835dcaf2",
   "metadata": {},
   "outputs": [
    {
     "data": {
      "text/plain": [
       "['.git',\n",
       " 'aprendizaje-automatico',\n",
       " 'estadistica-computacional',\n",
       " 'fundamentos-estadisticos',\n",
       " 'mineria-analisis-datos',\n",
       " 'optimizacion',\n",
       " 'README.md']"
      ]
     },
     "execution_count": 2,
     "metadata": {},
     "output_type": "execute_result"
    }
   ],
   "source": [
    "path_universal = \"C:\\\\Users\\\\Miguel\\\\Documents\\\\Github\\\\itam-mcd\"\n",
    "os.listdir(path_universal)"
   ]
  },
  {
   "cell_type": "code",
   "execution_count": 3,
   "id": "a5038e84-fff0-4bc8-b54e-061f81397668",
   "metadata": {},
   "outputs": [
    {
     "data": {
      "text/plain": [
       "['datos', 'libros']"
      ]
     },
     "execution_count": 3,
     "metadata": {},
     "output_type": "execute_result"
    }
   ],
   "source": [
    "path_asignatura = \"fundamentos-estadisticos\"\n",
    "path_asignatura = os.path.join(path_universal, path_asignatura)\n",
    "os.listdir(path_asignatura)"
   ]
  },
  {
   "cell_type": "code",
   "execution_count": 4,
   "id": "cf2526f3-d59f-414b-8da3-2e62d4e86f0c",
   "metadata": {},
   "outputs": [
    {
     "data": {
      "text/html": [
       "<div>\n",
       "<style scoped>\n",
       "    .dataframe tbody tr th:only-of-type {\n",
       "        vertical-align: middle;\n",
       "    }\n",
       "\n",
       "    .dataframe tbody tr th {\n",
       "        vertical-align: top;\n",
       "    }\n",
       "\n",
       "    .dataframe thead th {\n",
       "        text-align: right;\n",
       "    }\n",
       "</style>\n",
       "<table border=\"1\" class=\"dataframe\">\n",
       "  <thead>\n",
       "    <tr style=\"text-align: right;\">\n",
       "      <th></th>\n",
       "      <th>Date</th>\n",
       "      <th>Location</th>\n",
       "      <th>Outcome</th>\n",
       "      <th>Hits</th>\n",
       "      <th>Doubles</th>\n",
       "      <th>HomeRuns</th>\n",
       "      <th>StrikeOuts</th>\n",
       "    </tr>\n",
       "  </thead>\n",
       "  <tbody>\n",
       "    <tr>\n",
       "      <th>0</th>\n",
       "      <td>5-Apr</td>\n",
       "      <td>Home</td>\n",
       "      <td>Lose</td>\n",
       "      <td>4</td>\n",
       "      <td>2</td>\n",
       "      <td>0</td>\n",
       "      <td>6</td>\n",
       "    </tr>\n",
       "    <tr>\n",
       "      <th>1</th>\n",
       "      <td>7-Apr</td>\n",
       "      <td>Home</td>\n",
       "      <td>Lose</td>\n",
       "      <td>6</td>\n",
       "      <td>1</td>\n",
       "      <td>0</td>\n",
       "      <td>3</td>\n",
       "    </tr>\n",
       "    <tr>\n",
       "      <th>2</th>\n",
       "      <td>8-Apr</td>\n",
       "      <td>Home</td>\n",
       "      <td>Win</td>\n",
       "      <td>11</td>\n",
       "      <td>3</td>\n",
       "      <td>1</td>\n",
       "      <td>6</td>\n",
       "    </tr>\n",
       "    <tr>\n",
       "      <th>3</th>\n",
       "      <td>10-Apr</td>\n",
       "      <td>Away</td>\n",
       "      <td>Lose</td>\n",
       "      <td>7</td>\n",
       "      <td>2</td>\n",
       "      <td>1</td>\n",
       "      <td>3</td>\n",
       "    </tr>\n",
       "    <tr>\n",
       "      <th>4</th>\n",
       "      <td>11-Apr</td>\n",
       "      <td>Away</td>\n",
       "      <td>Win</td>\n",
       "      <td>15</td>\n",
       "      <td>3</td>\n",
       "      <td>1</td>\n",
       "      <td>6</td>\n",
       "    </tr>\n",
       "  </tbody>\n",
       "</table>\n",
       "</div>"
      ],
      "text/plain": [
       "     Date Location Outcome  Hits  Doubles  HomeRuns  StrikeOuts\n",
       "0   5-Apr     Home    Lose     4        2         0           6\n",
       "1   7-Apr     Home    Lose     6        1         0           3\n",
       "2   8-Apr     Home     Win    11        3         1           6\n",
       "3  10-Apr     Away    Lose     7        2         1           3\n",
       "4  11-Apr     Away     Win    15        3         1           6"
      ]
     },
     "execution_count": 4,
     "metadata": {},
     "output_type": "execute_result"
    }
   ],
   "source": [
    "#Se obtiene dataset original\n",
    "file_path = \"datos\\\\Phillies2009.csv\"\n",
    "phillies = pd.read_csv(os.path.join(path_asignatura, file_path))\n",
    "phillies.head()"
   ]
  },
  {
   "cell_type": "code",
   "execution_count": 5,
   "id": "54404063-6470-483d-b5ad-edb51271b1a7",
   "metadata": {},
   "outputs": [
    {
     "name": "stdout",
     "output_type": "stream",
     "text": [
      "Dimensiones del conjunto de datos: (162, 7)\n"
     ]
    }
   ],
   "source": [
    "print(f\"Dimensiones del conjunto de datos: {phillies.shape}\")"
   ]
  },
  {
   "cell_type": "code",
   "execution_count": 6,
   "id": "e8b44131-45cf-4355-b0c2-7e0b47e97911",
   "metadata": {},
   "outputs": [
    {
     "data": {
      "image/png": "[encoded data removed]",
      "text/plain": [
       "<Figure size 432x144 with 1 Axes>"
      ]
     },
     "metadata": {
      "needs_background": "light"
     },
     "output_type": "display_data"
    }
   ],
   "source": [
    "#Se ordena el dataset con respecto a la mediana\n",
    "ordenar_tendencia_central(phillies, 'Location', 'StrikeOuts', mo='median')\n",
    "\n",
    "#Graficamos todo el conjunto de datos\n",
    "ax = phillies.boxplot(by='Location', column='StrikeOuts', figsize=(6,2), vert=False, color='black')\n",
    "ax.set_title('')\n",
    "ax.set_xlabel(\"Location\", fontsize=12)\n",
    "ax.set_ylabel(\"Strikeouts\", fontsize=12)\n",
    "ax.grid(alpha=0.25)\n",
    "\n",
    "plt.suptitle('')\n",
    "plt.show()"
   ]
  },
  {
   "cell_type": "markdown",
   "id": "2161b623-2dc4-4aa4-8a1b-fda0c8efc1d2",
   "metadata": {},
   "source": [
    "### Ejercicio 1\n",
    "Realiza un lineup donde cada panel muestre un diagrama de caja y brazos para la variable de interés separando los juegos jugados en casa (`home`) y los juegos jugados fuera (`away`). ¿Puedes localizar los datos verdaderos entre los nulos?"
   ]
  },
  {
   "cell_type": "code",
   "execution_count": 7,
   "id": "01e012e5-7d88-487f-9b48-c949ebc98196",
   "metadata": {},
   "outputs": [
    {
     "data": {
      "text/html": [
       "<div>\n",
       "<style scoped>\n",
       "    .dataframe tbody tr th:only-of-type {\n",
       "        vertical-align: middle;\n",
       "    }\n",
       "\n",
       "    .dataframe tbody tr th {\n",
       "        vertical-align: top;\n",
       "    }\n",
       "\n",
       "    .dataframe thead th {\n",
       "        text-align: right;\n",
       "    }\n",
       "</style>\n",
       "<table border=\"1\" class=\"dataframe\">\n",
       "  <thead>\n",
       "    <tr style=\"text-align: right;\">\n",
       "      <th></th>\n",
       "      <th>Location</th>\n",
       "      <th>10</th>\n",
       "      <th>12</th>\n",
       "      <th>4</th>\n",
       "      <th>11</th>\n",
       "      <th>15</th>\n",
       "      <th>18</th>\n",
       "      <th>6</th>\n",
       "      <th>16</th>\n",
       "      <th>3</th>\n",
       "      <th>...</th>\n",
       "      <th>StrikeOuts</th>\n",
       "      <th>0</th>\n",
       "      <th>9</th>\n",
       "      <th>14</th>\n",
       "      <th>1</th>\n",
       "      <th>5</th>\n",
       "      <th>2</th>\n",
       "      <th>7</th>\n",
       "      <th>17</th>\n",
       "      <th>13</th>\n",
       "    </tr>\n",
       "  </thead>\n",
       "  <tbody>\n",
       "    <tr>\n",
       "      <th>0</th>\n",
       "      <td>Home</td>\n",
       "      <td>9</td>\n",
       "      <td>4</td>\n",
       "      <td>9</td>\n",
       "      <td>6</td>\n",
       "      <td>5</td>\n",
       "      <td>9</td>\n",
       "      <td>5</td>\n",
       "      <td>9</td>\n",
       "      <td>8</td>\n",
       "      <td>...</td>\n",
       "      <td>6</td>\n",
       "      <td>9</td>\n",
       "      <td>8</td>\n",
       "      <td>6</td>\n",
       "      <td>4</td>\n",
       "      <td>6</td>\n",
       "      <td>12</td>\n",
       "      <td>6</td>\n",
       "      <td>6</td>\n",
       "      <td>12</td>\n",
       "    </tr>\n",
       "    <tr>\n",
       "      <th>1</th>\n",
       "      <td>Home</td>\n",
       "      <td>7</td>\n",
       "      <td>5</td>\n",
       "      <td>6</td>\n",
       "      <td>7</td>\n",
       "      <td>0</td>\n",
       "      <td>8</td>\n",
       "      <td>8</td>\n",
       "      <td>7</td>\n",
       "      <td>7</td>\n",
       "      <td>...</td>\n",
       "      <td>3</td>\n",
       "      <td>10</td>\n",
       "      <td>3</td>\n",
       "      <td>7</td>\n",
       "      <td>7</td>\n",
       "      <td>6</td>\n",
       "      <td>10</td>\n",
       "      <td>5</td>\n",
       "      <td>8</td>\n",
       "      <td>4</td>\n",
       "    </tr>\n",
       "    <tr>\n",
       "      <th>2</th>\n",
       "      <td>Home</td>\n",
       "      <td>8</td>\n",
       "      <td>4</td>\n",
       "      <td>9</td>\n",
       "      <td>8</td>\n",
       "      <td>6</td>\n",
       "      <td>10</td>\n",
       "      <td>7</td>\n",
       "      <td>10</td>\n",
       "      <td>6</td>\n",
       "      <td>...</td>\n",
       "      <td>6</td>\n",
       "      <td>5</td>\n",
       "      <td>12</td>\n",
       "      <td>10</td>\n",
       "      <td>8</td>\n",
       "      <td>9</td>\n",
       "      <td>3</td>\n",
       "      <td>8</td>\n",
       "      <td>7</td>\n",
       "      <td>5</td>\n",
       "    </tr>\n",
       "    <tr>\n",
       "      <th>3</th>\n",
       "      <td>Away</td>\n",
       "      <td>3</td>\n",
       "      <td>9</td>\n",
       "      <td>6</td>\n",
       "      <td>9</td>\n",
       "      <td>9</td>\n",
       "      <td>8</td>\n",
       "      <td>7</td>\n",
       "      <td>5</td>\n",
       "      <td>7</td>\n",
       "      <td>...</td>\n",
       "      <td>3</td>\n",
       "      <td>8</td>\n",
       "      <td>9</td>\n",
       "      <td>9</td>\n",
       "      <td>5</td>\n",
       "      <td>6</td>\n",
       "      <td>12</td>\n",
       "      <td>9</td>\n",
       "      <td>6</td>\n",
       "      <td>8</td>\n",
       "    </tr>\n",
       "    <tr>\n",
       "      <th>4</th>\n",
       "      <td>Away</td>\n",
       "      <td>9</td>\n",
       "      <td>9</td>\n",
       "      <td>4</td>\n",
       "      <td>3</td>\n",
       "      <td>7</td>\n",
       "      <td>7</td>\n",
       "      <td>6</td>\n",
       "      <td>2</td>\n",
       "      <td>5</td>\n",
       "      <td>...</td>\n",
       "      <td>6</td>\n",
       "      <td>20</td>\n",
       "      <td>10</td>\n",
       "      <td>7</td>\n",
       "      <td>7</td>\n",
       "      <td>9</td>\n",
       "      <td>9</td>\n",
       "      <td>5</td>\n",
       "      <td>8</td>\n",
       "      <td>5</td>\n",
       "    </tr>\n",
       "    <tr>\n",
       "      <th>...</th>\n",
       "      <td>...</td>\n",
       "      <td>...</td>\n",
       "      <td>...</td>\n",
       "      <td>...</td>\n",
       "      <td>...</td>\n",
       "      <td>...</td>\n",
       "      <td>...</td>\n",
       "      <td>...</td>\n",
       "      <td>...</td>\n",
       "      <td>...</td>\n",
       "      <td>...</td>\n",
       "      <td>...</td>\n",
       "      <td>...</td>\n",
       "      <td>...</td>\n",
       "      <td>...</td>\n",
       "      <td>...</td>\n",
       "      <td>...</td>\n",
       "      <td>...</td>\n",
       "      <td>...</td>\n",
       "      <td>...</td>\n",
       "      <td>...</td>\n",
       "    </tr>\n",
       "    <tr>\n",
       "      <th>157</th>\n",
       "      <td>Home</td>\n",
       "      <td>6</td>\n",
       "      <td>8</td>\n",
       "      <td>4</td>\n",
       "      <td>7</td>\n",
       "      <td>6</td>\n",
       "      <td>8</td>\n",
       "      <td>8</td>\n",
       "      <td>5</td>\n",
       "      <td>8</td>\n",
       "      <td>...</td>\n",
       "      <td>2</td>\n",
       "      <td>7</td>\n",
       "      <td>8</td>\n",
       "      <td>9</td>\n",
       "      <td>4</td>\n",
       "      <td>6</td>\n",
       "      <td>6</td>\n",
       "      <td>7</td>\n",
       "      <td>12</td>\n",
       "      <td>2</td>\n",
       "    </tr>\n",
       "    <tr>\n",
       "      <th>158</th>\n",
       "      <td>Home</td>\n",
       "      <td>12</td>\n",
       "      <td>3</td>\n",
       "      <td>8</td>\n",
       "      <td>8</td>\n",
       "      <td>8</td>\n",
       "      <td>0</td>\n",
       "      <td>4</td>\n",
       "      <td>8</td>\n",
       "      <td>7</td>\n",
       "      <td>...</td>\n",
       "      <td>8</td>\n",
       "      <td>5</td>\n",
       "      <td>9</td>\n",
       "      <td>6</td>\n",
       "      <td>11</td>\n",
       "      <td>4</td>\n",
       "      <td>4</td>\n",
       "      <td>8</td>\n",
       "      <td>7</td>\n",
       "      <td>9</td>\n",
       "    </tr>\n",
       "    <tr>\n",
       "      <th>159</th>\n",
       "      <td>Home</td>\n",
       "      <td>7</td>\n",
       "      <td>11</td>\n",
       "      <td>7</td>\n",
       "      <td>8</td>\n",
       "      <td>12</td>\n",
       "      <td>7</td>\n",
       "      <td>8</td>\n",
       "      <td>7</td>\n",
       "      <td>5</td>\n",
       "      <td>...</td>\n",
       "      <td>4</td>\n",
       "      <td>8</td>\n",
       "      <td>6</td>\n",
       "      <td>4</td>\n",
       "      <td>8</td>\n",
       "      <td>8</td>\n",
       "      <td>2</td>\n",
       "      <td>3</td>\n",
       "      <td>7</td>\n",
       "      <td>3</td>\n",
       "    </tr>\n",
       "    <tr>\n",
       "      <th>160</th>\n",
       "      <td>Home</td>\n",
       "      <td>7</td>\n",
       "      <td>7</td>\n",
       "      <td>3</td>\n",
       "      <td>10</td>\n",
       "      <td>8</td>\n",
       "      <td>7</td>\n",
       "      <td>7</td>\n",
       "      <td>13</td>\n",
       "      <td>3</td>\n",
       "      <td>...</td>\n",
       "      <td>4</td>\n",
       "      <td>4</td>\n",
       "      <td>4</td>\n",
       "      <td>7</td>\n",
       "      <td>7</td>\n",
       "      <td>7</td>\n",
       "      <td>7</td>\n",
       "      <td>6</td>\n",
       "      <td>0</td>\n",
       "      <td>6</td>\n",
       "    </tr>\n",
       "    <tr>\n",
       "      <th>161</th>\n",
       "      <td>Home</td>\n",
       "      <td>7</td>\n",
       "      <td>12</td>\n",
       "      <td>9</td>\n",
       "      <td>12</td>\n",
       "      <td>10</td>\n",
       "      <td>6</td>\n",
       "      <td>3</td>\n",
       "      <td>10</td>\n",
       "      <td>9</td>\n",
       "      <td>...</td>\n",
       "      <td>13</td>\n",
       "      <td>6</td>\n",
       "      <td>9</td>\n",
       "      <td>4</td>\n",
       "      <td>6</td>\n",
       "      <td>4</td>\n",
       "      <td>8</td>\n",
       "      <td>8</td>\n",
       "      <td>10</td>\n",
       "      <td>8</td>\n",
       "    </tr>\n",
       "  </tbody>\n",
       "</table>\n",
       "<p>162 rows × 21 columns</p>\n",
       "</div>"
      ],
      "text/plain": [
       "    Location  10  12  4  11  15  18  6  16  3  ...  StrikeOuts   0   9  14  \\\n",
       "0       Home   9   4  9   6   5   9  5   9  8  ...           6   9   8   6   \n",
       "1       Home   7   5  6   7   0   8  8   7  7  ...           3  10   3   7   \n",
       "2       Home   8   4  9   8   6  10  7  10  6  ...           6   5  12  10   \n",
       "3       Away   3   9  6   9   9   8  7   5  7  ...           3   8   9   9   \n",
       "4       Away   9   9  4   3   7   7  6   2  5  ...           6  20  10   7   \n",
       "..       ...  ..  .. ..  ..  ..  .. ..  .. ..  ...         ...  ..  ..  ..   \n",
       "157     Home   6   8  4   7   6   8  8   5  8  ...           2   7   8   9   \n",
       "158     Home  12   3  8   8   8   0  4   8  7  ...           8   5   9   6   \n",
       "159     Home   7  11  7   8  12   7  8   7  5  ...           4   8   6   4   \n",
       "160     Home   7   7  3  10   8   7  7  13  3  ...           4   4   4   7   \n",
       "161     Home   7  12  9  12  10   6  3  10  9  ...          13   6   9   4   \n",
       "\n",
       "      1  5   2  7  17  13  \n",
       "0     4  6  12  6   6  12  \n",
       "1     7  6  10  5   8   4  \n",
       "2     8  9   3  8   7   5  \n",
       "3     5  6  12  9   6   8  \n",
       "4     7  9   9  5   8   5  \n",
       "..   .. ..  .. ..  ..  ..  \n",
       "157   4  6   6  7  12   2  \n",
       "158  11  4   4  8   7   9  \n",
       "159   8  8   2  3   7   3  \n",
       "160   7  7   7  6   0   6  \n",
       "161   6  4   8  8  10   8  \n",
       "\n",
       "[162 rows x 21 columns]"
      ]
     },
     "execution_count": 7,
     "metadata": {},
     "output_type": "execute_result"
    }
   ],
   "source": [
    "agrupadora = 'Location'\n",
    "permutadora = 'StrikeOuts'\n",
    "\n",
    "perm_df = tabla_prueba_permutacion(phillies, agrupadora, permutadora)\n",
    "perm_df"
   ]
  },
  {
   "cell_type": "code",
   "execution_count": 8,
   "id": "c098e8e4-f357-490e-ab50-45b84395fc9e",
   "metadata": {},
   "outputs": [
    {
     "data": {
      "image/png": "[encoded data removed]",
      "text/plain": [
       "<Figure size 864x864 with 20 Axes>"
      ]
     },
     "metadata": {
      "needs_background": "light"
     },
     "output_type": "display_data"
    }
   ],
   "source": [
    "fig = plt.figure(figsize=(12,12))\n",
    "spec = plt.GridSpec(ncols=5, nrows=4, hspace=0.3)\n",
    "\n",
    "#Paneles\n",
    "for i in np.arange(1,21):\n",
    "    ax_n = f\"ax{i}\"\n",
    "    ax_n = fig.add_subplot(spec[i-1])\n",
    "    perm_df.boxplot(by=agrupadora, column=perm_df.columns[i], vert=False, color='black', ax=ax_n)\n",
    "    ax_n.set_title(i, fontsize=14)\n",
    "    ax_n.set_xlabel('')\n",
    "    ax_n.grid(False)\n",
    "    \n",
    "    if (i-1)%5 != 0:\n",
    "        ax_n.set_yticks([])\n",
    "\n",
    "plt.show()"
   ]
  },
  {
   "cell_type": "markdown",
   "id": "2a60e0b4-f838-48f1-ae84-bb1055cbfede",
   "metadata": {},
   "source": [
    "Yo no puedo identificar los datos verdaderos."
   ]
  },
  {
   "cell_type": "markdown",
   "id": "ee4c6df4-c941-43c1-a4fd-8521b91f5258",
   "metadata": {},
   "source": [
    "### Ejercicio 2\n",
    "Calcula el promedio de strikes por juego en cada grupo (donde grupo se define por Location)."
   ]
  },
  {
   "cell_type": "code",
   "execution_count": 9,
   "id": "4fdb610f-378a-4968-bbf5-3622a2ad7f2e",
   "metadata": {},
   "outputs": [
    {
     "data": {
      "text/html": [
       "<div>\n",
       "<style scoped>\n",
       "    .dataframe tbody tr th:only-of-type {\n",
       "        vertical-align: middle;\n",
       "    }\n",
       "\n",
       "    .dataframe tbody tr th {\n",
       "        vertical-align: top;\n",
       "    }\n",
       "\n",
       "    .dataframe thead th {\n",
       "        text-align: right;\n",
       "    }\n",
       "</style>\n",
       "<table border=\"1\" class=\"dataframe\">\n",
       "  <thead>\n",
       "    <tr style=\"text-align: right;\">\n",
       "      <th></th>\n",
       "      <th>Date</th>\n",
       "      <th>Location</th>\n",
       "      <th>Outcome</th>\n",
       "      <th>Hits</th>\n",
       "      <th>Doubles</th>\n",
       "      <th>HomeRuns</th>\n",
       "      <th>StrikeOuts</th>\n",
       "    </tr>\n",
       "  </thead>\n",
       "  <tbody>\n",
       "    <tr>\n",
       "      <th>0</th>\n",
       "      <td>5-Apr</td>\n",
       "      <td>Home</td>\n",
       "      <td>Lose</td>\n",
       "      <td>4</td>\n",
       "      <td>2</td>\n",
       "      <td>0</td>\n",
       "      <td>6</td>\n",
       "    </tr>\n",
       "    <tr>\n",
       "      <th>1</th>\n",
       "      <td>7-Apr</td>\n",
       "      <td>Home</td>\n",
       "      <td>Lose</td>\n",
       "      <td>6</td>\n",
       "      <td>1</td>\n",
       "      <td>0</td>\n",
       "      <td>3</td>\n",
       "    </tr>\n",
       "    <tr>\n",
       "      <th>2</th>\n",
       "      <td>8-Apr</td>\n",
       "      <td>Home</td>\n",
       "      <td>Win</td>\n",
       "      <td>11</td>\n",
       "      <td>3</td>\n",
       "      <td>1</td>\n",
       "      <td>6</td>\n",
       "    </tr>\n",
       "    <tr>\n",
       "      <th>3</th>\n",
       "      <td>10-Apr</td>\n",
       "      <td>Away</td>\n",
       "      <td>Lose</td>\n",
       "      <td>7</td>\n",
       "      <td>2</td>\n",
       "      <td>1</td>\n",
       "      <td>3</td>\n",
       "    </tr>\n",
       "    <tr>\n",
       "      <th>4</th>\n",
       "      <td>11-Apr</td>\n",
       "      <td>Away</td>\n",
       "      <td>Win</td>\n",
       "      <td>15</td>\n",
       "      <td>3</td>\n",
       "      <td>1</td>\n",
       "      <td>6</td>\n",
       "    </tr>\n",
       "  </tbody>\n",
       "</table>\n",
       "</div>"
      ],
      "text/plain": [
       "     Date Location Outcome  Hits  Doubles  HomeRuns  StrikeOuts\n",
       "0   5-Apr     Home    Lose     4        2         0           6\n",
       "1   7-Apr     Home    Lose     6        1         0           3\n",
       "2   8-Apr     Home     Win    11        3         1           6\n",
       "3  10-Apr     Away    Lose     7        2         1           3\n",
       "4  11-Apr     Away     Win    15        3         1           6"
      ]
     },
     "execution_count": 9,
     "metadata": {},
     "output_type": "execute_result"
    }
   ],
   "source": [
    "#Se obtiene dataset original\n",
    "file_path = \"datos\\\\Phillies2009.csv\"\n",
    "phillies = pd.read_csv(os.path.join(path_asignatura, file_path))\n",
    "phillies.head()"
   ]
  },
  {
   "cell_type": "code",
   "execution_count": 10,
   "id": "a731a574-68aa-4d0f-84e2-21fac14e3c3f",
   "metadata": {},
   "outputs": [
    {
     "data": {
      "text/html": [
       "<div>\n",
       "<style scoped>\n",
       "    .dataframe tbody tr th:only-of-type {\n",
       "        vertical-align: middle;\n",
       "    }\n",
       "\n",
       "    .dataframe tbody tr th {\n",
       "        vertical-align: top;\n",
       "    }\n",
       "\n",
       "    .dataframe thead th {\n",
       "        text-align: right;\n",
       "    }\n",
       "</style>\n",
       "<table border=\"1\" class=\"dataframe\">\n",
       "  <thead>\n",
       "    <tr style=\"text-align: right;\">\n",
       "      <th></th>\n",
       "      <th>StrikeOuts</th>\n",
       "    </tr>\n",
       "    <tr>\n",
       "      <th>Location</th>\n",
       "      <th></th>\n",
       "    </tr>\n",
       "  </thead>\n",
       "  <tbody>\n",
       "    <tr>\n",
       "      <th>Away</th>\n",
       "      <td>7.308642</td>\n",
       "    </tr>\n",
       "    <tr>\n",
       "      <th>Home</th>\n",
       "      <td>6.950617</td>\n",
       "    </tr>\n",
       "  </tbody>\n",
       "</table>\n",
       "</div>"
      ],
      "text/plain": [
       "          StrikeOuts\n",
       "Location            \n",
       "Away        7.308642\n",
       "Home        6.950617"
      ]
     },
     "execution_count": 10,
     "metadata": {},
     "output_type": "execute_result"
    }
   ],
   "source": [
    "phillies.groupby(by='Location').mean()[['StrikeOuts']]"
   ]
  },
  {
   "cell_type": "markdown",
   "id": "79731108-332e-499d-84e4-c0a184de7db1",
   "metadata": {},
   "source": [
    "### Ejercicio 3\n",
    "Realiza una prueba de permutación para la diferencia de las medias. Grafica la\n",
    "distribución de referencia y calcula el valor $p$ de dos colas.\n",
    "\n",
    "Método para cálculo de diferencia de medias obtenido de [Practical Statistics for Data Science, O'Reilly](https://github.com/gedeck/practical-statistics-for-data-scientists)"
   ]
  },
  {
   "cell_type": "code",
   "execution_count": 11,
   "id": "80c12747-c023-498f-8f7e-9db51c1d774e",
   "metadata": {},
   "outputs": [],
   "source": [
    "import random"
   ]
  },
  {
   "cell_type": "code",
   "execution_count": 12,
   "id": "689615cd-d6d0-4494-bb01-9b7e6af13466",
   "metadata": {},
   "outputs": [
    {
     "name": "stdout",
     "output_type": "stream",
     "text": [
      "0.3580246913580245\n"
     ]
    }
   ],
   "source": [
    "mean_a = phillies[phillies['Location'] == 'Home']['StrikeOuts'].mean()\n",
    "mean_b = phillies[phillies['Location'] == 'Away']['StrikeOuts'].mean()\n",
    "print(mean_b - mean_a)"
   ]
  },
  {
   "cell_type": "code",
   "execution_count": 13,
   "id": "aa7c4b81-1fd7-4274-a1df-fa99670596e4",
   "metadata": {},
   "outputs": [
    {
     "data": {
      "text/plain": [
       "-0.8765432098765427"
      ]
     },
     "execution_count": 13,
     "metadata": {},
     "output_type": "execute_result"
    }
   ],
   "source": [
    "# Prueba de permutación para diferencia de medias\n",
    "def perm_fun(x, nA, nB):\n",
    "    n = nA + nB\n",
    "    idx_B = set(random.sample(range(n), nB))\n",
    "    idx_A = set(range(n)) - idx_B\n",
    "    return x.loc[idx_B].mean() - x.loc[idx_A].mean()#, idx_A, idx_B\n",
    "    \n",
    "nA = phillies[phillies['Location'] == 'Home'].shape[0]\n",
    "nB = phillies[phillies['Location'] == 'Away'].shape[0]\n",
    "\n",
    "perm_fun(phillies['StrikeOuts'], nA, nB)"
   ]
  },
  {
   "cell_type": "code",
   "execution_count": 14,
   "id": "e804a112-bf24-4815-a7e4-2587a1ed230a",
   "metadata": {},
   "outputs": [
    {
     "data": {
      "image/png": "[encoded data removed]",
      "text/plain": [
       "<Figure size 360x360 with 1 Axes>"
      ]
     },
     "metadata": {
      "needs_background": "light"
     },
     "output_type": "display_data"
    }
   ],
   "source": [
    "#Ejecutando 1,000 iteraciones\n",
    "n = 1_000\n",
    "random.seed(1)\n",
    "perm_diffs = [perm_fun(phillies['StrikeOuts'], nA, nB) for _ in range(n)]\n",
    "\n",
    "fig, ax = plt.subplots(figsize=(5, 5))\n",
    "ax.hist(perm_diffs, bins=11, rwidth=0.9, alpha=0.75)\n",
    "ax.axvline(x = mean_b - mean_a, color='red', lw=2)\n",
    "ax.text(0.5, 175, 'Observed\\ndifference', bbox={'facecolor':'white'})\n",
    "ax.set_xlabel('Strikeouts')\n",
    "ax.set_ylabel('Frequency')\n",
    "\n",
    "plt.tight_layout()\n",
    "plt.show()"
   ]
  },
  {
   "cell_type": "markdown",
   "id": "567040fd-c61c-4537-9d25-ac05407da178",
   "metadata": {},
   "source": [
    "$$p_{val}=\\frac{card(TS_{P}>TS_{OBS})}{card(p)}$$\n",
    "Siendo:\n",
    "* $TS_P$: Permutation Test Statistic\n",
    "* $TS_{OBS}$: Observed Test Statistic"
   ]
  },
  {
   "cell_type": "code",
   "execution_count": 15,
   "id": "10ddd543-2363-4e0b-896d-54df4a1f9cb8",
   "metadata": {},
   "outputs": [
    {
     "name": "stdout",
     "output_type": "stream",
     "text": [
      "p-val: 0.221\n"
     ]
    }
   ],
   "source": [
    "print(f\"p-val: {sum(perm_diffs > (mean_b - mean_a)) / n}\")"
   ]
  },
  {
   "cell_type": "code",
   "execution_count": null,
   "id": "3294f49f-9cdb-4255-99fa-3b463fe26524",
   "metadata": {},
   "outputs": [],
   "source": []
  }
 ],
 "metadata": {
  "kernelspec": {
   "display_name": "Python 3 (ipykernel)",
   "language": "python",
   "name": "python3"
  },
  "language_info": {
   "codemirror_mode": {
    "name": "ipython",
    "version": 3
   },
   "file_extension": ".py",
   "mimetype": "text/x-python",
   "name": "python",
   "nbconvert_exporter": "python",
   "pygments_lexer": "ipython3",
   "version": "3.9.6"
  }
 },
 "nbformat": 4,
 "nbformat_minor": 5
}
