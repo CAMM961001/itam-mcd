{
 "cells": [
  {
   "cell_type": "markdown",
   "id": "f8524f1c-43ac-494e-b2f0-011d255151e1",
   "metadata": {},
   "source": [
    "# Tarea 4: Pruebas de hipótesis\n",
    "\n",
    "Solución de los ejercicios de la sección `Pruebas de hipótesis` del libro del curos [Fundamentos Estadísticos](https://tereom.github.io/fundamentos-2022/pruebas-de-hip%C3%B3tesis.html)"
   ]
  },
  {
   "cell_type": "markdown",
   "id": "b0c8eeb4-c3b2-4de7-8b5b-6a7787e47eb2",
   "metadata": {},
   "source": [
    "# Pruebas visuales y permutación"
   ]
  },
  {
   "cell_type": "markdown",
   "id": "6f3bdb50-1748-4e6c-8106-3d99e915d6d4",
   "metadata": {},
   "source": [
    "## Pruebas de permutación\n",
    "La tabla de datos `Phillies2009.csv`  contiene información de la temporada de baseball 2009 para el equipo de Philadelphia Phillies, en este ejercicio queremos comparar los strikes (`StrikeOuts`) entre los juegos en casa y de visitante."
   ]
  },
  {
   "cell_type": "markdown",
   "id": "1162ef0d-a462-45f1-bb82-c6509a736cb7",
   "metadata": {},
   "source": [
    "### Carga de datos"
   ]
  },
  {
   "cell_type": "code",
   "execution_count": 1,
   "id": "802c5571-37cf-4c3d-a766-3bea45e08add",
   "metadata": {},
   "outputs": [],
   "source": [
    "import os\n",
    "import pandas as pd\n",
    "import numpy as plt"
   ]
  },
  {
   "cell_type": "code",
   "execution_count": 2,
   "id": "335708ab-2c34-4313-99e6-5d56835dcaf2",
   "metadata": {},
   "outputs": [
    {
     "data": {
      "text/plain": [
       "['.git',\n",
       " 'aprendizaje-automatico',\n",
       " 'estadistica-computacional',\n",
       " 'fundamentos-estadisticos',\n",
       " 'mineria-analisis-datos',\n",
       " 'optimizacion',\n",
       " 'README.md']"
      ]
     },
     "execution_count": 2,
     "metadata": {},
     "output_type": "execute_result"
    }
   ],
   "source": [
    "path_universal = \"C:\\\\Users\\\\Miguel\\\\Documents\\\\Github\\\\itam-mcd\"\n",
    "os.listdir(path_universal)"
   ]
  },
  {
   "cell_type": "code",
   "execution_count": 3,
   "id": "a5038e84-fff0-4bc8-b54e-061f81397668",
   "metadata": {},
   "outputs": [
    {
     "data": {
      "text/plain": [
       "['datos', 'libros']"
      ]
     },
     "execution_count": 3,
     "metadata": {},
     "output_type": "execute_result"
    }
   ],
   "source": [
    "path_asignatura = \"fundamentos-estadisticos\"\n",
    "path_asignatura = os.path.join(path_universal, path_asignatura)\n",
    "os.listdir(path_asignatura)"
   ]
  },
  {
   "cell_type": "code",
   "execution_count": 4,
   "id": "cf2526f3-d59f-414b-8da3-2e62d4e86f0c",
   "metadata": {},
   "outputs": [
    {
     "data": {
      "text/html": [
       "<div>\n",
       "<style scoped>\n",
       "    .dataframe tbody tr th:only-of-type {\n",
       "        vertical-align: middle;\n",
       "    }\n",
       "\n",
       "    .dataframe tbody tr th {\n",
       "        vertical-align: top;\n",
       "    }\n",
       "\n",
       "    .dataframe thead th {\n",
       "        text-align: right;\n",
       "    }\n",
       "</style>\n",
       "<table border=\"1\" class=\"dataframe\">\n",
       "  <thead>\n",
       "    <tr style=\"text-align: right;\">\n",
       "      <th></th>\n",
       "      <th>Date</th>\n",
       "      <th>Location</th>\n",
       "      <th>Outcome</th>\n",
       "      <th>Hits</th>\n",
       "      <th>Doubles</th>\n",
       "      <th>HomeRuns</th>\n",
       "      <th>StrikeOuts</th>\n",
       "    </tr>\n",
       "  </thead>\n",
       "  <tbody>\n",
       "    <tr>\n",
       "      <th>0</th>\n",
       "      <td>5-Apr</td>\n",
       "      <td>Home</td>\n",
       "      <td>Lose</td>\n",
       "      <td>4</td>\n",
       "      <td>2</td>\n",
       "      <td>0</td>\n",
       "      <td>6</td>\n",
       "    </tr>\n",
       "    <tr>\n",
       "      <th>1</th>\n",
       "      <td>7-Apr</td>\n",
       "      <td>Home</td>\n",
       "      <td>Lose</td>\n",
       "      <td>6</td>\n",
       "      <td>1</td>\n",
       "      <td>0</td>\n",
       "      <td>3</td>\n",
       "    </tr>\n",
       "    <tr>\n",
       "      <th>2</th>\n",
       "      <td>8-Apr</td>\n",
       "      <td>Home</td>\n",
       "      <td>Win</td>\n",
       "      <td>11</td>\n",
       "      <td>3</td>\n",
       "      <td>1</td>\n",
       "      <td>6</td>\n",
       "    </tr>\n",
       "    <tr>\n",
       "      <th>3</th>\n",
       "      <td>10-Apr</td>\n",
       "      <td>Away</td>\n",
       "      <td>Lose</td>\n",
       "      <td>7</td>\n",
       "      <td>2</td>\n",
       "      <td>1</td>\n",
       "      <td>3</td>\n",
       "    </tr>\n",
       "    <tr>\n",
       "      <th>4</th>\n",
       "      <td>11-Apr</td>\n",
       "      <td>Away</td>\n",
       "      <td>Win</td>\n",
       "      <td>15</td>\n",
       "      <td>3</td>\n",
       "      <td>1</td>\n",
       "      <td>6</td>\n",
       "    </tr>\n",
       "    <tr>\n",
       "      <th>5</th>\n",
       "      <td>12-Apr</td>\n",
       "      <td>Away</td>\n",
       "      <td>Win</td>\n",
       "      <td>13</td>\n",
       "      <td>3</td>\n",
       "      <td>2</td>\n",
       "      <td>4</td>\n",
       "    </tr>\n",
       "    <tr>\n",
       "      <th>6</th>\n",
       "      <td>13-Apr</td>\n",
       "      <td>Away</td>\n",
       "      <td>Win</td>\n",
       "      <td>10</td>\n",
       "      <td>3</td>\n",
       "      <td>3</td>\n",
       "      <td>7</td>\n",
       "    </tr>\n",
       "    <tr>\n",
       "      <th>7</th>\n",
       "      <td>16-Apr</td>\n",
       "      <td>Away</td>\n",
       "      <td>Lose</td>\n",
       "      <td>5</td>\n",
       "      <td>1</td>\n",
       "      <td>0</td>\n",
       "      <td>3</td>\n",
       "    </tr>\n",
       "    <tr>\n",
       "      <th>8</th>\n",
       "      <td>17-Apr</td>\n",
       "      <td>Home</td>\n",
       "      <td>Lose</td>\n",
       "      <td>14</td>\n",
       "      <td>3</td>\n",
       "      <td>1</td>\n",
       "      <td>5</td>\n",
       "    </tr>\n",
       "    <tr>\n",
       "      <th>9</th>\n",
       "      <td>18-Apr</td>\n",
       "      <td>Home</td>\n",
       "      <td>Lose</td>\n",
       "      <td>8</td>\n",
       "      <td>2</td>\n",
       "      <td>3</td>\n",
       "      <td>7</td>\n",
       "    </tr>\n",
       "  </tbody>\n",
       "</table>\n",
       "</div>"
      ],
      "text/plain": [
       "     Date Location Outcome  Hits  Doubles  HomeRuns  StrikeOuts\n",
       "0   5-Apr     Home    Lose     4        2         0           6\n",
       "1   7-Apr     Home    Lose     6        1         0           3\n",
       "2   8-Apr     Home     Win    11        3         1           6\n",
       "3  10-Apr     Away    Lose     7        2         1           3\n",
       "4  11-Apr     Away     Win    15        3         1           6\n",
       "5  12-Apr     Away     Win    13        3         2           4\n",
       "6  13-Apr     Away     Win    10        3         3           7\n",
       "7  16-Apr     Away    Lose     5        1         0           3\n",
       "8  17-Apr     Home    Lose    14        3         1           5\n",
       "9  18-Apr     Home    Lose     8        2         3           7"
      ]
     },
     "execution_count": 4,
     "metadata": {},
     "output_type": "execute_result"
    }
   ],
   "source": [
    "#Se obtiene dataset original\n",
    "file_path = \"datos\\\\Phillies2009.csv\"\n",
    "propinas = pd.read_csv(os.path.join(path_asignatura, file_path))\n",
    "propinas.head(10)"
   ]
  },
  {
   "cell_type": "code",
   "execution_count": null,
   "id": "0c9f9edf-89f7-4667-b5f2-89684968c400",
   "metadata": {},
   "outputs": [],
   "source": []
  }
 ],
 "metadata": {
  "kernelspec": {
   "display_name": "Python 3 (ipykernel)",
   "language": "python",
   "name": "python3"
  },
  "language_info": {
   "codemirror_mode": {
    "name": "ipython",
    "version": 3
   },
   "file_extension": ".py",
   "mimetype": "text/x-python",
   "name": "python",
   "nbconvert_exporter": "python",
   "pygments_lexer": "ipython3",
   "version": "3.9.6"
  }
 },
 "nbformat": 4,
 "nbformat_minor": 5
}
