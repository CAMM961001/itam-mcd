{
 "cells": [
  {
   "cell_type": "markdown",
   "id": "f8524f1c-43ac-494e-b2f0-011d255151e1",
   "metadata": {},
   "source": [
    "# Pruebas de hipótesis\n",
    "\n",
    "Solución de los ejercicios de la sección `Pruebas de hipótesis` del libro del curos [Fundamentos Estadísticos](https://tereom.github.io/fundamentos-2022/pruebas-de-hip%C3%B3tesis.html)"
   ]
  },
  {
   "cell_type": "markdown",
   "id": "b0c8eeb4-c3b2-4de7-8b5b-6a7787e47eb2",
   "metadata": {},
   "source": [
    "# Ejercicios de las notas"
   ]
  },
  {
   "cell_type": "code",
   "execution_count": null,
   "id": "659c3718-4d27-4346-b1a7-60a2063f3ef4",
   "metadata": {},
   "outputs": [],
   "source": []
  }
 ],
 "metadata": {
  "kernelspec": {
   "display_name": "Python 3 (ipykernel)",
   "language": "python",
   "name": "python3"
  },
  "language_info": {
   "codemirror_mode": {
    "name": "ipython",
    "version": 3
   },
   "file_extension": ".py",
   "mimetype": "text/x-python",
   "name": "python",
   "nbconvert_exporter": "python",
   "pygments_lexer": "ipython3",
   "version": "3.9.6"
  }
 },
 "nbformat": 4,
 "nbformat_minor": 5
}
