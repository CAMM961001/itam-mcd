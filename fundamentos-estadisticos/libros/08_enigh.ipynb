{
 "cells": [
  {
   "cell_type": "markdown",
   "id": "9c766b52-8964-499d-8b55-6beee1b928d3",
   "metadata": {
    "tags": []
   },
   "source": [
    "# Tarea 8: \n",
    "\n",
    "Solución de los ejercicios de la sección `Intervalos de confianza y remuestreo` del libro del curso [Fundamentos Estadísticos](https://tereom.github.io/fundamentos-2022/intervalos-de-confianza-y-remuestreo.html)"
   ]
  },
  {
   "cell_type": "code",
   "execution_count": 1,
   "id": "73aba88a-48cb-4c1f-916b-f752e09ee9f9",
   "metadata": {},
   "outputs": [],
   "source": [
    "import os\n",
    "import numpy as np\n",
    "import pandas as pd"
   ]
  },
  {
   "cell_type": "code",
   "execution_count": 2,
   "id": "90e2efd7-d6f8-4350-b6af-d0c6ec5fa5cf",
   "metadata": {},
   "outputs": [
    {
     "data": {
      "text/plain": [
       "['.git',\n",
       " '.gitignore',\n",
       " 'aprendizaje-automatico',\n",
       " 'estadistica-computacional',\n",
       " 'fundamentos-estadisticos',\n",
       " 'mineria-analisis-datos',\n",
       " 'optimizacion',\n",
       " 'README.md']"
      ]
     },
     "execution_count": 2,
     "metadata": {},
     "output_type": "execute_result"
    }
   ],
   "source": [
    "path_universal = \"C:\\\\Users\\\\Miguel\\\\Documents\\\\Github\\\\itam-mcd\"\n",
    "os.listdir(path_universal)"
   ]
  },
  {
   "cell_type": "code",
   "execution_count": 3,
   "id": "3ae44cd3-fb86-4667-bfdb-b0dc6718881e",
   "metadata": {},
   "outputs": [
    {
     "data": {
      "text/plain": [
       "['datos', 'libros', 'README.md']"
      ]
     },
     "execution_count": 3,
     "metadata": {},
     "output_type": "execute_result"
    }
   ],
   "source": [
    "path_asignatura = \"fundamentos-estadisticos\"\n",
    "path_asignatura = os.path.join(path_universal, path_asignatura)\n",
    "os.listdir(path_asignatura)"
   ]
  },
  {
   "cell_type": "markdown",
   "id": "6e6b7171-6f34-420d-8320-73e11b32872a",
   "metadata": {},
   "source": [
    "## ENIGH\n",
    "\n",
    "Para este ejercicio usaremos los datos de la [ENIGH 2014](https://www.inegi.org.mx/programas/enigh/tradicional/2014/). En particular las variables alimentos, vestido, vivienda, salud, comunica, educacion y esparci (esparcimiento) que indican el gasto trimestral en cada una de las categorías. \n",
    "1. Calcula los deciles de ingreso usando la variable de ingreso corriente (ing_cor).\n",
    "\n",
    ">Debes tomar en cuenta el diseño de la muestra, puedes usar la función `survey_quantile()` del paquete `srvyr` o `svyquantile()` del paquete `survey`. Reporta las estimaciones y sus errores estándar usando el bootstrap de Rao y Wu."
   ]
  },
  {
   "cell_type": "code",
   "execution_count": 4,
   "id": "f61252c2-519d-4b45-9342-cae4942d75c1",
   "metadata": {},
   "outputs": [
    {
     "data": {
      "text/html": [
       "<div>\n",
       "<style scoped>\n",
       "    .dataframe tbody tr th:only-of-type {\n",
       "        vertical-align: middle;\n",
       "    }\n",
       "\n",
       "    .dataframe tbody tr th {\n",
       "        vertical-align: top;\n",
       "    }\n",
       "\n",
       "    .dataframe thead th {\n",
       "        text-align: right;\n",
       "    }\n",
       "</style>\n",
       "<table border=\"1\" class=\"dataframe\">\n",
       "  <thead>\n",
       "    <tr style=\"text-align: right;\">\n",
       "      <th></th>\n",
       "      <th>folioviv</th>\n",
       "      <th>foliohog</th>\n",
       "      <th>est_dis</th>\n",
       "      <th>upm</th>\n",
       "      <th>factor_hog</th>\n",
       "      <th>ing_cor</th>\n",
       "      <th>alimentos</th>\n",
       "      <th>vestido</th>\n",
       "      <th>vivienda</th>\n",
       "      <th>salud</th>\n",
       "      <th>transporte</th>\n",
       "      <th>comunica</th>\n",
       "      <th>educacion</th>\n",
       "      <th>esparci</th>\n",
       "      <th>folio_unico</th>\n",
       "    </tr>\n",
       "  </thead>\n",
       "  <tbody>\n",
       "    <tr>\n",
       "      <th>0</th>\n",
       "      <td>100008302</td>\n",
       "      <td>1</td>\n",
       "      <td>5</td>\n",
       "      <td>670</td>\n",
       "      <td>694</td>\n",
       "      <td>39786.79</td>\n",
       "      <td>11172.63</td>\n",
       "      <td>0.00</td>\n",
       "      <td>2199.32</td>\n",
       "      <td>1401.83</td>\n",
       "      <td>5490.71</td>\n",
       "      <td>1110.00</td>\n",
       "      <td>0.00</td>\n",
       "      <td>900.00</td>\n",
       "      <td>100008302_1</td>\n",
       "    </tr>\n",
       "    <tr>\n",
       "      <th>1</th>\n",
       "      <td>100008303</td>\n",
       "      <td>1</td>\n",
       "      <td>5</td>\n",
       "      <td>670</td>\n",
       "      <td>694</td>\n",
       "      <td>19523.90</td>\n",
       "      <td>1941.38</td>\n",
       "      <td>0.00</td>\n",
       "      <td>0.00</td>\n",
       "      <td>117.38</td>\n",
       "      <td>0.00</td>\n",
       "      <td>0.00</td>\n",
       "      <td>0.00</td>\n",
       "      <td>0.00</td>\n",
       "      <td>100008303_1</td>\n",
       "    </tr>\n",
       "    <tr>\n",
       "      <th>2</th>\n",
       "      <td>100008304</td>\n",
       "      <td>1</td>\n",
       "      <td>5</td>\n",
       "      <td>670</td>\n",
       "      <td>694</td>\n",
       "      <td>99257.66</td>\n",
       "      <td>16759.08</td>\n",
       "      <td>489.12</td>\n",
       "      <td>2989.43</td>\n",
       "      <td>1242.37</td>\n",
       "      <td>5829.25</td>\n",
       "      <td>2540.32</td>\n",
       "      <td>0.00</td>\n",
       "      <td>0.00</td>\n",
       "      <td>100008304_1</td>\n",
       "    </tr>\n",
       "    <tr>\n",
       "      <th>3</th>\n",
       "      <td>100008305</td>\n",
       "      <td>1</td>\n",
       "      <td>5</td>\n",
       "      <td>670</td>\n",
       "      <td>694</td>\n",
       "      <td>87883.68</td>\n",
       "      <td>8678.43</td>\n",
       "      <td>293.47</td>\n",
       "      <td>1100.00</td>\n",
       "      <td>420.63</td>\n",
       "      <td>1440.00</td>\n",
       "      <td>1440.00</td>\n",
       "      <td>3019.35</td>\n",
       "      <td>0.00</td>\n",
       "      <td>100008305_1</td>\n",
       "    </tr>\n",
       "    <tr>\n",
       "      <th>4</th>\n",
       "      <td>100010401</td>\n",
       "      <td>1</td>\n",
       "      <td>5</td>\n",
       "      <td>600</td>\n",
       "      <td>660</td>\n",
       "      <td>84427.04</td>\n",
       "      <td>12873.09</td>\n",
       "      <td>0.00</td>\n",
       "      <td>3062.50</td>\n",
       "      <td>0.00</td>\n",
       "      <td>7006.44</td>\n",
       "      <td>1200.00</td>\n",
       "      <td>0.00</td>\n",
       "      <td>1050.00</td>\n",
       "      <td>100010401_1</td>\n",
       "    </tr>\n",
       "    <tr>\n",
       "      <th>...</th>\n",
       "      <td>...</td>\n",
       "      <td>...</td>\n",
       "      <td>...</td>\n",
       "      <td>...</td>\n",
       "      <td>...</td>\n",
       "      <td>...</td>\n",
       "      <td>...</td>\n",
       "      <td>...</td>\n",
       "      <td>...</td>\n",
       "      <td>...</td>\n",
       "      <td>...</td>\n",
       "      <td>...</td>\n",
       "      <td>...</td>\n",
       "      <td>...</td>\n",
       "      <td>...</td>\n",
       "    </tr>\n",
       "    <tr>\n",
       "      <th>19474</th>\n",
       "      <td>3260733806</td>\n",
       "      <td>1</td>\n",
       "      <td>197</td>\n",
       "      <td>26180</td>\n",
       "      <td>700</td>\n",
       "      <td>19388.37</td>\n",
       "      <td>925.70</td>\n",
       "      <td>0.00</td>\n",
       "      <td>444.00</td>\n",
       "      <td>1888.01</td>\n",
       "      <td>0.00</td>\n",
       "      <td>0.00</td>\n",
       "      <td>0.00</td>\n",
       "      <td>450.00</td>\n",
       "      <td>3260733806_1</td>\n",
       "    </tr>\n",
       "    <tr>\n",
       "      <th>19475</th>\n",
       "      <td>3260733807</td>\n",
       "      <td>1</td>\n",
       "      <td>197</td>\n",
       "      <td>26180</td>\n",
       "      <td>700</td>\n",
       "      <td>19089.50</td>\n",
       "      <td>7868.43</td>\n",
       "      <td>0.00</td>\n",
       "      <td>1784.89</td>\n",
       "      <td>3076.60</td>\n",
       "      <td>2749.74</td>\n",
       "      <td>435.48</td>\n",
       "      <td>0.00</td>\n",
       "      <td>0.00</td>\n",
       "      <td>3260733807_1</td>\n",
       "    </tr>\n",
       "    <tr>\n",
       "      <th>19476</th>\n",
       "      <td>3260733808</td>\n",
       "      <td>1</td>\n",
       "      <td>197</td>\n",
       "      <td>26180</td>\n",
       "      <td>700</td>\n",
       "      <td>11590.15</td>\n",
       "      <td>1902.82</td>\n",
       "      <td>0.00</td>\n",
       "      <td>1718.54</td>\n",
       "      <td>0.00</td>\n",
       "      <td>976.51</td>\n",
       "      <td>609.67</td>\n",
       "      <td>0.00</td>\n",
       "      <td>29.03</td>\n",
       "      <td>3260733808_1</td>\n",
       "    </tr>\n",
       "    <tr>\n",
       "      <th>19477</th>\n",
       "      <td>3260733809</td>\n",
       "      <td>1</td>\n",
       "      <td>197</td>\n",
       "      <td>26180</td>\n",
       "      <td>700</td>\n",
       "      <td>16412.44</td>\n",
       "      <td>2256.34</td>\n",
       "      <td>0.00</td>\n",
       "      <td>653.70</td>\n",
       "      <td>782.60</td>\n",
       "      <td>1260.55</td>\n",
       "      <td>0.00</td>\n",
       "      <td>0.00</td>\n",
       "      <td>0.00</td>\n",
       "      <td>3260733809_1</td>\n",
       "    </tr>\n",
       "    <tr>\n",
       "      <th>19478</th>\n",
       "      <td>3260733810</td>\n",
       "      <td>1</td>\n",
       "      <td>197</td>\n",
       "      <td>26180</td>\n",
       "      <td>700</td>\n",
       "      <td>16185.71</td>\n",
       "      <td>758.54</td>\n",
       "      <td>0.00</td>\n",
       "      <td>116.12</td>\n",
       "      <td>146.73</td>\n",
       "      <td>0.00</td>\n",
       "      <td>0.00</td>\n",
       "      <td>145.16</td>\n",
       "      <td>440.21</td>\n",
       "      <td>3260733810_1</td>\n",
       "    </tr>\n",
       "  </tbody>\n",
       "</table>\n",
       "<p>19479 rows × 15 columns</p>\n",
       "</div>"
      ],
      "text/plain": [
       "         folioviv  foliohog  est_dis    upm  factor_hog   ing_cor  alimentos  \\\n",
       "0       100008302         1        5    670         694  39786.79   11172.63   \n",
       "1       100008303         1        5    670         694  19523.90    1941.38   \n",
       "2       100008304         1        5    670         694  99257.66   16759.08   \n",
       "3       100008305         1        5    670         694  87883.68    8678.43   \n",
       "4       100010401         1        5    600         660  84427.04   12873.09   \n",
       "...           ...       ...      ...    ...         ...       ...        ...   \n",
       "19474  3260733806         1      197  26180         700  19388.37     925.70   \n",
       "19475  3260733807         1      197  26180         700  19089.50    7868.43   \n",
       "19476  3260733808         1      197  26180         700  11590.15    1902.82   \n",
       "19477  3260733809         1      197  26180         700  16412.44    2256.34   \n",
       "19478  3260733810         1      197  26180         700  16185.71     758.54   \n",
       "\n",
       "       vestido  vivienda    salud  transporte  comunica  educacion  esparci  \\\n",
       "0         0.00   2199.32  1401.83     5490.71   1110.00       0.00   900.00   \n",
       "1         0.00      0.00   117.38        0.00      0.00       0.00     0.00   \n",
       "2       489.12   2989.43  1242.37     5829.25   2540.32       0.00     0.00   \n",
       "3       293.47   1100.00   420.63     1440.00   1440.00    3019.35     0.00   \n",
       "4         0.00   3062.50     0.00     7006.44   1200.00       0.00  1050.00   \n",
       "...        ...       ...      ...         ...       ...        ...      ...   \n",
       "19474     0.00    444.00  1888.01        0.00      0.00       0.00   450.00   \n",
       "19475     0.00   1784.89  3076.60     2749.74    435.48       0.00     0.00   \n",
       "19476     0.00   1718.54     0.00      976.51    609.67       0.00    29.03   \n",
       "19477     0.00    653.70   782.60     1260.55      0.00       0.00     0.00   \n",
       "19478     0.00    116.12   146.73        0.00      0.00     145.16   440.21   \n",
       "\n",
       "        folio_unico  \n",
       "0       100008302_1  \n",
       "1       100008303_1  \n",
       "2       100008304_1  \n",
       "3       100008305_1  \n",
       "4       100010401_1  \n",
       "...             ...  \n",
       "19474  3260733806_1  \n",
       "19475  3260733807_1  \n",
       "19476  3260733808_1  \n",
       "19477  3260733809_1  \n",
       "19478  3260733810_1  \n",
       "\n",
       "[19479 rows x 15 columns]"
      ]
     },
     "execution_count": 4,
     "metadata": {},
     "output_type": "execute_result"
    }
   ],
   "source": [
    "#Se obtiene dataset original\n",
    "file_path = \"datos\\\\concentradohogar.csv\"\n",
    "\n",
    "columns = ['folioviv', 'foliohog', 'est_dis', 'upm', 'factor_hog', 'ing_cor', 'alimentos',\n",
    "           'vestido', 'vivienda', 'salud', 'transporte', 'comunica', 'educacion', 'esparci']\n",
    "concentrado_hogar = pd.read_csv(os.path.join(path_asignatura, file_path))\n",
    "concentrado_hogar = concentrado_hogar[columns]\n",
    "concentrado_hogar['folio_unico'] = concentrado_hogar['folioviv'].astype(str)+'_'+concentrado_hogar['foliohog'].astype(str)\n",
    "\n",
    "concentrado_hogar"
   ]
  },
  {
   "cell_type": "markdown",
   "id": "cb8e39f3-fc0c-4ca3-bd47-e6586ccd0916",
   "metadata": {},
   "source": [
    "**Calculando** los deciles, primero se cambia la estructura del conjunto de datos, de `DataFrame` $\\rightarrow$ `dict`"
   ]
  },
  {
   "cell_type": "code",
   "execution_count": 5,
   "id": "a0ae7c92-21d0-4870-9fb7-54dd0776cd5e",
   "metadata": {},
   "outputs": [
    {
     "data": {
      "text/plain": [
       "dict_keys(['est_dis', 'upm', 'factor_hog', 'ing_cor', 'alimentos', 'vestido', 'vivienda', 'salud', 'transporte', 'comunica', 'educacion', 'esparci', 'folio_unico', 'expand_ing_cor'])"
      ]
     },
     "execution_count": 5,
     "metadata": {},
     "output_type": "execute_result"
    }
   ],
   "source": [
    "#Se genera un diccionario con la información del df\n",
    "con_hog_dict = concentrado_hogar.to_dict()\n",
    "\n",
    "#Se descartan columnas de folio que ya están contenidas en folio_unico\n",
    "con_hog_dict.pop('folioviv')\n",
    "con_hog_dict.pop('foliohog')\n",
    "\n",
    "#Se crea llave para almacenar ing_cor expandida\n",
    "con_hog_dict['expand_ing_cor'] = {}\n",
    "\n",
    "con_hog_dict.keys()"
   ]
  },
  {
   "cell_type": "markdown",
   "id": "55ba4b37-7b6a-47df-8b02-db9c80b62ab1",
   "metadata": {},
   "source": [
    "Ahora, se **expande** la variable `ing_cor` por el número definido en la variable `factor_hog` para almacenarlo en el diccionario"
   ]
  },
  {
   "cell_type": "code",
   "execution_count": 6,
   "id": "4794aa5f-ed96-4db4-82ce-3d507ad0f3d5",
   "metadata": {},
   "outputs": [
    {
     "name": "stdout",
     "output_type": "stream",
     "text": [
      "Wall time: 210 ms\n"
     ]
    }
   ],
   "source": [
    "%%time\n",
    "for idx in con_hog_dict['folio_unico'].keys():\n",
    "    expand = np.repeat(con_hog_dict['ing_cor'][idx], con_hog_dict['factor_hog'][idx])\n",
    "    \n",
    "    con_hog_dict['expand_ing_cor'][idx] = expand"
   ]
  },
  {
   "cell_type": "code",
   "execution_count": 7,
   "id": "1d4c8599-98a1-480c-9134-ceb2022be243",
   "metadata": {},
   "outputs": [
    {
     "data": {
      "text/plain": [
       "1975    61\n",
       "332     59\n",
       "339     57\n",
       "1379    56\n",
       "284     51\n",
       "        ..\n",
       "4010     1\n",
       "2432     1\n",
       "5651     1\n",
       "2148     1\n",
       "4292     1\n",
       "Name: factor_hog, Length: 1837, dtype: int64"
      ]
     },
     "execution_count": 7,
     "metadata": {},
     "output_type": "execute_result"
    }
   ],
   "source": [
    "concentrado_hogar['factor_hog'].value_counts()"
   ]
  },
  {
   "cell_type": "code",
   "execution_count": null,
   "id": "af2b3478-18c6-45d7-872a-797088a0db13",
   "metadata": {},
   "outputs": [],
   "source": []
  },
  {
   "cell_type": "code",
   "execution_count": null,
   "id": "2cd961c2-79ef-4bce-9260-d882a9feaf70",
   "metadata": {},
   "outputs": [],
   "source": []
  },
  {
   "cell_type": "code",
   "execution_count": null,
   "id": "f179e778-7886-4701-b89e-23eb6c2431a5",
   "metadata": {},
   "outputs": [],
   "source": []
  },
  {
   "cell_type": "code",
   "execution_count": null,
   "id": "d0728a9d-a6ab-4d9c-a68e-b75130a9b573",
   "metadata": {},
   "outputs": [],
   "source": []
  },
  {
   "cell_type": "markdown",
   "id": "d96841c6-6184-4308-9c7d-18d80881991d",
   "metadata": {},
   "source": [
    "2. Crea una nueva variable que indique el decil de ingreso para cada hogar. \n",
    "\n",
    ">**Tips**:\n",
    ">1) una función que puede resultar útil es `cut2()` (de `Hmisc`), \n",
    ">2) si usas el paquete `srvyr` puedes usar `mutate()` sobre el objeto `survey` con pesos de replicaciones bootstrap."
   ]
  },
  {
   "cell_type": "code",
   "execution_count": null,
   "id": "9739e79a-3e8a-43d6-87d0-10d6174d5e09",
   "metadata": {},
   "outputs": [],
   "source": []
  }
 ],
 "metadata": {
  "kernelspec": {
   "display_name": "Python 3 (ipykernel)",
   "language": "python",
   "name": "python3"
  },
  "language_info": {
   "codemirror_mode": {
    "name": "ipython",
    "version": 3
   },
   "file_extension": ".py",
   "mimetype": "text/x-python",
   "name": "python",
   "nbconvert_exporter": "python",
   "pygments_lexer": "ipython3",
   "version": "3.9.6"
  }
 },
 "nbformat": 4,
 "nbformat_minor": 5
}
