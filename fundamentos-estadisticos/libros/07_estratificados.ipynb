{
 "cells": [
  {
   "cell_type": "markdown",
   "id": "9c766b52-8964-499d-8b55-6beee1b928d3",
   "metadata": {
    "tags": []
   },
   "source": [
    "# Tarea 7: Muestreo estratificado\n",
    "\n",
    "Solución de los ejercicios de la sección `Intervalos de confianza y remuestreo` del libro del curso [Fundamentos Estadísticos](https://tereom.github.io/fundamentos-2022/intervalos-de-confianza-y-remuestreo.html)"
   ]
  },
  {
   "cell_type": "code",
   "execution_count": 1,
   "id": "73aba88a-48cb-4c1f-916b-f752e09ee9f9",
   "metadata": {},
   "outputs": [],
   "source": [
    "import os\n",
    "import numpy as np\n",
    "import pandas as pd\n",
    "import matplotlib.pyplot as plt\n",
    "import pyreadr"
   ]
  },
  {
   "cell_type": "code",
   "execution_count": 2,
   "id": "90e2efd7-d6f8-4350-b6af-d0c6ec5fa5cf",
   "metadata": {},
   "outputs": [
    {
     "data": {
      "text/plain": [
       "['.git',\n",
       " '.gitignore',\n",
       " 'aprendizaje-automatico',\n",
       " 'estadistica-computacional',\n",
       " 'fundamentos-estadisticos',\n",
       " 'mineria-analisis-datos',\n",
       " 'optimizacion',\n",
       " 'README.md']"
      ]
     },
     "execution_count": 2,
     "metadata": {},
     "output_type": "execute_result"
    }
   ],
   "source": [
    "path_universal = \"C:\\\\Users\\\\Miguel\\\\Documents\\\\Github\\\\itam-mcd\"\n",
    "os.listdir(path_universal)"
   ]
  },
  {
   "cell_type": "code",
   "execution_count": 3,
   "id": "3ae44cd3-fb86-4667-bfdb-b0dc6718881e",
   "metadata": {},
   "outputs": [
    {
     "data": {
      "text/plain": [
       "['datos', 'libros', 'README.md']"
      ]
     },
     "execution_count": 3,
     "metadata": {},
     "output_type": "execute_result"
    }
   ],
   "source": [
    "path_asignatura = \"fundamentos-estadisticos\"\n",
    "path_asignatura = os.path.join(path_universal, path_asignatura)\n",
    "os.listdir(path_asignatura)"
   ]
  },
  {
   "cell_type": "markdown",
   "id": "6e86c9c3-0b6f-4650-bab2-24fc785e6bb4",
   "metadata": {
    "tags": []
   },
   "source": [
    "## Conteo rápido\n",
    "\n",
    "En México, las elecciones tienen lugar un domingo, los resultados oficiales del proceso se presentan a la población una semana después. A fin de evitar proclamaciones de victoria injustificadas durante ese periodo, el INE organiza un conteo rápido. El conteo rápido es un procedimiento para estimar, a partir de una muestra aleatoria de casillas, el porcentaje de votos a favor de los candidatos en la elección. \n",
    "\n",
    "En este ejercicio deberás crear intervalos de confianza para la proporción de votos que recibió cada candidato en las elecciones de 2006. La inferencia se hará a partir de una muestra de las casillas similar a la que se utilizó para el conteo rápido de 2006.\n",
    "\n",
    "El diseño utilizado es **muestreo estratificado simple**, lo que quiere decir que:\n",
    "1) Se particionan las casillas de la población en estratos (cada casilla pertenece a exactamente un estrato), y \n",
    "2) Dentro de cada estrato se usa *muestreo aleatorio* para seleccionar las casillas que estarán en la muestra. \n",
    "\n",
    "En este ejercicio (similar al conteo rápido de 2006):\n",
    "* Se seleccionó una muestra de $7,200$ casillas\n",
    "* La muestra se repartió a lo largo de 300 estratos. \n",
    "* La tabla `strata_sample_2006` contiene en la columna $N$ el número total de casillas en el estrato, y en $n$ el número de casillas que se seleccionaron en la muestra, para cada estrato."
   ]
  },
  {
   "cell_type": "code",
   "execution_count": 4,
   "id": "df070b59-68d1-493d-9baa-67c949aabf34",
   "metadata": {},
   "outputs": [
    {
     "data": {
      "text/html": [
       "<div>\n",
       "<style scoped>\n",
       "    .dataframe tbody tr th:only-of-type {\n",
       "        vertical-align: middle;\n",
       "    }\n",
       "\n",
       "    .dataframe tbody tr th {\n",
       "        vertical-align: top;\n",
       "    }\n",
       "\n",
       "    .dataframe thead th {\n",
       "        text-align: right;\n",
       "    }\n",
       "</style>\n",
       "<table border=\"1\" class=\"dataframe\">\n",
       "  <thead>\n",
       "    <tr style=\"text-align: right;\">\n",
       "      <th></th>\n",
       "      <th>stratum</th>\n",
       "      <th>n</th>\n",
       "      <th>N</th>\n",
       "      <th>factor</th>\n",
       "    </tr>\n",
       "  </thead>\n",
       "  <tbody>\n",
       "    <tr>\n",
       "      <th>0</th>\n",
       "      <td>1.0</td>\n",
       "      <td>20</td>\n",
       "      <td>369</td>\n",
       "      <td>18.450000</td>\n",
       "    </tr>\n",
       "    <tr>\n",
       "      <th>1</th>\n",
       "      <td>2.0</td>\n",
       "      <td>23</td>\n",
       "      <td>420</td>\n",
       "      <td>18.260870</td>\n",
       "    </tr>\n",
       "    <tr>\n",
       "      <th>2</th>\n",
       "      <td>3.0</td>\n",
       "      <td>24</td>\n",
       "      <td>440</td>\n",
       "      <td>18.333333</td>\n",
       "    </tr>\n",
       "    <tr>\n",
       "      <th>3</th>\n",
       "      <td>4.0</td>\n",
       "      <td>31</td>\n",
       "      <td>570</td>\n",
       "      <td>18.387097</td>\n",
       "    </tr>\n",
       "    <tr>\n",
       "      <th>4</th>\n",
       "      <td>5.0</td>\n",
       "      <td>29</td>\n",
       "      <td>528</td>\n",
       "      <td>18.206897</td>\n",
       "    </tr>\n",
       "    <tr>\n",
       "      <th>...</th>\n",
       "      <td>...</td>\n",
       "      <td>...</td>\n",
       "      <td>...</td>\n",
       "      <td>...</td>\n",
       "    </tr>\n",
       "    <tr>\n",
       "      <th>295</th>\n",
       "      <td>296.0</td>\n",
       "      <td>23</td>\n",
       "      <td>425</td>\n",
       "      <td>18.478261</td>\n",
       "    </tr>\n",
       "    <tr>\n",
       "      <th>296</th>\n",
       "      <td>297.0</td>\n",
       "      <td>25</td>\n",
       "      <td>452</td>\n",
       "      <td>18.080000</td>\n",
       "    </tr>\n",
       "    <tr>\n",
       "      <th>297</th>\n",
       "      <td>298.0</td>\n",
       "      <td>26</td>\n",
       "      <td>472</td>\n",
       "      <td>18.153846</td>\n",
       "    </tr>\n",
       "    <tr>\n",
       "      <th>298</th>\n",
       "      <td>299.0</td>\n",
       "      <td>29</td>\n",
       "      <td>531</td>\n",
       "      <td>18.310345</td>\n",
       "    </tr>\n",
       "    <tr>\n",
       "      <th>299</th>\n",
       "      <td>300.0</td>\n",
       "      <td>25</td>\n",
       "      <td>453</td>\n",
       "      <td>18.120000</td>\n",
       "    </tr>\n",
       "  </tbody>\n",
       "</table>\n",
       "<p>300 rows × 4 columns</p>\n",
       "</div>"
      ],
      "text/plain": [
       "     stratum   n    N     factor\n",
       "0        1.0  20  369  18.450000\n",
       "1        2.0  23  420  18.260870\n",
       "2        3.0  24  440  18.333333\n",
       "3        4.0  31  570  18.387097\n",
       "4        5.0  29  528  18.206897\n",
       "..       ...  ..  ...        ...\n",
       "295    296.0  23  425  18.478261\n",
       "296    297.0  25  452  18.080000\n",
       "297    298.0  26  472  18.153846\n",
       "298    299.0  29  531  18.310345\n",
       "299    300.0  25  453  18.120000\n",
       "\n",
       "[300 rows x 4 columns]"
      ]
     },
     "execution_count": 4,
     "metadata": {},
     "output_type": "execute_result"
    }
   ],
   "source": [
    "#Se obtiene dataset original\n",
    "file_path = \"datos\\\\strata_sample_2006.rda\"\n",
    "strata_sample_2006 = pyreadr.read_r(os.path.join(path_asignatura, file_path))\n",
    "strata_sample_2006 = strata_sample_2006['strata_sample_2006']\n",
    "strata_sample_2006['factor'] = strata_sample_2006['N'] / strata_sample_2006['n']\n",
    "\n",
    "strata_sample_2006"
   ]
  },
  {
   "cell_type": "code",
   "execution_count": 5,
   "id": "05506b50-9ee0-49ce-8f4a-ec85a1799f73",
   "metadata": {},
   "outputs": [
    {
     "name": "stdout",
     "output_type": "stream",
     "text": [
      "<class 'pandas.core.frame.DataFrame'>\n",
      "RangeIndex: 300 entries, 0 to 299\n",
      "Data columns (total 4 columns):\n",
      " #   Column   Non-Null Count  Dtype  \n",
      "---  ------   --------------  -----  \n",
      " 0   stratum  300 non-null    float64\n",
      " 1   n        300 non-null    int32  \n",
      " 2   N        300 non-null    int32  \n",
      " 3   factor   300 non-null    float64\n",
      "dtypes: float64(2), int32(2)\n",
      "memory usage: 7.2 KB\n"
     ]
    }
   ],
   "source": [
    "strata_sample_2006.info()"
   ]
  },
  {
   "cell_type": "markdown",
   "id": "26f144a2-a824-4f17-b461-9c8642246e47",
   "metadata": {},
   "source": [
    "* La tabla `sample_2006` en el paquete `estcomp` contiene para cada casilla:\n",
    "    + el estrato al que pertenece: `stratum`\n",
    "    + el número de votos que recibió cada partido/coalición: `pan`, `pri_pvem`, `panal`, `prd_pt_convergencia`, `psd` y la columna `otros` indica el número de votos nulos o por candidatos no registrados.\n",
    "    + el total de votos registrado en la casilla: `total`."
   ]
  },
  {
   "cell_type": "code",
   "execution_count": 6,
   "id": "28f456b3-27d4-45eb-99c0-2f67fde53781",
   "metadata": {},
   "outputs": [
    {
     "data": {
      "text/html": [
       "<div>\n",
       "<style scoped>\n",
       "    .dataframe tbody tr th:only-of-type {\n",
       "        vertical-align: middle;\n",
       "    }\n",
       "\n",
       "    .dataframe tbody tr th {\n",
       "        vertical-align: top;\n",
       "    }\n",
       "\n",
       "    .dataframe thead th {\n",
       "        text-align: right;\n",
       "    }\n",
       "</style>\n",
       "<table border=\"1\" class=\"dataframe\">\n",
       "  <thead>\n",
       "    <tr style=\"text-align: right;\">\n",
       "      <th></th>\n",
       "      <th>polling_id</th>\n",
       "      <th>stratum</th>\n",
       "      <th>edo_id</th>\n",
       "      <th>rural</th>\n",
       "      <th>pri_pvem</th>\n",
       "      <th>pan</th>\n",
       "      <th>panal</th>\n",
       "      <th>prd_pt_conv</th>\n",
       "      <th>psd</th>\n",
       "      <th>otros</th>\n",
       "      <th>total</th>\n",
       "      <th>n</th>\n",
       "      <th>N</th>\n",
       "      <th>factor</th>\n",
       "    </tr>\n",
       "  </thead>\n",
       "  <tbody>\n",
       "    <tr>\n",
       "      <th>0</th>\n",
       "      <td>74593</td>\n",
       "      <td>106.0</td>\n",
       "      <td>16</td>\n",
       "      <td>1.0</td>\n",
       "      <td>47</td>\n",
       "      <td>40</td>\n",
       "      <td>0</td>\n",
       "      <td>40</td>\n",
       "      <td>0</td>\n",
       "      <td>9</td>\n",
       "      <td>136</td>\n",
       "      <td>26</td>\n",
       "      <td>478</td>\n",
       "      <td>18.384615</td>\n",
       "    </tr>\n",
       "    <tr>\n",
       "      <th>1</th>\n",
       "      <td>74390</td>\n",
       "      <td>106.0</td>\n",
       "      <td>16</td>\n",
       "      <td>0.0</td>\n",
       "      <td>172</td>\n",
       "      <td>41</td>\n",
       "      <td>2</td>\n",
       "      <td>41</td>\n",
       "      <td>1</td>\n",
       "      <td>4</td>\n",
       "      <td>261</td>\n",
       "      <td>26</td>\n",
       "      <td>478</td>\n",
       "      <td>18.384615</td>\n",
       "    </tr>\n",
       "    <tr>\n",
       "      <th>2</th>\n",
       "      <td>74757</td>\n",
       "      <td>106.0</td>\n",
       "      <td>16</td>\n",
       "      <td>0.0</td>\n",
       "      <td>32</td>\n",
       "      <td>136</td>\n",
       "      <td>2</td>\n",
       "      <td>127</td>\n",
       "      <td>3</td>\n",
       "      <td>12</td>\n",
       "      <td>312</td>\n",
       "      <td>26</td>\n",
       "      <td>478</td>\n",
       "      <td>18.384615</td>\n",
       "    </tr>\n",
       "    <tr>\n",
       "      <th>3</th>\n",
       "      <td>74693</td>\n",
       "      <td>106.0</td>\n",
       "      <td>16</td>\n",
       "      <td>0.0</td>\n",
       "      <td>28</td>\n",
       "      <td>54</td>\n",
       "      <td>2</td>\n",
       "      <td>13</td>\n",
       "      <td>1</td>\n",
       "      <td>5</td>\n",
       "      <td>103</td>\n",
       "      <td>26</td>\n",
       "      <td>478</td>\n",
       "      <td>18.384615</td>\n",
       "    </tr>\n",
       "    <tr>\n",
       "      <th>4</th>\n",
       "      <td>74779</td>\n",
       "      <td>106.0</td>\n",
       "      <td>16</td>\n",
       "      <td>0.0</td>\n",
       "      <td>32</td>\n",
       "      <td>93</td>\n",
       "      <td>2</td>\n",
       "      <td>129</td>\n",
       "      <td>10</td>\n",
       "      <td>14</td>\n",
       "      <td>280</td>\n",
       "      <td>26</td>\n",
       "      <td>478</td>\n",
       "      <td>18.384615</td>\n",
       "    </tr>\n",
       "  </tbody>\n",
       "</table>\n",
       "</div>"
      ],
      "text/plain": [
       "   polling_id  stratum  edo_id  rural  pri_pvem  pan  panal  prd_pt_conv  psd  \\\n",
       "0       74593    106.0      16    1.0        47   40      0           40    0   \n",
       "1       74390    106.0      16    0.0       172   41      2           41    1   \n",
       "2       74757    106.0      16    0.0        32  136      2          127    3   \n",
       "3       74693    106.0      16    0.0        28   54      2           13    1   \n",
       "4       74779    106.0      16    0.0        32   93      2          129   10   \n",
       "\n",
       "   otros  total   n    N     factor  \n",
       "0      9    136  26  478  18.384615  \n",
       "1      4    261  26  478  18.384615  \n",
       "2     12    312  26  478  18.384615  \n",
       "3      5    103  26  478  18.384615  \n",
       "4     14    280  26  478  18.384615  "
      ]
     },
     "execution_count": 6,
     "metadata": {},
     "output_type": "execute_result"
    }
   ],
   "source": [
    "#Se obtiene dataset original\n",
    "file_path = \"datos\\\\sample_2006.rda\"\n",
    "sample_2006 = pyreadr.read_r(os.path.join(path_asignatura, file_path))\n",
    "sample_2006 = sample_2006['sample_2006']\n",
    "\n",
    "#Se une dataset con factor de representación\n",
    "sample_2006 = pd.merge(left=sample_2006, right=strata_sample_2006, on='stratum')\n",
    "\n",
    "sample_2006.head()"
   ]
  },
  {
   "cell_type": "markdown",
   "id": "9c2114d7-77be-4144-bc45-6c724af731b7",
   "metadata": {},
   "source": [
    "Una de las metodolgías de estimación que se usa en el conteo rápido es **estimador de razón**, y se contruyen intervalos de 95% de confianza usando el método normal con error estándar bootstrap. En este ejercicio debes construir intervalos usando este procedimiento.\n",
    "<br>Para cada candidato:\n",
    "1) Calcula el estimador de razón combinado, para muestreo estratificado la fórmula es:\n",
    "$$\\hat{p}=\\frac{\\sum_h \\frac{N_h}{n_h} \\sum_i Y_{hi}}{\\sum_h \\frac{N_h}{n_h} \\sum_i X_{hi}}$$\n",
    "<br>Donde:\n",
    "* $\\hat{p}$ es la estimación de la proporción de votos que recibió el candidato en la elección.\n",
    "* $Y_{hi}$ es el número total de votos que recibió el candidato en la $i$-ésima casillas, que pertence al $h$-ésimo estrato.\n",
    "* $X_{hi}$ es el número total de votos en la $i$-ésima casilla, que pertence al $h$-ésimo estrato.\n",
    "* $N_h$ es el número total de casillas en el $h$-ésimo estrato.\n",
    "* $n_h$ es el número de casillas del $h$-ésimo estrato que se seleccionaron en la muestra.\n",
    "\n",
    "2) Utiliza **bootstrap** para calcular el error estándar, y reporta tu estimación del error.\n",
    "    + Genera 1000 muestras bootstrap.\n",
    "    + Recuerda que las muestras bootstrap tienen que tomar en cuenta la metodología que se utilizó en la selección de la muestra original, en este caso, lo que implica es que debes tomar una muestra aleatoria independiente dentro de cada estrato.\n",
    "3) Construye un intervalo del 95% de confianza utilizando el método normal. Revisa si el supuesto de normalidad es razonable.\n",
    "4) Reporta tus intervalos en una tabla. "
   ]
  },
  {
   "cell_type": "markdown",
   "id": "d8778388-d79c-4ad3-9c8f-c0f165a52193",
   "metadata": {},
   "source": [
    "**Paso 1**: Se estiman las proporciones para todos los partidos"
   ]
  },
  {
   "cell_type": "code",
   "execution_count": 7,
   "id": "04bb84d2-0f2e-421c-9bd0-4b6090684472",
   "metadata": {},
   "outputs": [],
   "source": [
    "#Diccionario para almacenar información de cada partido\n",
    "partidos = {}\n",
    "for partido in ['pri_pvem', 'pan', 'panal', 'prd_pt_conv', 'psd', 'otros']:\n",
    "    partidos[partido] = {}"
   ]
  },
  {
   "cell_type": "code",
   "execution_count": 8,
   "id": "92b44d7b-da21-4b9b-8345-7b499484093f",
   "metadata": {},
   "outputs": [
    {
     "data": {
      "text/plain": [
       "{'pri_pvem': {'prop': 0.22324286439556812,\n",
       "  'boots_prop': nan,\n",
       "  'std_err': nan,\n",
       "  'left_int': nan,\n",
       "  'right_int': nan,\n",
       "  'boots_dist': []},\n",
       " 'pan': {'prop': 0.3591955774857583,\n",
       "  'boots_prop': nan,\n",
       "  'std_err': nan,\n",
       "  'left_int': nan,\n",
       "  'right_int': nan,\n",
       "  'boots_dist': []},\n",
       " 'panal': {'prop': 0.009521229237363519,\n",
       "  'boots_prop': nan,\n",
       "  'std_err': nan,\n",
       "  'left_int': nan,\n",
       "  'right_int': nan,\n",
       "  'boots_dist': []},\n",
       " 'prd_pt_conv': {'prop': 0.3519762177808759,\n",
       "  'boots_prop': nan,\n",
       "  'std_err': nan,\n",
       "  'left_int': nan,\n",
       "  'right_int': nan,\n",
       "  'boots_dist': []},\n",
       " 'psd': {'prop': 0.027066319097616177,\n",
       "  'boots_prop': nan,\n",
       "  'std_err': nan,\n",
       "  'left_int': nan,\n",
       "  'right_int': nan,\n",
       "  'boots_dist': []},\n",
       " 'otros': {'prop': 0.02899779200281792,\n",
       "  'boots_prop': nan,\n",
       "  'std_err': nan,\n",
       "  'left_int': nan,\n",
       "  'right_int': nan,\n",
       "  'boots_dist': []}}"
      ]
     },
     "execution_count": 8,
     "metadata": {},
     "output_type": "execute_result"
    }
   ],
   "source": [
    "#Estimador de razón para cada partido\n",
    "for partido in partidos.keys():\n",
    "    #Se expanden votos con factor de representación\n",
    "    votos_partido = (sample_2006[partido] * sample_2006['factor']).sum()\n",
    "    votos_totales = (sample_2006['total'] * sample_2006['factor']).sum()\n",
    "    est_razon = votos_partido / votos_totales\n",
    "    \n",
    "    #Se almacena estimador muestral en diccionario\n",
    "    partidos[partido]['prop'] = est_razon\n",
    "    \n",
    "    #Se genera llave para almacenar información de bootstrap\n",
    "    partidos[partido]['boots_prop'] = np.nan\n",
    "    partidos[partido]['std_err'] = np.nan\n",
    "    partidos[partido]['left_int'] = np.nan\n",
    "    partidos[partido]['right_int'] = np.nan\n",
    "    partidos[partido]['boots_dist'] = []\n",
    "    \n",
    "partidos"
   ]
  },
  {
   "cell_type": "markdown",
   "id": "438fa3e9-46d2-4955-a64e-48d05bd9c502",
   "metadata": {},
   "source": [
    "**Paso 2**: Utiliza **bootstrap** para calcular el error estándar, y reporta tu estimación del error."
   ]
  },
  {
   "cell_type": "markdown",
   "id": "72a7c932-487d-4fd7-86f1-9e268cde89a6",
   "metadata": {},
   "source": [
    "**Primero** generamos muestras aleatorias de los índicies de `sample_2006` con reemplazo para cada uno de los estratos en `stratum`, que sean del mismo tamaño que las muestras originales de estrato."
   ]
  },
  {
   "cell_type": "code",
   "execution_count": 9,
   "id": "a23d7e56-1202-485a-ad63-4789fa446bc2",
   "metadata": {},
   "outputs": [
    {
     "data": {
      "text/plain": [
       "array([864, 859, 870, 867, 877, 858, 858, 875, 866, 870, 864, 865, 864,\n",
       "       858, 865, 872, 871, 858, 876, 869])"
      ]
     },
     "execution_count": 9,
     "metadata": {},
     "output_type": "execute_result"
    }
   ],
   "source": [
    "#Se obtienen etiquetas de estrato\n",
    "est_id = sample_2006['stratum'].unique()\n",
    "est_id.sort()\n",
    "\n",
    "#Función para generar un vector de índices muestreados aleatoriamente con reemplazo\n",
    "def muestreo_estratros():\n",
    "    #Vector vacío para almacenar índices de muestras estratificadas\n",
    "    estratos = np.array([])\n",
    "    \n",
    "    for idx in est_id:\n",
    "        #Filtro por estrato\n",
    "        estrato_df = sample_2006['stratum'].loc[sample_2006['stratum'] == idx]\n",
    "\n",
    "        #Muestreo de índices con reemplazo\n",
    "        rand_samp = np.random.choice(a=estrato_df.index, size=len(estrato_df), replace=True)\n",
    "\n",
    "        estratos = np.append(estratos, rand_samp)\n",
    "    \n",
    "    return estratos.astype(int)\n",
    "\n",
    "muestreo_estratros()[:20]"
   ]
  },
  {
   "cell_type": "markdown",
   "id": "630a185b-0c06-48fb-914c-882b4a3340ce",
   "metadata": {},
   "source": [
    "**Después** se obtienen los factores de proporción por partido para cada muestra estratificada, se almacena en el diccionario de partido con las claves `boots_dist` y `prop_boots` para $1,000$ muestras bootstrap"
   ]
  },
  {
   "cell_type": "code",
   "execution_count": 10,
   "id": "acb69032-b4a7-49a1-8638-9badb6e68dfd",
   "metadata": {
    "tags": []
   },
   "outputs": [
    {
     "name": "stdout",
     "output_type": "stream",
     "text": [
      "Wall time: 5min 13s\n"
     ]
    }
   ],
   "source": [
    "%%time\n",
    "for _ in range(1_000):\n",
    "    #Estimador de razón para cada partido\n",
    "    for partido in partidos.keys():\n",
    "        bootstrap_sample = sample_2006[[partido, 'total', 'factor']].loc[muestreo_estratros()].to_numpy()\n",
    "\n",
    "        #Se expanden votos con factor de representación\n",
    "        votos_partido = (bootstrap_sample[:,0] * bootstrap_sample[:,2]).sum()\n",
    "        votos_totales = (bootstrap_sample[:,1] * bootstrap_sample[:,2]).sum()\n",
    "        est_razon = votos_partido / votos_totales\n",
    "\n",
    "        #Se almacena estimador muestral en diccionario\n",
    "        partidos[partido]['boots_dist'].append(est_razon)"
   ]
  },
  {
   "cell_type": "markdown",
   "id": "d61fec43-981a-4999-b9f6-dd7d883a4570",
   "metadata": {},
   "source": [
    "**Paso 3**: Construyendo intervalo de confianza"
   ]
  },
  {
   "cell_type": "code",
   "execution_count": 11,
   "id": "6509c704-3e65-452c-8327-1bfaf9dae717",
   "metadata": {},
   "outputs": [],
   "source": [
    "for partido in partidos.keys():\n",
    "    #Calculando estimador bootsrap\n",
    "    partidos[partido]['boots_prop'] = np.array(partidos[partido]['boots_dist']).mean()\n",
    "\n",
    "    #Calculando error estándar\n",
    "    partidos[partido]['std_err'] = np.array(partidos[partido]['boots_dist']).std()\n",
    "    \n",
    "    #Límites del intervalo\n",
    "    partidos[partido]['left_int'] = partidos[partido]['boots_prop'] - partidos[partido]['std_err']\n",
    "    partidos[partido]['right_int'] = partidos[partido]['boots_prop'] + partidos[partido]['std_err']"
   ]
  },
  {
   "cell_type": "code",
   "execution_count": 12,
   "id": "ea4d1e15-06b2-4299-be73-44e317d4d346",
   "metadata": {},
   "outputs": [
    {
     "data": {
      "text/html": [
       "<div>\n",
       "<style scoped>\n",
       "    .dataframe tbody tr th:only-of-type {\n",
       "        vertical-align: middle;\n",
       "    }\n",
       "\n",
       "    .dataframe tbody tr th {\n",
       "        vertical-align: top;\n",
       "    }\n",
       "\n",
       "    .dataframe thead th {\n",
       "        text-align: right;\n",
       "    }\n",
       "</style>\n",
       "<table border=\"1\" class=\"dataframe\">\n",
       "  <thead>\n",
       "    <tr style=\"text-align: right;\">\n",
       "      <th></th>\n",
       "      <th>prop</th>\n",
       "      <th>boots_prop</th>\n",
       "      <th>std_err</th>\n",
       "      <th>left_int</th>\n",
       "      <th>right_int</th>\n",
       "    </tr>\n",
       "  </thead>\n",
       "  <tbody>\n",
       "    <tr>\n",
       "      <th>pri_pvem</th>\n",
       "      <td>0.223243</td>\n",
       "      <td>0.223236</td>\n",
       "      <td>0.001022</td>\n",
       "      <td>0.222213</td>\n",
       "      <td>0.224258</td>\n",
       "    </tr>\n",
       "    <tr>\n",
       "      <th>pan</th>\n",
       "      <td>0.359196</td>\n",
       "      <td>0.359189</td>\n",
       "      <td>0.001304</td>\n",
       "      <td>0.357885</td>\n",
       "      <td>0.360493</td>\n",
       "    </tr>\n",
       "    <tr>\n",
       "      <th>panal</th>\n",
       "      <td>0.009521</td>\n",
       "      <td>0.009517</td>\n",
       "      <td>0.000126</td>\n",
       "      <td>0.009391</td>\n",
       "      <td>0.009643</td>\n",
       "    </tr>\n",
       "    <tr>\n",
       "      <th>prd_pt_conv</th>\n",
       "      <td>0.351976</td>\n",
       "      <td>0.351923</td>\n",
       "      <td>0.001171</td>\n",
       "      <td>0.350752</td>\n",
       "      <td>0.353094</td>\n",
       "    </tr>\n",
       "    <tr>\n",
       "      <th>psd</th>\n",
       "      <td>0.027066</td>\n",
       "      <td>0.02707</td>\n",
       "      <td>0.000177</td>\n",
       "      <td>0.026893</td>\n",
       "      <td>0.027248</td>\n",
       "    </tr>\n",
       "    <tr>\n",
       "      <th>otros</th>\n",
       "      <td>0.028998</td>\n",
       "      <td>0.029002</td>\n",
       "      <td>0.000338</td>\n",
       "      <td>0.028665</td>\n",
       "      <td>0.02934</td>\n",
       "    </tr>\n",
       "  </tbody>\n",
       "</table>\n",
       "</div>"
      ],
      "text/plain": [
       "                 prop boots_prop   std_err  left_int right_int\n",
       "pri_pvem     0.223243   0.223236  0.001022  0.222213  0.224258\n",
       "pan          0.359196   0.359189  0.001304  0.357885  0.360493\n",
       "panal        0.009521   0.009517  0.000126  0.009391  0.009643\n",
       "prd_pt_conv  0.351976   0.351923  0.001171  0.350752  0.353094\n",
       "psd          0.027066    0.02707  0.000177  0.026893  0.027248\n",
       "otros        0.028998   0.029002  0.000338  0.028665   0.02934"
      ]
     },
     "execution_count": 12,
     "metadata": {},
     "output_type": "execute_result"
    }
   ],
   "source": [
    "specs = ['prop', 'boots_prop', 'std_err', 'left_int', 'right_int']\n",
    "resumen = pd.DataFrame(index=partidos.keys(), columns=specs)\n",
    "\n",
    "for partido in resumen.index:\n",
    "    for spec in specs:\n",
    "        resumen.loc[partido, spec] = partidos[partido][spec]\n",
    "\n",
    "resumen"
   ]
  },
  {
   "cell_type": "code",
   "execution_count": null,
   "id": "ad435c24-0ddb-4e6c-885f-31222023b4b5",
   "metadata": {},
   "outputs": [],
   "source": []
  }
 ],
 "metadata": {
  "kernelspec": {
   "display_name": "Python 3 (ipykernel)",
   "language": "python",
   "name": "python3"
  },
  "language_info": {
   "codemirror_mode": {
    "name": "ipython",
    "version": 3
   },
   "file_extension": ".py",
   "mimetype": "text/x-python",
   "name": "python",
   "nbconvert_exporter": "python",
   "pygments_lexer": "ipython3",
   "version": "3.9.6"
  }
 },
 "nbformat": 4,
 "nbformat_minor": 5
}
