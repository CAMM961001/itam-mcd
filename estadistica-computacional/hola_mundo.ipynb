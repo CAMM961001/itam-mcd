{
 "cells": [
  {
   "cell_type": "markdown",
   "id": "043fb3c9-c979-468f-848a-19df215c536a",
   "metadata": {},
   "source": [
    "# Archivo de prueba\n",
    "\n",
    "Este libro se creó para probar el adecuado funcionamiento de jupyter lab desde un contenedor de Docker que se está ejecutando en AWS EC2"
   ]
  },
  {
   "cell_type": "code",
   "execution_count": 1,
   "id": "b299c615-539c-45b6-b756-37e9a37c9af0",
   "metadata": {},
   "outputs": [
    {
     "name": "stdout",
     "output_type": "stream",
     "text": [
      "Hola mundo!\n"
     ]
    }
   ],
   "source": [
    "print(\"Hola mundo!\")"
   ]
  },
  {
   "cell_type": "markdown",
   "id": "f673167e-9362-427d-88ff-4daf7d5926ed",
   "metadata": {},
   "source": [
    "___"
   ]
  }
 ],
 "metadata": {
  "kernelspec": {
   "display_name": "Python 3 (ipykernel)",
   "language": "python",
   "name": "python3"
  },
  "language_info": {
   "codemirror_mode": {
    "name": "ipython",
    "version": 3
   },
   "file_extension": ".py",
   "mimetype": "text/x-python",
   "name": "python",
   "nbconvert_exporter": "python",
   "pygments_lexer": "ipython3",
   "version": "3.10.5"
  }
 },
 "nbformat": 4,
 "nbformat_minor": 5
}
