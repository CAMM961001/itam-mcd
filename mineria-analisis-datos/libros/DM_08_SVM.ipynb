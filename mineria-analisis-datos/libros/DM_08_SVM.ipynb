{
  "nbformat": 4,
  "nbformat_minor": 0,
  "metadata": {
    "colab": {
      "provenance": [],
      "collapsed_sections": []
    },
    "kernelspec": {
      "name": "python3",
      "display_name": "Python 3"
    },
    "language_info": {
      "name": "python"
    }
  },
  "cells": [
    {
      "cell_type": "code",
      "metadata": {
        "id": "glVe2E6ySpTP"
      },
      "source": [
        "import numpy as np\n",
        "import matplotlib.pyplot as plt\n",
        "from sklearn.model_selection import train_test_split, GridSearchCV\n",
        "from sklearn.svm import SVC"
      ],
      "execution_count": null,
      "outputs": []
    },
    {
      "cell_type": "code",
      "metadata": {
        "colab": {
          "base_uri": "https://localhost:8080/",
          "height": 280
        },
        "id": "gDNOtk2FTRDv",
        "outputId": "6d529ddf-8337-4c12-8d73-2d64cab345e2"
      },
      "source": [
        "# Create a XOR dataset\n",
        "X = np.random.randn(1000, 2)\n",
        "Y = np.array([1 if int(np.logical_xor(x[0] > 0, x[1] > 0)) else -1 for x in X])\n",
        "\n",
        "plt.figure(figsize=(8, 4))\n",
        "plt.scatter(X[Y==-1, 0], X[Y==-1, 1], s=10, label='-1')\n",
        "plt.scatter(X[Y==1, 0], X[Y==1, 1], s=10, label='1')\n",
        "plt.legend()\n",
        "plt.grid(True)\n",
        "plt.xlabel('x1')\n",
        "plt.ylabel('x2')\n",
        "plt.show()"
      ],
      "execution_count": null,
      "outputs": [
        {
          "output_type": "display_data",
          "data": {
            "text/plain": [
              "<Figure size 576x288 with 1 Axes>"
            ],
            "image/png": "[encoded data removed]"
          },
          "metadata": {
            "needs_background": "light"
          }
        }
      ]
    },
    {
      "cell_type": "code",
      "metadata": {
        "colab": {
          "base_uri": "https://localhost:8080/"
        },
        "id": "n7-Hi2BmTUrd",
        "outputId": "6ceb410d-3fd5-457e-9cc1-247779d6790c"
      },
      "source": [
        "# Split dataset\n",
        "x_train, x_test, y_train, y_test = train_test_split(X, Y, test_size=0.1)\n",
        "x_train, x_val, y_train, y_val = train_test_split(x_train, y_train, test_size=0.1)\n",
        "\n",
        "print(x_train.shape)\n",
        "print(x_val.shape)\n",
        "print(x_test.shape)\n",
        "print(y_train.shape)\n",
        "print(y_val.shape)\n",
        "print(y_test.shape)"
      ],
      "execution_count": null,
      "outputs": [
        {
          "output_type": "stream",
          "name": "stdout",
          "text": [
            "(810, 2)\n",
            "(90, 2)\n",
            "(100, 2)\n",
            "(810,)\n",
            "(90,)\n",
            "(100,)\n"
          ]
        }
      ]
    },
    {
      "cell_type": "markdown",
      "metadata": {
        "id": "FEmnVOw6XJqq"
      },
      "source": [
        "# Part 2: Classification"
      ]
    },
    {
      "cell_type": "code",
      "metadata": {
        "colab": {
          "base_uri": "https://localhost:8080/"
        },
        "id": "Qt_JmIokV0xU",
        "outputId": "79fb03ae-2671-451d-9c2f-938d116f2135"
      },
      "source": [
        "# Create a linear SVM and train it\n",
        "lin_svm = SVC(kernel='linear')\n",
        "lin_svm.fit(x_train, y_train)\n",
        "\n",
        "# Print performance\n",
        "print(f\"Training mean accuracy: {lin_svm.score(x_train, y_train):6.4f}\")\n",
        "print(f\"Test mean accuracy: {lin_svm.score(x_val, y_val):6.4f}\")"
      ],
      "execution_count": null,
      "outputs": [
        {
          "output_type": "stream",
          "name": "stdout",
          "text": [
            "Training mean accuracy: 0.5309\n",
            "Test mean accuracy: 0.5222\n"
          ]
        }
      ]
    },
    {
      "cell_type": "code",
      "metadata": {
        "id": "cqKTo7I1W1QC"
      },
      "source": [
        "# Encuentra el mejor SVM utilizando grid search\n",
        "# Guíate por el desempeño en el set de entrenamiento y validación.\n",
        "# Prueba los siguientes hyperparámetros.\n",
        "# kernel = linear, polynomial, rbf\n",
        "# C = 0.001, 0.01, 0.1, 1.0, 10, 100\n",
        "# grado del polinomio = 1, 2, 3, 4, 5, 6 (solo para el kernel polinomial)\n",
        "# gamma = auto, scale\n",
        "# coef0 (r) = 0, 1/4, 1/2, 1, 2"
      ],
      "execution_count": null,
      "outputs": []
    },
    {
      "cell_type": "code",
      "metadata": {
        "id": "fehVJTIZZEmP"
      },
      "source": [
        "# Define grid search parameters\n"
      ],
      "execution_count": null,
      "outputs": []
    },
    {
      "cell_type": "code",
      "metadata": {
        "id": "U_mFhIYkaG_y"
      },
      "source": [
        "# Create and train the classifiers with grid search\n",
        "gs = GridSearchCV(SVC(), param_grid)\n",
        "gs.fit(x_train, y_train)"
      ],
      "execution_count": null,
      "outputs": []
    },
    {
      "cell_type": "code",
      "metadata": {
        "id": "WgCYpURZbCH2",
        "colab": {
          "base_uri": "https://localhost:8080/"
        },
        "outputId": "773b1399-c907-4ae7-d51a-f16d618912c9"
      },
      "source": [
        "# Print info about best score and best hyperparameters\n",
        "print(f\"Best score: {gs.best_score_:.4f}\")\n",
        "print(f\"Best params: {gs.best_params_}\")"
      ],
      "execution_count": null,
      "outputs": [
        {
          "output_type": "stream",
          "name": "stdout",
          "text": [
            "Best score: 0.9864\n",
            "Best params: {'C': 100, 'degree': 2, 'gamma': 'auto', 'kernel': 'poly'}\n"
          ]
        }
      ]
    },
    {
      "cell_type": "code",
      "metadata": {
        "colab": {
          "base_uri": "https://localhost:8080/"
        },
        "id": "jclaEUreczue",
        "outputId": "2cac7988-dac8-43b5-c63b-dda93228d74f"
      },
      "source": [
        "# Evaluate on the test set\n",
        "best_svm = gs.best_estimator_\n",
        "best_svm.fit(x_train, y_train)\n",
        "\n",
        "print(f\"Train mean accuracy: {best_svm.score(x_train, y_train):.3f}\")\n",
        "print(f\"Validation mean accuracy: {best_svm.score(x_val, y_val):.3f}\")\n",
        "print(f\"Test mean accuracy: {best_svm.score(x_test, y_test):.3f}\")"
      ],
      "execution_count": null,
      "outputs": [
        {
          "output_type": "stream",
          "name": "stdout",
          "text": [
            "Train mean accuracy: 0.986\n",
            "Validation mean accuracy: 0.967\n",
            "Test mean accuracy: 0.970\n"
          ]
        }
      ]
    },
    {
      "cell_type": "code",
      "source": [],
      "metadata": {
        "id": "dG_dKzOio8Hq"
      },
      "execution_count": null,
      "outputs": []
    }
  ]
}