{
 "cells": [
  {
   "cell_type": "markdown",
   "id": "9fe980bb-bde3-433d-bff9-dfc5038ec73e",
   "metadata": {},
   "source": [
    "# Limpieza de tablas"
   ]
  },
  {
   "cell_type": "code",
   "execution_count": 1,
   "id": "165c3cf8-1137-437c-8dc9-bc2ef343ca50",
   "metadata": {},
   "outputs": [],
   "source": [
    "import os\n",
    "import numpy as np\n",
    "import pandas as pd"
   ]
  },
  {
   "cell_type": "code",
   "execution_count": 2,
   "id": "3789ae6e-40c6-4c53-b31e-1ecdbb011889",
   "metadata": {},
   "outputs": [
    {
     "data": {
      "text/plain": [
       "['circuits.csv',\n",
       " 'constructors.csv',\n",
       " 'constructor_results.csv',\n",
       " 'constructor_standings.csv',\n",
       " 'drivers.csv',\n",
       " 'driver_standings.csv',\n",
       " 'lap_times.csv',\n",
       " 'pit_stops.csv',\n",
       " 'qualifying.csv',\n",
       " 'races.csv',\n",
       " 'results.csv',\n",
       " 'seasons.csv',\n",
       " 'sprint_results.csv',\n",
       " 'status.csv']"
      ]
     },
     "execution_count": 2,
     "metadata": {},
     "output_type": "execute_result"
    }
   ],
   "source": [
    "path_originales = \"originales\"\n",
    "os.listdir(path_originales)"
   ]
  },
  {
   "cell_type": "markdown",
   "id": "2aabca9d-f247-4c11-9371-768625327a41",
   "metadata": {},
   "source": [
    "## Circuitos\n",
    "Variables y tipo de variable en la tabla.\n",
    "\n",
    "**Observaciones**:\n",
    "* La tabla original cuenta con una variable `alt: altitud`, que debería ser entera. Sin embargo, tiene valores nulos identificados como `\\\\N`, estos serán remplazados por `np.nan` para todas las tablas de la BD"
   ]
  },
  {
   "cell_type": "code",
   "execution_count": 3,
   "id": "c281c29e-f6fb-4920-b7b9-2e08fe817972",
   "metadata": {},
   "outputs": [
    {
     "data": {
      "text/html": [
       "<div>\n",
       "<style scoped>\n",
       "    .dataframe tbody tr th:only-of-type {\n",
       "        vertical-align: middle;\n",
       "    }\n",
       "\n",
       "    .dataframe tbody tr th {\n",
       "        vertical-align: top;\n",
       "    }\n",
       "\n",
       "    .dataframe thead th {\n",
       "        text-align: right;\n",
       "    }\n",
       "</style>\n",
       "<table border=\"1\" class=\"dataframe\">\n",
       "  <thead>\n",
       "    <tr style=\"text-align: right;\">\n",
       "      <th></th>\n",
       "      <th>circuitId</th>\n",
       "      <th>circuitRef</th>\n",
       "      <th>name</th>\n",
       "      <th>location</th>\n",
       "      <th>country</th>\n",
       "      <th>lat</th>\n",
       "      <th>lng</th>\n",
       "      <th>alt</th>\n",
       "      <th>url</th>\n",
       "    </tr>\n",
       "  </thead>\n",
       "  <tbody>\n",
       "    <tr>\n",
       "      <th>0</th>\n",
       "      <td>1</td>\n",
       "      <td>albert_park</td>\n",
       "      <td>Albert Park Grand Prix Circuit</td>\n",
       "      <td>Melbourne</td>\n",
       "      <td>Australia</td>\n",
       "      <td>-37.84970</td>\n",
       "      <td>144.96800</td>\n",
       "      <td>10.0</td>\n",
       "      <td>http://en.wikipedia.org/wiki/Melbourne_Grand_P...</td>\n",
       "    </tr>\n",
       "    <tr>\n",
       "      <th>1</th>\n",
       "      <td>2</td>\n",
       "      <td>sepang</td>\n",
       "      <td>Sepang International Circuit</td>\n",
       "      <td>Kuala Lumpur</td>\n",
       "      <td>Malaysia</td>\n",
       "      <td>2.76083</td>\n",
       "      <td>101.73800</td>\n",
       "      <td>18.0</td>\n",
       "      <td>http://en.wikipedia.org/wiki/Sepang_Internatio...</td>\n",
       "    </tr>\n",
       "    <tr>\n",
       "      <th>2</th>\n",
       "      <td>3</td>\n",
       "      <td>bahrain</td>\n",
       "      <td>Bahrain International Circuit</td>\n",
       "      <td>Sakhir</td>\n",
       "      <td>Bahrain</td>\n",
       "      <td>26.03250</td>\n",
       "      <td>50.51060</td>\n",
       "      <td>7.0</td>\n",
       "      <td>http://en.wikipedia.org/wiki/Bahrain_Internati...</td>\n",
       "    </tr>\n",
       "    <tr>\n",
       "      <th>3</th>\n",
       "      <td>4</td>\n",
       "      <td>catalunya</td>\n",
       "      <td>Circuit de Barcelona-Catalunya</td>\n",
       "      <td>Montmeló</td>\n",
       "      <td>Spain</td>\n",
       "      <td>41.57000</td>\n",
       "      <td>2.26111</td>\n",
       "      <td>109.0</td>\n",
       "      <td>http://en.wikipedia.org/wiki/Circuit_de_Barcel...</td>\n",
       "    </tr>\n",
       "    <tr>\n",
       "      <th>4</th>\n",
       "      <td>5</td>\n",
       "      <td>istanbul</td>\n",
       "      <td>Istanbul Park</td>\n",
       "      <td>Istanbul</td>\n",
       "      <td>Turkey</td>\n",
       "      <td>40.95170</td>\n",
       "      <td>29.40500</td>\n",
       "      <td>130.0</td>\n",
       "      <td>http://en.wikipedia.org/wiki/Istanbul_Park</td>\n",
       "    </tr>\n",
       "  </tbody>\n",
       "</table>\n",
       "</div>"
      ],
      "text/plain": [
       "   circuitId   circuitRef                            name      location  \\\n",
       "0          1  albert_park  Albert Park Grand Prix Circuit     Melbourne   \n",
       "1          2       sepang    Sepang International Circuit  Kuala Lumpur   \n",
       "2          3      bahrain   Bahrain International Circuit        Sakhir   \n",
       "3          4    catalunya  Circuit de Barcelona-Catalunya      Montmeló   \n",
       "4          5     istanbul                   Istanbul Park      Istanbul   \n",
       "\n",
       "     country       lat        lng    alt  \\\n",
       "0  Australia -37.84970  144.96800   10.0   \n",
       "1   Malaysia   2.76083  101.73800   18.0   \n",
       "2    Bahrain  26.03250   50.51060    7.0   \n",
       "3      Spain  41.57000    2.26111  109.0   \n",
       "4     Turkey  40.95170   29.40500  130.0   \n",
       "\n",
       "                                                 url  \n",
       "0  http://en.wikipedia.org/wiki/Melbourne_Grand_P...  \n",
       "1  http://en.wikipedia.org/wiki/Sepang_Internatio...  \n",
       "2  http://en.wikipedia.org/wiki/Bahrain_Internati...  \n",
       "3  http://en.wikipedia.org/wiki/Circuit_de_Barcel...  \n",
       "4         http://en.wikipedia.org/wiki/Istanbul_Park  "
      ]
     },
     "execution_count": 3,
     "metadata": {},
     "output_type": "execute_result"
    }
   ],
   "source": [
    "circuits = pd.read_csv(os.path.join(path_originales, 'circuits.csv'))\n",
    "\n",
    "#Se reemplaza \\\\N por np.nan\n",
    "circuits.replace(to_replace='\\\\N', value=np.nan, inplace=True)\n",
    "\n",
    "#Se convierte columna de altitud a numérica\n",
    "circuits['alt'] = circuits['alt'].astype('float')\n",
    "\n",
    "circuits.head()"
   ]
  },
  {
   "cell_type": "code",
   "execution_count": 4,
   "id": "8a78e030-46d9-46ce-9853-2869d0ee62a5",
   "metadata": {},
   "outputs": [
    {
     "data": {
      "text/plain": [
       "circuitId       int64\n",
       "circuitRef     object\n",
       "name           object\n",
       "location       object\n",
       "country        object\n",
       "lat           float64\n",
       "lng           float64\n",
       "alt           float64\n",
       "url            object\n",
       "dtype: object"
      ]
     },
     "execution_count": 4,
     "metadata": {},
     "output_type": "execute_result"
    }
   ],
   "source": [
    "circuits.dtypes"
   ]
  },
  {
   "cell_type": "code",
   "execution_count": 5,
   "id": "f71359aa-4c78-49fe-86d3-8d7db39759a2",
   "metadata": {},
   "outputs": [
    {
     "data": {
      "text/html": [
       "<div>\n",
       "<style scoped>\n",
       "    .dataframe tbody tr th:only-of-type {\n",
       "        vertical-align: middle;\n",
       "    }\n",
       "\n",
       "    .dataframe tbody tr th {\n",
       "        vertical-align: top;\n",
       "    }\n",
       "\n",
       "    .dataframe thead th {\n",
       "        text-align: right;\n",
       "    }\n",
       "</style>\n",
       "<table border=\"1\" class=\"dataframe\">\n",
       "  <thead>\n",
       "    <tr style=\"text-align: right;\">\n",
       "      <th></th>\n",
       "      <th>circuitId</th>\n",
       "      <th>lat</th>\n",
       "      <th>lng</th>\n",
       "      <th>alt</th>\n",
       "    </tr>\n",
       "  </thead>\n",
       "  <tbody>\n",
       "    <tr>\n",
       "      <th>count</th>\n",
       "      <td>76.000000</td>\n",
       "      <td>76.000000</td>\n",
       "      <td>76.000000</td>\n",
       "      <td>74.000000</td>\n",
       "    </tr>\n",
       "    <tr>\n",
       "      <th>mean</th>\n",
       "      <td>39.355263</td>\n",
       "      <td>33.407770</td>\n",
       "      <td>2.606284</td>\n",
       "      <td>248.189189</td>\n",
       "    </tr>\n",
       "    <tr>\n",
       "      <th>std</th>\n",
       "      <td>22.680214</td>\n",
       "      <td>22.958321</td>\n",
       "      <td>64.553438</td>\n",
       "      <td>365.041851</td>\n",
       "    </tr>\n",
       "    <tr>\n",
       "      <th>min</th>\n",
       "      <td>1.000000</td>\n",
       "      <td>-37.849700</td>\n",
       "      <td>-118.189000</td>\n",
       "      <td>-7.000000</td>\n",
       "    </tr>\n",
       "    <tr>\n",
       "      <th>25%</th>\n",
       "      <td>19.750000</td>\n",
       "      <td>32.417775</td>\n",
       "      <td>-9.250838</td>\n",
       "      <td>19.250000</td>\n",
       "    </tr>\n",
       "    <tr>\n",
       "      <th>50%</th>\n",
       "      <td>39.500000</td>\n",
       "      <td>41.061100</td>\n",
       "      <td>4.128885</td>\n",
       "      <td>129.500000</td>\n",
       "    </tr>\n",
       "    <tr>\n",
       "      <th>75%</th>\n",
       "      <td>58.250000</td>\n",
       "      <td>47.020150</td>\n",
       "      <td>21.404850</td>\n",
       "      <td>315.500000</td>\n",
       "    </tr>\n",
       "    <tr>\n",
       "      <th>max</th>\n",
       "      <td>79.000000</td>\n",
       "      <td>57.265300</td>\n",
       "      <td>144.968000</td>\n",
       "      <td>2227.000000</td>\n",
       "    </tr>\n",
       "  </tbody>\n",
       "</table>\n",
       "</div>"
      ],
      "text/plain": [
       "       circuitId        lat         lng          alt\n",
       "count  76.000000  76.000000   76.000000    74.000000\n",
       "mean   39.355263  33.407770    2.606284   248.189189\n",
       "std    22.680214  22.958321   64.553438   365.041851\n",
       "min     1.000000 -37.849700 -118.189000    -7.000000\n",
       "25%    19.750000  32.417775   -9.250838    19.250000\n",
       "50%    39.500000  41.061100    4.128885   129.500000\n",
       "75%    58.250000  47.020150   21.404850   315.500000\n",
       "max    79.000000  57.265300  144.968000  2227.000000"
      ]
     },
     "execution_count": 5,
     "metadata": {},
     "output_type": "execute_result"
    }
   ],
   "source": [
    "circuits.describe()"
   ]
  },
  {
   "cell_type": "markdown",
   "id": "a790f231-8447-49ac-a56e-4b17a0c88980",
   "metadata": {},
   "source": [
    "**Acerca de variables numéricas**:\n",
    "* Tanto `circuitId`, como `lat`, y `lng` están completas.\n",
    "* `alt` tiene 2 valores faltantes, mismo que se pueden obtener de `url`"
   ]
  },
  {
   "cell_type": "code",
   "execution_count": 6,
   "id": "e3197e6d-f7c5-4736-b5d2-30787f0aa8de",
   "metadata": {},
   "outputs": [
    {
     "name": "stdout",
     "output_type": "stream",
     "text": [
      "Valores faltantes en 'alt': 2\n",
      "\n"
     ]
    }
   ],
   "source": [
    "print(f\"Valores faltantes en 'alt': {circuits['alt'].isna().sum()}\\n\")"
   ]
  },
  {
   "cell_type": "code",
   "execution_count": 7,
   "id": "d2808b7f-94a3-4d32-ba51-83209d967e69",
   "metadata": {},
   "outputs": [
    {
     "data": {
      "text/html": [
       "<div>\n",
       "<style scoped>\n",
       "    .dataframe tbody tr th:only-of-type {\n",
       "        vertical-align: middle;\n",
       "    }\n",
       "\n",
       "    .dataframe tbody tr th {\n",
       "        vertical-align: top;\n",
       "    }\n",
       "\n",
       "    .dataframe thead th {\n",
       "        text-align: right;\n",
       "    }\n",
       "</style>\n",
       "<table border=\"1\" class=\"dataframe\">\n",
       "  <thead>\n",
       "    <tr style=\"text-align: right;\">\n",
       "      <th></th>\n",
       "      <th>circuitId</th>\n",
       "      <th>circuitRef</th>\n",
       "      <th>name</th>\n",
       "      <th>location</th>\n",
       "      <th>country</th>\n",
       "      <th>lat</th>\n",
       "      <th>lng</th>\n",
       "      <th>alt</th>\n",
       "      <th>url</th>\n",
       "    </tr>\n",
       "  </thead>\n",
       "  <tbody>\n",
       "    <tr>\n",
       "      <th>74</th>\n",
       "      <td>78</td>\n",
       "      <td>losail</td>\n",
       "      <td>Losail International Circuit</td>\n",
       "      <td>Al Daayen</td>\n",
       "      <td>Qatar</td>\n",
       "      <td>25.4900</td>\n",
       "      <td>51.4542</td>\n",
       "      <td>NaN</td>\n",
       "      <td>http://en.wikipedia.org/wiki/Losail_Internatio...</td>\n",
       "    </tr>\n",
       "    <tr>\n",
       "      <th>75</th>\n",
       "      <td>79</td>\n",
       "      <td>miami</td>\n",
       "      <td>Miami International Autodrome</td>\n",
       "      <td>Miami</td>\n",
       "      <td>USA</td>\n",
       "      <td>25.9581</td>\n",
       "      <td>-80.2389</td>\n",
       "      <td>NaN</td>\n",
       "      <td>http://en.wikipedia.org/wiki/Miami_Internation...</td>\n",
       "    </tr>\n",
       "  </tbody>\n",
       "</table>\n",
       "</div>"
      ],
      "text/plain": [
       "    circuitId circuitRef                           name   location country  \\\n",
       "74         78     losail   Losail International Circuit  Al Daayen   Qatar   \n",
       "75         79      miami  Miami International Autodrome      Miami     USA   \n",
       "\n",
       "        lat      lng  alt                                                url  \n",
       "74  25.4900  51.4542  NaN  http://en.wikipedia.org/wiki/Losail_Internatio...  \n",
       "75  25.9581 -80.2389  NaN  http://en.wikipedia.org/wiki/Miami_Internation...  "
      ]
     },
     "execution_count": 7,
     "metadata": {},
     "output_type": "execute_result"
    }
   ],
   "source": [
    "#Se obtienen ID's de los circuitos faltantes\n",
    "circuits.loc[circuits['alt'].isna()]"
   ]
  },
  {
   "cell_type": "markdown",
   "id": "bd350d95-8354-4251-8005-8eb4d2d0b41d",
   "metadata": {},
   "source": [
    "La altura de los circuitos faltantes se obtiene de la información geográfica de las ciudades en las que se corren el GP:\n",
    "* **Losail International Circuit**, cercano a Doha, Catar. **13 m** de altura, [referencia](https://dateandtime.info/es/citycoordinates.php?id=290030#:~:text=Coordenadas%20geogr%C3%A1ficas%20de%20Doha%2C%20Catar%20Latitud%3A%2025%C2%B016%E2%80%B245%E2%80%B3%20N,Altitud%20sobre%20el%20nivel%20del%20mar%3A%2013%20m)\n",
    "* **Miami International Autodrome**, cercano al Hard Rock Stadium de los Miami Dolphins. **3m** de altura, [referencia](https://elevation.maplogs.com/poi/hard_rock_stadium_don_shula_dr_miami_gardens_fl_usa.416642.html)"
   ]
  },
  {
   "cell_type": "code",
   "execution_count": 8,
   "id": "05528ed7-9d51-488e-8968-7106da3224f0",
   "metadata": {},
   "outputs": [
    {
     "data": {
      "text/html": [
       "<div>\n",
       "<style scoped>\n",
       "    .dataframe tbody tr th:only-of-type {\n",
       "        vertical-align: middle;\n",
       "    }\n",
       "\n",
       "    .dataframe tbody tr th {\n",
       "        vertical-align: top;\n",
       "    }\n",
       "\n",
       "    .dataframe thead th {\n",
       "        text-align: right;\n",
       "    }\n",
       "</style>\n",
       "<table border=\"1\" class=\"dataframe\">\n",
       "  <thead>\n",
       "    <tr style=\"text-align: right;\">\n",
       "      <th></th>\n",
       "      <th>circuitId</th>\n",
       "      <th>circuitRef</th>\n",
       "      <th>name</th>\n",
       "      <th>location</th>\n",
       "      <th>country</th>\n",
       "      <th>lat</th>\n",
       "      <th>lng</th>\n",
       "      <th>alt</th>\n",
       "      <th>url</th>\n",
       "    </tr>\n",
       "  </thead>\n",
       "  <tbody>\n",
       "    <tr>\n",
       "      <th>74</th>\n",
       "      <td>78</td>\n",
       "      <td>losail</td>\n",
       "      <td>Losail International Circuit</td>\n",
       "      <td>Al Daayen</td>\n",
       "      <td>Qatar</td>\n",
       "      <td>25.4900</td>\n",
       "      <td>51.4542</td>\n",
       "      <td>13.0</td>\n",
       "      <td>http://en.wikipedia.org/wiki/Losail_Internatio...</td>\n",
       "    </tr>\n",
       "    <tr>\n",
       "      <th>75</th>\n",
       "      <td>79</td>\n",
       "      <td>miami</td>\n",
       "      <td>Miami International Autodrome</td>\n",
       "      <td>Miami</td>\n",
       "      <td>USA</td>\n",
       "      <td>25.9581</td>\n",
       "      <td>-80.2389</td>\n",
       "      <td>3.0</td>\n",
       "      <td>http://en.wikipedia.org/wiki/Miami_Internation...</td>\n",
       "    </tr>\n",
       "  </tbody>\n",
       "</table>\n",
       "</div>"
      ],
      "text/plain": [
       "    circuitId circuitRef                           name   location country  \\\n",
       "74         78     losail   Losail International Circuit  Al Daayen   Qatar   \n",
       "75         79      miami  Miami International Autodrome      Miami     USA   \n",
       "\n",
       "        lat      lng   alt                                                url  \n",
       "74  25.4900  51.4542  13.0  http://en.wikipedia.org/wiki/Losail_Internatio...  \n",
       "75  25.9581 -80.2389   3.0  http://en.wikipedia.org/wiki/Miami_Internation...  "
      ]
     },
     "execution_count": 8,
     "metadata": {},
     "output_type": "execute_result"
    }
   ],
   "source": [
    "# Se completan valores de altitud\n",
    "circuits.loc[74, 'alt'] = 13\n",
    "circuits.loc[75, 'alt'] = 3\n",
    "\n",
    "circuits.loc[circuits['circuitId'].isin([78,79])]"
   ]
  },
  {
   "cell_type": "markdown",
   "id": "08e84c1a-3b2d-4137-b592-57ab741dd687",
   "metadata": {},
   "source": [
    "**Finalmente**:\n",
    "<br>Se quita la columns `url` de lo que será la tabla de trabajo, y se guarda una copia"
   ]
  },
  {
   "cell_type": "code",
   "execution_count": 9,
   "id": "ec8f0ea0-a9bb-4669-a3c8-b7b5381a2277",
   "metadata": {},
   "outputs": [],
   "source": [
    "circuits.drop(columns='url', inplace=True)\n",
    "circuits.to_csv('circuits.csv', index=False)"
   ]
  },
  {
   "cell_type": "markdown",
   "id": "0580682e-6ad1-47e2-ab1a-eb467688c814",
   "metadata": {},
   "source": [
    "## Constructores"
   ]
  },
  {
   "cell_type": "code",
   "execution_count": 10,
   "id": "6e1e2247-bd09-450a-9e57-ca7ee4da121a",
   "metadata": {},
   "outputs": [
    {
     "data": {
      "text/html": [
       "<div>\n",
       "<style scoped>\n",
       "    .dataframe tbody tr th:only-of-type {\n",
       "        vertical-align: middle;\n",
       "    }\n",
       "\n",
       "    .dataframe tbody tr th {\n",
       "        vertical-align: top;\n",
       "    }\n",
       "\n",
       "    .dataframe thead th {\n",
       "        text-align: right;\n",
       "    }\n",
       "</style>\n",
       "<table border=\"1\" class=\"dataframe\">\n",
       "  <thead>\n",
       "    <tr style=\"text-align: right;\">\n",
       "      <th></th>\n",
       "      <th>constructorId</th>\n",
       "      <th>constructorRef</th>\n",
       "      <th>name</th>\n",
       "      <th>nationality</th>\n",
       "      <th>url</th>\n",
       "    </tr>\n",
       "  </thead>\n",
       "  <tbody>\n",
       "    <tr>\n",
       "      <th>0</th>\n",
       "      <td>1</td>\n",
       "      <td>mclaren</td>\n",
       "      <td>McLaren</td>\n",
       "      <td>British</td>\n",
       "      <td>http://en.wikipedia.org/wiki/McLaren</td>\n",
       "    </tr>\n",
       "    <tr>\n",
       "      <th>1</th>\n",
       "      <td>2</td>\n",
       "      <td>bmw_sauber</td>\n",
       "      <td>BMW Sauber</td>\n",
       "      <td>German</td>\n",
       "      <td>http://en.wikipedia.org/wiki/BMW_Sauber</td>\n",
       "    </tr>\n",
       "    <tr>\n",
       "      <th>2</th>\n",
       "      <td>3</td>\n",
       "      <td>williams</td>\n",
       "      <td>Williams</td>\n",
       "      <td>British</td>\n",
       "      <td>http://en.wikipedia.org/wiki/Williams_Grand_Pr...</td>\n",
       "    </tr>\n",
       "    <tr>\n",
       "      <th>3</th>\n",
       "      <td>4</td>\n",
       "      <td>renault</td>\n",
       "      <td>Renault</td>\n",
       "      <td>French</td>\n",
       "      <td>http://en.wikipedia.org/wiki/Renault_in_Formul...</td>\n",
       "    </tr>\n",
       "    <tr>\n",
       "      <th>4</th>\n",
       "      <td>5</td>\n",
       "      <td>toro_rosso</td>\n",
       "      <td>Toro Rosso</td>\n",
       "      <td>Italian</td>\n",
       "      <td>http://en.wikipedia.org/wiki/Scuderia_Toro_Rosso</td>\n",
       "    </tr>\n",
       "  </tbody>\n",
       "</table>\n",
       "</div>"
      ],
      "text/plain": [
       "   constructorId constructorRef        name nationality  \\\n",
       "0              1        mclaren     McLaren     British   \n",
       "1              2     bmw_sauber  BMW Sauber      German   \n",
       "2              3       williams    Williams     British   \n",
       "3              4        renault     Renault      French   \n",
       "4              5     toro_rosso  Toro Rosso     Italian   \n",
       "\n",
       "                                                 url  \n",
       "0               http://en.wikipedia.org/wiki/McLaren  \n",
       "1            http://en.wikipedia.org/wiki/BMW_Sauber  \n",
       "2  http://en.wikipedia.org/wiki/Williams_Grand_Pr...  \n",
       "3  http://en.wikipedia.org/wiki/Renault_in_Formul...  \n",
       "4   http://en.wikipedia.org/wiki/Scuderia_Toro_Rosso  "
      ]
     },
     "execution_count": 10,
     "metadata": {},
     "output_type": "execute_result"
    }
   ],
   "source": [
    "constructors = pd.read_csv(os.path.join(path_originales, 'constructors.csv'))\n",
    "\n",
    "#Se reemplaza \\\\N por np.nan\n",
    "constructors.replace(to_replace='\\\\N', value=np.nan, inplace=True)\n",
    "\n",
    "constructors.head()"
   ]
  },
  {
   "cell_type": "code",
   "execution_count": 11,
   "id": "cbdaaa6c-bdb5-4130-8e4d-31a7cb5f6018",
   "metadata": {},
   "outputs": [
    {
     "name": "stdout",
     "output_type": "stream",
     "text": [
      "<class 'pandas.core.frame.DataFrame'>\n",
      "RangeIndex: 211 entries, 0 to 210\n",
      "Data columns (total 5 columns):\n",
      " #   Column          Non-Null Count  Dtype \n",
      "---  ------          --------------  ----- \n",
      " 0   constructorId   211 non-null    int64 \n",
      " 1   constructorRef  211 non-null    object\n",
      " 2   name            211 non-null    object\n",
      " 3   nationality     211 non-null    object\n",
      " 4   url             211 non-null    object\n",
      "dtypes: int64(1), object(4)\n",
      "memory usage: 8.4+ KB\n"
     ]
    }
   ],
   "source": [
    "constructors.info()"
   ]
  },
  {
   "cell_type": "markdown",
   "id": "616874ab-79cc-4b82-8570-174a3ce68db6",
   "metadata": {},
   "source": [
    "La tabla de constructores está completa\n",
    "\n",
    "**Finalmente**:\n",
    "<br>Se quita la columns `url` de lo que será la tabla de trabajo, y se guarda una copia"
   ]
  },
  {
   "cell_type": "code",
   "execution_count": 12,
   "id": "a97bfff8-97d8-4c51-a72e-2aa0e898f567",
   "metadata": {},
   "outputs": [],
   "source": [
    "constructors.drop(columns='url', inplace=True)\n",
    "constructors.to_csv('constructors.csv', index=False)"
   ]
  },
  {
   "cell_type": "markdown",
   "id": "796a704f-c572-4899-9c25-a363c9585a2e",
   "metadata": {},
   "source": [
    "## Pilotos"
   ]
  },
  {
   "cell_type": "code",
   "execution_count": 13,
   "id": "a1e03c4e-f591-4a7c-8cbf-8e68ed7bca6d",
   "metadata": {},
   "outputs": [
    {
     "data": {
      "text/html": [
       "<div>\n",
       "<style scoped>\n",
       "    .dataframe tbody tr th:only-of-type {\n",
       "        vertical-align: middle;\n",
       "    }\n",
       "\n",
       "    .dataframe tbody tr th {\n",
       "        vertical-align: top;\n",
       "    }\n",
       "\n",
       "    .dataframe thead th {\n",
       "        text-align: right;\n",
       "    }\n",
       "</style>\n",
       "<table border=\"1\" class=\"dataframe\">\n",
       "  <thead>\n",
       "    <tr style=\"text-align: right;\">\n",
       "      <th></th>\n",
       "      <th>driverId</th>\n",
       "      <th>driverRef</th>\n",
       "      <th>number</th>\n",
       "      <th>code</th>\n",
       "      <th>forename</th>\n",
       "      <th>surname</th>\n",
       "      <th>dob</th>\n",
       "      <th>nationality</th>\n",
       "      <th>url</th>\n",
       "    </tr>\n",
       "  </thead>\n",
       "  <tbody>\n",
       "    <tr>\n",
       "      <th>0</th>\n",
       "      <td>1</td>\n",
       "      <td>hamilton</td>\n",
       "      <td>44</td>\n",
       "      <td>HAM</td>\n",
       "      <td>Lewis</td>\n",
       "      <td>Hamilton</td>\n",
       "      <td>1985-01-07</td>\n",
       "      <td>British</td>\n",
       "      <td>http://en.wikipedia.org/wiki/Lewis_Hamilton</td>\n",
       "    </tr>\n",
       "    <tr>\n",
       "      <th>1</th>\n",
       "      <td>2</td>\n",
       "      <td>heidfeld</td>\n",
       "      <td>NaN</td>\n",
       "      <td>HEI</td>\n",
       "      <td>Nick</td>\n",
       "      <td>Heidfeld</td>\n",
       "      <td>1977-05-10</td>\n",
       "      <td>German</td>\n",
       "      <td>http://en.wikipedia.org/wiki/Nick_Heidfeld</td>\n",
       "    </tr>\n",
       "    <tr>\n",
       "      <th>2</th>\n",
       "      <td>3</td>\n",
       "      <td>rosberg</td>\n",
       "      <td>6</td>\n",
       "      <td>ROS</td>\n",
       "      <td>Nico</td>\n",
       "      <td>Rosberg</td>\n",
       "      <td>1985-06-27</td>\n",
       "      <td>German</td>\n",
       "      <td>http://en.wikipedia.org/wiki/Nico_Rosberg</td>\n",
       "    </tr>\n",
       "    <tr>\n",
       "      <th>3</th>\n",
       "      <td>4</td>\n",
       "      <td>alonso</td>\n",
       "      <td>14</td>\n",
       "      <td>ALO</td>\n",
       "      <td>Fernando</td>\n",
       "      <td>Alonso</td>\n",
       "      <td>1981-07-29</td>\n",
       "      <td>Spanish</td>\n",
       "      <td>http://en.wikipedia.org/wiki/Fernando_Alonso</td>\n",
       "    </tr>\n",
       "    <tr>\n",
       "      <th>4</th>\n",
       "      <td>5</td>\n",
       "      <td>kovalainen</td>\n",
       "      <td>NaN</td>\n",
       "      <td>KOV</td>\n",
       "      <td>Heikki</td>\n",
       "      <td>Kovalainen</td>\n",
       "      <td>1981-10-19</td>\n",
       "      <td>Finnish</td>\n",
       "      <td>http://en.wikipedia.org/wiki/Heikki_Kovalainen</td>\n",
       "    </tr>\n",
       "  </tbody>\n",
       "</table>\n",
       "</div>"
      ],
      "text/plain": [
       "   driverId   driverRef number code  forename     surname        dob  \\\n",
       "0         1    hamilton     44  HAM     Lewis    Hamilton 1985-01-07   \n",
       "1         2    heidfeld    NaN  HEI      Nick    Heidfeld 1977-05-10   \n",
       "2         3     rosberg      6  ROS      Nico     Rosberg 1985-06-27   \n",
       "3         4      alonso     14  ALO  Fernando      Alonso 1981-07-29   \n",
       "4         5  kovalainen    NaN  KOV    Heikki  Kovalainen 1981-10-19   \n",
       "\n",
       "  nationality                                             url  \n",
       "0     British     http://en.wikipedia.org/wiki/Lewis_Hamilton  \n",
       "1      German      http://en.wikipedia.org/wiki/Nick_Heidfeld  \n",
       "2      German       http://en.wikipedia.org/wiki/Nico_Rosberg  \n",
       "3     Spanish    http://en.wikipedia.org/wiki/Fernando_Alonso  \n",
       "4     Finnish  http://en.wikipedia.org/wiki/Heikki_Kovalainen  "
      ]
     },
     "execution_count": 13,
     "metadata": {},
     "output_type": "execute_result"
    }
   ],
   "source": [
    "drivers = pd.read_csv(os.path.join(path_originales, 'drivers.csv'))\n",
    "\n",
    "#Se reemplaza \\\\N por np.nan\n",
    "drivers.replace(to_replace='\\\\N', value=np.nan, inplace=True)\n",
    "\n",
    "#Se convierte la fecha de nacimiento a variable tipo date\n",
    "drivers['dob'] = pd.to_datetime(drivers['dob'])\n",
    "\n",
    "drivers.head()"
   ]
  },
  {
   "cell_type": "code",
   "execution_count": 14,
   "id": "138d06f7-7d01-4a94-960c-7a33e56b9d09",
   "metadata": {},
   "outputs": [
    {
     "name": "stdout",
     "output_type": "stream",
     "text": [
      "<class 'pandas.core.frame.DataFrame'>\n",
      "RangeIndex: 854 entries, 0 to 853\n",
      "Data columns (total 9 columns):\n",
      " #   Column       Non-Null Count  Dtype         \n",
      "---  ------       --------------  -----         \n",
      " 0   driverId     854 non-null    int64         \n",
      " 1   driverRef    854 non-null    object        \n",
      " 2   number       51 non-null     object        \n",
      " 3   code         97 non-null     object        \n",
      " 4   forename     854 non-null    object        \n",
      " 5   surname      854 non-null    object        \n",
      " 6   dob          854 non-null    datetime64[ns]\n",
      " 7   nationality  854 non-null    object        \n",
      " 8   url          854 non-null    object        \n",
      "dtypes: datetime64[ns](1), int64(1), object(7)\n",
      "memory usage: 60.2+ KB\n"
     ]
    }
   ],
   "source": [
    "drivers.info()"
   ]
  },
  {
   "cell_type": "markdown",
   "id": "611f2f11-8330-4cc0-a803-c62c8672df3c",
   "metadata": {},
   "source": [
    "**Observaciones**:\n",
    "* A lo largo de la historia han habido 854 pilotos\n",
    "* Solamente se tiene referencia de número para 51 de ellos\n",
    "* Solo 97 pilotos cuentan con un código de identificación de 3 letras\n",
    "\n",
    "No es relevante completar estas columnas debido a que son una referencia única adicional para cada piloto, para dicho propósito se puede utilizar la variable `driverRef`. Dicho eso, se descatan columnas `number`, `code`, y `url`"
   ]
  },
  {
   "cell_type": "code",
   "execution_count": 15,
   "id": "69c0bd88-3879-4bc8-a5b8-f024a3f83f85",
   "metadata": {},
   "outputs": [],
   "source": [
    "drivers.drop(columns=['number', 'code', 'url'], inplace=True)\n",
    "drivers.to_csv('drivers.csv', index=False)"
   ]
  },
  {
   "cell_type": "code",
   "execution_count": null,
   "id": "45377a0a-f046-4a0c-8233-15ee97a08e85",
   "metadata": {},
   "outputs": [],
   "source": []
  }
 ],
 "metadata": {
  "kernelspec": {
   "display_name": "Python 3 (ipykernel)",
   "language": "python",
   "name": "python3"
  },
  "language_info": {
   "codemirror_mode": {
    "name": "ipython",
    "version": 3
   },
   "file_extension": ".py",
   "mimetype": "text/x-python",
   "name": "python",
   "nbconvert_exporter": "python",
   "pygments_lexer": "ipython3",
   "version": "3.9.6"
  }
 },
 "nbformat": 4,
 "nbformat_minor": 5
}
