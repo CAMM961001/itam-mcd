{
 "cells": [
  {
   "cell_type": "markdown",
   "id": "af56889a-023e-4e6c-9c73-40c907b431cb",
   "metadata": {},
   "source": [
    "# 1.7 Integración numérica\n",
    "\n",
    "Este libro es para la parte de código de la [sección 1.7 de las notas](https://itam-ds.github.io/analisis-numerico-computo-cientifico/1.computo_cientifico/1.7/Integracion_numerica.html).\n",
    "\n",
    "La función `quad` es un algoritmo implementado por scipy que se usa para calcular la integral definida de una función."
   ]
  },
  {
   "cell_type": "code",
   "execution_count": 1,
   "id": "4b36050d-6057-47d4-9d3c-38fce9d38330",
   "metadata": {},
   "outputs": [],
   "source": [
    "import math\n",
    "import numpy as np\n",
    "import pandas as pd\n",
    "import matplotlib.pyplot as plt\n",
    "\n",
    "from scipy.integrate import quad"
   ]
  },
  {
   "cell_type": "markdown",
   "id": "4581e823-9c86-471b-93f3-8e294847eb37",
   "metadata": {},
   "source": [
    "# Newton-Cotes\n",
    "**Ejemplo**:\n",
    "<br>En las siguientes reglas se considerará la función $f(x)=e^{-x^2}$ la cual tiene una forma:"
   ]
  },
  {
   "cell_type": "code",
   "execution_count": 2,
   "id": "edee2aa7-9bea-4979-a3eb-00ebbf322a30",
   "metadata": {},
   "outputs": [
    {
     "data": {
      "image/png": "[encoded data removed]",
      "text/plain": [
       "<Figure size 432x288 with 1 Axes>"
      ]
     },
     "metadata": {
      "needs_background": "light"
     },
     "output_type": "display_data"
    }
   ],
   "source": [
    "#Se define la función por integrar\n",
    "f = lambda x: np.exp(-x**2)\n",
    "\n",
    "#Se definen los puntos por evaluar\n",
    "x = np.arange(-1,1,.01)\n",
    "\n",
    "#Gráfica de la función\n",
    "plt.plot(x, f(x))\n",
    "plt.title('f(x)=exp(-x^2)')\n",
    "\n",
    "plt.show()"
   ]
  },
  {
   "cell_type": "code",
   "execution_count": 3,
   "id": "e001e8c3-8ec0-4eaf-b055-07b816012971",
   "metadata": {},
   "outputs": [
    {
     "data": {
      "text/plain": [
       "(0.7468241328124271, 8.291413475940725e-15)"
      ]
     },
     "execution_count": 3,
     "metadata": {},
     "output_type": "execute_result"
    }
   ],
   "source": [
    "obj, err = quad(f, 0, 1)\n",
    "obj, err"
   ]
  },
  {
   "cell_type": "markdown",
   "id": "bd0988cd-bd0f-4d35-9c7a-08aebaeaf824",
   "metadata": {},
   "source": [
    "## Regla simple del rectángulo\n",
    "**Ejemplo**:\n",
    "<br>Utilizar la regla simple del rectángulo para aproximar la integral: $\\int_{0}^{1}e^{-x^2}{dx}$"
   ]
  },
  {
   "cell_type": "code",
   "execution_count": 4,
   "id": "ed71acc2-f40c-4571-9ae9-a8206f20a348",
   "metadata": {},
   "outputs": [
    {
     "name": "stdout",
     "output_type": "stream",
     "text": [
      "Aprx. Integral, rect. simple: 0.778801\n"
     ]
    }
   ],
   "source": [
    "def Rf(f,a,b):\n",
    "    \"\"\"\n",
    "    Compute numerical approximation using simple rectangle or midpoint method in \n",
    "    an interval.\n",
    "    \"\"\"\n",
    "    node = a + (b - a)/2.0 #mid point formula to minimize rounding errors\n",
    "    return f(node) #zero degree polynomial\n",
    "\n",
    "rf_simple = Rf(f,0,1)\n",
    "print(f\"Aprx. Integral, rect. simple: {rf_simple:.6f}\")"
   ]
  },
  {
   "cell_type": "markdown",
   "id": "5b62ebcd-4352-42aa-8ec5-0cff40b1959e",
   "metadata": {},
   "source": [
    "### Calculando el error"
   ]
  },
  {
   "cell_type": "code",
   "execution_count": 5,
   "id": "decdd372-bd84-44c8-b548-5ffc25148be3",
   "metadata": {},
   "outputs": [
    {
     "name": "stdout",
     "output_type": "stream",
     "text": [
      "Rect. simple error: 4.281684%\n"
     ]
    }
   ],
   "source": [
    "def compute_error(obj,approx):\n",
    "    '''\n",
    "    Relative or absolute error between obj and approx.\n",
    "    '''\n",
    "    if math.fabs(obj) > np.nextafter(0,1):\n",
    "        Err = math.fabs(obj-approx)/math.fabs(obj)\n",
    "    else:\n",
    "        Err = math.fabs(obj-approx)\n",
    "    return Err\n",
    "\n",
    "rf_err = compute_error(obj, rf_simple)\n",
    "print(f\"Rect. simple error: {rf_err * 100:.6f}%\")"
   ]
  },
  {
   "cell_type": "markdown",
   "id": "f3aa8156-f7b9-4d04-b1a0-62e3977748c7",
   "metadata": {},
   "source": [
    "## Regla compuesta del rectángulo\n",
    "**Ejemplo**:\n",
    "<br>Utilizar la regla compuesta del rectángulo para aproximar la integral: $\\int_{0}^{1}e^{-x^2}{dx}$"
   ]
  },
  {
   "cell_type": "code",
   "execution_count": 6,
   "id": "833c4dfc-3556-4c0b-b436-3a67d9d61324",
   "metadata": {},
   "outputs": [],
   "source": [
    "def Rcf(f,a,b,n):\n",
    "    \"\"\"\n",
    "    Compute numerical approximation using rectangle or mid-point\n",
    "    method in an interval.\n",
    "    Nodes are generated via formula: x_i = a+(i+1/2)h_hat for\n",
    "    i=0,1,...,n-1 and h_hat=(b-a)/n\n",
    "    Args:\n",
    "    \n",
    "        f (function): function expression of integrand.\n",
    "        \n",
    "        a (float): left point of interval.\n",
    "        \n",
    "        b (float): right point of interval.\n",
    "        \n",
    "        n (float): number of subintervals.\n",
    "        \n",
    "    Returns:\n",
    "    \n",
    "        sum_res (float): numerical approximation to integral\n",
    "            of f in the interval a,b\n",
    "    \"\"\"\n",
    "    h_hat = (b - a)/n\n",
    "    nodes = [a + (i+1/2) * h_hat for i in range(0,n)]\n",
    "    sum_res = 0\n",
    "    for node in nodes:\n",
    "        sum_res = sum_res + f(node)\n",
    "    return h_hat * sum_res"
   ]
  },
  {
   "cell_type": "markdown",
   "id": "141cd901-0bd1-4f3b-89c1-4e02ac809d68",
   "metadata": {},
   "source": [
    "**1 nodo**:"
   ]
  },
  {
   "cell_type": "code",
   "execution_count": 7,
   "id": "8e2c578b-331d-4610-994a-260265613941",
   "metadata": {},
   "outputs": [
    {
     "name": "stdout",
     "output_type": "stream",
     "text": [
      "Aprx. rectángulo simple: 0.778801\n",
      "Aprx. rect. comp. 1 nodo: 0.778801\n"
     ]
    }
   ],
   "source": [
    "n = 1\n",
    "a, b = 0, 1\n",
    "\n",
    "#Evaluando rcf\n",
    "rcf_1 = Rcf(f, a, b, n)\n",
    "\n",
    "#Comparando con rect. simple\n",
    "print(f\"Aprx. rectángulo simple: {rf_simple:.6f}\")\n",
    "print(f\"Aprx. rect. comp. 1 nodo: {rcf_1:.6f}\")"
   ]
  },
  {
   "cell_type": "markdown",
   "id": "87ce5d59-20fc-42a8-95b8-a8882696348c",
   "metadata": {},
   "source": [
    "**2 nodos**:"
   ]
  },
  {
   "cell_type": "code",
   "execution_count": 8,
   "id": "6aea8e1f-876f-4bdf-861f-ddc37364a71b",
   "metadata": {},
   "outputs": [
    {
     "name": "stdout",
     "output_type": "stream",
     "text": [
      "Aprx. rectángulo simple: 0.778801\n",
      "Aprx. rect. comp. 2 nodo: 0.754598\n"
     ]
    }
   ],
   "source": [
    "n = 2\n",
    "a, b = 0, 1\n",
    "\n",
    "#Evaluando rcf\n",
    "rcf_2 = Rcf(f, a, b, n)\n",
    "\n",
    "#Comparando con rect. simple\n",
    "print(f\"Aprx. rectángulo simple: {rf_simple:.6f}\")\n",
    "print(f\"Aprx. rect. comp. 2 nodo: {rcf_2:.6f}\")"
   ]
  },
  {
   "cell_type": "markdown",
   "id": "3557d4e5-46b2-41da-8d10-b81ed0fed415",
   "metadata": {},
   "source": [
    "**$10^3$ nodo**:"
   ]
  },
  {
   "cell_type": "code",
   "execution_count": 9,
   "id": "94e587f1-7260-4e81-bffe-8f09989dc32b",
   "metadata": {},
   "outputs": [
    {
     "name": "stdout",
     "output_type": "stream",
     "text": [
      "Aprx. rectángulo simple: 0.778801\n",
      "Aprx. rect. comp. 1e3 nodo: 0.746824\n"
     ]
    }
   ],
   "source": [
    "n = int(1e3)\n",
    "a, b = 0, 1\n",
    "\n",
    "#Evaluando rcf\n",
    "rcf_n = Rcf(f, a, b, n)\n",
    "\n",
    "#Comparando con rect. simple\n",
    "print(f\"Aprx. rectángulo simple: {rf_simple:.6f}\")\n",
    "print(f\"Aprx. rect. comp. 1e3 nodo: {rcf_n:.6f}\")"
   ]
  },
  {
   "cell_type": "markdown",
   "id": "186a2677-438e-4235-a7b7-06f708ffe9cd",
   "metadata": {},
   "source": [
    "### Calculando el error"
   ]
  },
  {
   "cell_type": "code",
   "execution_count": 10,
   "id": "b21afe8d-55d8-47ae-98cd-bc373f79ef25",
   "metadata": {},
   "outputs": [
    {
     "data": {
      "text/html": [
       "<div>\n",
       "<style scoped>\n",
       "    .dataframe tbody tr th:only-of-type {\n",
       "        vertical-align: middle;\n",
       "    }\n",
       "\n",
       "    .dataframe tbody tr th {\n",
       "        vertical-align: top;\n",
       "    }\n",
       "\n",
       "    .dataframe thead th {\n",
       "        text-align: right;\n",
       "    }\n",
       "</style>\n",
       "<table border=\"1\" class=\"dataframe\">\n",
       "  <thead>\n",
       "    <tr style=\"text-align: right;\">\n",
       "      <th></th>\n",
       "      <th>Aproximaciones Rcf</th>\n",
       "      <th>Número de nodos</th>\n",
       "      <th>Errores relativos</th>\n",
       "    </tr>\n",
       "  </thead>\n",
       "  <tbody>\n",
       "    <tr>\n",
       "      <th>0</th>\n",
       "      <td>Rcf_1</td>\n",
       "      <td>1.0</td>\n",
       "      <td>4.281684e-02</td>\n",
       "    </tr>\n",
       "    <tr>\n",
       "      <th>1</th>\n",
       "      <td>Rcf_2</td>\n",
       "      <td>2.0</td>\n",
       "      <td>1.040916e-02</td>\n",
       "    </tr>\n",
       "    <tr>\n",
       "      <th>2</th>\n",
       "      <td>Rcf_3</td>\n",
       "      <td>1000.0</td>\n",
       "      <td>4.104932e-08</td>\n",
       "    </tr>\n",
       "  </tbody>\n",
       "</table>\n",
       "</div>"
      ],
      "text/plain": [
       "  Aproximaciones Rcf  Número de nodos  Errores relativos\n",
       "0              Rcf_1              1.0       4.281684e-02\n",
       "1              Rcf_2              2.0       1.040916e-02\n",
       "2              Rcf_3           1000.0       4.104932e-08"
      ]
     },
     "execution_count": 10,
     "metadata": {},
     "output_type": "execute_result"
    }
   ],
   "source": [
    "rcf_err_1 = compute_error(obj, rcf_1)\n",
    "rcf_err_2 = compute_error(obj, rcf_2)\n",
    "rcf_err_n = compute_error(obj, rcf_n)\n",
    "\n",
    "rcf_dict = {\"Aproximaciones Rcf\": [\"Rcf_1\", \"Rcf_2\", \"Rcf_3\"],\n",
    "            \"Número de nodos\" : [1, 2, 1e3],\n",
    "            \"Errores relativos\": [rcf_err_1, rcf_err_2, rcf_err_n]}\n",
    "\n",
    "pd.DataFrame(rcf_dict)"
   ]
  },
  {
   "cell_type": "markdown",
   "id": "3dec2213-a11d-44ed-9d23-4286daaa1e56",
   "metadata": {},
   "source": [
    "**Evaluando** el error utilizando `pytest`"
   ]
  },
  {
   "cell_type": "code",
   "execution_count": 11,
   "id": "81e84bf3-a8a0-4bf2-8f3b-60835e843255",
   "metadata": {},
   "outputs": [],
   "source": [
    "from pytest import approx"
   ]
  },
  {
   "cell_type": "code",
   "execution_count": 12,
   "id": "0b707865-9ef8-4f1e-ab59-2dcdfb52af0b",
   "metadata": {},
   "outputs": [
    {
     "name": "stdout",
     "output_type": "stream",
     "text": [
      "Regla comp. rect. 1 nodos: False\n",
      "Regla comp. rect. 2 nodos: False\n",
      "Regla comp. rect. n nodos: True\n"
     ]
    }
   ],
   "source": [
    "print(f\"Regla comp. rect. 1 nodos: {rcf_1 == approx(obj)}\")\n",
    "print(f\"Regla comp. rect. 2 nodos: {rcf_2 == approx(obj)}\")\n",
    "print(f\"Regla comp. rect. n nodos: {rcf_n == approx(obj)}\")"
   ]
  },
  {
   "cell_type": "markdown",
   "id": "dcdc6d8d-ecce-4018-b43a-a6da07014dc1",
   "metadata": {},
   "source": [
    "**Bajando** la tolerancia "
   ]
  },
  {
   "cell_type": "code",
   "execution_count": 13,
   "id": "b13d27ef-4ca0-4582-b7c5-24956729aa38",
   "metadata": {},
   "outputs": [
    {
     "name": "stdout",
     "output_type": "stream",
     "text": [
      "Regla comp. rect. 1 nodos: True\n",
      "Regla comp. rect. 2 nodos: True\n",
      "Regla comp. rect. n nodos: True\n"
     ]
    }
   ],
   "source": [
    "print(f\"Regla comp. rect. 1 nodos: {rcf_1 == approx(obj, abs=1e-1, rel=1e-1)}\")\n",
    "print(f\"Regla comp. rect. 2 nodos: {rcf_2 == approx(obj, abs=1e-1, rel=1e-1)}\")\n",
    "print(f\"Regla comp. rect. n nodos: {rcf_n == approx(obj, abs=1e-1, rel=1e-1)}\")"
   ]
  },
  {
   "cell_type": "markdown",
   "id": "8dcaed8e-c90b-469c-8d8b-b9e2493a2bdd",
   "metadata": {},
   "source": [
    "### Pregunta\n",
    "¿Es el método del rectángulo un método estable numéricamente bajo el redondeo? Para responder, se aproxima la integral con un mayor número de nodos."
   ]
  },
  {
   "cell_type": "code",
   "execution_count": 14,
   "id": "7420ec14-06ac-44e3-a63d-7cdf44fbf24c",
   "metadata": {},
   "outputs": [
    {
     "name": "stdout",
     "output_type": "stream",
     "text": [
      "Aprx. rect. comp. 1e3 nodo: 4.104932e-08\n",
      "Aprx. rect. comp. 1e5 nodo: 4.099427e-12\n"
     ]
    }
   ],
   "source": [
    "n = int(1e5)\n",
    "rcf_4 = Rcf(f, a, b, n)\n",
    "rcf_err_4 = compute_error(obj, rcf_4)\n",
    "\n",
    "print(f\"Aprx. rect. comp. 1e3 nodo: {rcf_err_n:e}\")\n",
    "print(f\"Aprx. rect. comp. 1e5 nodo: {rcf_err_4:e}\")"
   ]
  },
  {
   "cell_type": "markdown",
   "id": "882a26c3-f33e-472d-b90e-7b6ba3809ba6",
   "metadata": {},
   "source": [
    "El error bajó aún más con una $h$ más pequeña $\\therefore$ el problema es numéricamente estable."
   ]
  },
  {
   "cell_type": "markdown",
   "id": "2fc1afc5-cb72-4d22-ac92-967e9bfe0213",
   "metadata": {},
   "source": [
    "## Regla compuesta del trapecio\n",
    "**Ejemplo**:\n",
    "<br>Con la regla compuesta del trapecio se aproximará la integral $\\int_{0}^{1}e^{-x^2}{dx}$.\n",
    "<br>Se calculará el error relativo y graficará $n_{sub}$ vs Error relativo para $n_{sub}=[1,10,...,10^4]$."
   ]
  },
  {
   "cell_type": "code",
   "execution_count": 15,
   "id": "b026bfa4-8889-4d9e-805e-2f5e41a34c2b",
   "metadata": {},
   "outputs": [],
   "source": [
    "def Tcf(n,f,a,b): #Tcf: trapecio compuesto para f\n",
    "    \"\"\"\n",
    "    Compute numerical approximation using trapezoidal method in \n",
    "    an interval.\n",
    "    Nodes are generated via formula: x_i = a+ih_hat for i=0,1,...,n and h_hat=(b-a)/n\n",
    "    Args:\n",
    "        f (function): function expression of integrand\n",
    "        a (float): left point of interval\n",
    "        b (float): right point of interval\n",
    "        n (float): number of subintervals\n",
    "    Returns:\n",
    "        sum_res (float): numerical approximation to integral of f in the interval a,b\n",
    "    \"\"\"\n",
    "    h=b-a\n",
    "    nodes=np.linspace(a,b,n+1)\n",
    "    sum_res=sum(f(nodes[1:-1]))\n",
    "    return h/(2*n)*(f(nodes[0])+f(nodes[-1])+2*sum_res)\n",
    "\n",
    "\n",
    "def compute_error_point_wise(obj, approx):\n",
    "    '''\n",
    "    Relative or absolute error between obj and approx (Element wise).\n",
    "    '''\n",
    "    if np.abs(obj) > np.nextafter(0,1):\n",
    "        Err = np.abs(obj - approx)/np.abs(obj)\n",
    "    else:\n",
    "        Err = np.abs(obj - approx)\n",
    "    return Err"
   ]
  },
  {
   "cell_type": "code",
   "execution_count": 16,
   "id": "41dc6d13-d01b-42f5-8de6-49df434e9028",
   "metadata": {},
   "outputs": [
    {
     "data": {
      "text/plain": [
       "array([8.42024373e-02, 8.21259857e-04, 8.20989064e-06, 8.20986364e-08,\n",
       "       8.20987410e-10])"
      ]
     },
     "execution_count": 16,
     "metadata": {},
     "output_type": "execute_result"
    }
   ],
   "source": [
    "#Subintervalos\n",
    "numb_of_subintervals = (1,10,100,1000,10000)\n",
    "\n",
    "#Evaluando la integral\n",
    "tcf_approx = np.array([ Tcf(n,f,0,1) for n in numb_of_subintervals ])\n",
    "\n",
    "#Calculando el error\n",
    "relative_errors = compute_error_point_wise(obj, tcf_approx)\n",
    "relative_errors"
   ]
  },
  {
   "cell_type": "markdown",
   "id": "f387738a-e1bc-4a72-bbe5-a3c81cd70428",
   "metadata": {},
   "source": [
    "**Graficando** el error"
   ]
  },
  {
   "cell_type": "code",
   "execution_count": 17,
   "id": "46f1da22-e7ea-4e72-ba72-3999849f09c4",
   "metadata": {},
   "outputs": [
    {
     "data": {
      "image/png": "[encoded data removed]",
      "text/plain": [
       "<Figure size 432x288 with 1 Axes>"
      ]
     },
     "metadata": {
      "needs_background": "light"
     },
     "output_type": "display_data"
    }
   ],
   "source": [
    "plt.plot(np.log(numb_of_subintervals), np.log(relative_errors), 'o-', c='b')\n",
    "\n",
    "#Anotaciones y estilo\n",
    "plt.xlabel('$log(n_{sub})$', fontsize=12)\n",
    "plt.ylabel('$log({E}_{r})$', fontsize=12)\n",
    "plt.title('Error relativo en la regla del Trapecio', fontsize=14)\n",
    "plt.grid(alpha=0.2)\n",
    "\n",
    "plt.show()"
   ]
  },
  {
   "cell_type": "code",
   "execution_count": null,
   "id": "9962cb7c-b66b-4f0e-a54a-e46e7e66d4b1",
   "metadata": {},
   "outputs": [],
   "source": []
  },
  {
   "cell_type": "code",
   "execution_count": null,
   "id": "0a49d8bb-3bd2-4f60-abbc-f027d79012a5",
   "metadata": {},
   "outputs": [],
   "source": []
  },
  {
   "cell_type": "code",
   "execution_count": null,
   "id": "d4eebae4-142a-4c29-a9fd-6b32c5f28ffa",
   "metadata": {},
   "outputs": [],
   "source": []
  },
  {
   "cell_type": "code",
   "execution_count": null,
   "id": "edfb70f0-f999-41d1-be83-1c71eadfa8ca",
   "metadata": {},
   "outputs": [],
   "source": []
  },
  {
   "cell_type": "code",
   "execution_count": null,
   "id": "56b4366f-5715-4af8-9d2c-e7a59a38d2f2",
   "metadata": {},
   "outputs": [],
   "source": []
  },
  {
   "cell_type": "code",
   "execution_count": null,
   "id": "65d70070-e54a-48ff-89c4-f4cf7d900699",
   "metadata": {},
   "outputs": [],
   "source": []
  },
  {
   "cell_type": "code",
   "execution_count": null,
   "id": "cdc7915d-e7a8-40e3-b852-0467b0a4c1ad",
   "metadata": {},
   "outputs": [],
   "source": []
  },
  {
   "cell_type": "code",
   "execution_count": null,
   "id": "4d0aca33-55e4-4657-b4ae-d2cc1f8d406b",
   "metadata": {},
   "outputs": [],
   "source": []
  },
  {
   "cell_type": "code",
   "execution_count": null,
   "id": "8e37a33f-07b2-4a76-aa86-3fdf4f692c69",
   "metadata": {},
   "outputs": [],
   "source": []
  },
  {
   "cell_type": "code",
   "execution_count": null,
   "id": "bcfab9d8-b4a6-46bd-8705-24d3df4c3336",
   "metadata": {},
   "outputs": [],
   "source": []
  },
  {
   "cell_type": "code",
   "execution_count": null,
   "id": "f3664d84-60a8-4e4a-aa71-d6966483c5db",
   "metadata": {},
   "outputs": [],
   "source": []
  },
  {
   "cell_type": "code",
   "execution_count": null,
   "id": "7d855a88-fad1-4155-b02b-826bd29bd95f",
   "metadata": {},
   "outputs": [],
   "source": []
  },
  {
   "cell_type": "code",
   "execution_count": null,
   "id": "fe857cd5-ebbb-4419-8f0e-48badddd5c49",
   "metadata": {},
   "outputs": [],
   "source": []
  },
  {
   "cell_type": "code",
   "execution_count": null,
   "id": "d8247984-ad1f-4c9a-98ae-14f018746216",
   "metadata": {},
   "outputs": [],
   "source": []
  },
  {
   "cell_type": "code",
   "execution_count": null,
   "id": "cef8462b-7fe7-49c0-9d65-5bc54df24ffe",
   "metadata": {},
   "outputs": [],
   "source": []
  },
  {
   "cell_type": "code",
   "execution_count": null,
   "id": "d202cdbf-162d-4573-b01b-46951b9cbd6c",
   "metadata": {},
   "outputs": [],
   "source": []
  },
  {
   "cell_type": "markdown",
   "id": "1a30a02c-2df5-42c9-aa76-e15d89e4ca54",
   "metadata": {},
   "source": [
    "# Práctica 1"
   ]
  },
  {
   "cell_type": "code",
   "execution_count": 18,
   "id": "bdaa2922-f9a9-4b74-8e55-fe1107dabb57",
   "metadata": {},
   "outputs": [],
   "source": [
    "h = lambda x: x**2"
   ]
  },
  {
   "cell_type": "markdown",
   "id": "25805a8b-2b87-498d-b807-c08577b1ed8e",
   "metadata": {},
   "source": [
    "Para todo el intervalo $x\\in(\\infty^{-},\\infty^{+})$"
   ]
  },
  {
   "cell_type": "code",
   "execution_count": 19,
   "id": "d89df166-6916-4b7f-81cc-e4406103f500",
   "metadata": {},
   "outputs": [
    {
     "data": {
      "text/plain": [
       "2.50638674602911"
      ]
     },
     "execution_count": 19,
     "metadata": {},
     "output_type": "execute_result"
    }
   ],
   "source": [
    "iteraciones = []\n",
    "\n",
    "n = int(1e6)\n",
    "for i in range(100):\n",
    "    normal_rvs = np.random.normal(loc=0, scale=1, size=n)\n",
    "    \n",
    "    integral = np.mean(h(normal_rvs) * np.sqrt(2*np.pi))\n",
    "    iteraciones.append(integral)\n",
    "    \n",
    "np.mean(iteraciones)"
   ]
  },
  {
   "cell_type": "code",
   "execution_count": 20,
   "id": "86d6fbcb-211e-47a7-9526-e65b0c2b9509",
   "metadata": {},
   "outputs": [
    {
     "data": {
      "text/plain": [
       "2.5066282746310002"
      ]
     },
     "execution_count": 20,
     "metadata": {},
     "output_type": "execute_result"
    }
   ],
   "source": [
    "#Target\n",
    "np.sqrt(2*np.pi)"
   ]
  },
  {
   "cell_type": "markdown",
   "id": "3d467e76-a2f6-4187-a0f6-824c640bbd07",
   "metadata": {},
   "source": [
    "Para el intervalo $x\\in(\\infty^{-},b)$, se define la siguiente función a trozos para la distribución normal:\n",
    "$g(x)=\\{N(0,1)\\forall x\\leq b, 0 \\forall x>b\\}$"
   ]
  },
  {
   "cell_type": "code",
   "execution_count": 21,
   "id": "eaf99f9b-6724-4406-b83a-70dc3f7d0753",
   "metadata": {},
   "outputs": [
    {
     "data": {
      "text/plain": [
       "1.6344275289045809"
      ]
     },
     "execution_count": 21,
     "metadata": {},
     "output_type": "execute_result"
    }
   ],
   "source": [
    "iteraciones = []\n",
    "\n",
    "n = int(1e6)\n",
    "for i in range(100):\n",
    "    normal_rvs = np.random.normal(loc=0, scale=1, size=n)\n",
    "    #Aquí lo nuevo\n",
    "    normal_rvs = np.array(list(map(lambda x: 0 if x >= 1.2 else x, normal_rvs)))\n",
    "    \n",
    "    integral = np.mean(h(normal_rvs) * np.sqrt(2*np.pi))\n",
    "    iteraciones.append(integral)\n",
    "    \n",
    "np.mean(iteraciones)"
   ]
  }
 ],
 "metadata": {
  "kernelspec": {
   "display_name": "Python 3 (ipykernel)",
   "language": "python",
   "name": "python3"
  },
  "language_info": {
   "codemirror_mode": {
    "name": "ipython",
    "version": 3
   },
   "file_extension": ".py",
   "mimetype": "text/x-python",
   "name": "python",
   "nbconvert_exporter": "python",
   "pygments_lexer": "ipython3",
   "version": "3.9.6"
  }
 },
 "nbformat": 4,
 "nbformat_minor": 5
}
