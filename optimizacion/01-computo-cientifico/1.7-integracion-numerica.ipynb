{
 "cells": [
  {
   "cell_type": "markdown",
   "id": "af56889a-023e-4e6c-9c73-40c907b431cb",
   "metadata": {},
   "source": [
    "# 1.7 Integración numérica\n",
    "\n",
    "Este libro es para la parte de código de la [sección 1.7 de las notas](https://itam-ds.github.io/analisis-numerico-computo-cientifico/1.computo_cientifico/1.7/Integracion_numerica.html).\n",
    "\n",
    "La función `quad` es un algoritmo implementado por scipy que se usa para calcular la integral definida de una función."
   ]
  },
  {
   "cell_type": "code",
   "execution_count": 1,
   "id": "4b36050d-6057-47d4-9d3c-38fce9d38330",
   "metadata": {},
   "outputs": [],
   "source": [
    "import math\n",
    "import numpy as np\n",
    "import pandas as pd\n",
    "import matplotlib.pyplot as plt\n",
    "\n",
    "from scipy.integrate import quad"
   ]
  },
  {
   "cell_type": "markdown",
   "id": "4581e823-9c86-471b-93f3-8e294847eb37",
   "metadata": {},
   "source": [
    "## Newton-Cotes\n",
    "**Ejemplo**:\n",
    "<br>En las siguientes reglas se considerará la función $f(x)=e^{-x^2}$ la cual tiene una forma:"
   ]
  },
  {
   "cell_type": "code",
   "execution_count": 4,
   "id": "edee2aa7-9bea-4979-a3eb-00ebbf322a30",
   "metadata": {},
   "outputs": [
    {
     "data": {
      "image/png": "[encoded data removed]",
      "text/plain": [
       "<Figure size 432x288 with 1 Axes>"
      ]
     },
     "metadata": {
      "needs_background": "light"
     },
     "output_type": "display_data"
    }
   ],
   "source": [
    "#Se define la función por integrar\n",
    "f = lambda x: np.exp(-x**2)\n",
    "\n",
    "#Se definen los puntos por evaluar\n",
    "x = np.arange(-1,1,.01)\n",
    "\n",
    "#Gráfica de la función\n",
    "plt.plot(x, f(x))\n",
    "plt.title('f(x)=exp(-x^2)')\n",
    "\n",
    "plt.show()"
   ]
  },
  {
   "cell_type": "code",
   "execution_count": 5,
   "id": "e001e8c3-8ec0-4eaf-b055-07b816012971",
   "metadata": {},
   "outputs": [
    {
     "data": {
      "text/plain": [
       "(0.7468241328124271, 8.291413475940725e-15)"
      ]
     },
     "execution_count": 5,
     "metadata": {},
     "output_type": "execute_result"
    }
   ],
   "source": [
    "obj, err = quad(f, 0, 1)\n",
    "obj, err"
   ]
  },
  {
   "cell_type": "markdown",
   "id": "bd0988cd-bd0f-4d35-9c7a-08aebaeaf824",
   "metadata": {},
   "source": [
    "## Regla simple del rectángulo\n",
    "**Ejemplo**:\n",
    "<br>Utilizar la regla simple del rectángulo para aproximar la integral:\n",
    "$$\\int_{0}^{1}e^{-x^2}{dx}$$"
   ]
  },
  {
   "cell_type": "code",
   "execution_count": 6,
   "id": "ed71acc2-f40c-4571-9ae9-a8206f20a348",
   "metadata": {},
   "outputs": [
    {
     "data": {
      "text/plain": [
       "0.7788007830714049"
      ]
     },
     "execution_count": 6,
     "metadata": {},
     "output_type": "execute_result"
    }
   ],
   "source": [
    "def Rf(f,a,b):\n",
    "    \"\"\"\n",
    "    Compute numerical approximation using simple rectangle or midpoint method in \n",
    "    an interval.\n",
    "    \"\"\"\n",
    "    node = a + (b - a)/2.0 #mid point formula to minimize rounding errors\n",
    "    return f(node) #zero degree polynomial\n",
    "\n",
    "rf_simple = Rf(f,0,1)\n",
    "rf_simple"
   ]
  },
  {
   "cell_type": "markdown",
   "id": "5b62ebcd-4352-42aa-8ec5-0cff40b1959e",
   "metadata": {},
   "source": [
    "### Calculando el error"
   ]
  },
  {
   "cell_type": "code",
   "execution_count": 7,
   "id": "decdd372-bd84-44c8-b548-5ffc25148be3",
   "metadata": {},
   "outputs": [
    {
     "data": {
      "text/plain": [
       "0.04281684114646715"
      ]
     },
     "execution_count": 7,
     "metadata": {},
     "output_type": "execute_result"
    }
   ],
   "source": [
    "def compute_error(obj,approx):\n",
    "    '''\n",
    "    Relative or absolute error between obj and approx.\n",
    "    '''\n",
    "    if math.fabs(obj) > np.nextafter(0,1):\n",
    "        Err = math.fabs(obj-approx)/math.fabs(obj)\n",
    "    else:\n",
    "        Err = math.fabs(obj-approx)\n",
    "    return Err\n",
    "\n",
    "compute_error(obj, rf_simple)"
   ]
  },
  {
   "cell_type": "code",
   "execution_count": null,
   "id": "beb3d6f8-5282-4762-8eec-dd431bfe977b",
   "metadata": {},
   "outputs": [],
   "source": []
  }
 ],
 "metadata": {
  "kernelspec": {
   "display_name": "Python 3 (ipykernel)",
   "language": "python",
   "name": "python3"
  },
  "language_info": {
   "codemirror_mode": {
    "name": "ipython",
    "version": 3
   },
   "file_extension": ".py",
   "mimetype": "text/x-python",
   "name": "python",
   "nbconvert_exporter": "python",
   "pygments_lexer": "ipython3",
   "version": "3.10.5"
  }
 },
 "nbformat": 4,
 "nbformat_minor": 5
}
