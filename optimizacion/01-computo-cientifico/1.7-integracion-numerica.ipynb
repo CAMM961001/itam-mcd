{
 "cells": [
  {
   "cell_type": "markdown",
   "id": "af56889a-023e-4e6c-9c73-40c907b431cb",
   "metadata": {},
   "source": [
    "# 1.7 Integración numérica\n",
    "\n",
    "Este libro es para la parte de código de la [sección 1.7 de las notas](https://itam-ds.github.io/analisis-numerico-computo-cientifico/1.computo_cientifico/1.7/Integracion_numerica.html).\n",
    "\n",
    "La función `quad` es un algoritmo implementado por scipy que se usa para calcular la integral definida de una función."
   ]
  },
  {
   "cell_type": "code",
   "execution_count": 1,
   "id": "4b36050d-6057-47d4-9d3c-38fce9d38330",
   "metadata": {},
   "outputs": [],
   "source": [
    "import math\n",
    "import numpy as np\n",
    "import pandas as pd\n",
    "import matplotlib.pyplot as plt\n",
    "\n",
    "from scipy.integrate import quad"
   ]
  },
  {
   "cell_type": "markdown",
   "id": "4581e823-9c86-471b-93f3-8e294847eb37",
   "metadata": {},
   "source": [
    "# Newton-Cotes\n",
    "**Ejemplo**:\n",
    "<br>En las siguientes reglas se considerará la función $f(x)=e^{-x^2}$ la cual tiene una forma:"
   ]
  },
  {
   "cell_type": "code",
   "execution_count": 2,
   "id": "edee2aa7-9bea-4979-a3eb-00ebbf322a30",
   "metadata": {},
   "outputs": [
    {
     "data": {
      "image/png": "[encoded data removed]",
      "text/plain": [
       "<Figure size 432x288 with 1 Axes>"
      ]
     },
     "metadata": {
      "needs_background": "light"
     },
     "output_type": "display_data"
    }
   ],
   "source": [
    "#Se define la función por integrar\n",
    "f = lambda x: np.exp(-x**2)\n",
    "\n",
    "#Se definen los puntos por evaluar\n",
    "x = np.arange(-1,1,.01)\n",
    "\n",
    "#Gráfica de la función\n",
    "plt.plot(x, f(x))\n",
    "plt.title('f(x)=exp(-x^2)')\n",
    "\n",
    "plt.show()"
   ]
  },
  {
   "cell_type": "code",
   "execution_count": 3,
   "id": "e001e8c3-8ec0-4eaf-b055-07b816012971",
   "metadata": {},
   "outputs": [
    {
     "data": {
      "text/plain": [
       "(0.7468241328124271, 8.291413475940725e-15)"
      ]
     },
     "execution_count": 3,
     "metadata": {},
     "output_type": "execute_result"
    }
   ],
   "source": [
    "obj, err = quad(f, 0, 1)\n",
    "obj, err"
   ]
  },
  {
   "cell_type": "markdown",
   "id": "bd0988cd-bd0f-4d35-9c7a-08aebaeaf824",
   "metadata": {},
   "source": [
    "## Regla simple del rectángulo\n",
    "**Ejemplo**:\n",
    "<br>Utilizar la regla simple del rectángulo para aproximar la integral: $\\int_{0}^{1}e^{-x^2}{dx}$"
   ]
  },
  {
   "cell_type": "code",
   "execution_count": 4,
   "id": "ed71acc2-f40c-4571-9ae9-a8206f20a348",
   "metadata": {},
   "outputs": [
    {
     "name": "stdout",
     "output_type": "stream",
     "text": [
      "Aprx. Integral, rect. simple: 0.778801\n"
     ]
    }
   ],
   "source": [
    "def Rf(f,a,b):\n",
    "    \"\"\"\n",
    "    Compute numerical approximation using simple rectangle or midpoint method in \n",
    "    an interval.\n",
    "    \"\"\"\n",
    "    node = a + (b - a)/2.0 #mid point formula to minimize rounding errors\n",
    "    return f(node) #zero degree polynomial\n",
    "\n",
    "rf_simple = Rf(f,0,1)\n",
    "print(f\"Aprx. Integral, rect. simple: {rf_simple:.6f}\")"
   ]
  },
  {
   "cell_type": "markdown",
   "id": "5b62ebcd-4352-42aa-8ec5-0cff40b1959e",
   "metadata": {},
   "source": [
    "### Calculando el error"
   ]
  },
  {
   "cell_type": "code",
   "execution_count": 5,
   "id": "decdd372-bd84-44c8-b548-5ffc25148be3",
   "metadata": {},
   "outputs": [
    {
     "name": "stdout",
     "output_type": "stream",
     "text": [
      "Rect. simple error: 4.281684%\n"
     ]
    }
   ],
   "source": [
    "def compute_error(obj,approx):\n",
    "    '''\n",
    "    Relative or absolute error between obj and approx.\n",
    "    '''\n",
    "    if math.fabs(obj) > np.nextafter(0,1):\n",
    "        Err = math.fabs(obj-approx)/math.fabs(obj)\n",
    "    else:\n",
    "        Err = math.fabs(obj-approx)\n",
    "    return Err\n",
    "\n",
    "rf_err = compute_error(obj, rf_simple)\n",
    "print(f\"Rect. simple error: {rf_err * 100:.6f}%\")"
   ]
  },
  {
   "cell_type": "markdown",
   "id": "f3aa8156-f7b9-4d04-b1a0-62e3977748c7",
   "metadata": {},
   "source": [
    "## Regla compuesta del rectángulo\n",
    "**Ejemplo**:\n",
    "<br>Utilizar la regla compuesta del rectángulo para aproximar la integral: $\\int_{0}^{1}e^{-x^2}{dx}$"
   ]
  },
  {
   "cell_type": "code",
   "execution_count": 6,
   "id": "833c4dfc-3556-4c0b-b436-3a67d9d61324",
   "metadata": {},
   "outputs": [],
   "source": [
    "def Rcf(f,a,b,n):\n",
    "    \"\"\"\n",
    "    Compute numerical approximation using rectangle or mid-point\n",
    "    method in an interval.\n",
    "    Nodes are generated via formula: x_i = a+(i+1/2)h_hat for\n",
    "    i=0,1,...,n-1 and h_hat=(b-a)/n\n",
    "    Args:\n",
    "    \n",
    "        f (function): function expression of integrand.\n",
    "        \n",
    "        a (float): left point of interval.\n",
    "        \n",
    "        b (float): right point of interval.\n",
    "        \n",
    "        n (float): number of subintervals.\n",
    "        \n",
    "    Returns:\n",
    "    \n",
    "        sum_res (float): numerical approximation to integral\n",
    "            of f in the interval a,b\n",
    "    \"\"\"\n",
    "    h_hat = (b - a)/n\n",
    "    nodes = [a + (i+1/2) * h_hat for i in range(0,n)]\n",
    "    sum_res = 0\n",
    "    for node in nodes:\n",
    "        sum_res = sum_res + f(node)\n",
    "    return h_hat * sum_res"
   ]
  },
  {
   "cell_type": "markdown",
   "id": "141cd901-0bd1-4f3b-89c1-4e02ac809d68",
   "metadata": {},
   "source": [
    "**1 nodo**:"
   ]
  },
  {
   "cell_type": "code",
   "execution_count": 7,
   "id": "8e2c578b-331d-4610-994a-260265613941",
   "metadata": {},
   "outputs": [
    {
     "name": "stdout",
     "output_type": "stream",
     "text": [
      "Aprx. rectángulo simple: 0.778801\n",
      "Aprx. rect. comp. 1 nodo: 0.778801\n"
     ]
    }
   ],
   "source": [
    "n = 1\n",
    "a, b = 0, 1\n",
    "\n",
    "#Evaluando rcf\n",
    "rcf_1 = Rcf(f, a, b, n)\n",
    "\n",
    "#Comparando con rect. simple\n",
    "print(f\"Aprx. rectángulo simple: {rf_simple:.6f}\")\n",
    "print(f\"Aprx. rect. comp. 1 nodo: {rcf_1:.6f}\")"
   ]
  },
  {
   "cell_type": "markdown",
   "id": "87ce5d59-20fc-42a8-95b8-a8882696348c",
   "metadata": {},
   "source": [
    "**2 nodos**:"
   ]
  },
  {
   "cell_type": "code",
   "execution_count": 8,
   "id": "6aea8e1f-876f-4bdf-861f-ddc37364a71b",
   "metadata": {},
   "outputs": [
    {
     "name": "stdout",
     "output_type": "stream",
     "text": [
      "Aprx. rectángulo simple: 0.778801\n",
      "Aprx. rect. comp. 2 nodo: 0.754598\n"
     ]
    }
   ],
   "source": [
    "n = 2\n",
    "a, b = 0, 1\n",
    "\n",
    "#Evaluando rcf\n",
    "rcf_2 = Rcf(f, a, b, n)\n",
    "\n",
    "#Comparando con rect. simple\n",
    "print(f\"Aprx. rectángulo simple: {rf_simple:.6f}\")\n",
    "print(f\"Aprx. rect. comp. 2 nodo: {rcf_2:.6f}\")"
   ]
  },
  {
   "cell_type": "markdown",
   "id": "3557d4e5-46b2-41da-8d10-b81ed0fed415",
   "metadata": {},
   "source": [
    "**$10^3$ nodo**:"
   ]
  },
  {
   "cell_type": "code",
   "execution_count": 9,
   "id": "94e587f1-7260-4e81-bffe-8f09989dc32b",
   "metadata": {},
   "outputs": [
    {
     "name": "stdout",
     "output_type": "stream",
     "text": [
      "Aprx. rectángulo simple: 0.778801\n",
      "Aprx. rect. comp. 1e3 nodo: 0.746824\n"
     ]
    }
   ],
   "source": [
    "n = int(1e3)\n",
    "a, b = 0, 1\n",
    "\n",
    "#Evaluando rcf\n",
    "rcf_n = Rcf(f, a, b, n)\n",
    "\n",
    "#Comparando con rect. simple\n",
    "print(f\"Aprx. rectángulo simple: {rf_simple:.6f}\")\n",
    "print(f\"Aprx. rect. comp. 1e3 nodo: {rcf_n:.6f}\")"
   ]
  },
  {
   "cell_type": "markdown",
   "id": "186a2677-438e-4235-a7b7-06f708ffe9cd",
   "metadata": {},
   "source": [
    "### Calculando el error"
   ]
  },
  {
   "cell_type": "code",
   "execution_count": 10,
   "id": "b21afe8d-55d8-47ae-98cd-bc373f79ef25",
   "metadata": {},
   "outputs": [
    {
     "data": {
      "text/html": [
       "<div>\n",
       "<style scoped>\n",
       "    .dataframe tbody tr th:only-of-type {\n",
       "        vertical-align: middle;\n",
       "    }\n",
       "\n",
       "    .dataframe tbody tr th {\n",
       "        vertical-align: top;\n",
       "    }\n",
       "\n",
       "    .dataframe thead th {\n",
       "        text-align: right;\n",
       "    }\n",
       "</style>\n",
       "<table border=\"1\" class=\"dataframe\">\n",
       "  <thead>\n",
       "    <tr style=\"text-align: right;\">\n",
       "      <th></th>\n",
       "      <th>Aproximaciones Rcf</th>\n",
       "      <th>Número de nodos</th>\n",
       "      <th>Errores relativos</th>\n",
       "    </tr>\n",
       "  </thead>\n",
       "  <tbody>\n",
       "    <tr>\n",
       "      <th>0</th>\n",
       "      <td>Rcf_1</td>\n",
       "      <td>1.0</td>\n",
       "      <td>4.281684e-02</td>\n",
       "    </tr>\n",
       "    <tr>\n",
       "      <th>1</th>\n",
       "      <td>Rcf_2</td>\n",
       "      <td>2.0</td>\n",
       "      <td>1.040916e-02</td>\n",
       "    </tr>\n",
       "    <tr>\n",
       "      <th>2</th>\n",
       "      <td>Rcf_3</td>\n",
       "      <td>1000.0</td>\n",
       "      <td>4.104932e-08</td>\n",
       "    </tr>\n",
       "  </tbody>\n",
       "</table>\n",
       "</div>"
      ],
      "text/plain": [
       "  Aproximaciones Rcf  Número de nodos  Errores relativos\n",
       "0              Rcf_1              1.0       4.281684e-02\n",
       "1              Rcf_2              2.0       1.040916e-02\n",
       "2              Rcf_3           1000.0       4.104932e-08"
      ]
     },
     "execution_count": 10,
     "metadata": {},
     "output_type": "execute_result"
    }
   ],
   "source": [
    "rcf_err_1 = compute_error(obj, rcf_1)\n",
    "rcf_err_2 = compute_error(obj, rcf_2)\n",
    "rcf_err_n = compute_error(obj, rcf_n)\n",
    "\n",
    "rcf_dict = {\"Aproximaciones Rcf\": [\"Rcf_1\", \"Rcf_2\", \"Rcf_3\"],\n",
    "            \"Número de nodos\" : [1, 2, 1e3],\n",
    "            \"Errores relativos\": [rcf_err_1, rcf_err_2, rcf_err_n]}\n",
    "\n",
    "pd.DataFrame(rcf_dict)"
   ]
  },
  {
   "cell_type": "markdown",
   "id": "3dec2213-a11d-44ed-9d23-4286daaa1e56",
   "metadata": {},
   "source": [
    "**Evaluando** el error utilizando `pytest`"
   ]
  },
  {
   "cell_type": "code",
   "execution_count": 11,
   "id": "81e84bf3-a8a0-4bf2-8f3b-60835e843255",
   "metadata": {},
   "outputs": [],
   "source": [
    "from pytest import approx"
   ]
  },
  {
   "cell_type": "code",
   "execution_count": 12,
   "id": "0b707865-9ef8-4f1e-ab59-2dcdfb52af0b",
   "metadata": {},
   "outputs": [
    {
     "name": "stdout",
     "output_type": "stream",
     "text": [
      "Regla comp. rect. 1 nodos: False\n",
      "Regla comp. rect. 2 nodos: False\n",
      "Regla comp. rect. n nodos: True\n"
     ]
    }
   ],
   "source": [
    "print(f\"Regla comp. rect. 1 nodos: {rcf_1 == approx(obj)}\")\n",
    "print(f\"Regla comp. rect. 2 nodos: {rcf_2 == approx(obj)}\")\n",
    "print(f\"Regla comp. rect. n nodos: {rcf_n == approx(obj)}\")"
   ]
  },
  {
   "cell_type": "markdown",
   "id": "dcdc6d8d-ecce-4018-b43a-a6da07014dc1",
   "metadata": {},
   "source": [
    "**Bajando** la tolerancia "
   ]
  },
  {
   "cell_type": "code",
   "execution_count": 13,
   "id": "b13d27ef-4ca0-4582-b7c5-24956729aa38",
   "metadata": {},
   "outputs": [
    {
     "name": "stdout",
     "output_type": "stream",
     "text": [
      "Regla comp. rect. 1 nodos: True\n",
      "Regla comp. rect. 2 nodos: True\n",
      "Regla comp. rect. n nodos: True\n"
     ]
    }
   ],
   "source": [
    "print(f\"Regla comp. rect. 1 nodos: {rcf_1 == approx(obj, abs=1e-1, rel=1e-1)}\")\n",
    "print(f\"Regla comp. rect. 2 nodos: {rcf_2 == approx(obj, abs=1e-1, rel=1e-1)}\")\n",
    "print(f\"Regla comp. rect. n nodos: {rcf_n == approx(obj, abs=1e-1, rel=1e-1)}\")"
   ]
  },
  {
   "cell_type": "markdown",
   "id": "8dcaed8e-c90b-469c-8d8b-b9e2493a2bdd",
   "metadata": {},
   "source": [
    "### Pregunta\n",
    "¿Es el método del rectángulo un método estable numéricamente bajo el redondeo? Para responder, se aproxima la integral con un mayor número de nodos."
   ]
  },
  {
   "cell_type": "code",
   "execution_count": 14,
   "id": "7420ec14-06ac-44e3-a63d-7cdf44fbf24c",
   "metadata": {},
   "outputs": [
    {
     "name": "stdout",
     "output_type": "stream",
     "text": [
      "Aprx. rect. comp. 1e3 nodo: 4.104932e-08\n",
      "Aprx. rect. comp. 1e5 nodo: 4.099427e-12\n"
     ]
    }
   ],
   "source": [
    "n = int(1e5)\n",
    "rcf_4 = Rcf(f, a, b, n)\n",
    "rcf_err_4 = compute_error(obj, rcf_4)\n",
    "\n",
    "print(f\"Aprx. rect. comp. 1e3 nodo: {rcf_err_n:e}\")\n",
    "print(f\"Aprx. rect. comp. 1e5 nodo: {rcf_err_4:e}\")"
   ]
  },
  {
   "cell_type": "markdown",
   "id": "882a26c3-f33e-472d-b90e-7b6ba3809ba6",
   "metadata": {},
   "source": [
    "El error bajó aún más con una $h$ más pequeña $\\therefore$ el problema es numéricamente estable."
   ]
  },
  {
   "cell_type": "markdown",
   "id": "2fc1afc5-cb72-4d22-ac92-967e9bfe0213",
   "metadata": {},
   "source": [
    "## Regla compuesta del trapecio\n",
    "**Ejemplo**:\n",
    "<br>Con la regla compuesta del trapecio se aproximará la integral $\\int_{0}^{1}e^{-x^2}{dx}$.\n",
    "<br>Se calculará el error relativo y graficará $n_{sub}$ vs Error relativo para $n_{sub}=[1,10,...,10^4]$."
   ]
  },
  {
   "cell_type": "code",
   "execution_count": 15,
   "id": "b026bfa4-8889-4d9e-805e-2f5e41a34c2b",
   "metadata": {},
   "outputs": [],
   "source": [
    "def Tcf(n,f,a,b): #Tcf: trapecio compuesto para f\n",
    "    \"\"\"\n",
    "    Compute numerical approximation using trapezoidal method in \n",
    "    an interval.\n",
    "    Nodes are generated via formula: x_i = a+ih_hat for i=0,1,...,n and h_hat=(b-a)/n\n",
    "    Args:\n",
    "        f (function): function expression of integrand\n",
    "        a (float): left point of interval\n",
    "        b (float): right point of interval\n",
    "        n (float): number of subintervals\n",
    "    Returns:\n",
    "        sum_res (float): numerical approximation to integral of f in the interval a,b\n",
    "    \"\"\"\n",
    "    h = b-a\n",
    "    nodes = np.linspace(a,b,n+1)\n",
    "    sum_res = sum(f(nodes[1:-1]))\n",
    "    return h/(2*n) * ( f(nodes[0]) + f(nodes[-1]) + 2*sum_res )\n",
    "\n",
    "\n",
    "def compute_error_point_wise(obj, approx):\n",
    "    '''\n",
    "    Relative or absolute error between obj and approx (Element wise).\n",
    "    '''\n",
    "    if np.abs(obj) > np.nextafter(0,1):\n",
    "        Err = np.abs(obj - approx)/np.abs(obj)\n",
    "    else:\n",
    "        Err = np.abs(obj - approx)\n",
    "    return Err"
   ]
  },
  {
   "cell_type": "code",
   "execution_count": 16,
   "id": "41dc6d13-d01b-42f5-8de6-49df434e9028",
   "metadata": {},
   "outputs": [
    {
     "data": {
      "text/plain": [
       "array([8.42024373e-02, 8.21259857e-04, 8.20989064e-06, 8.20986364e-08,\n",
       "       8.20987410e-10])"
      ]
     },
     "execution_count": 16,
     "metadata": {},
     "output_type": "execute_result"
    }
   ],
   "source": [
    "#Subintervalos\n",
    "numb_of_subintervals = (1,10,100,1000,10000)\n",
    "\n",
    "#Evaluando la integral\n",
    "tcf_approx = np.array([ Tcf(n,f,0,1) for n in numb_of_subintervals ])\n",
    "\n",
    "#Calculando el error\n",
    "relative_errors = compute_error_point_wise(obj, tcf_approx)\n",
    "relative_errors"
   ]
  },
  {
   "cell_type": "markdown",
   "id": "f387738a-e1bc-4a72-bbe5-a3c81cd70428",
   "metadata": {},
   "source": [
    "**Graficando** el error"
   ]
  },
  {
   "cell_type": "code",
   "execution_count": 17,
   "id": "46f1da22-e7ea-4e72-ba72-3999849f09c4",
   "metadata": {},
   "outputs": [
    {
     "data": {
      "image/png": "[encoded data removed]",
      "text/plain": [
       "<Figure size 432x288 with 1 Axes>"
      ]
     },
     "metadata": {
      "needs_background": "light"
     },
     "output_type": "display_data"
    }
   ],
   "source": [
    "plt.plot(np.log(numb_of_subintervals), np.log(relative_errors), 'o-', c='b')\n",
    "\n",
    "#Anotaciones y estilo\n",
    "plt.xlabel('$log(n_{sub})$', fontsize=12)\n",
    "plt.ylabel('$log({E}_{r})$', fontsize=12)\n",
    "plt.title('Error relativo en la regla del Trapecio', fontsize=14)\n",
    "plt.grid(alpha=0.2)\n",
    "\n",
    "plt.show()"
   ]
  },
  {
   "cell_type": "markdown",
   "id": "fcfbd7d7-8f77-4cec-86d5-93fc3a367073",
   "metadata": {},
   "source": [
    "Nuevamente el error baja con una $h$ más pequeña $\\therefore$ se compreba que el problema es numéricamente estable."
   ]
  },
  {
   "cell_type": "markdown",
   "id": "537dbe29-96bf-4c30-9593-e514b9895a98",
   "metadata": {},
   "source": [
    "## Ejercicio: Regla compuesta de Simpson\n",
    "<br>Utilizando lenguajes de programación, implementar la regla compuesta de Simpson para aproximar la integral $\\int_{0}^{1}e^{-x^2}{dx}$.\n",
    "<br>Calcular error relativo y realizar una gráfica de $n$ vs Error relativo para $n=[1,10,...,10^4]$."
   ]
  },
  {
   "cell_type": "markdown",
   "id": "0a1d30e2-3b5f-4fae-bee7-7caec13ae18d",
   "metadata": {},
   "source": [
    "```python\n",
    "def Scf(n,f,a,b): #Tcf: trapecio compuesto para f\n",
    "    \"\"\"\n",
    "    Compute numerical approximation using trapezoidal method in \n",
    "    an interval.\n",
    "    Nodes are generated via formula: x_i = a+ih_hat for i=0,1,...,n and h_hat=(b-a)/n\n",
    "    Args:\n",
    "        f (function): function expression of integrand\n",
    "        a (float): left point of interval\n",
    "        b (float): right point of interval\n",
    "        n (float): number of subintervals\n",
    "    Returns:\n",
    "        sum_res (float): numerical approximation to integral of f in the interval a,b\n",
    "    \"\"\"\n",
    "    h = b-a\n",
    "    nodes = np.linspace(a,b,n+1)\n",
    "    sum_res = sum(f(nodes[1:-1]))\n",
    "    return h/(6*n) * ( f(nodes[0]) + f(nodes[-1]) + 2*sum_res )\n",
    "```"
   ]
  },
  {
   "cell_type": "markdown",
   "id": "8c31498b-fb61-41f2-beca-853de6a265eb",
   "metadata": {},
   "source": [
    "```python\n",
    "#Subintervalos\n",
    "numb_of_subintervals = (1,10,100,1000,10000)\n",
    "\n",
    "#Evaluando la integral\n",
    "tcf_approx = np.array([ Tcf(n,f,0,1) for n in numb_of_subintervals ])\n",
    "\n",
    "#Calculando el error\n",
    "relative_errors = compute_error_point_wise(obj, tcf_approx)\n",
    "relative_errors\n",
    "```"
   ]
  },
  {
   "cell_type": "markdown",
   "id": "a2972a63-c9fa-4585-9062-07f26a0ae981",
   "metadata": {},
   "source": [
    "**Graficando** el error"
   ]
  },
  {
   "cell_type": "markdown",
   "id": "91128c13-ec74-4ee5-8efd-2ceb100bcca5",
   "metadata": {},
   "source": [
    "```python\n",
    "plt.plot(np.log(numb_of_subintervals), np.log(relative_errors), 'o-', c='b')\n",
    "\n",
    "#Anotaciones y estilo\n",
    "plt.xlabel('$log(n_{sub})$', fontsize=12)\n",
    "plt.ylabel('$log({E}_{r})$', fontsize=12)\n",
    "plt.title('Error relativo en la regla del Trapecio', fontsize=14)\n",
    "plt.grid(alpha=0.2)\n",
    "\n",
    "plt.show()\n",
    "```"
   ]
  },
  {
   "attachments": {
    "136ac95c-3f1e-457f-bdca-ea543c749305.png": {
     "image/png": "[encoded data removed]"
    },
    "c861a421-fd9e-4c9f-aa3e-c7ede0dc1dd0.png": {
     "image/png": "[encoded data removed]"
    }
   },
   "cell_type": "markdown",
   "id": "b8abedf7-08db-462d-93ed-94e236b775ae",
   "metadata": {},
   "source": [
    "# Monte Carlo\n",
    "**Ejemplo**:\n",
    "<br>Supóngase que se desea aproximar el área de un círculo centrado en el origen de radio igual a $1$,  entonces el área de este círculo es $\\pi r^2=\\pi$. Para lo anterior, se **inscribe** la circuenferencia en un cuadrado de lado $2$:\n",
    "\n",
    "![image.png](attachment:c861a421-fd9e-4c9f-aa3e-c7ede0dc1dd0.png)\n",
    "\n",
    "Si se tienen $n$ pñuntos en el cuadrado, y consideramos únicamente los $m$ puntos que están dentro de la circuinferencia:\n",
    "\n",
    "![image.png](attachment:136ac95c-3f1e-457f-bdca-ea543c749305.png)\n",
    "\n",
    "Entonces $\\frac{A_{círculo}}{A_{cuadrado}}\\approx\\frac{m}{n}\\therefore A_{círculo}\\approx A_{cuadrado}\\frac{m}{n}$, y si $n\\rightarrow\\infty$, entonces la aproximación es exacta."
   ]
  },
  {
   "cell_type": "code",
   "execution_count": 18,
   "id": "d4eebae4-142a-4c29-a9fd-6b32c5f28ffa",
   "metadata": {},
   "outputs": [
    {
     "data": {
      "image/png": "[encoded data removed]",
      "text/plain": [
       "<Figure size 432x288 with 1 Axes>"
      ]
     },
     "metadata": {
      "needs_background": "light"
     },
     "output_type": "display_data"
    }
   ],
   "source": [
    "#Muestra de una distribución uniforme\n",
    "density_p = int(2.5e3)\n",
    "x_p = np.random.uniform(low=-1, high=1, size=(density_p,2))\n",
    "\n",
    "#Circunferencia unitaria\n",
    "density = 1e-5\n",
    "x = np.arange(-1, 1, density)\n",
    "y1 = np.sqrt(1 - x**2)\n",
    "y2 = -np.sqrt(1 - x**2)\n",
    "\n",
    "#Graficando\n",
    "plt.scatter(x_p[:,0],x_p[:,1],marker='.',color='g', alpha=0.5)\n",
    "plt.plot(x, y1, 'r', x, y2, 'r')\n",
    "\n",
    "#Anotaciones y estilo\n",
    "plt.title('Concepto de Monte Carlo')\n",
    "plt.grid(alpha=0.2)\n",
    "plt.axis(\"equal\")\n",
    "plt.show()"
   ]
  },
  {
   "cell_type": "markdown",
   "id": "1dee88b8-06ce-4aa5-a356-f2a0e73f072f",
   "metadata": {},
   "source": [
    "Entonces"
   ]
  },
  {
   "cell_type": "code",
   "execution_count": 19,
   "id": "56b4366f-5715-4af8-9d2c-e7a59a38d2f2",
   "metadata": {},
   "outputs": [
    {
     "data": {
      "image/png": "[encoded data removed]",
      "text/plain": [
       "<Figure size 432x288 with 1 Axes>"
      ]
     },
     "metadata": {
      "needs_background": "light"
     },
     "output_type": "display_data"
    }
   ],
   "source": [
    "#Definición de norma 2\n",
    "f = lambda x: np.sqrt(x[:,0]**2 + x[:,1]**2)\n",
    "\n",
    "#Muestra de distribución uniforme que satisfaga r <= 1\n",
    "ind = f(x_p) <= 1\n",
    "x_p_subset = x_p[ind]\n",
    "\n",
    "#Graficando\n",
    "plt.scatter(x_p_subset[:,0], x_p_subset[:,1], marker='.', color='r', alpha=0.5)\n",
    "\n",
    "#Anotaciones y estilo\n",
    "plt.title('Integración por Monte Carlo')\n",
    "plt.grid(alpha=0.2)\n",
    "plt.axis(\"equal\")\n",
    "\n",
    "plt.show()"
   ]
  },
  {
   "cell_type": "markdown",
   "id": "434b04b3-cc84-4cad-b264-6dd365f976fb",
   "metadata": {},
   "source": [
    "El **área** de la circunferencia queda dada por:"
   ]
  },
  {
   "cell_type": "code",
   "execution_count": 20,
   "id": "cdc7915d-e7a8-40e3-b852-0467b0a4c1ad",
   "metadata": {},
   "outputs": [
    {
     "name": "stdout",
     "output_type": "stream",
     "text": [
      "Área circunferencia unitaria: 3.124800\n"
     ]
    }
   ],
   "source": [
    "square_area = 2**2\n",
    "print(f\"Área circunferencia unitaria: {square_area * len(x_p_subset)/len(x_p):.6f}\")"
   ]
  },
  {
   "cell_type": "markdown",
   "id": "6d56ba5a-3c0d-46e4-9471-72c78c9acca7",
   "metadata": {},
   "source": [
    "Aumentando el número de puntos"
   ]
  },
  {
   "cell_type": "code",
   "execution_count": 21,
   "id": "8e37a33f-07b2-4a76-aa86-3fdf4f692c69",
   "metadata": {},
   "outputs": [
    {
     "name": "stdout",
     "output_type": "stream",
     "text": [
      "Aprx. área circ. unit., n=10,000: 3.160000\n"
     ]
    }
   ],
   "source": [
    "#Muestra de dist. uniforme\n",
    "density_p = int(1e4)\n",
    "x_p = np.random.uniform(low=-1, high=1, size=(density_p,2))\n",
    "\n",
    "#Aprox. Monte Carlo\n",
    "ind = f(x_p) <= 1\n",
    "x_p_subset = x_p[ind]\n",
    "\n",
    "print(f\"Aprx. área circ. unit., n={density_p:,}: {square_area * len(x_p_subset)/len(x_p):.6f}\")"
   ]
  },
  {
   "cell_type": "code",
   "execution_count": 22,
   "id": "745261fc-e1ad-4d26-a0cc-b41564428ef7",
   "metadata": {},
   "outputs": [
    {
     "name": "stdout",
     "output_type": "stream",
     "text": [
      "Aprx. área circ. unit., n=1,000,000: 3.139196\n"
     ]
    }
   ],
   "source": [
    "#Muestra de dist. uniforme\n",
    "density_p = int(1e6)\n",
    "x_p = np.random.uniform(low=-1, high=1, size=(density_p,2))\n",
    "\n",
    "#Aprox. Monte Carlo\n",
    "ind = f(x_p) <= 1\n",
    "x_p_subset = x_p[ind]\n",
    "\n",
    "print(f\"Aprx. área circ. unit., n={density_p:,}: {square_area * len(x_p_subset)/len(x_p):.6f}\")"
   ]
  },
  {
   "cell_type": "markdown",
   "id": "5520449c-adb2-496f-b25b-4bda1b3401ff",
   "metadata": {},
   "source": [
    "**Ejemplos**:\n",
    "<br>Calcular para una densidad de puntos $d_p={10}^4$ las siguientes integrales:"
   ]
  },
  {
   "cell_type": "code",
   "execution_count": 23,
   "id": "f3664d84-60a8-4e4a-aa71-d6966483c5db",
   "metadata": {},
   "outputs": [],
   "source": [
    "density_p = int(1e4)"
   ]
  },
  {
   "cell_type": "markdown",
   "id": "74c1ae6c-1fd2-4e1c-8d00-fd3000b51cde",
   "metadata": {},
   "source": [
    "* $\\int_{0}^{1}\\frac{4}{1+x^2}{dx}=\\pi$"
   ]
  },
  {
   "cell_type": "code",
   "execution_count": 24,
   "id": "fe857cd5-ebbb-4419-8f0e-48badddd5c49",
   "metadata": {},
   "outputs": [
    {
     "name": "stdout",
     "output_type": "stream",
     "text": [
      "obj:\t3.141592653589793\n",
      "aprx:\t3.1469911162033926\n"
     ]
    }
   ],
   "source": [
    "#Función a integrar\n",
    "f = lambda x: 4/(1 + x**2)\n",
    "\n",
    "#Valor objetivo\n",
    "obj = np.pi\n",
    "\n",
    "#Aproximación Monte Carlo\n",
    "a, b = 0, 1\n",
    "x_p = np.random.uniform(low=a, high=b, size=density_p)\n",
    "aprx_mc = (b-a) * np.mean(f(x_p))\n",
    "\n",
    "print(f\"obj:\\t{obj}\\naprx:\\t{aprx_mc}\")"
   ]
  },
  {
   "cell_type": "code",
   "execution_count": 25,
   "id": "d8247984-ad1f-4c9a-98ae-14f018746216",
   "metadata": {},
   "outputs": [
    {
     "name": "stdout",
     "output_type": "stream",
     "text": [
      "rel. error: 1.718384e-03\n"
     ]
    }
   ],
   "source": [
    "#Error relativo\n",
    "rel_err = compute_error(obj, aprx_mc)\n",
    "print(f\"rel. error: {rel_err:e}\")"
   ]
  },
  {
   "cell_type": "markdown",
   "id": "bffa03b3-9590-4462-b3a8-1cbbbd9ffb5e",
   "metadata": {},
   "source": [
    "* $\\int_{1}^{2}\\frac{1}{x}{dx}=log(2)$"
   ]
  },
  {
   "cell_type": "code",
   "execution_count": 26,
   "id": "149f5af1-91d0-4d0d-813a-b41d9cd172a8",
   "metadata": {},
   "outputs": [
    {
     "name": "stdout",
     "output_type": "stream",
     "text": [
      "obj:\t0.6931471805599453\n",
      "aprx:\t0.6914404423921174\n"
     ]
    }
   ],
   "source": [
    "#Función a integrar\n",
    "f = lambda x: 1/x\n",
    "\n",
    "#Valor objetivo\n",
    "obj = np.log(2)\n",
    "\n",
    "#Aproximación Monte Carlo\n",
    "a, b = 1, 2\n",
    "x_p = np.random.uniform(low=a, high=b, size=density_p)\n",
    "aprx_mc = (b-a) * np.mean(f(x_p))\n",
    "\n",
    "print(f\"obj:\\t{obj}\\naprx:\\t{aprx_mc}\")"
   ]
  },
  {
   "cell_type": "code",
   "execution_count": 27,
   "id": "3987f858-f197-4695-a915-b90eeb4a6772",
   "metadata": {},
   "outputs": [
    {
     "name": "stdout",
     "output_type": "stream",
     "text": [
      "rel. error: 2.462303e-03\n"
     ]
    }
   ],
   "source": [
    "#Error relativo\n",
    "rel_err = compute_error(obj, aprx_mc)\n",
    "print(f\"rel. error: {rel_err:e}\")"
   ]
  },
  {
   "cell_type": "markdown",
   "id": "9fc207cb-a8d2-49e8-a37a-1a194b0e655b",
   "metadata": {},
   "source": [
    "* $\\int_{-1}^{1}\\int_{0}^{1}x^2+y^2{dx}{dy}=\\frac{4}{3}$"
   ]
  },
  {
   "cell_type": "code",
   "execution_count": 28,
   "id": "5fc823e6-d337-438f-9ad4-a40afdc8dba6",
   "metadata": {},
   "outputs": [
    {
     "name": "stdout",
     "output_type": "stream",
     "text": [
      "obj:\t1.3333333333333333\n",
      "aprx:\t1.3292505128950125\n"
     ]
    }
   ],
   "source": [
    "#Función a integrar\n",
    "f = lambda x, y: x**2 + y**2\n",
    "\n",
    "#Valor objetivo\n",
    "obj = 4/3\n",
    "\n",
    "#Aproximación Monte Carlo\n",
    "a1, b1 = -1, 1\n",
    "a2, b2 = 0, 1\n",
    "vol = (b1-a1) * (b2-a2)\n",
    "x_p = np.random.uniform(low=a1, high=b1, size=density_p)\n",
    "y_p = np.random.uniform(low=a2, high=b2, size=density_p)\n",
    "aprx_mc = vol * np.mean(f(x_p, y_p))\n",
    "\n",
    "print(f\"obj:\\t{obj}\\naprx:\\t{aprx_mc}\")"
   ]
  },
  {
   "cell_type": "code",
   "execution_count": 29,
   "id": "794abeaf-839d-4e01-a4b9-e58318b42831",
   "metadata": {},
   "outputs": [
    {
     "name": "stdout",
     "output_type": "stream",
     "text": [
      "rel. error: 3.062115e-03\n"
     ]
    }
   ],
   "source": [
    "#Error relativo\n",
    "rel_err = compute_error(obj, aprx_mc)\n",
    "print(f\"rel. error: {rel_err:e}\")"
   ]
  },
  {
   "cell_type": "markdown",
   "id": "dea75fe6-2c84-4057-91f9-403000377b95",
   "metadata": {},
   "source": [
    "* $\\int_{0}^{\\frac{\\pi}{2}}\\int_{0}^{\\frac{\\pi}{2}}{cos}(x){sin}(y){dx}{dy}=1$"
   ]
  },
  {
   "cell_type": "code",
   "execution_count": 30,
   "id": "111902b1-5d8f-478d-ae8f-9fa867f786f7",
   "metadata": {},
   "outputs": [
    {
     "name": "stdout",
     "output_type": "stream",
     "text": [
      "obj:\t1\n",
      "aprx:\t1.0028248102040227\n"
     ]
    }
   ],
   "source": [
    "#Función a integrar\n",
    "f = lambda x, y: np.cos(x) * np.sin(y)\n",
    "\n",
    "#Valor objetivo\n",
    "obj = 1\n",
    "\n",
    "#Aproximación Monte Carlo\n",
    "a1, b1 = 0, np.pi/2\n",
    "a2, b2 = 0, np.pi/2\n",
    "vol = (b1-a1) * (b2-a2)\n",
    "x_p = np.random.uniform(low=a1, high=b1, size=density_p)\n",
    "y_p = np.random.uniform(low=a2, high=b2, size=density_p)\n",
    "aprx_mc = vol * np.mean(f(x_p, y_p))\n",
    "\n",
    "print(f\"obj:\\t{obj}\\naprx:\\t{aprx_mc}\")"
   ]
  },
  {
   "cell_type": "code",
   "execution_count": 31,
   "id": "96471e79-edfe-4fba-ad0c-ef247167c3f7",
   "metadata": {},
   "outputs": [
    {
     "name": "stdout",
     "output_type": "stream",
     "text": [
      "rel. error: 2.824810e-03\n"
     ]
    }
   ],
   "source": [
    "#Error relativo\n",
    "rel_err = compute_error(obj, aprx_mc)\n",
    "print(f\"rel. error: {rel_err:e}\")"
   ]
  },
  {
   "cell_type": "markdown",
   "id": "75f4099a-756c-4dff-ac02-5a44fbdcdefd",
   "metadata": {},
   "source": [
    "* $\\int_{0}^{1} \\int_{-\\frac{1}{2}}^{0} \\int_{0}^{\\frac{1}{3}}(x+2y+3z)^2{dx}{dy}{dz}=\\frac{1}{12}$"
   ]
  },
  {
   "cell_type": "code",
   "execution_count": 32,
   "id": "fe125c0d-0a03-4c2f-ba81-7fdd01d9d596",
   "metadata": {},
   "outputs": [
    {
     "name": "stdout",
     "output_type": "stream",
     "text": [
      "obj:\t0.08333333333333333\n",
      "aprx:\t0.08239020415073446\n"
     ]
    }
   ],
   "source": [
    "#Función a integrar\n",
    "f = lambda x, y, z: (x + 2*y + 3*z)**2\n",
    "\n",
    "#Valor objetivo\n",
    "obj = 1/12\n",
    "\n",
    "#Aproximación Monte Carlo\n",
    "ax, bx = 0, 1\n",
    "ay, by = -1/2, 0\n",
    "az, bz = 0, 1/3\n",
    "vol = (bx-ax) * (by-ay) * (bz-az)\n",
    "x_p = np.random.uniform(low=ax, high=bx, size=density_p)\n",
    "y_p = np.random.uniform(low=ay, high=by, size=density_p)\n",
    "z_p = np.random.uniform(low=az, high=bz, size=density_p)\n",
    "aprx_mc = vol * np.mean(f(x_p, y_p, z_p))\n",
    "\n",
    "print(f\"obj:\\t{obj}\\naprx:\\t{aprx_mc}\")"
   ]
  },
  {
   "cell_type": "code",
   "execution_count": 33,
   "id": "cd6fb198-6a66-4e0e-9577-cd665bb3f36c",
   "metadata": {},
   "outputs": [
    {
     "name": "stdout",
     "output_type": "stream",
     "text": [
      "rel. error: 1.131755e-02\n"
     ]
    }
   ],
   "source": [
    "#Error relativo\n",
    "rel_err = compute_error(obj, aprx_mc)\n",
    "print(f\"rel. error: {rel_err:e}\")"
   ]
  },
  {
   "cell_type": "markdown",
   "id": "b68c5d2b-15dc-458e-8b75-eb46b84d1fe4",
   "metadata": {},
   "source": [
    "## Calculando el error\n",
    "**Ejemplo**:\n",
    "<br>Para el ejemplo anterior $\\int_{0}^{1}\\frac{4}{1+x^2}{dx}=\\pi$ se tiene:"
   ]
  },
  {
   "cell_type": "code",
   "execution_count": 34,
   "id": "e88dcdfd-f235-41e0-9c61-05190a3ebb5c",
   "metadata": {},
   "outputs": [
    {
     "name": "stdout",
     "output_type": "stream",
     "text": [
      "obj:\t3.141592653589793\n",
      "aprx:\t3.1400387956472966\n"
     ]
    }
   ],
   "source": [
    "#Función a integrar\n",
    "f = lambda x: 4/(1 + x**2)\n",
    "\n",
    "#Valor objetivo\n",
    "obj = np.pi\n",
    "\n",
    "#Aproximación Monte Carlo\n",
    "a, b = 0, 1\n",
    "x_p = np.random.uniform(low=a, high=b, size=density_p)\n",
    "f_bar = np.mean(f(x_p))\n",
    "aprx_mc = (b-a) * f_bar\n",
    "\n",
    "print(f\"obj:\\t{obj}\\naprx:\\t{aprx_mc}\")"
   ]
  },
  {
   "cell_type": "code",
   "execution_count": 35,
   "id": "f43300e8-0e8a-464e-aa5a-2348bd61c670",
   "metadata": {},
   "outputs": [
    {
     "name": "stdout",
     "output_type": "stream",
     "text": [
      "rel. error: 4.946083e-04\n"
     ]
    }
   ],
   "source": [
    "#Error relativo\n",
    "rel_err = compute_error(obj, aprx_mc)\n",
    "print(f\"rel. error: {rel_err:e}\")"
   ]
  },
  {
   "cell_type": "markdown",
   "id": "e590349f-10f2-45b7-be3b-641200de13d2",
   "metadata": {},
   "source": [
    "**Determinando** el error estándar, entonces tengo que repetir la integración Monte Carlo una gran cantidad de veces, por ejemplo $1,000$ iteraciones"
   ]
  },
  {
   "cell_type": "code",
   "execution_count": 36,
   "id": "f2be778f-514e-411c-aba0-5336c7acb596",
   "metadata": {},
   "outputs": [],
   "source": [
    "#Aproximación Monte Carlo\n",
    "dist_muest_mc = []\n",
    "for _ in range(1000):\n",
    "    x_p = np.random.uniform(low=a, high=b, size=density_p)\n",
    "    aprx_mc = (b-a) * np.mean(f(x_p))\n",
    "    \n",
    "    dist_muest_mc.append(aprx_mc)\n",
    "    \n",
    "mean_aprx_mc = np.mean(dist_muest_mc)"
   ]
  },
  {
   "cell_type": "markdown",
   "id": "8d16fbef-cc1a-41cc-80e3-fc41f0a3a9ca",
   "metadata": {},
   "source": [
    "**Graficando** su distribución muestral"
   ]
  },
  {
   "cell_type": "code",
   "execution_count": 37,
   "id": "fade3584-3f76-428f-9778-dcaebdfaf35e",
   "metadata": {},
   "outputs": [
    {
     "data": {
      "image/png": "[encoded data removed]",
      "text/plain": [
       "<Figure size 576x360 with 1 Axes>"
      ]
     },
     "metadata": {
      "needs_background": "light"
     },
     "output_type": "display_data"
    }
   ],
   "source": [
    "plt.figure(figsize=(8,5))\n",
    "\n",
    "plt.hist(dist_muest_mc, bins=18, color='black', alpha=0.3)\n",
    "plt.axvline(x=mean_aprx_mc, ymin=0, ymax=140, c='blue', label='mean')\n",
    "plt.axvline(x=obj, ymin=0, ymax=140, c='red', label='obj')\n",
    "\n",
    "#Anotaciones y estilo global\n",
    "plt.xlabel('Aprx. a la Integral', fontsize=14)\n",
    "plt.ylabel('Count', fontsize=14)\n",
    "plt.grid(alpha=0.2)\n",
    "plt.legend()\n",
    "\n",
    "plt.show()"
   ]
  },
  {
   "cell_type": "code",
   "execution_count": 38,
   "id": "0d0547a6-cbec-4ca1-abc0-0239deac7c8f",
   "metadata": {},
   "outputs": [
    {
     "name": "stdout",
     "output_type": "stream",
     "text": [
      "Error estándar: 6.387400e-03\n"
     ]
    }
   ],
   "source": [
    "std_err = np.array(dist_muest_mc).std()\n",
    "print(f\"Error estándar: {std_err:e}\")"
   ]
  },
  {
   "cell_type": "markdown",
   "id": "31e6c974-2b23-4f8c-9186-13121875be7d",
   "metadata": {},
   "source": [
    "**Calculando** el intervalo de confianza, dado que la distribuición muestral es aproximadamente normal, entonces:"
   ]
  },
  {
   "cell_type": "code",
   "execution_count": 39,
   "id": "ff86e92e-450f-4e7a-a012-4e9b97c2fd5b",
   "metadata": {},
   "outputs": [
    {
     "data": {
      "text/plain": [
       "(3.1352479243866562, 3.1480227236150404)"
      ]
     },
     "execution_count": 39,
     "metadata": {},
     "output_type": "execute_result"
    }
   ],
   "source": [
    "left_inteval = mean_aprx_mc - (b-a)*std_err\n",
    "right_inteval = mean_aprx_mc + (b-a)*std_err\n",
    "\n",
    "left_inteval, right_inteval"
   ]
  },
  {
   "cell_type": "markdown",
   "id": "a424b8fa-f660-4d8a-b85e-f624edc2d5ed",
   "metadata": {},
   "source": [
    "## Ejercicios\n",
    "Utilizando lenguajes de programación, aproximar, reportar errores relativos e intervalo de estimación en una tabla:"
   ]
  },
  {
   "cell_type": "markdown",
   "id": "6fbac94b-6625-45b1-8289-62ec7c188631",
   "metadata": {},
   "source": [
    "## Aproximación de características de viariables aleatorias\n",
    "**Ejemplo**:\n",
    "<br><br>Calcular para una densidad de puntos $d_p={10}^3$ las siguientes integrales:\n",
    "* $\\int_{\\infty^-}^{\\infty^+}\\frac{1}{\\sqrt{2\\pi}}{exp}(-\\frac{{(x-5)}^2}{2}){dx}=1$"
   ]
  },
  {
   "cell_type": "code",
   "execution_count": 40,
   "id": "d541d75a-c398-49c0-8558-ffa02fd08a41",
   "metadata": {},
   "outputs": [],
   "source": [
    "#Función de transformación\n",
    "h = lambda x: 1"
   ]
  },
  {
   "cell_type": "code",
   "execution_count": 41,
   "id": "bf89611d-4813-4f98-8a25-a4dd3d4b7c61",
   "metadata": {},
   "outputs": [],
   "source": [
    "#Muestra tamaño n de una normal centrada en 5 con std 1\n",
    "n = int(1e3)\n",
    "normal_rvs = np.random.normal(loc=5, scale=1, size=n)"
   ]
  },
  {
   "cell_type": "code",
   "execution_count": 42,
   "id": "205f1d92-0a35-4018-b090-5e205f7bd2eb",
   "metadata": {},
   "outputs": [
    {
     "data": {
      "text/plain": [
       "1.0"
      ]
     },
     "execution_count": 42,
     "metadata": {},
     "output_type": "execute_result"
    }
   ],
   "source": [
    "#Aproximación monte carlo\n",
    "np.mean(h(normal_rvs))"
   ]
  },
  {
   "cell_type": "markdown",
   "id": "98083995-3af4-434d-acbe-4436d239f341",
   "metadata": {},
   "source": [
    "* $\\int_{\\infty^-}^{\\infty^+}x\\frac{1}{\\sqrt{2\\pi}}{exp}(-\\frac{{(x-5)}^2}{2}){dx}=5$"
   ]
  },
  {
   "cell_type": "code",
   "execution_count": 43,
   "id": "cc77455c-5e17-4621-9853-c25f77befba6",
   "metadata": {},
   "outputs": [],
   "source": [
    "#Función de transformación\n",
    "h = lambda x: x"
   ]
  },
  {
   "cell_type": "code",
   "execution_count": 44,
   "id": "ed359c8c-c801-47f6-b27c-7262c0095711",
   "metadata": {},
   "outputs": [],
   "source": [
    "#Muestra tamaño n de una normal centrada en 5 con std 1\n",
    "n = int(1e3)\n",
    "normal_rvs = np.random.normal(loc=5, scale=1, size=n)"
   ]
  },
  {
   "cell_type": "code",
   "execution_count": 45,
   "id": "a9adedde-ca61-4e56-a2cf-6c7eb42b420b",
   "metadata": {},
   "outputs": [
    {
     "data": {
      "text/plain": [
       "5.007209081745054"
      ]
     },
     "execution_count": 45,
     "metadata": {},
     "output_type": "execute_result"
    }
   ],
   "source": [
    "#Aproximación monte carlo\n",
    "np.mean(h(normal_rvs))"
   ]
  },
  {
   "cell_type": "markdown",
   "id": "7200d3dc-c4e9-4513-9e51-9bc9a4b4654d",
   "metadata": {},
   "source": [
    "* $\\int_{\\infty^-}^{\\infty^+}x^2\\frac{1}{\\sqrt{2\\pi}}{exp}(-\\frac{{(x-5)}^2}{2}){dx}=1+5^2$"
   ]
  },
  {
   "cell_type": "code",
   "execution_count": 46,
   "id": "c59bdccd-9682-45e7-a29c-16e3ddf04172",
   "metadata": {},
   "outputs": [],
   "source": [
    "#Función de transformación\n",
    "h = lambda x: x**2"
   ]
  },
  {
   "cell_type": "code",
   "execution_count": 47,
   "id": "d2ac868f-983b-4acd-94e6-4fef0f82a0e5",
   "metadata": {},
   "outputs": [],
   "source": [
    "#Muestra tamaño n de una normal centrada en 5 con std 1\n",
    "n = int(1e3)\n",
    "normal_rvs = np.random.normal(loc=5, scale=1, size=n)"
   ]
  },
  {
   "cell_type": "code",
   "execution_count": 48,
   "id": "565f1419-45f4-4835-83f0-6df491fcfb9d",
   "metadata": {},
   "outputs": [
    {
     "data": {
      "text/plain": [
       "26.38863597209155"
      ]
     },
     "execution_count": 48,
     "metadata": {},
     "output_type": "execute_result"
    }
   ],
   "source": [
    "#Aproximación monte carlo\n",
    "np.mean(h(normal_rvs))"
   ]
  },
  {
   "cell_type": "markdown",
   "id": "c932133b-9e63-42e5-a44b-4a2c74114628",
   "metadata": {},
   "source": [
    "**Graficando** la convergencia del valor de la integral por aproximaciones Monte Carlo"
   ]
  },
  {
   "cell_type": "code",
   "execution_count": 49,
   "id": "f8c73be1-5b76-49de-a832-e2472c80d3c4",
   "metadata": {
    "tags": []
   },
   "outputs": [
    {
     "data": {
      "image/png": "[encoded data removed]",
      "text/plain": [
       "<Figure size 504x360 with 1 Axes>"
      ]
     },
     "metadata": {
      "needs_background": "light"
     },
     "output_type": "display_data"
    }
   ],
   "source": [
    "iteraciones = np.arange(n) + 1\n",
    "cumulative_mean = np.cumsum(h(normal_rvs)) / iteraciones\n",
    "\n",
    "#Graficando\n",
    "plt.figure(figsize=(7,5))\n",
    "plt.plot(iteraciones, cumulative_mean)\n",
    "plt.axhline(y=np.mean(h(normal_rvs)), xmin=0, xmax=n, c='red', ls='--')\n",
    "\n",
    "#Anotaciones y estilo\n",
    "plt.legend([\"Aproximación\"])\n",
    "plt.title(\"Convergencia del método de integración por Monte Carlo\")\n",
    "plt.ylabel(\"Aproximación por MC\")\n",
    "plt.xlabel(\"Número de puntos\")\n",
    "plt.grid(alpha=0.2)\n",
    "\n",
    "plt.show()"
   ]
  },
  {
   "cell_type": "markdown",
   "id": "94183559-8a9b-4c4d-adec-f19a061be408",
   "metadata": {},
   "source": [
    "* $\\int_{0}^{\\infty^+}3xe^{-3x}{dx}=\\frac{1}{3}$"
   ]
  },
  {
   "cell_type": "code",
   "execution_count": 50,
   "id": "9bf95a9c-a28d-4dd6-817a-8b5a42f87f92",
   "metadata": {},
   "outputs": [],
   "source": [
    "from scipy.stats import norm"
   ]
  },
  {
   "cell_type": "code",
   "execution_count": 51,
   "id": "d1d6ea47-fba3-4934-84ca-b51ec4a1f816",
   "metadata": {},
   "outputs": [],
   "source": [
    "simulaciones = 1000\n",
    "res = np.zeros(simulaciones)\n",
    "for i in range(simulaciones):\n",
    "    exp_rvs = np.random.exponential(1/3, n)\n",
    "    res[i] = np.mean(exp_rvs)"
   ]
  },
  {
   "cell_type": "markdown",
   "id": "15ad5c60-0116-409e-b371-f46b8756bde1",
   "metadata": {},
   "source": [
    "**Graficando** la distribución muestral"
   ]
  },
  {
   "cell_type": "code",
   "execution_count": 52,
   "id": "48186c02-6db7-4e86-b172-4dfdf3f52997",
   "metadata": {},
   "outputs": [
    {
     "data": {
      "image/png": "[encoded data removed]",
      "text/plain": [
       "<Figure size 576x360 with 1 Axes>"
      ]
     },
     "metadata": {
      "needs_background": "light"
     },
     "output_type": "display_data"
    }
   ],
   "source": [
    "plt.figure(figsize=(8,5))\n",
    "\n",
    "plt.hist(res, bins=18, color='black', alpha=0.3)\n",
    "\n",
    "#Anotaciones y estilo global\n",
    "plt.xlabel('Aprx. a la Integral', fontsize=14)\n",
    "plt.ylabel('Count', fontsize=14)\n",
    "plt.grid(alpha=0.2)\n",
    "\n",
    "plt.show()"
   ]
  },
  {
   "cell_type": "markdown",
   "id": "f933d4f9-54d0-41bd-83f5-0479241c00c6",
   "metadata": {},
   "source": [
    "**Estimando** el intervalo de confianza"
   ]
  },
  {
   "cell_type": "code",
   "execution_count": 53,
   "id": "5acca0fe-029d-44c8-94ba-b56f90ef2cda",
   "metadata": {},
   "outputs": [],
   "source": [
    "mean_exp = 1/3\n",
    "exp_rvs = np.random.exponential(mean_exp, n)\n",
    "\n",
    "upper_limit = math.inf\n",
    "lower_limit = 0"
   ]
  },
  {
   "cell_type": "code",
   "execution_count": 54,
   "id": "920de300-47c3-47be-8d86-9fe3542d661f",
   "metadata": {},
   "outputs": [],
   "source": [
    "def f_scipy_integrand(x):\n",
    "    return x * 1/mean_exp * math.exp(-1/mean_exp * x)"
   ]
  },
  {
   "cell_type": "code",
   "execution_count": 55,
   "id": "1e3f2c2d-1694-433c-8643-591d31aa8f97",
   "metadata": {},
   "outputs": [],
   "source": [
    "obj, err = quad(f_scipy_integrand, lower_limit, upper_limit)"
   ]
  },
  {
   "cell_type": "code",
   "execution_count": 56,
   "id": "4d35ead7-9735-49f4-8a42-6a712d6dcc54",
   "metadata": {},
   "outputs": [
    {
     "name": "stdout",
     "output_type": "stream",
     "text": [
      "error relativo: 1.7341e-02\n"
     ]
    }
   ],
   "source": [
    "h = lambda x: x\n",
    "h_eval = h(exp_rvs)\n",
    "h_bar = np.mean(h_eval)\n",
    "\n",
    "print(\"error relativo: {:0.4e}\".format(compute_error(obj,h_bar )))"
   ]
  },
  {
   "cell_type": "code",
   "execution_count": 57,
   "id": "62b998bc-5188-4b0d-be54-b5aa3ccc73c4",
   "metadata": {},
   "outputs": [
    {
     "data": {
      "text/plain": [
       "(0.3081189174459488, 0.34698688691885676)"
      ]
     },
     "execution_count": 57,
     "metadata": {},
     "output_type": "execute_result"
    }
   ],
   "source": [
    "est_error = np.sqrt((np.mean(h_eval**2) - h_bar**2)/n)\n",
    "\n",
    "left_interval_point_central_limit  = h_bar - norm.ppf(0.975) * est_error\n",
    "right_interval_point_central_limit = h_bar + norm.ppf(0.975) * est_error\n",
    "\n",
    "left_interval_point_central_limit, right_interval_point_central_limit"
   ]
  },
  {
   "cell_type": "markdown",
   "id": "1a30a02c-2df5-42c9-aa76-e15d89e4ca54",
   "metadata": {},
   "source": [
    "# Práctica 1"
   ]
  },
  {
   "cell_type": "code",
   "execution_count": 58,
   "id": "bdaa2922-f9a9-4b74-8e55-fe1107dabb57",
   "metadata": {},
   "outputs": [],
   "source": [
    "h = lambda x: x**2"
   ]
  },
  {
   "cell_type": "markdown",
   "id": "25805a8b-2b87-498d-b807-c08577b1ed8e",
   "metadata": {},
   "source": [
    "Para todo el intervalo $x\\in(\\infty^{-},\\infty^{+})$"
   ]
  },
  {
   "cell_type": "code",
   "execution_count": 59,
   "id": "d89df166-6916-4b7f-81cc-e4406103f500",
   "metadata": {},
   "outputs": [
    {
     "data": {
      "text/plain": [
       "2.5074808692161206"
      ]
     },
     "execution_count": 59,
     "metadata": {},
     "output_type": "execute_result"
    }
   ],
   "source": [
    "iteraciones = []\n",
    "\n",
    "n = int(1e6)\n",
    "for i in range(100):\n",
    "    normal_rvs = np.random.normal(loc=0, scale=1, size=n)\n",
    "    \n",
    "    integral = np.mean(h(normal_rvs) * np.sqrt(2*np.pi))\n",
    "    iteraciones.append(integral)\n",
    "    \n",
    "np.mean(iteraciones)"
   ]
  },
  {
   "cell_type": "code",
   "execution_count": 60,
   "id": "86d6fbcb-211e-47a7-9526-e65b0c2b9509",
   "metadata": {},
   "outputs": [
    {
     "data": {
      "text/plain": [
       "2.5066282746310002"
      ]
     },
     "execution_count": 60,
     "metadata": {},
     "output_type": "execute_result"
    }
   ],
   "source": [
    "#Target\n",
    "np.sqrt(2*np.pi)"
   ]
  },
  {
   "cell_type": "markdown",
   "id": "3d467e76-a2f6-4187-a0f6-824c640bbd07",
   "metadata": {},
   "source": [
    "Para el intervalo $x\\in(\\infty^{-},b)$, se define la siguiente función a trozos para la distribución normal:\n",
    "$g(x)=\\{N(0,1)\\forall x\\leq b, 0 \\forall x>b\\}$"
   ]
  },
  {
   "cell_type": "code",
   "execution_count": 61,
   "id": "eaf99f9b-6724-4406-b83a-70dc3f7d0753",
   "metadata": {},
   "outputs": [
    {
     "data": {
      "text/plain": [
       "1.6342536503061502"
      ]
     },
     "execution_count": 61,
     "metadata": {},
     "output_type": "execute_result"
    }
   ],
   "source": [
    "iteraciones = []\n",
    "\n",
    "n = int(1e6)\n",
    "for i in range(100):\n",
    "    normal_rvs = np.random.normal(loc=0, scale=1, size=n)\n",
    "    #Aquí lo nuevo\n",
    "    normal_rvs = np.array(list(map(lambda x: 0 if x >= 1.2 else x, normal_rvs)))\n",
    "    \n",
    "    integral = np.mean(h(normal_rvs) * np.sqrt(2*np.pi))\n",
    "    iteraciones.append(integral)\n",
    "    \n",
    "np.mean(iteraciones)"
   ]
  }
 ],
 "metadata": {
  "kernelspec": {
   "display_name": "Python 3 (ipykernel)",
   "language": "python",
   "name": "python3"
  },
  "language_info": {
   "codemirror_mode": {
    "name": "ipython",
    "version": 3
   },
   "file_extension": ".py",
   "mimetype": "text/x-python",
   "name": "python",
   "nbconvert_exporter": "python",
   "pygments_lexer": "ipython3",
   "version": "3.9.6"
  }
 },
 "nbformat": 4,
 "nbformat_minor": 5
}
