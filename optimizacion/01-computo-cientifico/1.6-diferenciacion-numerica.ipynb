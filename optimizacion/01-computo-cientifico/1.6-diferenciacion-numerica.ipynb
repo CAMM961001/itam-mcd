{
 "cells": [
  {
   "cell_type": "markdown",
   "id": "87e8f9e1-c9b9-45e7-b345-f6e0f32b27e8",
   "metadata": {},
   "source": [
    "# 1.4 Polinomios de Taylor y diferenciación numérica\n",
    "\n",
    "Este libro es para la parte de código de la [sección 1.6 de las notas](https://itam-ds.github.io/analisis-numerico-computo-cientifico/1.computo_cientifico/1.6/Polinomios_de_Taylor_y_diferenciacion_numerica.html)"
   ]
  },
  {
   "cell_type": "markdown",
   "id": "dcee617b-9e92-4f62-b006-32d9266b22ce",
   "metadata": {},
   "source": [
    "## Diferencas Finitas\n",
    "\n",
    "**Ejemplo**:\n",
    "<br>Realizar una gráfica de log(error relativo) vs log(h) (h en el eje horizontal) para aproximar la primera derivada de "
   ]
  },
  {
   "cell_type": "code",
   "execution_count": 1,
   "id": "bb77bf60-c3a4-4549-bef9-f73b29cf533d",
   "metadata": {},
   "outputs": [],
   "source": [
    "import math\n",
    "import numpy as np\n",
    "import pandas as pd\n",
    "import matplotlib.pyplot as plt"
   ]
  },
  {
   "cell_type": "code",
   "execution_count": 2,
   "id": "06b67a97-a6a6-4bf4-bfee-c85dda30a490",
   "metadata": {},
   "outputs": [],
   "source": [
    "#Función de interés\n",
    "def F(x): return np.exp(-x)\n",
    "\n",
    "#Aprox. derivada x difs. finitas adelante\n",
    "def approx_first_der(f, x, h):  return ( f(x+h) - f(x) )/h"
   ]
  },
  {
   "cell_type": "code",
   "execution_count": 3,
   "id": "77278c87-b9bb-4e26-a0ac-0f1a1d46dc46",
   "metadata": {},
   "outputs": [
    {
     "data": {
      "text/plain": [
       "[0.1, 0.01, 0.001, 0.0001, 1e-05]"
      ]
     },
     "execution_count": 3,
     "metadata": {},
     "output_type": "execute_result"
    }
   ],
   "source": [
    "#Diccionario para almacenar derivadas\n",
    "dif_adela = {'h': [],\n",
    "            'd_1': []}\n",
    "\n",
    "#Vector de h's: [1e-1, 1e-16]\n",
    "for i in range(1,17):\n",
    "    dif_adela['h'].append(math.pow(10, -i))\n",
    "    \n",
    "dif_adela['h'][:5]"
   ]
  },
  {
   "cell_type": "code",
   "execution_count": 4,
   "id": "af4d4b6c-5c62-407d-bf3c-9644ee160566",
   "metadata": {},
   "outputs": [
    {
     "data": {
      "text/plain": [
       "[-0.35008357473362783,\n",
       " -0.3660461599919007,\n",
       " -0.3676955627487377,\n",
       " -0.36786104781250106,\n",
       " -0.36787760178125234]"
      ]
     },
     "execution_count": 4,
     "metadata": {},
     "output_type": "execute_result"
    }
   ],
   "source": [
    "#Evaluando difs. finitas en torno a x=1\n",
    "x = 1\n",
    "for i in dif_adela['h']:\n",
    "    dif_adela['d_1'].append(approx_first_der(F,x,i))\n",
    "    \n",
    "dif_adela['d_1'][:5]"
   ]
  },
  {
   "cell_type": "code",
   "execution_count": 5,
   "id": "10b67c5a-9c61-4ad4-b93b-ec703e58272a",
   "metadata": {},
   "outputs": [
    {
     "name": "stdout",
     "output_type": "stream",
     "text": [
      "En x=1:\n",
      "\n"
     ]
    },
    {
     "data": {
      "text/html": [
       "<div>\n",
       "<style scoped>\n",
       "    .dataframe tbody tr th:only-of-type {\n",
       "        vertical-align: middle;\n",
       "    }\n",
       "\n",
       "    .dataframe tbody tr th {\n",
       "        vertical-align: top;\n",
       "    }\n",
       "\n",
       "    .dataframe thead th {\n",
       "        text-align: right;\n",
       "    }\n",
       "</style>\n",
       "<table border=\"1\" class=\"dataframe\">\n",
       "  <thead>\n",
       "    <tr style=\"text-align: right;\">\n",
       "      <th></th>\n",
       "      <th>h</th>\n",
       "      <th>d_1</th>\n",
       "      <th>rel_err</th>\n",
       "    </tr>\n",
       "  </thead>\n",
       "  <tbody>\n",
       "    <tr>\n",
       "      <th>0</th>\n",
       "      <td>1.000000e-01</td>\n",
       "      <td>-0.350084</td>\n",
       "      <td>4.837418e-02</td>\n",
       "    </tr>\n",
       "    <tr>\n",
       "      <th>1</th>\n",
       "      <td>1.000000e-02</td>\n",
       "      <td>-0.366046</td>\n",
       "      <td>4.983375e-03</td>\n",
       "    </tr>\n",
       "    <tr>\n",
       "      <th>2</th>\n",
       "      <td>1.000000e-03</td>\n",
       "      <td>-0.367696</td>\n",
       "      <td>4.998334e-04</td>\n",
       "    </tr>\n",
       "    <tr>\n",
       "      <th>3</th>\n",
       "      <td>1.000000e-04</td>\n",
       "      <td>-0.367861</td>\n",
       "      <td>4.999833e-05</td>\n",
       "    </tr>\n",
       "    <tr>\n",
       "      <th>4</th>\n",
       "      <td>1.000000e-05</td>\n",
       "      <td>-0.367878</td>\n",
       "      <td>4.999981e-06</td>\n",
       "    </tr>\n",
       "    <tr>\n",
       "      <th>5</th>\n",
       "      <td>1.000000e-06</td>\n",
       "      <td>-0.367879</td>\n",
       "      <td>5.000218e-07</td>\n",
       "    </tr>\n",
       "    <tr>\n",
       "      <th>6</th>\n",
       "      <td>1.000000e-07</td>\n",
       "      <td>-0.367879</td>\n",
       "      <td>4.929857e-08</td>\n",
       "    </tr>\n",
       "    <tr>\n",
       "      <th>7</th>\n",
       "      <td>1.000000e-08</td>\n",
       "      <td>-0.367879</td>\n",
       "      <td>8.556935e-09</td>\n",
       "    </tr>\n",
       "    <tr>\n",
       "      <th>8</th>\n",
       "      <td>1.000000e-09</td>\n",
       "      <td>-0.367880</td>\n",
       "      <td>1.725170e-07</td>\n",
       "    </tr>\n",
       "    <tr>\n",
       "      <th>9</th>\n",
       "      <td>1.000000e-10</td>\n",
       "      <td>-0.367880</td>\n",
       "      <td>4.743069e-07</td>\n",
       "    </tr>\n",
       "    <tr>\n",
       "      <th>10</th>\n",
       "      <td>1.000000e-11</td>\n",
       "      <td>-0.367878</td>\n",
       "      <td>4.052542e-06</td>\n",
       "    </tr>\n",
       "    <tr>\n",
       "      <th>11</th>\n",
       "      <td>1.000000e-12</td>\n",
       "      <td>-0.367928</td>\n",
       "      <td>1.317529e-04</td>\n",
       "    </tr>\n",
       "    <tr>\n",
       "      <th>12</th>\n",
       "      <td>1.000000e-13</td>\n",
       "      <td>-0.367484</td>\n",
       "      <td>1.075407e-03</td>\n",
       "    </tr>\n",
       "    <tr>\n",
       "      <th>13</th>\n",
       "      <td>1.000000e-14</td>\n",
       "      <td>-0.366374</td>\n",
       "      <td>4.093306e-03</td>\n",
       "    </tr>\n",
       "    <tr>\n",
       "      <th>14</th>\n",
       "      <td>1.000000e-15</td>\n",
       "      <td>-0.444089</td>\n",
       "      <td>2.071596e-01</td>\n",
       "    </tr>\n",
       "    <tr>\n",
       "      <th>15</th>\n",
       "      <td>1.000000e-16</td>\n",
       "      <td>0.000000</td>\n",
       "      <td>1.000000e+00</td>\n",
       "    </tr>\n",
       "  </tbody>\n",
       "</table>\n",
       "</div>"
      ],
      "text/plain": [
       "               h       d_1       rel_err\n",
       "0   1.000000e-01 -0.350084  4.837418e-02\n",
       "1   1.000000e-02 -0.366046  4.983375e-03\n",
       "2   1.000000e-03 -0.367696  4.998334e-04\n",
       "3   1.000000e-04 -0.367861  4.999833e-05\n",
       "4   1.000000e-05 -0.367878  4.999981e-06\n",
       "5   1.000000e-06 -0.367879  5.000218e-07\n",
       "6   1.000000e-07 -0.367879  4.929857e-08\n",
       "7   1.000000e-08 -0.367879  8.556935e-09\n",
       "8   1.000000e-09 -0.367880  1.725170e-07\n",
       "9   1.000000e-10 -0.367880  4.743069e-07\n",
       "10  1.000000e-11 -0.367878  4.052542e-06\n",
       "11  1.000000e-12 -0.367928  1.317529e-04\n",
       "12  1.000000e-13 -0.367484  1.075407e-03\n",
       "13  1.000000e-14 -0.366374  4.093306e-03\n",
       "14  1.000000e-15 -0.444089  2.071596e-01\n",
       "15  1.000000e-16  0.000000  1.000000e+00"
      ]
     },
     "execution_count": 5,
     "metadata": {},
     "output_type": "execute_result"
    }
   ],
   "source": [
    "#Valor objetivo\n",
    "obj = -np.exp(-x)\n",
    "\n",
    "#Convirtiendo a DataFrame y evaluando error\n",
    "dif_adela = pd.DataFrame(dif_adela)\n",
    "dif_adela['rel_err'] = np.abs((dif_adela['d_1'] - obj)) / np.abs(obj)\n",
    "\n",
    "print(\"En x=1:\\n\")\n",
    "dif_adela"
   ]
  },
  {
   "cell_type": "markdown",
   "id": "65f7c1df-1e53-423e-990c-15f6c40647c6",
   "metadata": {},
   "source": [
    "### Graficando el error"
   ]
  },
  {
   "cell_type": "code",
   "execution_count": 6,
   "id": "83e5f7d8-653b-43c2-b04b-65cbddf9ce61",
   "metadata": {},
   "outputs": [
    {
     "data": {
      "image/png": "[encoded data removed]",
      "text/plain": [
       "<Figure size 432x288 with 1 Axes>"
      ]
     },
     "metadata": {
      "needs_background": "light"
     },
     "output_type": "display_data"
    }
   ],
   "source": [
    "plt.plot(dif_adela['h'], dif_adela['rel_err'], color='black')\n",
    "\n",
    "#Anotaciones y estilo\n",
    "plt.title(\"1° derivada de $f(x)$ por diferencias finitas\", fontsize=16)\n",
    "plt.xlabel('log(h)', fontsize=14)\n",
    "plt.ylabel('log($E_{rel}$)', fontsize=14)\n",
    "plt.xscale('log')\n",
    "plt.yscale('log')\n",
    "plt.grid(alpha=0.2)\n",
    "\n",
    "plt.show()"
   ]
  },
  {
   "cell_type": "markdown",
   "id": "2a9dc96e-3d2a-415f-98a8-4ee1bb0367a1",
   "metadata": {},
   "source": [
    "**Ejemplo**:\n",
    "<br> Aproximar..."
   ]
  },
  {
   "cell_type": "code",
   "execution_count": 7,
   "id": "0dcfa3f1-1089-43ac-8119-cc61b8ce098e",
   "metadata": {},
   "outputs": [],
   "source": [
    "import sympy"
   ]
  },
  {
   "cell_type": "code",
   "execution_count": null,
   "id": "68d4b2d3-1cb9-45e4-9f15-2e0c685e6cd5",
   "metadata": {},
   "outputs": [],
   "source": []
  }
 ],
 "metadata": {
  "kernelspec": {
   "display_name": "Python 3 (ipykernel)",
   "language": "python",
   "name": "python3"
  },
  "language_info": {
   "codemirror_mode": {
    "name": "ipython",
    "version": 3
   },
   "file_extension": ".py",
   "mimetype": "text/x-python",
   "name": "python",
   "nbconvert_exporter": "python",
   "pygments_lexer": "ipython3",
   "version": "3.10.5"
  }
 },
 "nbformat": 4,
 "nbformat_minor": 5
}
