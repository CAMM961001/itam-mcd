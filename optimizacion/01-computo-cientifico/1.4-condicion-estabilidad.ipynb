{
 "cells": [
  {
   "cell_type": "markdown",
   "id": "ac3a77dc-50ca-4b11-8be0-1d84d38ea259",
   "metadata": {},
   "source": [
    "# 1.4. Condición de un problema y estabilidad de un algoritmo\n",
    "\n",
    "Este libro es para la parte de código de la [sección 1.4 de las notas](https://itam-ds.github.io/analisis-numerico-computo-cientifico/1.computo_cientifico/1.4/Condicion_de_un_problema_y_estabilidad_de_un_algoritmo.html)"
   ]
  },
  {
   "cell_type": "markdown",
   "id": "966a551b-1b00-49c9-8768-c99cb5af2d17",
   "metadata": {},
   "source": [
    "**Problema**:</br>\n",
    "Evaluar $f(x)=e^{x}$ en $x=1$"
   ]
  },
  {
   "cell_type": "code",
   "execution_count": 1,
   "id": "bc29eebf-81f6-4f73-ac1e-791529c12fd8",
   "metadata": {},
   "outputs": [],
   "source": [
    "import math"
   ]
  },
  {
   "cell_type": "code",
   "execution_count": 2,
   "id": "62363456-baec-433b-958d-063bb8a8c108",
   "metadata": {},
   "outputs": [
    {
     "data": {
      "text/plain": [
       "2.718281828459045"
      ]
     },
     "execution_count": 2,
     "metadata": {},
     "output_type": "execute_result"
    }
   ],
   "source": [
    "x = 1\n",
    "math.exp(x)"
   ]
  },
  {
   "cell_type": "markdown",
   "id": "ce6dc525-a44d-41e5-b9c1-40443ac81375",
   "metadata": {},
   "source": [
    "**Algoritmo**:</br>\n",
    "Definir un algoritmo que considere cuatro términos de la serie $\\hat{f}(x)=1 + x + \\frac{x^{2}}{2} + \\frac{x^{3}}{6}$"
   ]
  },
  {
   "cell_type": "code",
   "execution_count": 3,
   "id": "bdf54d04-00b5-4a5a-8680-8db2d4b0c6f9",
   "metadata": {},
   "outputs": [
    {
     "data": {
      "text/plain": [
       "2.6666666666666665"
      ]
     },
     "execution_count": 3,
     "metadata": {},
     "output_type": "execute_result"
    }
   ],
   "source": [
    "#Definiendo el algoritmo\n",
    "algoritmo = lambda x: 1 + x + x**2/2 + x**3/6\n",
    "\n",
    "#Evaluando\n",
    "algoritmo(1)"
   ]
  },
  {
   "cell_type": "markdown",
   "id": "60be40e7-9eec-4f46-b3fa-6e677fb5c5ef",
   "metadata": {},
   "source": [
    "## Polinomio de Wilkinson"
   ]
  },
  {
   "cell_type": "code",
   "execution_count": 19,
   "id": "a61c396d-9e2b-4daf-acbb-688224981de5",
   "metadata": {},
   "outputs": [],
   "source": [
    "import numpy as np\n",
    "import matplotlib.pyplot as plt\n",
    "\n",
    "from sympy.polys.polytools import poly_from_expr"
   ]
  },
  {
   "cell_type": "code",
   "execution_count": 9,
   "id": "581c8de8-91c1-4c9d-bd32-1d2b7204b425",
   "metadata": {},
   "outputs": [],
   "source": [
    "def wilkinson(x, pert=0, coef=0):\n",
    "    #Elementos del producto\n",
    "    binoms = np.array([x - i for i in range(1, 21)])\n",
    "    \n",
    "    #Perturbación\n",
    "    binoms[coef] = binoms[coef] + pert\n",
    "    \n",
    "    #Polinomio de wilkinson\n",
    "    p = np.prod(binoms)\n",
    "    return p\n",
    "\n",
    "wilkinson = np.vectorize(wilkinson)"
   ]
  },
  {
   "cell_type": "code",
   "execution_count": 10,
   "id": "c3ea21b5-d4db-4aba-af62-51321eafc929",
   "metadata": {},
   "outputs": [
    {
     "data": {
      "image/png": "[encoded data removed]",
      "text/plain": [
       "<Figure size 432x288 with 1 Axes>"
      ]
     },
     "metadata": {
      "needs_background": "light"
     },
     "output_type": "display_data"
    }
   ],
   "source": [
    "x = np.linspace(0, 21, 1000)\n",
    "plt.plot(x, wilkinson(x))\n",
    "plt.ylim([-5e13, 5e13])\n",
    "\n",
    "plt.show()"
   ]
  },
  {
   "cell_type": "code",
   "execution_count": null,
   "id": "fce0841c-8409-4d70-a2d4-281d49bf1fdc",
   "metadata": {},
   "outputs": [],
   "source": []
  }
 ],
 "metadata": {
  "kernelspec": {
   "display_name": "Python 3 (ipykernel)",
   "language": "python",
   "name": "python3"
  },
  "language_info": {
   "codemirror_mode": {
    "name": "ipython",
    "version": 3
   },
   "file_extension": ".py",
   "mimetype": "text/x-python",
   "name": "python",
   "nbconvert_exporter": "python",
   "pygments_lexer": "ipython3",
   "version": "3.10.5"
  }
 },
 "nbformat": 4,
 "nbformat_minor": 5
}
