{
 "cells": [
  {
   "cell_type": "markdown",
   "id": "87e8f9e1-c9b9-45e7-b345-f6e0f32b27e8",
   "metadata": {},
   "source": [
    "# 2.1 Operaciones y transformaciones básicas\n",
    "\n",
    "Este libro es para la parte de código de la [sección 2.1 de las notas](https://itam-ds.github.io/analisis-numerico-computo-cientifico/2.computo_matricial/2.1/Operaciones_y_transformaciones_basicas_del_Algebra_Lineal_Numerica.html)"
   ]
  },
  {
   "cell_type": "markdown",
   "id": "ff735737-3889-48ae-bbc4-f95d07ff160c",
   "metadata": {},
   "source": [
    "# Tranformaciones de Gauss\n",
    "## En vectores\n",
    "**Ejemplo**:\n",
    "<br>Considérese al vector $a=(-2,3,4)^T$. Definir una transformación de Gauss para hacer ceros por debajo de $a_1$ y otra transformación de Gauss para hacer cero a la entrada $a_3$."
   ]
  },
  {
   "cell_type": "code",
   "execution_count": 1,
   "id": "5dab3fe7-8ebb-40bd-a5c3-fb35cb6da324",
   "metadata": {},
   "outputs": [],
   "source": [
    "import math\n",
    "import numpy as np\n",
    "\n",
    "np.set_printoptions(precision=3, suppress=True)"
   ]
  },
  {
   "cell_type": "code",
   "execution_count": 2,
   "id": "cf8d61e3-7a72-42a1-8459-edc06b87aec0",
   "metadata": {},
   "outputs": [],
   "source": [
    "a = np.array([-2,3,4])"
   ]
  },
  {
   "cell_type": "markdown",
   "id": "ced33615-3409-46be-8b99-3d08402b375b",
   "metadata": {},
   "source": [
    "+ Para hacer ceros por debajo del **pivote** $a_1=-2$\n",
    "\n",
    ">Se utiliza la definición $l_1=(0,\\frac{a_2}{a_1},\\frac{a_3}{a_1})^T$ así como el vectór canónico $e_1$, ya que se desea hacer ceras en las entradas debajo de la primera."
   ]
  },
  {
   "cell_type": "code",
   "execution_count": 3,
   "id": "9037e696-a937-4097-9688-8d52e439cccf",
   "metadata": {},
   "outputs": [
    {
     "data": {
      "text/plain": [
       "array([-2.,  0.,  0.])"
      ]
     },
     "execution_count": 3,
     "metadata": {},
     "output_type": "execute_result"
    }
   ],
   "source": [
    "pivote = a[0]\n",
    "\n",
    "#Transformación de Gauss\n",
    "l1 = np.array([0, a[1]/pivote, a[2]/pivote]).T\n",
    "\n",
    "#Vector canónico\n",
    "e1 = np.array([1,0,0])\n",
    "\n",
    "#Transformando\n",
    "L1_a = a - l1*(e1@a)\n",
    "L1_a"
   ]
  },
  {
   "cell_type": "markdown",
   "id": "4ba6c41b-76f1-4ee8-9b8d-7b50538621d8",
   "metadata": {},
   "source": [
    "A continuación se muestra que el producto $L_1 a$ es equivalente a lo anterior si se construye $L1$"
   ]
  },
  {
   "cell_type": "code",
   "execution_count": 4,
   "id": "2cb106ef-40bb-46a9-8774-1a1fa6fc3394",
   "metadata": {},
   "outputs": [
    {
     "data": {
      "text/plain": [
       "array([[1. , 0. , 0. ],\n",
       "       [1.5, 1. , 0. ],\n",
       "       [2. , 0. , 1. ]])"
      ]
     },
     "execution_count": 4,
     "metadata": {},
     "output_type": "execute_result"
    }
   ],
   "source": [
    "L1 = np.eye(3) - np.outer(l1, e1)\n",
    "L1"
   ]
  },
  {
   "cell_type": "code",
   "execution_count": 5,
   "id": "9d8a935e-838c-4eb9-a026-1f0bd40f6658",
   "metadata": {},
   "outputs": [
    {
     "data": {
      "text/plain": [
       "array([-2.,  0.,  0.])"
      ]
     },
     "execution_count": 5,
     "metadata": {},
     "output_type": "execute_result"
    }
   ],
   "source": [
    "L1@a"
   ]
  },
  {
   "cell_type": "markdown",
   "id": "5ddc3604-3b49-4b50-bdb1-a4dfa0e17bd5",
   "metadata": {},
   "source": [
    "+ Para hacer ceros por debajo del **pivote** $a_2=3$"
   ]
  },
  {
   "cell_type": "code",
   "execution_count": 6,
   "id": "66ff296d-4555-49f5-b0ed-9e3c2a9bf07b",
   "metadata": {},
   "outputs": [
    {
     "data": {
      "text/plain": [
       "array([-2.,  3.,  0.])"
      ]
     },
     "execution_count": 6,
     "metadata": {},
     "output_type": "execute_result"
    }
   ],
   "source": [
    "pivote = a[1]\n",
    "\n",
    "#Transformación de Gauss\n",
    "l2 = np.array([0, 0, a[2]/pivote]).T\n",
    "\n",
    "#Vector canónico\n",
    "e2 = np.array([0,1,0])\n",
    "\n",
    "#Transformando\n",
    "L2_a = a - l2*(e2@a)\n",
    "L2_a"
   ]
  },
  {
   "cell_type": "markdown",
   "id": "5595b09a-235c-466f-863e-ee2bdbc57bb7",
   "metadata": {},
   "source": [
    "A continuación se muestra que el producto $L_1 a$ es equivalente a lo anterior si se construye $L1$"
   ]
  },
  {
   "cell_type": "code",
   "execution_count": 7,
   "id": "28078c58-d9f2-4454-a071-11f864918600",
   "metadata": {},
   "outputs": [
    {
     "data": {
      "text/plain": [
       "array([[ 1.   ,  0.   ,  0.   ],\n",
       "       [ 0.   ,  1.   ,  0.   ],\n",
       "       [ 0.   , -1.333,  1.   ]])"
      ]
     },
     "execution_count": 7,
     "metadata": {},
     "output_type": "execute_result"
    }
   ],
   "source": [
    "L2 = np.eye(3) - np.outer(l2, e2)\n",
    "L2"
   ]
  },
  {
   "cell_type": "code",
   "execution_count": 8,
   "id": "ab75f3d0-7da8-48c6-94d5-1ad5bfaf25d7",
   "metadata": {},
   "outputs": [
    {
     "data": {
      "text/plain": [
       "array([-2.,  3.,  0.])"
      ]
     },
     "execution_count": 8,
     "metadata": {},
     "output_type": "execute_result"
    }
   ],
   "source": [
    "L2@a"
   ]
  },
  {
   "cell_type": "markdown",
   "id": "d35082c7-91da-4dbc-9329-28b10bbd6b05",
   "metadata": {},
   "source": [
    "## En matrices\n",
    "\n",
    "Utilizando $L_1$"
   ]
  },
  {
   "cell_type": "code",
   "execution_count": 9,
   "id": "0580d2cc-71de-4ca6-86c2-3cce292b18c9",
   "metadata": {},
   "outputs": [
    {
     "data": {
      "text/plain": [
       "array([[-1.,  2.,  5.],\n",
       "       [ 4.,  5., -7.],\n",
       "       [ 3.,  0.,  8.]])"
      ]
     },
     "execution_count": 9,
     "metadata": {},
     "output_type": "execute_result"
    }
   ],
   "source": [
    "A = np.array([[-1,2,5],\n",
    "             [4,5,-7],\n",
    "             [3,0,8]], dtype=float)\n",
    "A"
   ]
  },
  {
   "cell_type": "markdown",
   "id": "211ffb23-02f1-4963-abfd-6105c394bb64",
   "metadata": {},
   "source": [
    "+ Para hacer ceros por debajo del **pivote** $a_{11}=-1$"
   ]
  },
  {
   "cell_type": "code",
   "execution_count": 11,
   "id": "d9a5f47a-ea47-4318-85e0-221cc58942fc",
   "metadata": {},
   "outputs": [
    {
     "data": {
      "text/plain": [
       "array([-1.,  0.,  0.])"
      ]
     },
     "execution_count": 11,
     "metadata": {},
     "output_type": "execute_result"
    }
   ],
   "source": [
    "pivote = A[0,0]\n",
    "\n",
    "#Transformación de Gauss\n",
    "l1 = np.array([0, A[1,0]/pivote, A[2,0]/pivote])\n",
    "\n",
    "#Vector canónico\n",
    "e2 = np.array([1,0,0])\n",
    "\n",
    "#Transformando\n",
    "L1_A1 = A[:,0] - l1*(e1@A[:,0])\n",
    "L1_A1"
   ]
  },
  {
   "cell_type": "markdown",
   "id": "71535990-4d59-4134-9462-5b849466bacc",
   "metadata": {},
   "source": [
    "Y se debe aplicar $L_1$ a las columnas número 2 y 3 de $A$ para completar el producto $L_1A$"
   ]
  },
  {
   "cell_type": "code",
   "execution_count": 12,
   "id": "0d8b7978-83c9-4562-9c82-ce0c73a1e415",
   "metadata": {},
   "outputs": [
    {
     "data": {
      "text/plain": [
       "array([ 2., 13.,  6.])"
      ]
     },
     "execution_count": 12,
     "metadata": {},
     "output_type": "execute_result"
    }
   ],
   "source": [
    "L1_A2 = A[:,1] - l1*(e1@A[:,1])\n",
    "L1_A2"
   ]
  },
  {
   "cell_type": "code",
   "execution_count": 13,
   "id": "05db0759-b3dd-44f2-b1f1-a40080a3b447",
   "metadata": {},
   "outputs": [
    {
     "data": {
      "text/plain": [
       "array([ 5., 13., 23.])"
      ]
     },
     "execution_count": 13,
     "metadata": {},
     "output_type": "execute_result"
    }
   ],
   "source": [
    "L1_A3 = A[:,2] - l1*(e1@A[:,2])\n",
    "L1_A3"
   ]
  },
  {
   "cell_type": "markdown",
   "id": "28ba8eb7-9adb-4d63-a3ff-ae28c9574c65",
   "metadata": {},
   "source": [
    "A continuación se muesta que el producto $L_1A$ si se construye $L_1$ es equivalente a lo anterior"
   ]
  },
  {
   "cell_type": "code",
   "execution_count": 14,
   "id": "e670b462-888f-4dce-aaa7-acff73181020",
   "metadata": {},
   "outputs": [
    {
     "data": {
      "text/plain": [
       "array([[-1.,  2.,  5.],\n",
       "       [ 0., 13., 13.],\n",
       "       [ 0.,  6., 23.]])"
      ]
     },
     "execution_count": 14,
     "metadata": {},
     "output_type": "execute_result"
    }
   ],
   "source": [
    "L1 = np.eye(3) - np.outer(l1, e1)\n",
    "L1@A"
   ]
  },
  {
   "cell_type": "markdown",
   "id": "41ba167c-bf8f-4001-aab7-8d9655f9481b",
   "metadata": {},
   "source": [
    "Al aplicar $L_1$ a la primer columna de $A$ **siempre** obtenemos ceros por debajo del pivote que en este caso es $a_{11}$."
   ]
  },
  {
   "cell_type": "code",
   "execution_count": null,
   "id": "5b9995b5-1491-415e-92fc-d42bf7ef4721",
   "metadata": {},
   "outputs": [],
   "source": []
  }
 ],
 "metadata": {
  "kernelspec": {
   "display_name": "Python 3 (ipykernel)",
   "language": "python",
   "name": "python3"
  },
  "language_info": {
   "codemirror_mode": {
    "name": "ipython",
    "version": 3
   },
   "file_extension": ".py",
   "mimetype": "text/x-python",
   "name": "python",
   "nbconvert_exporter": "python",
   "pygments_lexer": "ipython3",
   "version": "3.9.6"
  }
 },
 "nbformat": 4,
 "nbformat_minor": 5
}
